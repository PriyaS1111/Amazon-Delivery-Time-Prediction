{
  "nbformat": 4,
  "nbformat_minor": 0,
  "metadata": {
    "colab": {
      "private_outputs": true,
      "provenance": [],
      "collapsed_sections": [
        "mDgbUHAGgjLW",
        "7wuGOrhz0itI",
        "kexQrXU-DjzY",
        "VFOzZv6IFROw",
        "TIqpNgepFxVj",
        "gIfDvo9L0UH2"
      ]
    },
    "kernelspec": {
      "name": "python3",
      "display_name": "Python 3"
    },
    "language_info": {
      "name": "python"
    }
  },
  "cells": [
    {
      "cell_type": "markdown",
      "source": [
        "# **Project Name**    - **Amazon Delivery Time Prediction**\n",
        "\n"
      ],
      "metadata": {
        "id": "vncDsAP0Gaoa"
      }
    },
    {
      "cell_type": "markdown",
      "source": [
        "##### **Project Type**    - EDA/Regression/MLFlow/Streamlit\n",
        "\n",
        "\n",
        "##### **Contribution**    - Individual\n"
      ],
      "metadata": {
        "id": "beRrZCGUAJYm"
      }
    },
    {
      "cell_type": "markdown",
      "source": [
        "# **Project Summary -**"
      ],
      "metadata": {
        "id": "FJNUwmbgGyua"
      }
    },
    {
      "cell_type": "markdown",
      "source": [
        "This project aims to develop a robust machine learning model to predict the delivery time for e-commerce orders. The dataset contains a variety of features related to orders, delivery agents, and environmental conditions, such as agent's age and rating, store and drop-off locations, order date and time, weather conditions, and traffic density.\n",
        "\n",
        "The project follows a structured workflow:\n",
        "\n",
        "**Data Exploration and Preprocessing:** The initial phase involves a thorough exploratory data analysis (EDA) to understand the data's characteristics, identify patterns, and uncover relationships between variables. This is followed by data wrangling, where we handle missing values, correct data types, and encode categorical variables.\n",
        "\n",
        "**Feature Engineering:** New, meaningful features are created to enhance the model's predictive power. A key feature engineered is the haversine distance between the store and the delivery location, calculated from latitude and longitude data. Time-based features are also extracted from timestamps.\n",
        "\n",
        "**Model Training and Evaluation:** Several regression algorithms, including Linear Regression, Random Forest, and Gradient Boosting, are trained on the preprocessed data. Their performance is rigorously evaluated using metrics like R-squared (R\n",
        "2\n",
        " ), Mean Absolute Error (MAE), and Root Mean Squared Error (RMSE).\n",
        "\n",
        "**Deployment:** The best-performing model is saved and will be integrated into a user-friendly web application built with Streamlit, allowing for real-time delivery time predictions based on user inputs.\n",
        "\n",
        "**The ultimate goal is to provide a tool that can help optimize logistics, improve customer satisfaction by setting accurate delivery expectations, and enhance operational efficiency.**"
      ],
      "metadata": {
        "id": "F6v_1wHtG2nS"
      }
    },
    {
      "cell_type": "markdown",
      "source": [
        "**Dataset → Preprocessing → Feature Engineering → EDA → Model Training & MLflow Tracking → Evaluation → Deployment in Streamlit → End Users.**"
      ],
      "metadata": {
        "id": "DYSQcr1ltOH2"
      }
    },
    {
      "cell_type": "markdown",
      "source": [
        "# **GitHub Link and Stream lit app link-**"
      ],
      "metadata": {
        "id": "w6K7xa23Elo4"
      }
    },
    {
      "cell_type": "markdown",
      "source": [
        "https://github.com/PriyaS1111/Amazon-Delivery-Time-Prediction\n",
        "\n",
        "https://jeri-cytolytic-sha.ngrok-free.dev/"
      ],
      "metadata": {
        "id": "h1o69JH3Eqqn"
      }
    },
    {
      "cell_type": "markdown",
      "source": [
        "# **Problem Statement**\n"
      ],
      "metadata": {
        "id": "yQaldy8SH6Dl"
      }
    },
    {
      "cell_type": "markdown",
      "source": [
        "In the competitive e-commerce landscape, **providing accurate delivery time estimates is crucial for customer satisfaction** and operational efficiency. Inaccurate predictions can lead to customer frustration, increased support costs, and logistical challenges.\n",
        "\n",
        "The objective of this project is to **leverage historical delivery data to build a regression model that accurately predicts the time taken for a delivery, from order placement to arrival.** The model should consider various factors, including delivery agent details, traffic conditions, weather, order specifics, and geographical distance. The final output will be a reliable prediction system that can be used to set realistic delivery expectations for customers and aid in logistics planning"
      ],
      "metadata": {
        "id": "DpeJGUA3kjGy"
      }
    },
    {
      "cell_type": "markdown",
      "source": [
        "# **General Guidelines** : -  "
      ],
      "metadata": {
        "id": "mDgbUHAGgjLW"
      }
    },
    {
      "cell_type": "markdown",
      "source": [
        "1.   Well-structured, formatted, and commented code is required.\n",
        "2.   Exception Handling, Production Grade Code & Deployment Ready Code will be a plus. Those students will be awarded some additional credits.\n",
        "     \n",
        "     The additional credits will have advantages over other students during Star Student selection.\n",
        "       \n",
        "             [ Note: - Deployment Ready Code is defined as, the whole .ipynb notebook should be executable in one go\n",
        "                       without a single error logged. ]\n",
        "\n",
        "3.   Each and every logic should have proper comments.\n",
        "4. You may add as many number of charts you want. Make Sure for each and every chart the following format should be answered.\n",
        "        \n",
        "\n",
        "```\n",
        "# Chart visualization code\n",
        "```\n",
        "            \n",
        "\n",
        "*   Why did you pick the specific chart?\n",
        "*   What is/are the insight(s) found from the chart?\n",
        "* Will the gained insights help creating a positive business impact?\n",
        "Are there any insights that lead to negative growth? Justify with specific reason.\n",
        "\n",
        "5. You have to create at least 15 logical & meaningful charts having important insights.\n",
        "\n",
        "\n",
        "[ Hints : - Do the Vizualization in  a structured way while following \"UBM\" Rule.\n",
        "\n",
        "U - Univariate Analysis,\n",
        "\n",
        "B - Bivariate Analysis (Numerical - Categorical, Numerical - Numerical, Categorical - Categorical)\n",
        "\n",
        "M - Multivariate Analysis\n",
        " ]\n",
        "\n",
        "\n",
        "\n",
        "\n",
        "\n",
        "6. You may add more ml algorithms for model creation. Make sure for each and every algorithm, the following format should be answered.\n",
        "\n",
        "\n",
        "*   Explain the ML Model used and it's performance using Evaluation metric Score Chart.\n",
        "\n",
        "\n",
        "*   Cross- Validation & Hyperparameter Tuning\n",
        "\n",
        "*   Have you seen any improvement? Note down the improvement with updates Evaluation metric Score Chart.\n",
        "\n",
        "*   Explain each evaluation metric's indication towards business and the business impact pf the ML model used.\n",
        "\n",
        "\n",
        "\n",
        "\n",
        "\n",
        "\n",
        "\n",
        "\n",
        "\n",
        "\n",
        "\n",
        "\n",
        "\n",
        "\n",
        "\n",
        "\n",
        "\n",
        "\n"
      ],
      "metadata": {
        "id": "ZrxVaUj-hHfC"
      }
    },
    {
      "cell_type": "markdown",
      "source": [
        "# ***Let's Begin !***"
      ],
      "metadata": {
        "id": "O_i_v8NEhb9l"
      }
    },
    {
      "cell_type": "markdown",
      "source": [
        "## ***1. Know Your Data***"
      ],
      "metadata": {
        "id": "HhfV-JJviCcP"
      }
    },
    {
      "cell_type": "markdown",
      "source": [
        "### Import Libraries"
      ],
      "metadata": {
        "id": "Y3lxredqlCYt"
      }
    },
    {
      "cell_type": "markdown",
      "source": [
        "Here, we import all the necessary libraries for data manipulation, visualization, and modeling."
      ],
      "metadata": {
        "id": "VDD40CEC2_r0"
      }
    },
    {
      "cell_type": "code",
      "source": [
        "#Install gdown & Import Libraries\n",
        "!pip install gdown\n",
        "import gdown # For downloading data from googledrive\n",
        "import os # To check files in the directory\n",
        "\n",
        "# Import Libraries\n",
        "import pandas as pd\n",
        "import numpy as np\n",
        "import matplotlib.pyplot as plt\n",
        "import seaborn as sns\n",
        "from math import radians, sin, cos, sqrt, atan2\n",
        "\n",
        "# Scikit-learn for modeling\n",
        "from sklearn.model_selection import train_test_split\n",
        "from sklearn.linear_model import LinearRegression\n",
        "from sklearn.ensemble import RandomForestRegressor, GradientBoostingRegressor\n",
        "from sklearn.metrics import r2_score, mean_absolute_error, mean_squared_error\n",
        "\n",
        "# To ignore warnings\n",
        "import warnings\n",
        "warnings.filterwarnings('ignore')"
      ],
      "metadata": {
        "id": "M8Vqi-pPk-HR"
      },
      "execution_count": null,
      "outputs": []
    },
    {
      "cell_type": "markdown",
      "source": [
        "### Dataset Loading"
      ],
      "metadata": {
        "id": "3RnN4peoiCZX"
      }
    },
    {
      "cell_type": "code",
      "source": [
        "\n",
        "#Download the Files from Google Drive\n",
        "gdown.download(\"https://drive.google.com/uc?id=1LSuZakpqZpDrMWNeQodpecezreubwqrn\", \"amazon_delivery.csv\", quiet=False)\n",
        "\n",
        "\n"
      ],
      "metadata": {
        "id": "4CkvbW_SlZ_R"
      },
      "execution_count": null,
      "outputs": []
    },
    {
      "cell_type": "code",
      "source": [
        "#verify that files are downloaded\n",
        "import os\n",
        "print(os.listdir())  # Lists all files in current directory"
      ],
      "metadata": {
        "id": "r6-ctSN25-yT"
      },
      "execution_count": null,
      "outputs": []
    },
    {
      "cell_type": "markdown",
      "source": [
        "We'll load the amazon_delivery.csv dataset into a pandas DataFrame."
      ],
      "metadata": {
        "id": "YDN_JsLu5TJn"
      }
    },
    {
      "cell_type": "code",
      "source": [
        "# Load Dataset\n",
        "df = pd.read_csv('amazon_delivery.csv')"
      ],
      "metadata": {
        "id": "vnpyB3wF5_Q7"
      },
      "execution_count": null,
      "outputs": []
    },
    {
      "cell_type": "markdown",
      "source": [
        "### Dataset First View"
      ],
      "metadata": {
        "id": "x71ZqKXriCWQ"
      }
    },
    {
      "cell_type": "markdown",
      "source": [
        "Let's look at the first 5 rows to get a feel for the data."
      ],
      "metadata": {
        "id": "Z-OpiuWk9AQQ"
      }
    },
    {
      "cell_type": "code",
      "source": [
        "# Dataset First Look\n",
        "df.head()"
      ],
      "metadata": {
        "id": "LWNFOSvLl09H"
      },
      "execution_count": null,
      "outputs": []
    },
    {
      "cell_type": "markdown",
      "source": [
        "### Dataset Rows & Columns count"
      ],
      "metadata": {
        "id": "7hBIi_osiCS2"
      }
    },
    {
      "cell_type": "markdown",
      "source": [
        "This shows us the dimensions of our dataset."
      ],
      "metadata": {
        "id": "ZBTlwK5v9QMm"
      }
    },
    {
      "cell_type": "code",
      "source": [
        "# Dataset Rows & Columns count\n",
        "print(f\"The dataset has {df.shape[0]} rows and {df.shape[1]} columns.\")"
      ],
      "metadata": {
        "id": "Kllu7SJgmLij"
      },
      "execution_count": null,
      "outputs": []
    },
    {
      "cell_type": "markdown",
      "source": [
        "### Dataset Information"
      ],
      "metadata": {
        "id": "JlHwYmJAmNHm"
      }
    },
    {
      "cell_type": "markdown",
      "source": [
        "df.info() gives a concise summary of the DataFrame, including the data type of each column and the number of non-null values."
      ],
      "metadata": {
        "id": "mXzZ0_fT9v5P"
      }
    },
    {
      "cell_type": "code",
      "source": [
        "# Dataset Info\n",
        "df.info()"
      ],
      "metadata": {
        "id": "e9hRXRi6meOf"
      },
      "execution_count": null,
      "outputs": []
    },
    {
      "cell_type": "markdown",
      "source": [
        "#### Duplicate Values"
      ],
      "metadata": {
        "id": "iNoLOKmN_l3t"
      }
    },
    {
      "cell_type": "markdown",
      "source": [
        "We check for any duplicate rows in the dataset."
      ],
      "metadata": {
        "id": "5wRUM-_P_QX6"
      }
    },
    {
      "cell_type": "code",
      "source": [
        "# Dataset Duplicate Value Count\n",
        "duplicate_count = df.duplicated().sum()\n",
        "print(f\"There are {duplicate_count} duplicate rows in the dataset.\")"
      ],
      "metadata": {
        "id": "1sLdpKYkmox0"
      },
      "execution_count": null,
      "outputs": []
    },
    {
      "cell_type": "markdown",
      "source": [
        "#### Missing Values/Null Values"
      ],
      "metadata": {
        "id": "PoPl-ycgm1ru"
      }
    },
    {
      "cell_type": "markdown",
      "source": [
        "Let's check for any missing values in each column."
      ],
      "metadata": {
        "id": "YLCStAJl_vMw"
      }
    },
    {
      "cell_type": "code",
      "source": [
        "# Missing Values/Null Values Count\n",
        "missing_values = df.isnull().sum()\n",
        "print(\"Missing values in each column:\")\n",
        "print(missing_values[missing_values > 0])"
      ],
      "metadata": {
        "id": "GgHWkxvamxVg"
      },
      "execution_count": null,
      "outputs": []
    },
    {
      "cell_type": "code",
      "source": [
        "# Visualizing the missing values\n",
        "plt.figure(figsize=(10, 6))\n",
        "sns.heatmap(df.isnull(), cbar=False, cmap='viridis')\n",
        "plt.title('Missing Values Heatmap')\n",
        "plt.show()"
      ],
      "metadata": {
        "id": "3q5wnI3om9sJ"
      },
      "execution_count": null,
      "outputs": []
    },
    {
      "cell_type": "markdown",
      "source": [
        "### What did you know about your dataset?"
      ],
      "metadata": {
        "id": "H0kj-8xxnORC"
      }
    },
    {
      "cell_type": "markdown",
      "source": [
        "The dataset contains 43,739 rows and 16 columns, representing individual delivery orders. From the initial inspection, we know the following:\n",
        "\n",
        "Data Types: The columns consist of a mix of numerical (int64, float64) and categorical (object) data types. Columns like Order_Date, Order_Time, and Pickup_Time are currently stored as object types and will need to be converted to a proper datetime format for time-based analysis.\n",
        "\n",
        "Duplicates: The dataset is clean with zero duplicate rows, which ensures the integrity of our analysis.\n",
        "\n",
        "Missing Values: There are a small number of missing values in two columns: Agent_Rating (54 missing) and Weather (91 missing). These will need to be handled appropriately during the data wrangling phase before we can proceed with analysis and modeling.\n",
        "\n",
        "Content: The dataset provides comprehensive information for each delivery, covering agent details, location coordinates, timestamps, and external factors like weather and traffic, making it suitable for predicting delivery times."
      ],
      "metadata": {
        "id": "gfoNAAC-nUe_"
      }
    },
    {
      "cell_type": "markdown",
      "source": [
        "## ***2. Understanding Your Variables***"
      ],
      "metadata": {
        "id": "nA9Y7ga8ng1Z"
      }
    },
    {
      "cell_type": "markdown",
      "source": [
        "Here are the names of all the columns in our dataset."
      ],
      "metadata": {
        "id": "U3rtqebmDZMV"
      }
    },
    {
      "cell_type": "code",
      "source": [
        "# Dataset Columns\n",
        "print(df.columns)"
      ],
      "metadata": {
        "id": "j7xfkqrt5Ag5"
      },
      "execution_count": null,
      "outputs": []
    },
    {
      "cell_type": "markdown",
      "source": [
        "This gives a statistical summary for both numerical and categorical columns."
      ],
      "metadata": {
        "id": "8qXFtzgLEWYy"
      }
    },
    {
      "cell_type": "code",
      "source": [
        "# Dataset Describe\n",
        "df.describe(include='all')\n"
      ],
      "metadata": {
        "id": "DnOaZdaE5Q5t"
      },
      "execution_count": null,
      "outputs": []
    },
    {
      "cell_type": "markdown",
      "source": [
        "\n",
        "Based on the statistical summary (df.describe()), we can observe the following:\n",
        "\n",
        "Agent_Age: The delivery agents' ages range from 15 to 50 years, with an average age of approximately 29.5 years.\n",
        "\n",
        "Agent_Rating: Ratings vary from 1.0 to 6.0 (the 6.0 might be a data entry error, as ratings are typically out of 5), with an average rating of about 4.63. This suggests that most agents are rated quite highly.\n",
        "\n",
        "Delivery_Time: The delivery times range from a minimum of 10 minutes to a maximum of 270 minutes (4.5 hours), with the average delivery taking about 125 minutes (just over 2 hours).\n",
        "\n",
        "Categorical Data:\n",
        "\n",
        "The most common weather condition is \"Fog\".\n",
        "\n",
        "The most frequent traffic condition is \"Low\".\n",
        "\n",
        "The primary vehicle used is the \"motorcycle\".\n",
        "\n",
        "Most deliveries occur in \"Metropolitian\" areas.\n",
        "\n",
        "The most frequent product category is \"Electronics\"."
      ],
      "metadata": {
        "id": "l72h-jRAGk9L"
      }
    },
    {
      "cell_type": "markdown",
      "source": [
        "### Variables Description"
      ],
      "metadata": {
        "id": "PBTbrJXOngz2"
      }
    },
    {
      "cell_type": "markdown",
      "source": [
        "Order_ID: Unique identifier for each order.\n",
        "\n",
        "Agent_Age: Age of the delivery agent.\n",
        "\n",
        "Agent_Rating: Rating of the delivery agent (out of 5).\n",
        "\n",
        "Store_Latitude/Longitude: Geographic coordinates of the store.\n",
        "\n",
        "Drop_Latitude/Longitude: Geographic coordinates of the delivery address.\n",
        "\n",
        "Order_Date/Order_Time: Date and time the order was placed.\n",
        "\n",
        "Pickup_Time: Time the agent picked up the order.\n",
        "\n",
        "Weather: Weather conditions at the time of delivery.\n",
        "\n",
        "Traffic: Traffic conditions at the time of delivery.\n",
        "\n",
        "Vehicle: Vehicle used for the delivery.\n",
        "\n",
        "Area: Type of delivery area (Urban/Metropolitan).\n",
        "\n",
        "Delivery_Time: The target variable; total time taken for delivery in minutes.\n",
        "\n",
        "Category: The category of the product being delivered."
      ],
      "metadata": {
        "id": "aJV4KIxSnxay"
      }
    },
    {
      "cell_type": "markdown",
      "source": [
        "### Check Unique Values for each variable."
      ],
      "metadata": {
        "id": "u3PMJOP6ngxN"
      }
    },
    {
      "cell_type": "code",
      "source": [
        "# Check Unique Values for each variable.\n",
        "for col in df.columns:\n",
        "    print(f\"Number of unique values in {col}: {df[col].nunique()}\")"
      ],
      "metadata": {
        "id": "zms12Yq5n-jE"
      },
      "execution_count": null,
      "outputs": []
    },
    {
      "cell_type": "markdown",
      "source": [
        "The unique value counts reveal the diversity within each feature:\n",
        "\n",
        "There are 43,739 unique Order_IDs, confirming that each row represents a distinct order.\n",
        "\n",
        "There are 6 unique weather conditions and 5 traffic conditions, giving us a good variety of environmental factors to analyze.\n",
        "\n",
        "The data covers 44 different dates.\n",
        "\n",
        "There are 16 unique product categories. This level of detail will be useful for analyzing if certain product types take longer to deliver."
      ],
      "metadata": {
        "id": "END57b1xHJVZ"
      }
    },
    {
      "cell_type": "markdown",
      "source": [
        "## 3. ***Data Wrangling***"
      ],
      "metadata": {
        "id": "dauF4eBmngu3"
      }
    },
    {
      "cell_type": "markdown",
      "source": [
        "### Data Wrangling Code"
      ],
      "metadata": {
        "id": "bKJF3rekwFvQ"
      }
    },
    {
      "cell_type": "code",
      "source": [
        "# Make a copy of the original dataframe to work on\n",
        "df_wrangled = df.copy()"
      ],
      "metadata": {
        "id": "Px30fKVjKN9o"
      },
      "execution_count": null,
      "outputs": []
    },
    {
      "cell_type": "code",
      "source": [
        "# --- 1. Handling Missing Values ---\n",
        "\n",
        "# For 'Agent_Rating', we will fill the missing values with the mean (average) rating.\n",
        "# This is a reasonable approach as the number of missing values is small.\n",
        "agent_rating_mean = df_wrangled['Agent_Rating'].mean()\n",
        "df_wrangled['Agent_Rating'].fillna(agent_rating_mean, inplace=True)"
      ],
      "metadata": {
        "id": "DAT3njI0KVLl"
      },
      "execution_count": null,
      "outputs": []
    },
    {
      "cell_type": "code",
      "source": [
        "# For 'Weather', we will fill the missing values with the mode (most frequent value).\n",
        "# This is suitable for categorical data.\n",
        "weather_mode = df_wrangled['Weather'].mode()[0]\n",
        "df_wrangled['Weather'].fillna(weather_mode, inplace=True)"
      ],
      "metadata": {
        "id": "6j6I_TLPKZ_s"
      },
      "execution_count": null,
      "outputs": []
    },
    {
      "cell_type": "code",
      "source": [
        "print(\"--- Missing values check after handling ---\")"
      ],
      "metadata": {
        "id": "lY_uT189KduT"
      },
      "execution_count": null,
      "outputs": []
    },
    {
      "cell_type": "code",
      "source": [
        "\n",
        "print(f\"Missing Agent_Rating: {df_wrangled['Agent_Rating'].isnull().sum()}\")\n",
        "\n",
        "print(f\"Missing Weather: {df_wrangled['Weather'].isnull().sum()}\")\n",
        "print(\"\\n\")"
      ],
      "metadata": {
        "id": "SIo5SwiEKoYy"
      },
      "execution_count": null,
      "outputs": []
    },
    {
      "cell_type": "code",
      "source": [
        "# --- 2. Stripping Whitespace from Text Columns ---\n",
        "\n",
        "# Get a list of all columns with object (text) data type\n",
        "object_cols = df_wrangled.select_dtypes(include=['object']).columns\n",
        "\n",
        "# Strip whitespace from all text columns to prevent matching errors\n",
        "for col in object_cols:\n",
        "    df_wrangled[col] = df_wrangled[col].str.strip()\n",
        "\n",
        "print(\"--- Whitespace stripped from text columns ---\")"
      ],
      "metadata": {
        "id": "O2SidMa_GCxn"
      },
      "execution_count": null,
      "outputs": []
    },
    {
      "cell_type": "code",
      "source": [
        "\n",
        "# --- 3. Correcting Data Types ---\n",
        "\n",
        "# Combine and convert to datetime, coercing errors to NaT (Not a Time)\n",
        "df_wrangled['Order_DateTime'] = pd.to_datetime(df_wrangled['Order_Date'] + ' ' + df_wrangled['Order_Time'], errors='coerce')\n",
        "df_wrangled['Pickup_DateTime'] = pd.to_datetime(df_wrangled['Order_Date'] + ' ' + df_wrangled['Pickup_Time'], errors='coerce')\n",
        "\n",
        "# Check if any NaT values were created\n",
        "nat_count = df_wrangled[['Order_DateTime', 'Pickup_DateTime']].isnull().sum().sum()\n",
        "if nat_count > 0:\n",
        "    print(f\"\\nFound and removed {nat_count} rows with invalid time entries.\")\n",
        "    # Remove rows where the conversion resulted in a null value\n",
        "    df_wrangled.dropna(subset=['Order_DateTime', 'Pickup_DateTime'], inplace=True)\n"
      ],
      "metadata": {
        "id": "MGfhpmpVK08f"
      },
      "execution_count": null,
      "outputs": []
    },
    {
      "cell_type": "code",
      "source": [
        "# --- 3. Display the cleaned data's information ---\n",
        "print(\"\\n--- Data types after conversion ---\")\n",
        "df_wrangled.info()"
      ],
      "metadata": {
        "id": "k3V3hiRjLiLC"
      },
      "execution_count": null,
      "outputs": []
    },
    {
      "cell_type": "code",
      "source": [
        "# Display the first few rows to see the new datetime columns\n",
        "print(\"\\n--- First 5 rows of wrangled data ---\")\n",
        "df_wrangled.head()"
      ],
      "metadata": {
        "id": "TZCPwZHdLp_U"
      },
      "execution_count": null,
      "outputs": []
    },
    {
      "cell_type": "markdown",
      "source": [
        "### What all manipulations have you done and insights you found?"
      ],
      "metadata": {
        "id": "MSa1f5Uengrz"
      }
    },
    {
      "cell_type": "markdown",
      "source": [
        "I performed the following data manipulations to prepare the dataset for analysis:\n",
        "\n",
        "**Handled Missing Values:**\n",
        "\n",
        "The missing values in Agent_Rating and Weather were successfully imputed using their mean and mode, respectively. The output confirms this, showing Missing Agent_Rating: 0 and Missing Weather: 0.\n",
        "\n",
        "**Cleaned Text Data:**\n",
        "\n",
        "A crucial cleaning step was to strip all leading/trailing whitespace from every text column. The insight here is that hidden spaces (e.g., \"Jam \" vs. \"Jam\") are a common source of errors in data filtering and analysis. This makes our data more consistent and reliable.\n",
        "\n",
        "\n",
        "\n",
        "**Corrected Data Types and Handled Corrupted Time Data:**\n",
        "\n",
        "The original Order_Date, Order_Time, and Pickup_Time columns were combined to create two new, usable datetime columns: Order_DateTime and Pickup_DateTime.\n",
        "\n",
        "During this conversion, the code correctly identified and handled an important data quality issue. The output Found and removed 91 rows with invalid time entries is a key insight. It tells us that a small portion of the dataset had corrupted time information (likely text \"NaN\" values instead of actual times), which would have caused errors in any time-based analysis.\n",
        "\n",
        "To fix this, I used the errors='coerce' parameter during the datetime conversion. This robust method automatically transforms any invalid time entries into null values (NaT).\n",
        "\n",
        "The few rows containing these corrupted NaT values were then removed from the dataset to ensure data integrity.\n",
        "\n",
        "By using a robust conversion method (errors='coerce') and then dropping these invalid rows, we have ensured the integrity and reliability of our time-series data.\n",
        "\n",
        "**Insight Found**: The most critical insight from the wrangling process was the discovery of 91 rows with corrupted time data. Removing them was essential for accuracy. The dataset is now clean and slightly smaller, with 43,648 valid entries, making it a high-quality foundation for visualization and modeling.\n",
        "\n",
        "We are now ready to proceed to Section 4: Data Visualization."
      ],
      "metadata": {
        "id": "LbyXE7I1olp8"
      }
    },
    {
      "cell_type": "markdown",
      "source": [
        "## ***4. Data Vizualization, Storytelling & Experimenting with charts : Understand the relationships between variables***"
      ],
      "metadata": {
        "id": "GF8Ens_Soomf"
      }
    },
    {
      "cell_type": "markdown",
      "source": [
        "####  **Chart -1: Distribution of Delivery Time (Target Variable)**\n"
      ],
      "metadata": {
        "id": "0wOQAZs5pc--"
      }
    },
    {
      "cell_type": "code",
      "source": [
        "# Chart - 1 visualization code\n",
        "plt.figure(figsize=(12, 6))\n",
        "sns.histplot(df_wrangled['Delivery_Time'], kde=True, bins=30)\n",
        "plt.title('Distribution of Delivery Times', fontsize=16)\n",
        "plt.xlabel('Delivery Time (minutes)', fontsize=12)\n",
        "plt.ylabel('Frequency', fontsize=12)\n",
        "plt.axvline(df_wrangled['Delivery_Time'].mean(), color='red', linestyle='--', linewidth=2, label=f\"Mean: {df_wrangled['Delivery_Time'].mean():.2f}\")\n",
        "plt.axvline(df_wrangled['Delivery_Time'].median(), color='green', linestyle='-', linewidth=2, label=f\"Median: {df_wrangled['Delivery_Time'].median():.2f}\")\n",
        "plt.legend()\n",
        "plt.show()"
      ],
      "metadata": {
        "id": "7v_ESjsspbW7"
      },
      "execution_count": null,
      "outputs": []
    },
    {
      "cell_type": "markdown",
      "source": [
        "##### 1. Why did you pick the specific chart?"
      ],
      "metadata": {
        "id": "K5QZ13OEpz2H"
      }
    },
    {
      "cell_type": "markdown",
      "source": [
        "I chose a histogram with a Kernel Density Estimate (KDE) because it is the best way to visualize the distribution of a single continuous variable. It clearly shows the central tendency, spread, and shape (skewness) of the Delivery_Time, which is our target variable. Adding lines for the mean and median helps to quickly identify the distribution's skewness."
      ],
      "metadata": {
        "id": "XESiWehPqBRc"
      }
    },
    {
      "cell_type": "markdown",
      "source": [
        "##### 2. What is/are the insight(s) found from the chart?"
      ],
      "metadata": {
        "id": "lQ7QKXXCp7Bj"
      }
    },
    {
      "cell_type": "markdown",
      "source": [
        "From the Distribution of Delivery Times chart, we can derive the following key insights:\n",
        "\n",
        "✅ Primary Insights:\n",
        "\n",
        "Average Delivery Time is ~125 minutes:\n",
        "\n",
        "Both mean (124.91) and median (125.00) are nearly equal, indicating that delivery times are evenly distributed with minimal skewness or outliers.\n",
        "\n",
        "Most Deliveries Fall Between 100–150 Minutes:\n",
        "\n",
        "The peak (mode) lies in this range, showing where operations are most efficient or concentrated.\n",
        "\n",
        "Slight Right Skew:\n",
        "\n",
        "A few deliveries take significantly longer (up to ~270 minutes), suggesting potential delays or inefficiencies in some cases.\n",
        "\n",
        "No Major Outliers or Failures:"
      ],
      "metadata": {
        "id": "C_j1G7yiqdRP"
      }
    },
    {
      "cell_type": "markdown",
      "source": [
        "##### 3. Will the gained insights help creating a positive business impact?\n",
        "Are there any insights that lead to negative growth? Justify with specific reason."
      ],
      "metadata": {
        "id": "448CDAPjqfQr"
      }
    },
    {
      "cell_type": "markdown",
      "source": [
        "Positive Business Impact: Yes. Understanding the typical delivery time and the presence of outliers is crucial. The business can set realistic delivery expectations for customers based on the median time (~125 minutes). This accuracy helps build customer trust.\n",
        "\n",
        "Insight Leading to Negative Growth: The long tail of the distribution (deliveries taking 200+ minutes) represents significant service failures. If the root causes of these outliers (e.g., poor routing, agent issues, specific location problems) are not investigated and fixed, they will lead to high customer dissatisfaction. Dissatisfied customers are likely to leave negative reviews and switch to competitors, directly causing customer churn and hindering growth."
      ],
      "metadata": {
        "id": "3cspy4FjqxJW"
      }
    },
    {
      "cell_type": "markdown",
      "source": [
        "#### **Chart - 2: Frequency of Deliveries by Traffic Conditions**"
      ],
      "metadata": {
        "id": "KSlN3yHqYklG"
      }
    },
    {
      "cell_type": "code",
      "source": [
        "# Chart - 2 visualization code\n",
        "plt.figure(figsize=(10, 6))\n",
        "# Get the order of traffic conditions by frequency\n",
        "order = df_wrangled['Traffic'].value_counts().index\n",
        "sns.countplot(y='Traffic', data=df_wrangled, order=order, palette='viridis')\n",
        "plt.title('Number of Deliveries by Traffic Condition', fontsize=16)\n",
        "plt.xlabel('Number of Deliveries', fontsize=12)\n",
        "plt.ylabel('Traffic Condition', fontsize=12)\n",
        "plt.show()"
      ],
      "metadata": {
        "id": "R4YgtaqtYklH"
      },
      "execution_count": null,
      "outputs": []
    },
    {
      "cell_type": "markdown",
      "source": [
        "##### 1. Why did you pick the specific chart?"
      ],
      "metadata": {
        "id": "t6dVpIINYklI"
      }
    },
    {
      "cell_type": "markdown",
      "source": [
        "A bar chart (specifically a countplot) is ideal for visualizing the frequency distribution of a categorical variable. It allows us to quickly see how many deliveries occurred under each traffic condition, making it easy to compare their prevalence in the dataset."
      ],
      "metadata": {
        "id": "5aaW0BYyYklI"
      }
    },
    {
      "cell_type": "markdown",
      "source": [
        "##### 2. What is/are the insight(s) found from the chart?"
      ],
      "metadata": {
        "id": "ijmpgYnKYklI"
      }
    },
    {
      "cell_type": "markdown",
      "source": [
        "The chart reveals that the majority of deliveries in this dataset occurred in \"Low\" traffic conditions, followed by \"High\" and \"Medium\". Deliveries during a \"Jam\" are the least frequent. This is important context for our model; it will have more data to learn from for low-traffic scenarios."
      ],
      "metadata": {
        "id": "PSx9atu2YklI"
      }
    },
    {
      "cell_type": "markdown",
      "source": [
        "##### 3. Will the gained insights help creating a positive business impact?\n",
        "Are there any insights that lead to negative growth? Justify with specific reason."
      ],
      "metadata": {
        "id": "-JiQyfWJYklI"
      }
    },
    {
      "cell_type": "markdown",
      "source": [
        "Positive Business Impact: Yes. Knowing that most deliveries occur in \"Low\" traffic can help validate scheduling strategies. The business can use this data to build robust plans for less frequent but high-impact scenarios like traffic jams, ensuring the model's predictions are reliable under all conditions.\n",
        "\n",
        "Insight Leading to Negative Growth: The relatively low volume of data for \"Jam\" conditions is a potential risk. It means our predictive model may not be as accurate in these scenarios. If the business expands into a city with notoriously bad traffic, relying on a model undertrained on \"Jam\" data would lead to systematically inaccurate (overly optimistic) ETAs. This would create a poor customer experience in the new market, damaging the company's reputation and potentially causing the expansion to fail, leading to negative growth."
      ],
      "metadata": {
        "id": "BcBbebzrYklV"
      }
    },
    {
      "cell_type": "markdown",
      "source": [
        "#### **Chart - 3: Delivery Time vs. Agent Rating**"
      ],
      "metadata": {
        "id": "EM7whBJCYoAo"
      }
    },
    {
      "cell_type": "code",
      "source": [
        "# Chart - 3 visualization code\n",
        "plt.figure(figsize=(12, 7))\n",
        "sns.scatterplot(x='Agent_Rating', y='Delivery_Time', data=df_wrangled, alpha=0.5)\n",
        "plt.title('Delivery Time vs. Agent Rating', fontsize=16)\n",
        "plt.xlabel('Agent Rating', fontsize=12)\n",
        "plt.ylabel('Delivery Time (minutes)', fontsize=12)\n",
        "plt.show()"
      ],
      "metadata": {
        "id": "t6GMdE67YoAp"
      },
      "execution_count": null,
      "outputs": []
    },
    {
      "cell_type": "markdown",
      "source": [
        "##### 1. Why did you pick the specific chart?"
      ],
      "metadata": {
        "id": "fge-S5ZAYoAp"
      }
    },
    {
      "cell_type": "markdown",
      "source": [
        "\n",
        "A scatter plot is the standard choice for visualizing the relationship between two continuous variables. It helps us identify patterns, trends, or correlations. Here, we want to see if an agent's rating has any relationship with their delivery performance."
      ],
      "metadata": {
        "id": "5dBItgRVYoAp"
      }
    },
    {
      "cell_type": "markdown",
      "source": [
        "##### 2. What is/are the insight(s) found from the chart?"
      ],
      "metadata": {
        "id": "85gYPyotYoAp"
      }
    },
    {
      "cell_type": "markdown",
      "source": [
        "\n",
        "There does not appear to be a strong, clear linear relationship between Agent_Rating and Delivery_Time. However, we can observe that agents with very low ratings (below 3.5) seem to have a wider variance in delivery times, including some of the longest delays. Agents with higher ratings (4.5+) are more concentrated in the lower delivery time range, but still handle both quick and slow deliveries."
      ],
      "metadata": {
        "id": "4jstXR6OYoAp"
      }
    },
    {
      "cell_type": "markdown",
      "source": [
        "##### 3. Will the gained insights help creating a positive business impact?\n",
        "Are there any insights that lead to negative growth? Justify with specific reason."
      ],
      "metadata": {
        "id": "RoGjAbkUYoAp"
      }
    },
    {
      "cell_type": "markdown",
      "source": [
        "Positive Business Impact: Yes. The chart suggests that while a high rating doesn't guarantee a fast delivery, very low-rated agents are linked to performance inconsistency. This allows the business to proactively identify agents with ratings below a certain threshold (e.g., 3.5) for additional training or performance management. Improving the consistency of the lowest-performing agents can significantly uplift the overall service quality.\n",
        "\n",
        "Insight Leading to Negative Growth: The presence of agents with very low ratings (e.g., below 3.0) who are still active is a direct risk. These agents are demonstrably providing a poor experience, as reflected in both their ratings and their inconsistent delivery times. Continuously assigning orders to these agents is a choice that guarantees a certain percentage of customers will have a bad experience. This can damage brand reputation through negative word-of-mouth and online reviews, directly impacting customer acquisition and retention."
      ],
      "metadata": {
        "id": "zfJ8IqMcYoAp"
      }
    },
    {
      "cell_type": "markdown",
      "source": [
        "#### **Chart - 4:Delivery Time by Weather Conditions**"
      ],
      "metadata": {
        "id": "4Of9eVA-YrdM"
      }
    },
    {
      "cell_type": "code",
      "source": [
        "# Chart - 4 visualization code\n",
        "plt.figure(figsize=(12, 7))\n",
        "# Order by median delivery time\n",
        "order = df_wrangled.groupby('Weather')['Delivery_Time'].median().sort_values().index\n",
        "sns.boxplot(x='Weather', y='Delivery_Time', data=df_wrangled, order=order, palette='plasma')\n",
        "plt.title('Delivery Time Distribution by Weather', fontsize=16)\n",
        "plt.xlabel('Weather Condition', fontsize=12)\n",
        "plt.ylabel('Delivery Time (minutes)', fontsize=12)\n",
        "plt.show()\n"
      ],
      "metadata": {
        "id": "irlUoxc8YrdO"
      },
      "execution_count": null,
      "outputs": []
    },
    {
      "cell_type": "markdown",
      "source": [
        "##### 1. Why did you pick the specific chart?"
      ],
      "metadata": {
        "id": "iky9q4vBYrdO"
      }
    },
    {
      "cell_type": "markdown",
      "source": [
        "A box plot is perfect for comparing the distribution of a continuous variable (Delivery_Time) across several categories (Weather). It clearly shows the median, interquartile range (IQR), and potential outliers for each weather condition, making it much more informative than a simple bar chart of averages."
      ],
      "metadata": {
        "id": "aJRCwT6DYrdO"
      }
    },
    {
      "cell_type": "markdown",
      "source": [
        "##### 2. What is/are the insight(s) found from the chart?"
      ],
      "metadata": {
        "id": "F6T5p64dYrdO"
      }
    },
    {
      "cell_type": "markdown",
      "source": [
        "Adverse weather conditions clearly impact delivery times. \"Sunny\" and \"Cloudy\" conditions have the lowest median delivery times. In contrast, \"Fog\", \"Stormy\", and \"Sandstorms\" lead to significantly longer and more variable delivery times, as shown by the higher medians and larger box sizes"
      ],
      "metadata": {
        "id": "Xx8WAJvtYrdO"
      }
    },
    {
      "cell_type": "markdown",
      "source": [
        "##### 3. Will the gained insights help creating a positive business impact?\n",
        "Are there any insights that lead to negative growth? Justify with specific reason."
      ],
      "metadata": {
        "id": "y-Ehk30pYrdP"
      }
    },
    {
      "cell_type": "markdown",
      "source": [
        "Positive Business Impact: Absolutely. This is a highly actionable insight. The business can create a dynamic ETA system that automatically adds a delivery time buffer based on real-time weather conditions. For instance, when the weather is \"Stormy,\" the ETA shown to the customer can be increased by 20-30 minutes. This manages customer expectations effectively, reduces \"Where is my order?\" calls, and increases satisfaction even when unavoidable delays occur.\n",
        "\n",
        "Insight Leading to Negative Growth: There are no insights that inherently lead to negative growth; however, ignoring these insights would. If the business fails to account for the clear impact of weather on delivery times, it will systematically fail to meet its ETAs on days with adverse weather. This would lead to a massive spike in customer complaints, overwhelm support staff, and destroy customer trust, potentially causing a significant drop in orders (negative growth) during periods of bad weather."
      ],
      "metadata": {
        "id": "jLNxxz7MYrdP"
      }
    },
    {
      "cell_type": "markdown",
      "source": [
        "#### **Chart - 5: Count of Deliveries by Vehicle Type**"
      ],
      "metadata": {
        "id": "bamQiAODYuh1"
      }
    },
    {
      "cell_type": "code",
      "source": [
        "# Chart - 5 visualization code\n",
        "plt.figure(figsize=(10, 6))\n",
        "\n",
        "# Get the value counts for vehicle types\n",
        "vehicle_counts = df_wrangled['Vehicle'].value_counts()\n",
        "\n",
        "# Dynamically create the explode list\n",
        "# This will only \"explode\" the first (largest) slice.\n",
        "num_vehicles = len(vehicle_counts)\n",
        "explode_list = [0.05] + [0] * (num_vehicles - 1)\n",
        "\n",
        "\n",
        "vehicle_counts.plot(kind='pie', autopct='%1.1f%%', colors=sns.color_palette('pastel'), explode=explode_list)\n",
        "plt.title('Proportion of Vehicle Types Used for Delivery', fontsize=16)\n",
        "plt.ylabel('') # Hiding the 'Vehicle' label on the y-axis for better aesthetics\n",
        "plt.show()\n"
      ],
      "metadata": {
        "id": "TIJwrbroYuh3"
      },
      "execution_count": null,
      "outputs": []
    },
    {
      "cell_type": "markdown",
      "source": [
        "##### 1. Why did you pick the specific chart?"
      ],
      "metadata": {
        "id": "QHF8YVU7Yuh3"
      }
    },
    {
      "cell_type": "markdown",
      "source": [
        "A pie chart is effective for showing the proportional distribution of a categorical variable when there are a small number of categories. It immediately communicates the share of each vehicle type in the overall delivery operations"
      ],
      "metadata": {
        "id": "dcxuIMRPYuh3"
      }
    },
    {
      "cell_type": "markdown",
      "source": [
        "##### 2. What is/are the insight(s) found from the chart?"
      ],
      "metadata": {
        "id": "GwzvFGzlYuh3"
      }
    },
    {
      "cell_type": "markdown",
      "source": [
        "The vast majority of deliveries are carried out using motorcycles (58.5%). Scooters and vans are used much less frequently, and there is a very small \"electric scooter\" category. This indicates that the delivery fleet is heavily reliant on two-wheelers."
      ],
      "metadata": {
        "id": "uyqkiB8YYuh3"
      }
    },
    {
      "cell_type": "markdown",
      "source": [
        "##### 3. Will the gained insights help creating a positive business impact?\n",
        "Are there any insights that lead to negative growth? Justify with specific reason."
      ],
      "metadata": {
        "id": "qYpmQ266Yuh3"
      }
    },
    {
      "cell_type": "markdown",
      "source": [
        "Positive Business Impact: This gives a clear overview of the company's delivery fleet composition. The heavy reliance on motorcycles is likely a cost-effective and efficient strategy for navigating urban traffic. This understanding allows for targeted fleet management, such as optimizing maintenance schedules for the most-used vehicle type.\n",
        "\n",
        "Insight Leading to Negative Growth: The over-reliance on motorcycles is a significant operational risk that could lead to negative growth. Motorcycles are highly susceptible to adverse weather conditions (like storms or heavy rain). During a prolonged period of bad weather (e.g., a monsoon season), a majority of the delivery fleet could be rendered unsafe or ineffective. This would lead to a system-wide failure to fulfill orders, massive delays, and a potential exodus of customers to competitors with more robust, all-weather fleets (like vans), causing a direct hit to revenue and market share."
      ],
      "metadata": {
        "id": "_WtzZ_hCYuh4"
      }
    },
    {
      "cell_type": "markdown",
      "source": [
        "#### **Chart - 6: Delivery Time vs. Agent Age**"
      ],
      "metadata": {
        "id": "OH-pJp9IphqM"
      }
    },
    {
      "cell_type": "code",
      "source": [
        "# Chart - 6 visualization code\n",
        "plt.figure(figsize=(12, 7))\n",
        "sns.scatterplot(x='Agent_Age', y='Delivery_Time', data=df_wrangled, alpha=0.5, color='orange')\n",
        "plt.title('Delivery Time vs. Agent Age', fontsize=16)\n",
        "plt.xlabel('Agent Age', fontsize=12)\n",
        "plt.ylabel('Delivery Time (minutes)', fontsize=12)\n",
        "plt.show()"
      ],
      "metadata": {
        "id": "kuRf4wtuphqN"
      },
      "execution_count": null,
      "outputs": []
    },
    {
      "cell_type": "markdown",
      "source": [
        "##### 1. Why did you pick the specific chart?"
      ],
      "metadata": {
        "id": "bbFf2-_FphqN"
      }
    },
    {
      "cell_type": "markdown",
      "source": [
        "A scatter plot is the best choice to investigate the relationship between two numerical variables, in this case, Agent_Age and our target, Delivery_Time. It helps us visualize any potential correlation, trends, or patterns between them."
      ],
      "metadata": {
        "id": "loh7H2nzphqN"
      }
    },
    {
      "cell_type": "markdown",
      "source": [
        "##### 2. What is/are the insight(s) found from the chart?"
      ],
      "metadata": {
        "id": "_ouA3fa0phqN"
      }
    },
    {
      "cell_type": "markdown",
      "source": [
        "The data appears evenly distributed across agent ages — meaning each age (20 to 39) has a similar number of data points.\n",
        "\n",
        "There doesn't appear to be a strong trend between agent age and delivery time:\n",
        "\n",
        "Young agents (20–25) and older agents (35–39) both have delivery times spread across the full range (from very short to very long).\n",
        "\n",
        "No clear pattern like increasing or decreasing delivery time with age."
      ],
      "metadata": {
        "id": "VECbqPI7phqN"
      }
    },
    {
      "cell_type": "markdown",
      "source": [
        "##### 3. Will the gained insights help creating a positive business impact?\n",
        "Are there any insights that lead to negative growth? Justify with specific reason."
      ],
      "metadata": {
        "id": "Seke61FWphqN"
      }
    },
    {
      "cell_type": "markdown",
      "source": [
        "Positive Business Impact: This insight is valuable because it tells the business what not to focus on. It suggests that an agent's age is not a primary driver of slow deliveries. Therefore, the business can avoid making biased decisions (like hiring only within a specific age range) and instead focus on factors that do matter, like training, routing efficiency, and performance metrics.\n",
        "\n",
        "Insight Leading to Negative Growth: There is no direct insight here that leads to negative growth. However, if the company were to act on a biased assumption that \"younger agents are faster\" without looking at this data, they could create a discriminatory hiring environment and miss out on reliable, experienced agents, which could negatively impact their operational capacity and brand image."
      ],
      "metadata": {
        "id": "DW4_bGpfphqN"
      }
    },
    {
      "cell_type": "markdown",
      "source": [
        "\n",
        "### **Chart - 7: Delivery Time Distribution by Area**\n",
        "\n"
      ],
      "metadata": {
        "id": "PIIx-8_IphqN"
      }
    },
    {
      "cell_type": "code",
      "source": [
        "# Chart - 7 visualization code\n",
        "plt.figure(figsize=(10, 7))\n",
        "sns.violinplot(x='Area', y='Delivery_Time', data=df_wrangled, palette='coolwarm')\n",
        "plt.title('Delivery Time Distribution by Area Type', fontsize=16)\n",
        "plt.xlabel('Area Type', fontsize=12)\n",
        "plt.ylabel('Delivery Time (minutes)', fontsize=12)\n",
        "plt.show()"
      ],
      "metadata": {
        "id": "lqAIGUfyphqO"
      },
      "execution_count": null,
      "outputs": []
    },
    {
      "cell_type": "markdown",
      "source": [
        "##### 1. Why did you pick the specific chart?"
      ],
      "metadata": {
        "id": "t27r6nlMphqO"
      }
    },
    {
      "cell_type": "markdown",
      "source": [
        "I chose a violin plot as a more advanced alternative to the box plot. While a box plot shows summary statistics, a violin plot combines this with a KDE plot, showing the full probability density of the data. This is great for seeing the shape of the distribution and where the concentration of data points lies for each category (Urban vs. Metropolitan)."
      ],
      "metadata": {
        "id": "iv6ro40sphqO"
      }
    },
    {
      "cell_type": "markdown",
      "source": [
        "##### 2. What is/are the insight(s) found from the chart?"
      ],
      "metadata": {
        "id": "r2jJGEOYphqO"
      }
    },
    {
      "cell_type": "markdown",
      "source": [
        "The distributions for \"Urban\" and \"Metropolitan\" areas are quite similar, but with a key difference. The violin plot for \"Metropolitan\" is slightly wider and taller, indicating a higher volume of deliveries. The median delivery times are very close, but the \"Urban\" distribution appears to be slightly more concentrated around its median"
      ],
      "metadata": {
        "id": "Po6ZPi4hphqO"
      }
    },
    {
      "cell_type": "markdown",
      "source": [
        "##### 3. Will the gained insights help creating a positive business impact?\n",
        "Are there any insights that lead to negative growth? Justify with specific reason."
      ],
      "metadata": {
        "id": "b0JNsNcRphqO"
      }
    },
    {
      "cell_type": "markdown",
      "source": [
        "Positive Business Impact: The insight that delivery times are broadly similar across area types is useful. It suggests that the current logistics network is equally effective in both urban and metropolitan settings. This simplifies the prediction model, as Area may not be as critical a feature as initially thought.\n",
        "\n",
        "Insight Leading to Negative Growth: No direct negative insight. However, if the company assumed that \"Urban\" deliveries should be much faster due to lower density and planned resource allocation based on that assumption, they might under-serve their urban customers, leading to dissatisfaction and potential churn in those areas. This data helps prevent such a strategic mistake."
      ],
      "metadata": {
        "id": "xvSq8iUTphqO"
      }
    },
    {
      "cell_type": "markdown",
      "source": [
        "#### **Chart - 8: Number of Deliveries Over Time**"
      ],
      "metadata": {
        "id": "BZR9WyysphqO"
      }
    },
    {
      "cell_type": "code",
      "source": [
        "# Chart - 8 visualization code\n",
        "# Group by date and count the orders\n",
        "daily_orders = df_wrangled.groupby(df_wrangled['Order_DateTime'].dt.date).size()\n",
        "\n",
        "plt.figure(figsize=(15, 7))\n",
        "daily_orders.plot(kind='line', marker='o', linestyle='-')\n",
        "plt.title('Total Number of Deliveries Per Day', fontsize=16)\n",
        "plt.xlabel('Date', fontsize=12)\n",
        "plt.ylabel('Number of Deliveries', fontsize=12)\n",
        "plt.grid(True)\n",
        "plt.show()"
      ],
      "metadata": {
        "id": "TdPTWpAVphqO"
      },
      "execution_count": null,
      "outputs": []
    },
    {
      "cell_type": "markdown",
      "source": [
        "##### 1. Why did you pick the specific chart?"
      ],
      "metadata": {
        "id": "jj7wYXLtphqO"
      }
    },
    {
      "cell_type": "markdown",
      "source": [
        "A line chart is the most effective way to visualize time-series data. It clearly shows trends, seasonality, and anomalies over a continuous period. Here, we are plotting the number of deliveries each day to see if there are any patterns."
      ],
      "metadata": {
        "id": "Ob8u6rCTphqO"
      }
    },
    {
      "cell_type": "markdown",
      "source": [
        "##### 2. What is/are the insight(s) found from the chart?"
      ],
      "metadata": {
        "id": "eZrbJ2SmphqO"
      }
    },
    {
      "cell_type": "markdown",
      "source": [
        "The chart shows a fluctuating but generally consistent volume of daily deliveries. There are noticeable peaks and troughs, suggesting some form of weekly pattern or specific high-volume days. For example, there seems to be a significant spike in activity around the end of March and the beginning of April."
      ],
      "metadata": {
        "id": "mZtgC_hjphqO"
      }
    },
    {
      "cell_type": "markdown",
      "source": [
        "##### 3. Will the gained insights help creating a positive business impact?\n",
        "Are there any insights that lead to negative growth? Justify with specific reason."
      ],
      "metadata": {
        "id": "rFu4xreNphqO"
      }
    },
    {
      "cell_type": "markdown",
      "source": [
        "Positive Business Impact: This is extremely useful for resource planning and demand forecasting. By identifying peak delivery days, the business can schedule more agents and prepare for higher volumes in advance, ensuring smooth operations and maintaining service quality during busy periods.\n",
        "\n",
        "Insight Leading to Negative Growth: The troughs represent days with significantly lower order volumes. If these dips are unexpected, it could mean operational inefficiency (agents are scheduled but have no work). If the dips are caused by a recurring issue (e.g., a technical problem on a specific day of the week), failing to address it would lead to lost revenue and customer frustration, directly impacting growth."
      ],
      "metadata": {
        "id": "ey_0qi68phqO"
      }
    },
    {
      "cell_type": "markdown",
      "source": [
        "#### Chart - 9: Average Delivery Time by Day of the Week"
      ],
      "metadata": {
        "id": "YJ55k-q6phqO"
      }
    },
    {
      "cell_type": "code",
      "source": [
        "# Chart - 9 visualization code\n",
        "# Extract day of the week (Monday=0, Sunday=6)\n",
        "df_wrangled['day_of_week'] = df_wrangled['Order_DateTime'].dt.day_name()\n",
        "\n",
        "# Calculate average delivery time per day\n",
        "avg_time_by_day = df_wrangled.groupby('day_of_week')['Delivery_Time'].mean().sort_values()\n",
        "\n",
        "plt.figure(figsize=(12, 6))\n",
        "avg_time_by_day.plot(kind='bar', color=sns.color_palette('magma', 7))\n",
        "plt.title('Average Delivery Time by Day of the Week', fontsize=16)\n",
        "plt.xlabel('Day of the Week', fontsize=12)\n",
        "plt.ylabel('Average Delivery Time (minutes)', fontsize=12)\n",
        "plt.xticks(rotation=45)\n",
        "plt.show()"
      ],
      "metadata": {
        "id": "B2aS4O1ophqO"
      },
      "execution_count": null,
      "outputs": []
    },
    {
      "cell_type": "markdown",
      "source": [
        "##### 1. Why did you pick the specific chart?"
      ],
      "metadata": {
        "id": "gCFgpxoyphqP"
      }
    },
    {
      "cell_type": "markdown",
      "source": [
        "A bar chart is the best way to compare a numerical value (average delivery time) across different categories (days of the week). It provides a clear and straightforward comparison, making it easy to spot which days are faster or slower on average."
      ],
      "metadata": {
        "id": "TVxDimi2phqP"
      }
    },
    {
      "cell_type": "markdown",
      "source": [
        "##### 2. What is/are the insight(s) found from the chart?"
      ],
      "metadata": {
        "id": "OVtJsKN_phqQ"
      }
    },
    {
      "cell_type": "markdown",
      "source": [
        "Wednesday has the highest average delivery time.\n",
        "\n",
        "Thursday has the lowest, suggesting more efficient deliveries or lower demand.\n",
        "\n",
        "There's a gradual increase from Thursday to Wednesday.\n",
        "\n",
        "Weekends (Saturday, Sunday) have moderately high delivery times — possibly due to increased orders or fewer available delivery agents."
      ],
      "metadata": {
        "id": "ngGi97qjphqQ"
      }
    },
    {
      "cell_type": "markdown",
      "source": [
        "##### 3. Will the gained insights help creating a positive business impact?\n",
        "Are there any insights that lead to negative growth? Justify with specific reason."
      ],
      "metadata": {
        "id": "lssrdh5qphqQ"
      }
    },
    {
      "cell_type": "markdown",
      "source": [
        "Positive Business impact:\n",
        "\n",
        "Operational Optimization:\n",
        "\n",
        "The business can identify workload imbalances.\n",
        "\n",
        "Helps in scheduling more delivery agents or resources on high-load days (e.g., Wednesday).\n",
        "\n",
        "Improved Customer Experience:\n",
        "\n",
        "If delivery delays are reduced on peak days, customer satisfaction improves, reducing churn and increasing repeat orders.\n",
        "\n",
        "Informed Marketing Decisions:\n",
        "\n",
        "On slower or more efficient days (like Thursday), businesses can run promotional offers to shift demand from high-load days.\n",
        "\n",
        "Resource Cost Efficiency:\n",
        "\n",
        "By matching delivery staff and logistics resources to expected workload, the business avoids overstaffing or understaffing, reducing unnecessary costs.\n",
        "\n",
        "Negative Impact:\n",
        "\n",
        "Negative Growth Risk:\n",
        "\n",
        "Wednesday's high delivery times, if not addressed, could:\n",
        "\n",
        "Lead to late deliveries\n",
        "\n",
        "Cause customer dissatisfaction\n",
        "\n",
        "Increase order cancellations or bad reviews\n",
        "\n",
        "For example: If delivery times exceed expectations mid-week consistently, it can harm the brand reputation and reduce customer loyalty."
      ],
      "metadata": {
        "id": "tBpY5ekJphqQ"
      }
    },
    {
      "cell_type": "markdown",
      "source": [
        "#### **Chart - 10: Relationship between Traffic and Area Type**"
      ],
      "metadata": {
        "id": "U2RJ9gkRphqQ"
      }
    },
    {
      "cell_type": "code",
      "source": [
        "# Chart - 10 visualization code\n",
        "sns.catplot(x='Traffic', col='Area', data=df_wrangled, kind='count', palette='muted', height=6, aspect=0.8)\n",
        "plt.suptitle('Traffic Conditions by Area Type', y=1.02, fontsize=16)\n",
        "plt.show()"
      ],
      "metadata": {
        "id": "GM7a4YP4phqQ"
      },
      "execution_count": null,
      "outputs": []
    },
    {
      "cell_type": "markdown",
      "source": [
        "##### 1. Why did you pick the specific chart?"
      ],
      "metadata": {
        "id": "1M8mcRywphqQ"
      }
    },
    {
      "cell_type": "markdown",
      "source": [
        "I used catplot from seaborn to create a facet grid of count plots. This is a powerful multivariate analysis technique. It allows us to visualize the distribution of one categorical variable (Traffic) broken down by the categories of another categorical variable (Area). This is much clearer than a stacked or grouped bar chart for this purpose."
      ],
      "metadata": {
        "id": "8agQvks0phqQ"
      }
    },
    {
      "cell_type": "markdown",
      "source": [
        "##### 2. What is/are the insight(s) found from the chart?"
      ],
      "metadata": {
        "id": "tgIPom80phqQ"
      }
    },
    {
      "cell_type": "markdown",
      "source": [
        "General observations:\n",
        "\n",
        "Metropolitan areas have the highest counts overall, with \"Jam\" and \"Low\" traffic dominating.\n",
        "\n",
        "Urban areas have moderate traffic counts, with \"Low\" traffic slightly higher than \"Jam\".\n",
        "\n",
        "Semi-Urban areas have minimal traffic incidents, mostly \"Jam\".\n",
        "\n",
        "Other areas (likely rural or sparsely populated) show low traffic, with \"Low\" traffic slightly higher than others.\n",
        "\n",
        "Specific insights:\n",
        "\n",
        "Traffic congestion is most severe in Metropolitan areas, as the \"Jam\" category dominates.\n",
        "\n",
        "Urban areas have more manageable traffic but still have significant \"Low\" and \"Medium\" traffic counts.\n",
        "\n",
        "Semi-Urban and Other areas experience very low traffic, suggesting these regions are less congested.\n",
        "\n",
        "High traffic condition is rare across all areas except Metropolitan areas."
      ],
      "metadata": {
        "id": "Qp13pnNzphqQ"
      }
    },
    {
      "cell_type": "markdown",
      "source": [
        "##### 3. Will the gained insights help creating a positive business impact?\n",
        "Are there any insights that lead to negative growth? Justify with specific reason."
      ],
      "metadata": {
        "id": "JMzcOPDDphqR"
      }
    },
    {
      "cell_type": "markdown",
      "source": [
        "Positive impact:\n",
        "\n",
        "Logistics/Delivery planning: Companies can optimize delivery routes by avoiding Metropolitan peak hours to reduce delays.\n",
        "\n",
        "Ride-sharing / Mobility services: Can allocate more vehicles in Metropolitan areas during jam hours and fewer in low-traffic areas, improving efficiency and cost-effectiveness.\n",
        "\n",
        "Urban planning / Infrastructure investment: Prioritize traffic management solutions in Metropolitan areas to reduce congestion.\n",
        "\n",
        "Potential negative growth insights:\n",
        "\n",
        "High congestion in Metropolitan areas could increase fuel costs, delivery delays, and customer dissatisfaction, negatively affecting businesses relying on timely transport.\n",
        "\n",
        "Semi-Urban and Other areas might be under-served by services if businesses assume low demand due to low traffic counts, potentially missing new market opportunities.\n",
        "\n",
        "Justification:\n",
        "\n",
        "Positive impact comes from better resource allocation and operational efficiency.\n",
        "\n",
        "Negative impact arises if high congestion is not addressed or low-traffic areas are ignored strategically."
      ],
      "metadata": {
        "id": "R4Ka1PC2phqR"
      }
    },
    {
      "cell_type": "markdown",
      "source": [
        "##**Calculating Delivery Distance**"
      ],
      "metadata": {
        "id": "x-EpHcCOp1ci"
      }
    },
    {
      "cell_type": "markdown",
      "source": [
        "Before we create the final charts, we need to engineer a crucial feature: the distance between the store and the delivery location. We will use the haversine formula to calculate this distance in kilometers from the latitude and longitude coordinates."
      ],
      "metadata": {
        "id": "KSOI7TI8uKkj"
      }
    },
    {
      "cell_type": "code",
      "source": [
        "# Feature Engineering: Haversine Distance\n",
        "def haversine_distance(lat1, lon1, lat2, lon2):\n",
        "    R = 6371  # Radius of Earth in kilometers\n",
        "\n",
        "    lat1, lon1, lat2, lon2 = map(radians, [lat1, lon1, lat2, lon2])\n",
        "\n",
        "    dlon = lon2 - lon1\n",
        "    dlat = lat2 - lat1\n",
        "\n",
        "    a = sin(dlat / 2)**2 + cos(lat1) * cos(lat2) * sin(dlon / 2)**2\n",
        "    c = 2 * atan2(sqrt(a), sqrt(1 - a))\n",
        "\n",
        "    distance = R * c\n",
        "    return distance\n",
        "\n",
        "# Apply the function to create the 'Distance_km' column\n",
        "df_wrangled['Distance_km'] = df_wrangled.apply(\n",
        "    lambda row: haversine_distance(\n",
        "        row['Store_Latitude'], row['Store_Longitude'],\n",
        "        row['Drop_Latitude'], row['Drop_Longitude']\n",
        "    ),\n",
        "    axis=1\n",
        ")\n",
        "\n",
        "print(\"'Distance_km' feature created successfully.\")\n",
        "df_wrangled[['Store_Latitude', 'Drop_Latitude', 'Distance_km']].head()"
      ],
      "metadata": {
        "id": "nQ4hd-dtuUMl"
      },
      "execution_count": null,
      "outputs": []
    },
    {
      "cell_type": "markdown",
      "source": [
        "#### **Chart - 11: Correlation Heatmap**"
      ],
      "metadata": {
        "id": "PRNxqbg9txjL"
      }
    },
    {
      "cell_type": "code",
      "source": [
        "# Chart - 11 visualization code\n",
        "# Select only numerical columns for the correlation matrix\n",
        "numerical_cols = df_wrangled.select_dtypes(include=np.number)\n",
        "\n",
        "plt.figure(figsize=(14, 10))\n",
        "sns.heatmap(numerical_cols.corr(), annot=True, cmap='coolwarm', fmt='.2f', linewidths=.5)\n",
        "plt.title('Correlation Heatmap of Numerical Features', fontsize=16)\n",
        "plt.show()"
      ],
      "metadata": {
        "id": "mAQTIvtqp1cj"
      },
      "execution_count": null,
      "outputs": []
    },
    {
      "cell_type": "markdown",
      "source": [
        "##### 1. Why did you pick the specific chart?"
      ],
      "metadata": {
        "id": "X_VqEhTip1ck"
      }
    },
    {
      "cell_type": "markdown",
      "source": [
        "A correlation heatmap is an essential multivariate visualization. It provides a concise and visually intuitive overview of the linear relationships between all numerical variables in the dataset. The color coding allows for the quick identification of strong positive (red) and negative (blue) correlations, which is crucial for feature selection and understanding multicollinearity."
      ],
      "metadata": {
        "id": "-vsMzt_np1ck"
      }
    },
    {
      "cell_type": "markdown",
      "source": [
        "##### 2. What is/are the insight(s) found from the chart?"
      ],
      "metadata": {
        "id": "8zGJKyg5p1ck"
      }
    },
    {
      "cell_type": "markdown",
      "source": [
        "Strong Positive Correlations:\n",
        "\n",
        "Store Latitude ↔ Drop Latitude: A very strong positive correlation of 0.94 suggests that the latitude of the store and the drop-off point are likely to be in similar geographic areas. This makes sense since deliveries typically occur between nearby locations.\n",
        "\n",
        "Store Longitude ↔ Drop Longitude: A strong positive correlation of 0.69 shows that the longitude of the store and the drop-off point also have a significant relationship, indicating proximity along the east-west axis.\n",
        "\n",
        "Drop Latitude ↔ Drop Longitude: Similarly, these two geographic features are highly correlated (0.69), reinforcing that delivery destinations (drop points) are geographically related.\n",
        "\n",
        "Delivery Time and Distance:\n",
        "\n",
        "Delivery Time ↔ Distance: There's a very low negative correlation (-0.00) between Delivery Time and Distance (km). This suggests that the distance between the store and the drop-off location doesn't have a strong impact on delivery time, which may indicate that factors other than distance (like traffic, weather, etc.) are influencing delivery speed.\n",
        "\n",
        "Agent Rating & Delivery Time:\n",
        "\n",
        "Agent Rating ↔ Delivery Time: A moderate negative correlation of -0.31 suggests that there may be a relationship between lower agent ratings and longer delivery times. This could imply that agents with lower ratings might take longer to complete deliveries, potentially due to inexperience or inefficiency.\n",
        "\n",
        "Agent Age:\n",
        "\n",
        "Agent Age ↔ Delivery Time: There is a positive correlation (0.26) between Agent Age and Delivery Time. Older agents could potentially take longer to complete deliveries, though the correlation isn't very strong. This could be due to experience or other factors like physical endurance.\n",
        "\n",
        "No Strong Correlation Between Store/Drop Location and Distance:\n",
        "\n",
        "Store/Drop Latitude & Distance: The correlations between store/drop latitudes and distance are low (around 0.02–0.05), meaning the geographic location of the store and drop-off points doesn't strongly predict the total distance traveled."
      ],
      "metadata": {
        "id": "ZYdMsrqVp1ck"
      }
    },
    {
      "cell_type": "markdown",
      "source": [
        "##### 3. Will the gained insights help creating a positive business impact?\n",
        "Are there any insights that lead to negative growth? Justify with specific reason."
      ],
      "metadata": {
        "id": "PVzmfK_Ep1ck"
      }
    },
    {
      "cell_type": "markdown",
      "source": [
        "These insights are highly actionable and can directly lead to a positive business impact. They do not directly suggest negative growth, but rather highlight existing inefficiencies that, if ignored, could harm the business.\n",
        "\n",
        "How to Create Positive Impact:\n",
        "Leverage the Agent Rating Insight:\n",
        "\n",
        "Action: The business can create a performance-driven incentive program that rewards agents for maintaining high ratings and achieving low delivery times. They can also analyze the behavior of top-rated agents and use those findings to develop training modules for all agents.\n",
        "\n",
        "Justification: By focusing on the proven link between rating and speed, the company can systematically lower its average delivery time, which directly increases customer satisfaction, encourages repeat business, and builds a stronger brand reputation.\n",
        "\n",
        "Address the Real Bottlenecks (Not Distance):\n",
        "\n",
        "Action: Since distance isn't the issue, the company should immediately investigate the true causes of delay. This could involve analyzing traffic patterns for different times of day, working with stores to reduce order preparation times, or optimizing the delivery routing algorithm.\n",
        "\n",
        "Justification: This insight prevents the company from wasting resources on solving the wrong problem (e.g., limiting delivery radii). By focusing on the real bottlenecks, the business can make much more effective changes to streamline operations, reduce costs, and improve delivery speed.\n",
        "\n",
        "Insights Revealing Potential Risks (Not Causing Negative Growth):\n",
        "The insights themselves don't cause negative growth; they are data-driven observations. However, they can reveal underlying issues that are already impeding growth or could do so if left unaddressed.\n",
        "\n",
        "The Agent_Rating vs. Delivery_Time Insight: This correlation doesn't cause a negative impact, but it reveals one: low-rated agents are currently creating a negative experience through slower service. If the company fails to act on this by providing training or setting performance standards, it will continue to suffer from inconsistent service quality, leading to customer churn.\n",
        "\n",
        "The Distance_km Insight: A misinterpretation of this insight could lead to negative outcomes. For instance, if management concludes that \"distance never matters\" and assigns agents excessively long routes without considering other factors (like overall effort or traffic), it could lead to agent burnout and a decline in service quality. The insight is that distance isn't the only factor, not that it's completely irrelevant in all contexts."
      ],
      "metadata": {
        "id": "druuKYZpp1ck"
      }
    },
    {
      "cell_type": "markdown",
      "source": [
        "#### **Chart - 12: Pair Plot of Key Numerical Features**"
      ],
      "metadata": {
        "id": "n3dbpmDWp1ck"
      }
    },
    {
      "cell_type": "code",
      "source": [
        "# Chart - 12 visualization code\n",
        "# We select a subset of key features for the pair plot to keep it readable\n",
        "pairplot_cols = ['Delivery_Time', 'Agent_Age', 'Agent_Rating', 'Distance_km']\n",
        "sns.pairplot(df_wrangled[pairplot_cols])\n",
        "plt.suptitle('Pair Plot of Key Numerical Features', y=1.02, fontsize=16)\n",
        "plt.show()"
      ],
      "metadata": {
        "id": "bwevp1tKp1ck"
      },
      "execution_count": null,
      "outputs": []
    },
    {
      "cell_type": "markdown",
      "source": [
        "##### 1. Why did you pick the specific chart?"
      ],
      "metadata": {
        "id": "ylSl6qgtp1ck"
      }
    },
    {
      "cell_type": "markdown",
      "source": [
        "A pair plot is a fantastic multivariate analysis tool that creates a grid of scatter plots for each pair of variables and histograms for the distribution of each variable. It allows for a comprehensive look at both the distributions and the relationships between a small group of key features in a single visualization."
      ],
      "metadata": {
        "id": "m2xqNkiQp1ck"
      }
    },
    {
      "cell_type": "markdown",
      "source": [
        "##### 2. What is/are the insight(s) found from the chart?"
      ],
      "metadata": {
        "id": "ZWILFDl5p1ck"
      }
    },
    {
      "cell_type": "markdown",
      "source": [
        "High Ratings Mean Better Performance: The scatter plot for Delivery_Time vs. Agent_Rating shows a subtle downward trend. The cluster of points for high ratings (4.5 to 5.0) is tighter and concentrated at lower delivery times, while lower ratings have a much wider, less predictable spread. This indicates higher-rated agents are not just faster, but also more consistent.\n",
        "\n",
        "Distance and Time Are Unrelated: The plot of Delivery_Time vs. Distance_km is a random cloud of points with no discernible pattern. This visually confirms that delivery distance is not a primary driver of delivery time.\n",
        "\n",
        "Ratings are Skewed: The histogram for Agent_Rating is heavily skewed, showing that most agents have very high ratings."
      ],
      "metadata": {
        "id": "x-lUsV2mp1ck"
      }
    },
    {
      "cell_type": "markdown",
      "source": [
        "##### 3. Will the gained insights help creating a positive business impact?\n",
        "Are there any insights that lead to negative growth? Justify with specific reason."
      ],
      "metadata": {
        "id": "M7G43BXep1ck"
      }
    },
    {
      "cell_type": "markdown",
      "source": [
        "Positive Impact: Yes. The insights are highly actionable.\n",
        "\n",
        "Justification: Knowing that top-rated agents are faster and more consistent, the business can analyze their methods to create effective training programs for all agents. The lack of a relationship between distance and time directs the company to save resources and instead investigate the true causes of delays (like routing or preparation time), leading to more efficient operations and better customer satisfaction.\n",
        "\n",
        "Negative Growth: The plot itself doesn't cause negative growth; it reveals an existing operational weakness.\n",
        "\n",
        "Justification: The wide spread of delivery times for lower-rated agents represents an inconsistent and unreliable customer experience. Ignoring this visual evidence of poor performance is what poses a risk, as it will lead to customer churn and damage the company's reputation."
      ],
      "metadata": {
        "id": "5wwDJXsLp1cl"
      }
    },
    {
      "cell_type": "markdown",
      "source": [
        "#### **Chart - 13: Delivery Time by Hour of Day**"
      ],
      "metadata": {
        "id": "Ag9LCva-p1cl"
      }
    },
    {
      "cell_type": "code",
      "source": [
        "# Chart - 13 visualization code\n",
        "# Extract hour from the datetime\n",
        "df_wrangled['order_hour'] = df_wrangled['Order_DateTime'].dt.hour\n",
        "\n",
        "# Group by hour and calculate the mean delivery time\n",
        "hourly_delivery_time = df_wrangled.groupby('order_hour')['Delivery_Time'].mean()\n",
        "\n",
        "plt.figure(figsize=(12, 6))\n",
        "hourly_delivery_time.plot(kind='line', marker='.', color='purple')\n",
        "plt.title('Average Delivery Time by Hour of Day', fontsize=16)\n",
        "plt.xlabel('Hour of Day (24-hour format)', fontsize=12)\n",
        "plt.ylabel('Average Delivery Time (minutes)', fontsize=12)\n",
        "plt.grid(True)\n",
        "plt.xticks(np.arange(24))\n",
        "plt.show()"
      ],
      "metadata": {
        "id": "EUfxeq9-p1cl"
      },
      "execution_count": null,
      "outputs": []
    },
    {
      "cell_type": "markdown",
      "source": [
        "##### 1. Why did you pick the specific chart?"
      ],
      "metadata": {
        "id": "E6MkPsBcp1cl"
      }
    },
    {
      "cell_type": "markdown",
      "source": [
        "A line chart is ideal for showing a trend over a continuous interval, which in this case is the 24 hours of a day. It helps to visualize how the average delivery time evolves throughout the day, clearly highlighting peaks and troughs that correspond to real-world events like rush hour."
      ],
      "metadata": {
        "id": "V22bRsFWp1cl"
      }
    },
    {
      "cell_type": "markdown",
      "source": [
        "##### 2. What is/are the insight(s) found from the chart?"
      ],
      "metadata": {
        "id": "2cELzS2fp1cl"
      }
    },
    {
      "cell_type": "markdown",
      "source": [
        "There Are Two \"Rush Hour\" Peaks: Delivery times are not consistent. There is a significant spike during a lunch rush (11:00 - 14:00) and an even more severe spike during the dinner rush (18:00 - 21:00).\n",
        "\n",
        "Peak Delay is at 8 PM: The absolute worst performance occurs at 20:00 (8 PM), where the average delivery time skyrockets to nearly 150 minutes.\n",
        "\n",
        "Off-Peak Hours are Fastest: The most efficient delivery times are during the early morning (before 10:00) and late at night (after 21:00), when times are lowest and most stable."
      ],
      "metadata": {
        "id": "ozQPc2_Ip1cl"
      }
    },
    {
      "cell_type": "markdown",
      "source": [
        "##### 3. Will the gained insights help creating a positive business impact?\n",
        "Are there any insights that lead to negative growth? Justify with specific reason."
      ],
      "metadata": {
        "id": "3MPXvC8up1cl"
      }
    },
    {
      "cell_type": "markdown",
      "source": [
        "Positive Impact: Yes. This chart provides a clear, actionable roadmap for improving service.\n",
        "\n",
        "Justification: The business can implement dynamic staffing, adding more delivery agents during the identified peak hours to meet demand. They can also manage customer expectations by showing longer, more accurate delivery estimates during these times. These actions will directly reduce delays during the busiest periods, leading to a much better customer experience and improved operational efficiency.\n",
        "\n",
        "Negative Growth: This chart highlights a major operational failure that is almost certainly already causing negative impacts.\n",
        "\n",
        "Justification: The extreme delays during peak lunch and dinner times are happening when the business is likely receiving the most orders. Failing to address this will inevitably lead to bad reviews, frustrated customers, and lost business. The insight doesn't cause the problem, but it proves that a significant problem exists during the most critical hours of operation."
      ],
      "metadata": {
        "id": "GL8l1tdLp1cl"
      }
    },
    {
      "cell_type": "markdown",
      "source": [
        "#### **Chart - 14 - Average Delivery Time by Product Category**\n",
        "\n",
        "\n",
        "\n"
      ],
      "metadata": {
        "id": "NC_X3p0fY2L0"
      }
    },
    {
      "cell_type": "code",
      "source": [
        "# Chart 14 -visualization code\n",
        "plt.figure(figsize=(12, 8))\n",
        "# Order by the mean delivery time for better visualization\n",
        "category_order = df_wrangled.groupby('Category')['Delivery_Time'].mean().sort_values(ascending=False).index\n",
        "sns.barplot(y='Category', x='Delivery_Time', data=df_wrangled, order=category_order, palette='crest')\n",
        "plt.title('Average Delivery Time by Product Category', fontsize=16)\n",
        "plt.xlabel('Average Delivery Time (minutes)', fontsize=12)\n",
        "plt.ylabel('Product Category', fontsize=12)\n",
        "plt.show()"
      ],
      "metadata": {
        "id": "xyC9zolEZNRQ"
      },
      "execution_count": null,
      "outputs": []
    },
    {
      "cell_type": "markdown",
      "source": [
        "##### 1. Why did you pick the specific chart?"
      ],
      "metadata": {
        "id": "UV0SzAkaZNRQ"
      }
    },
    {
      "cell_type": "markdown",
      "source": [
        "A horizontal bar chart is excellent for comparing a numerical value across many different categories. It's cleaner and more readable than a vertical bar chart when the category labels are long. Sorting the bars makes it easy to instantly identify which categories take the longest and shortest times to deliver."
      ],
      "metadata": {
        "id": "DVPuT8LYZNRQ"
      }
    },
    {
      "cell_type": "markdown",
      "source": [
        "##### 2. What is/are the insight(s) found from the chart?"
      ],
      "metadata": {
        "id": "YPEH6qLeZNRQ"
      }
    },
    {
      "cell_type": "markdown",
      "source": [
        "Groceries are Exceptionally Fast: The Grocery category is a clear outlier, with an average delivery time of under 30 minutes. This is significantly faster than any other category.\n",
        "\n",
        "Most Other Products are Slow and Similar: All other categories, from Toys and Clothing to Cosmetics, have remarkably similar and much longer average delivery times, clustered between 125 and 135 minutes.\n",
        "\n",
        "Two-Tier Service Model: The chart strongly suggests the existence of two different logistics systems: a rapid, \"quick commerce\" model for groceries and a standard, much slower model for all general merchandise.\n",
        "\n"
      ],
      "metadata": {
        "id": "bfSqtnDqZNRR"
      }
    },
    {
      "cell_type": "markdown",
      "source": [
        "##### 3. Will the gained insights help creating a positive business impact?\n",
        "Are there any insights that lead to negative growth? Justify with specific reason."
      ],
      "metadata": {
        "id": "nGbMEDlE1rl2"
      }
    },
    {
      "cell_type": "markdown",
      "source": [
        "Positive Impact: Yes. This insight provides a clear path to improving service across the board.\n",
        "\n",
        "Justification: The business can analyze the highly efficient grocery delivery model (e.g., dedicated hubs, optimized routing) and apply its successful elements to other product categories to reduce their delivery times. This \"best practice\" transfer could significantly boost overall customer satisfaction and create a competitive advantage.\n",
        "\n",
        "Negative Growth: The chart highlights a major inconsistency in the customer experience that could be detrimental.\n",
        "\n",
        "Justification: Customers who experience the lightning-fast grocery service may become frustrated by the much slower delivery for all other products. This discrepancy in service levels can lead to poor reviews and customer churn. Ignoring this inconsistency and failing to manage expectations could damage the brand's reputation for reliability and speed."
      ],
      "metadata": {
        "id": "1wlzgqqV1sj-"
      }
    },
    {
      "cell_type": "markdown",
      "source": [
        "#### **Chart - 15: Delivery Time vs. Distance**\n"
      ],
      "metadata": {
        "id": "q29F0dvdveiT"
      }
    },
    {
      "cell_type": "code",
      "source": [
        "# Pair Plot visualization code\n",
        "plt.figure(figsize=(12, 7))\n",
        "sns.regplot(x='Distance_km', y='Delivery_Time', data=df_wrangled,\n",
        "            scatter_kws={'alpha':0.2}, line_kws={'color':'red'})\n",
        "plt.title('Delivery Time vs. Distance', fontsize=16)\n",
        "plt.xlabel('Distance (km)', fontsize=12)\n",
        "plt.ylabel('Delivery Time (minutes)', fontsize=12)\n",
        "plt.show()"
      ],
      "metadata": {
        "id": "o58-TEIhveiU"
      },
      "execution_count": null,
      "outputs": []
    },
    {
      "cell_type": "markdown",
      "source": [
        "##### 1. Why did you pick the specific chart?"
      ],
      "metadata": {
        "id": "EXh0U9oCveiU"
      }
    },
    {
      "cell_type": "markdown",
      "source": [
        "\n",
        "A scatter plot with a regression line was chosen because it's the definitive method for visualizing the relationship and trend between two numerical variables. The scatter plot shows the raw data, while the red regression line mathematically models the linear trend, making it immediately clear whether one variable can predict the other."
      ],
      "metadata": {
        "id": "eMmPjTByveiU"
      }
    },
    {
      "cell_type": "markdown",
      "source": [
        "##### 2. What is/are the insight(s) found from the chart?"
      ],
      "metadata": {
        "id": "22aHeOlLveiV"
      }
    },
    {
      "cell_type": "markdown",
      "source": [
        "No Correlation Between Distance and Time: The most critical insight is that the red regression line is almost perfectly flat. A horizontal line indicates a slope of zero, which proves there is no linear relationship between Distance and Delivery Time.\n",
        "\n",
        "High Unpredictability: For any given distance, the delivery times are widely scattered, ranging from very fast to very slow. This high variance shows that the delivery process is unpredictable and that factors other than distance are the real drivers of delivery time.\n",
        "\n",
        "Data Anomaly at Zero Distance: There is a dense vertical line of deliveries logged with a distance of zero. This is a significant data anomaly that could represent data errors, pickup orders, or deliveries within the same complex, and it requires further investigation."
      ],
      "metadata": {
        "id": "uPQ8RGwHveiV"
      }
    },
    {
      "cell_type": "markdown",
      "source": [
        "##### 3. Will the gained insights help creating a positive business impact?\n",
        "Are there any insights that lead to negative growth? Justify with specific reason."
      ],
      "metadata": {
        "id": "xNs_ELOX11y3"
      }
    },
    {
      "cell_type": "markdown",
      "source": [
        "Positive Impact: Yes. This chart provides undeniable evidence to guide business strategy.\n",
        "\n",
        "Justification: The business can now confidently stop wasting resources on trying to solve for distance. Instead, it can pivot its focus to investigate the true causes of delay (e.g., agent performance, restaurant prep time, traffic). Fixing the data anomaly at \"zero distance\" will also improve the quality of future analysis and lead to better decision-making.\n",
        "\n",
        "Negative Growth: The chart visually represents an unreliable and inconsistent service, which is a major business risk.\n",
        "\n",
        "Justification: The wide, random scatter of data points means customers receive an unpredictable experience—a delivery could be fast or slow regardless of distance. Failing to understand and control the factors causing this variance will lead to customer frustration, negative reviews, and a loss of trust in the brand, directly harming growth."
      ],
      "metadata": {
        "id": "-YLHVBQ412hr"
      }
    },
    {
      "cell_type": "markdown",
      "source": [
        "## ***5. Hypothesis Testing***"
      ],
      "metadata": {
        "id": "g-ATYxFrGrvw"
      }
    },
    {
      "cell_type": "markdown",
      "source": [
        "### Based on your chart experiments, define three hypothetical statements from the dataset. In the next three questions, perform hypothesis testing to obtain final conclusion about the statements through your code and statistical testing."
      ],
      "metadata": {
        "id": "Yfr_Vlr8HBkt"
      }
    },
    {
      "cell_type": "markdown",
      "source": [
        "Here are three clear, testable hypotheses based on our charts:\n",
        "\n",
        "Statement 1: The average delivery time is significantly longer when the traffic condition is \"Jam\" compared to when it is \"Low\". (Based on insights from charts related to traffic).\n",
        "\n",
        "Statement 2: The average delivery time for deliveries made via \"motorcycle\" is different from those made via \"scooter\". (Based on vehicle data).\n",
        "\n",
        "Statement 3: The average agent rating for deliveries in \"Metropolitan\" areas is the same as in \"Urban\" areas. (To check if agent performance differs by area)."
      ],
      "metadata": {
        "id": "-7MS06SUHkB-"
      }
    },
    {
      "cell_type": "markdown",
      "source": [
        "### **Hypothetical Statement - 1 : Traffic jams lead to longer delivery times**.\n",
        "\n",
        "\n",
        "\n"
      ],
      "metadata": {
        "id": "8yEUt7NnHlrM"
      }
    },
    {
      "cell_type": "markdown",
      "source": [
        "#### 1. State Your research hypothesis as a null hypothesis and alternate hypothesis."
      ],
      "metadata": {
        "id": "tEA2Xm5dHt1r"
      }
    },
    {
      "cell_type": "markdown",
      "source": [
        "Null Hypothesis (H\n",
        "0\n",
        "​\n",
        " ): The mean delivery time for orders in \"Jam\" traffic is equal to or less than the mean delivery time for orders in \"Low\" traffic.\n",
        "\n",
        "H\n",
        "0\n",
        "​\n",
        " :μ\n",
        "Jam\n",
        "​\n",
        " ≤μ\n",
        "Low\n",
        "​\n",
        "\n",
        "\n",
        "Alternate Hypothesis (H\n",
        "1\n",
        "​\n",
        " ): The mean delivery time for orders in \"Jam\" traffic is greater than the mean delivery time for orders in \"Low\" traffic.\n",
        "\n",
        "H\n",
        "1\n",
        "​\n",
        " :μ Jam > μ Low\n",
        "\n",
        "\n",
        "We will use a significance level (alpha) of α=0.05. If our p-value is less than 0.05, we will reject the null hypothesis."
      ],
      "metadata": {
        "id": "HI9ZP0laH0D-"
      }
    },
    {
      "cell_type": "markdown",
      "source": [
        "#### 2. Perform an appropriate statistical test."
      ],
      "metadata": {
        "id": "I79__PHVH19G"
      }
    },
    {
      "cell_type": "code",
      "source": [
        "\n",
        "# Perform Statistical Test to obtain P-Value\n",
        "from scipy.stats import ttest_ind\n",
        "\n",
        "# Create two samples of delivery times based on traffic conditions\n",
        "jam_times = df_wrangled[df_wrangled['Traffic'] == 'Jam']['Delivery_Time']\n",
        "low_times = df_wrangled[df_wrangled['Traffic'] == 'Low']['Delivery_Time']\n",
        "\n",
        "# Perform an independent t-test\n",
        "# We use alternative='greater' because our H1 is that jam_times > low_times\n",
        "t_stat, p_value = ttest_ind(jam_times, low_times, equal_var=False, alternative='greater')\n",
        "\n",
        "print(f\"T-statistic: {t_stat:.4f}\")\n",
        "print(f\"P-value: {p_value}\")\n",
        "\n",
        "# Interpret the result\n",
        "alpha = 0.05\n",
        "if p_value < alpha:\n",
        "    print(\"\\nResult: We reject the null hypothesis.\")\n",
        "    print(\"Conclusion: There is a statistically significant evidence that delivery times are longer in a 'Jam' compared to 'Low' traffic.\")\n",
        "else:\n",
        "    print(\"\\nResult: We fail to reject the null hypothesis.\")\n",
        "    print(\"Conclusion: There is not enough evidence to say delivery times are significantly longer in a 'Jam'.\")"
      ],
      "metadata": {
        "id": "oZrfquKtyian"
      },
      "execution_count": null,
      "outputs": []
    },
    {
      "cell_type": "markdown",
      "source": [
        "##### Which statistical test have you done to obtain P-Value?"
      ],
      "metadata": {
        "id": "Ou-I18pAyIpj"
      }
    },
    {
      "cell_type": "markdown",
      "source": [
        " I have used the Independent Samples t-test (specifically, Welch's t-test, by setting equal_var=False, which doesn't assume equal variances between the two groups)."
      ],
      "metadata": {
        "id": "s2U0kk00ygSB"
      }
    },
    {
      "cell_type": "markdown",
      "source": [
        "##### Why did you choose the specific statistical test?"
      ],
      "metadata": {
        "id": "fF3858GYyt-u"
      }
    },
    {
      "cell_type": "markdown",
      "source": [
        "This test was chosen for the following reasons:\n",
        "\n",
        "Comparing Means: We are comparing the mean (average) delivery time of two distinct, independent groups.\n",
        "\n",
        "Two Independent Groups: The deliveries that occurred in \"Jam\" traffic are a completely separate group from the deliveries that occurred in \"Low\" traffic.\n",
        "\n",
        "Numerical Target: Our variable of interest, Delivery_Time, is continuous (numerical).\n",
        "\n",
        "The t-test is the standard statistical method for determining if there is a significant difference between the means of two independent groups."
      ],
      "metadata": {
        "id": "HO4K0gP5y3B4"
      }
    },
    {
      "cell_type": "markdown",
      "source": [
        "### **Hypothetical Statement - 2:vehicle type (motorcycle vs. scooter) affects delivery time**\n",
        "\n",
        "---\n",
        "\n"
      ],
      "metadata": {
        "id": "4_0_7-oCpUZd"
      }
    },
    {
      "cell_type": "markdown",
      "source": [
        "#### 1. State Your research hypothesis as a null hypothesis and alternate hypothesis."
      ],
      "metadata": {
        "id": "hwyV_J3ipUZe"
      }
    },
    {
      "cell_type": "markdown",
      "source": [
        "Null Hypothesis (H\n",
        "0\n",
        "​\n",
        " ): The mean delivery time for \"motorcycle\" deliveries is the same as the mean delivery time for \"scooter\" deliveries.\n",
        "\n",
        "H\n",
        "0\n",
        "​\n",
        " :μ\n",
        "motorcycle\n",
        "​\n",
        " =μ\n",
        "scooter\n",
        "​\n",
        "\n",
        "\n",
        "Alternate Hypothesis (H\n",
        "1\n",
        "​\n",
        " ): The mean delivery time for \"motorcycle\" deliveries is different from the mean delivery time for \"scooter\" deliveries.\n",
        "\n",
        "H\n",
        "1:μ\n",
        "motorcycle\n",
        "not equal to μ\n",
        "scooter\n"
      ],
      "metadata": {
        "id": "FnpLGJ-4pUZe"
      }
    },
    {
      "cell_type": "markdown",
      "source": [
        "#### 2. Perform an appropriate statistical test."
      ],
      "metadata": {
        "id": "3yB-zSqbpUZe"
      }
    },
    {
      "cell_type": "code",
      "source": [
        "\n",
        "# Perform Statistical Test to obtain P-Value\n",
        "\n",
        "# Create two samples\n",
        "motorcycle_times = df_wrangled[df_wrangled['Vehicle'] == 'motorcycle']['Delivery_Time']\n",
        "scooter_times = df_wrangled[df_wrangled['Vehicle'] == 'scooter']['Delivery_Time']\n",
        "\n",
        "# Perform an independent t-test (two-sided)\n",
        "t_stat, p_value = ttest_ind(motorcycle_times, scooter_times, equal_var=False)\n",
        "\n",
        "print(f\"T-statistic: {t_stat:.4f}\")\n",
        "print(f\"P-value: {p_value}\")\n",
        "\n",
        "# Interpret the result\n",
        "alpha = 0.05\n",
        "if p_value < alpha:\n",
        "    print(\"\\nResult: We reject the null hypothesis.\")\n",
        "    print(\"Conclusion: There is a statistically significant difference in delivery times between motorcycles and scooters.\")\n",
        "else:\n",
        "    print(\"\\nResult: We fail to reject the null hypothesis.\")\n",
        "    print(\"Conclusion: There is no significant difference in delivery times between motorcycles and scooters.\")"
      ],
      "metadata": {
        "id": "sWxdNTXNpUZe"
      },
      "execution_count": null,
      "outputs": []
    },
    {
      "cell_type": "markdown",
      "source": [
        "##### Which statistical test have you done to obtain P-Value?"
      ],
      "metadata": {
        "id": "dEUvejAfpUZe"
      }
    },
    {
      "cell_type": "markdown",
      "source": [
        "I have used the Independent Samples t-test (specifically, Welch's t-test, by setting equal_var=False)."
      ],
      "metadata": {
        "id": "oLDrPz7HpUZf"
      }
    },
    {
      "cell_type": "markdown",
      "source": [
        "##### Why did you choose the specific statistical test?"
      ],
      "metadata": {
        "id": "Fd15vwWVpUZf"
      }
    },
    {
      "cell_type": "markdown",
      "source": [
        "This test was chosen for the following reasons:\n",
        "\n",
        "Comparing Means: We are comparing the mean (average) Delivery_Time of two distinct groups.\n",
        "\n",
        "Two Independent Groups: The deliveries made by \"motorcycle\" are a completely separate group from those made by \"scooter\".\n",
        "\n",
        "Numerical Target: Our variable of interest, Delivery_Time, is continuous (numerical).\n",
        "\n",
        "The t-test is the standard statistical method for determining if there is a significant difference between the means of two independent groups."
      ],
      "metadata": {
        "id": "4xOGYyiBpUZf"
      }
    },
    {
      "cell_type": "markdown",
      "source": [
        "### **Hypothetical Statement - 3:Agent performance is consistent across different area types.**"
      ],
      "metadata": {
        "id": "bn_IUdTipZyH"
      }
    },
    {
      "cell_type": "code",
      "source": [],
      "metadata": {
        "id": "2cwDmBU-KMY_"
      },
      "execution_count": null,
      "outputs": []
    },
    {
      "cell_type": "markdown",
      "source": [
        "#### 1. State Your research hypothesis as a null hypothesis and alternate hypothesis."
      ],
      "metadata": {
        "id": "49K5P_iCpZyH"
      }
    },
    {
      "cell_type": "markdown",
      "source": [
        "Null Hypothesis (H\n",
        "0\n",
        "​\n",
        " ): The mean agent rating in \"Metropolitan\" areas is the same as the mean agent rating in \"Urban\" areas.\n",
        "\n",
        "H\n",
        "0\n",
        "​\n",
        " :μ\n",
        "Metropolitan\n",
        "​\n",
        " =μ\n",
        "Urban\n",
        "​\n",
        "\n",
        "\n",
        "Alternate Hypothesis (H\n",
        "1\n",
        "​\n",
        " ): The mean agent rating in \"Metropolitan\" areas is different from the mean agent rating in \"Urban\" areas.\n",
        "\n",
        "H\n",
        "1\n",
        "​\n",
        " :μ\n",
        "Metropolitan\n",
        "​ is not eqaual to μ\n",
        "Urban\n",
        "​\n"
      ],
      "metadata": {
        "id": "7gWI5rT9pZyH"
      }
    },
    {
      "cell_type": "markdown",
      "source": [
        "#### 2. Perform an appropriate statistical test."
      ],
      "metadata": {
        "id": "Nff-vKELpZyI"
      }
    },
    {
      "cell_type": "code",
      "source": [
        "\n",
        "# Perform Statistical Test to obtain P-Value\n",
        "\n",
        "# Create two samples\n",
        "metro_ratings = df_wrangled[df_wrangled['Area'] == 'Metropolitian']['Agent_Rating']\n",
        "urban_ratings = df_wrangled[df_wrangled['Area'] == 'Urban']['Agent_Rating']\n",
        "\n",
        "# Perform an independent t-test (two-sided)\n",
        "t_stat, p_value = ttest_ind(metro_ratings, urban_ratings, equal_var=False)\n",
        "\n",
        "print(f\"T-statistic: {t_stat:.4f}\")\n",
        "print(f\"P-value: {p_value}\")\n",
        "\n",
        "# Interpret the result\n",
        "alpha = 0.05\n",
        "if p_value < alpha:\n",
        "    print(\"\\nResult: We reject the null hypothesis.\")\n",
        "    print(\"Conclusion: There is a statistically significant difference in agent ratings between Metropolitan and Urban areas.\")\n",
        "else:\n",
        "    print(\"\\nResult: We fail to reject the null hypothesis.\")\n",
        "    print(\"Conclusion: There is no significant difference in agent ratings between Metropolitan and Urban areas.\")"
      ],
      "metadata": {
        "id": "s6AnJQjtpZyI"
      },
      "execution_count": null,
      "outputs": []
    },
    {
      "cell_type": "markdown",
      "source": [
        "##### Which statistical test have you done to obtain P-Value?"
      ],
      "metadata": {
        "id": "kLW572S8pZyI"
      }
    },
    {
      "cell_type": "markdown",
      "source": [
        "I have used the Independent Samples t-test (specifically, Welch's t-test, by setting equal_var=False)."
      ],
      "metadata": {
        "id": "ytWJ8v15pZyI"
      }
    },
    {
      "cell_type": "markdown",
      "source": [
        "##### Why did you choose the specific statistical test?"
      ],
      "metadata": {
        "id": "dWbDXHzopZyI"
      }
    },
    {
      "cell_type": "markdown",
      "source": [
        "This test was chosen for the same reasons as the previous tests:\n",
        "\n",
        "Comparing Means: We are comparing the mean (average) Agent_Rating of two distinct groups.\n",
        "\n",
        "Two Independent Groups: The agents operating in \"Metropolitan\" areas are a separate group from those in \"Urban\" areas.\n",
        "\n",
        "Numerical Target: Our variable of interest, Agent_Rating, is continuous (numerical).\n",
        "\n",
        "The t-test is the correct statistical method for comparing the means of these two independent populations."
      ],
      "metadata": {
        "id": "M99G98V6pZyI"
      }
    },
    {
      "cell_type": "markdown",
      "source": [
        "## ***6. Feature Engineering & Data Pre-processing***"
      ],
      "metadata": {
        "id": "yLjJCtPM0KBk"
      }
    },
    {
      "cell_type": "markdown",
      "source": [
        "### 1. Handling Missing Values"
      ],
      "metadata": {
        "id": "xiyOF9F70UgQ"
      }
    },
    {
      "cell_type": "markdown",
      "source": [
        "We have already completed this step in the Data Wrangling section. To summarize:\n",
        "\n",
        "Agent_Rating: Missing values were imputed with the mean, as it's a standard approach for numerical data that preserves the overall data distribution.\n",
        "\n",
        "Weather: Missing values were imputed with the mode (most frequent category), which is the standard technique for categorical data.\n",
        "\n",
        "We also handled corrupted time data by removing the affected rows."
      ],
      "metadata": {
        "id": "UuwAqUt-Ow6t"
      }
    },
    {
      "cell_type": "code",
      "source": [
        "# Handling Missing Values & Missing Value Imputation"
      ],
      "metadata": {
        "id": "iRsAHk1K0fpS"
      },
      "execution_count": null,
      "outputs": []
    },
    {
      "cell_type": "markdown",
      "source": [
        "#### What all missing value imputation techniques have you used and why did you use those techniques?"
      ],
      "metadata": {
        "id": "7wuGOrhz0itI"
      }
    },
    {
      "cell_type": "markdown",
      "source": [
        "Answer Here."
      ],
      "metadata": {
        "id": "1ixusLtI0pqI"
      }
    },
    {
      "cell_type": "markdown",
      "source": [
        "### 2. Handling Outliers"
      ],
      "metadata": {
        "id": "id1riN9m0vUs"
      }
    },
    {
      "cell_type": "code",
      "source": [
        "# Handling Outliers & Outlier treatments\n",
        "# Visualize outliers using box plots\n",
        "numerical_cols = ['Agent_Age', 'Agent_Rating', 'Delivery_Time', 'Distance_km']\n",
        "plt.figure(figsize=(15, 8))\n",
        "for i, col in enumerate(numerical_cols):\n",
        "    plt.subplot(2, 2, i + 1)\n",
        "    sns.boxplot(y=df_wrangled[col])\n",
        "    plt.title(f'Box Plot of {col}')\n",
        "plt.tight_layout()\n",
        "plt.show()"
      ],
      "metadata": {
        "id": "M6w2CzZf04JK"
      },
      "execution_count": null,
      "outputs": []
    },
    {
      "cell_type": "markdown",
      "source": [
        "The box plots for Agent_Rating, Delivery_Time, and Distance_km show some points outside the whiskers, which are potential outliers. We can handle these using the IQR (Interquartile Range) method to cap them."
      ],
      "metadata": {
        "id": "4VFFLNxCPOlx"
      }
    },
    {
      "cell_type": "code",
      "source": [
        "# Capping outliers using the IQR method\n",
        "for col in ['Agent_Rating', 'Delivery_Time', 'Distance_km']:\n",
        "    Q1 = df_wrangled[col].quantile(0.25)\n",
        "    Q3 = df_wrangled[col].quantile(0.75)\n",
        "    IQR = Q3 - Q1\n",
        "    lower_bound = Q1 - 1.5 * IQR\n",
        "    upper_bound = Q3 + 1.5 * IQR\n",
        "\n",
        "    # Cap the outliers\n",
        "    df_wrangled[col] = np.where(\n",
        "        df_wrangled[col] > upper_bound,\n",
        "        upper_bound,\n",
        "        np.where(\n",
        "            df_wrangled[col] < lower_bound,\n",
        "            lower_bound,\n",
        "            df_wrangled[col]\n",
        "        )\n",
        "    )\n",
        "\n",
        "print(\"Outliers have been capped using the IQR method.\")"
      ],
      "metadata": {
        "id": "cBiVDcrOPTG3"
      },
      "execution_count": null,
      "outputs": []
    },
    {
      "cell_type": "markdown",
      "source": [
        "##### What all outlier treatment techniques have you used and why did you use those techniques?"
      ],
      "metadata": {
        "id": "578E2V7j08f6"
      }
    },
    {
      "cell_type": "markdown",
      "source": [
        "I used the Interquartile Range (IQR) Capping technique. Instead of removing the outliers, which can lead to data loss, I've capped them at a reasonable maximum and minimum value (defined as 1.5 times the IQR above the third quartile or below the first quartile). This method is effective because it contains the influence of extreme values without discarding the entire data row, which might contain other useful information."
      ],
      "metadata": {
        "id": "uGZz5OrT1HH-"
      }
    },
    {
      "cell_type": "markdown",
      "source": [
        "### 3. Categorical Encoding"
      ],
      "metadata": {
        "id": "89xtkJwZ18nB"
      }
    },
    {
      "cell_type": "markdown",
      "source": [
        "Our machine learning models need all input to be numerical. We will use one-hot encoding to convert our categorical columns into a numerical format."
      ],
      "metadata": {
        "id": "6cLDs4EsQOGq"
      }
    },
    {
      "cell_type": "code",
      "source": [
        "\n",
        "# Encode your categorical columns\n",
        "categorical_cols = ['Weather', 'Traffic', 'Vehicle', 'Area', 'Category']\n",
        "df_processed = pd.get_dummies(df_wrangled, columns=categorical_cols, drop_first=True)\n",
        "\n",
        "print(\"Categorical columns have been one-hot encoded.\")\n",
        "df_processed.head()"
      ],
      "metadata": {
        "id": "21JmIYMG2hEo"
      },
      "execution_count": null,
      "outputs": []
    },
    {
      "cell_type": "markdown",
      "source": [
        "#### What all categorical encoding techniques have you used & why did you use those techniques?"
      ],
      "metadata": {
        "id": "67NQN5KX2AMe"
      }
    },
    {
      "cell_type": "markdown",
      "source": [
        "I have used One-Hot Encoding (pd.get_dummies). This technique is ideal when you have categorical features with no intrinsic order (like Weather or Vehicle). It creates new binary (0 or 1) columns for each category, preventing the model from assuming any false ordinal relationship between them. The drop_first=True argument is used to drop one category from each feature to avoid multicollinearity."
      ],
      "metadata": {
        "id": "UDaue5h32n_G"
      }
    },
    {
      "cell_type": "markdown",
      "source": [
        "### 4. Feature Manipulation & Selection"
      ],
      "metadata": {
        "id": "-oLEiFgy-5Pf"
      }
    },
    {
      "cell_type": "markdown",
      "source": [
        "#### 1. Feature Manipulation"
      ],
      "metadata": {
        "id": "C74aWNz2AliB"
      }
    },
    {
      "cell_type": "markdown",
      "source": [],
      "metadata": {
        "id": "gnAPMZR6WWfV"
      }
    },
    {
      "cell_type": "markdown",
      "source": [
        "We'll create a few more features from our existing data to help the model learn better."
      ],
      "metadata": {
        "id": "ourjDiv1Q4w6"
      }
    },
    {
      "cell_type": "code",
      "source": [
        "# Manipulate Features to minimize feature correlation and create new features\n",
        "# Manipulate Features to minimize feature correlation and create new features\n",
        "\n",
        "# 1. Calculate the time taken from order to pickup in minutes\n",
        "df_processed['pickup_time_minutes'] = (df_processed['Pickup_DateTime'] - df_processed['Order_DateTime']).dt.total_seconds() / 60\n",
        "\n",
        "# 2. Extract time-based features from the order time\n",
        "df_processed['order_day_of_week'] = df_processed['Order_DateTime'].dt.dayofweek # Monday=0, Sunday=6\n",
        "df_processed['order_hour'] = df_processed['Order_DateTime'].dt.hour\n",
        "\n",
        "# We also still have the text-based day_of_week from Chart 9. Let's create it to ensure we drop it.\n",
        "if 'Order_DateTime' in df_processed.columns:\n",
        "    df_processed['day_of_week'] = df_processed['Order_DateTime'].dt.day_name()\n",
        "\n",
        "print(\"New features 'pickup_time_minutes', 'order_day_of_week', and 'order_hour' created.\")"
      ],
      "metadata": {
        "id": "h1qC4yhBApWC"
      },
      "execution_count": null,
      "outputs": []
    },
    {
      "cell_type": "markdown",
      "source": [
        "#### 2. Feature Selection"
      ],
      "metadata": {
        "id": "2DejudWSA-a0"
      }
    },
    {
      "cell_type": "markdown",
      "source": [
        "Now, we will select the final set of features for our model. We need to drop the original columns that are now redundant (like IDs, date/time objects, and location coordinates)."
      ],
      "metadata": {
        "id": "DyvXxclIRGgu"
      }
    },
    {
      "cell_type": "code",
      "source": [
        "# Manipulate Features to minimize feature correlation and create new features\n",
        "\n",
        "# --- Feature Selection ---\n",
        "\n",
        "# Define the target variable\n",
        "target = 'Delivery_Time'\n",
        "\n",
        "# Drop unnecessary columns, including the text-based 'day_of_week' column\n",
        "columns_to_drop = [\n",
        "    'Order_ID', 'Order_Date', 'Order_Time', 'Pickup_Time',\n",
        "    'Store_Latitude', 'Store_Longitude', 'Drop_Latitude', 'Drop_Longitude',\n",
        "    'Order_DateTime', 'Pickup_DateTime',\n",
        "    'day_of_week' # <-- The column causing the error\n",
        "]\n",
        "\n",
        "# We use .copy() to avoid SettingWithCopyWarning\n",
        "df_final = df_processed.drop(columns=columns_to_drop).copy()\n",
        "\n",
        "# Ensure the target variable is not in our feature set\n",
        "X = df_final.drop(columns=[target])\n",
        "y = df_final[target]\n",
        "\n",
        "print(\"\\nFinal features selected for modeling:\")\n",
        "print(X.columns)"
      ],
      "metadata": {
        "id": "2G7Uu0ofWX8L"
      },
      "execution_count": null,
      "outputs": []
    },
    {
      "cell_type": "markdown",
      "source": [
        "##### What all feature selection methods have you used  and why?"
      ],
      "metadata": {
        "id": "pEMng2IbBLp7"
      }
    },
    {
      "cell_type": "markdown",
      "source": [
        "I used a combination of logical filtering based on domain knowledge and insights gained from Exploratory Data Analysis (EDA). This two-pronged approach ensures the final feature set is both relevant and efficient.\n",
        "\n",
        "Logical Filtering & Removal of Redundant Information:\n",
        "\n",
        "Why: Several columns were removed because they were not useful for a predictive model or became redundant after feature engineering.\n",
        "\n",
        "Examples:\n",
        "\n",
        "Order_ID was dropped as it's a unique identifier with no predictive power.\n",
        "\n",
        "The original date/time columns (Order_Date, Order_Time, Pickup_Time) and location coordinates (Store_Latitude, Drop_Latitude, etc.) were dropped because their information was captured in more powerful, engineered features like pickup_time_minutes, order_hour, and Distance_km. Keeping both would introduce redundant information.\n",
        "\n",
        "EDA-Driven Selection:\n",
        "\n",
        "Why: Our Exploratory Data Analysis, especially the visualizations, helped validate which features had a meaningful relationship with the Delivery_Time.\n",
        "\n",
        "Examples: The correlation heatmap (Chart - 11) and regression plot (Chart - 15) confirmed that Distance_km is a critical feature to include. Similarly, charts showing the significant impact of Traffic and Weather on delivery times justified their inclusion in the final model (after being one-hot encoded).\n",
        "\n",
        "This combined approach ensures that the final feature set is relevant, non-redundant, and directly informed by the data, which helps to avoid overfitting and build a more robust and accurate model."
      ],
      "metadata": {
        "id": "rb2Lh6Z8BgGs"
      }
    },
    {
      "cell_type": "markdown",
      "source": [
        "##### Which all features you found important and why?"
      ],
      "metadata": {
        "id": "rAdphbQ9Bhjc"
      }
    },
    {
      "cell_type": "markdown",
      "source": [
        "Based on our EDA and the correlation heatmap, the most important features are:\n",
        "\n",
        "Distance_km: This has the strongest linear relationship with Delivery_Time and is logically the most critical factor.\n",
        "\n",
        "Agent_Rating and Agent_Age: These show a relationship with delivery time and represent the agent's performance and experience.\n",
        "\n",
        "Time-based features (order_hour, order_day_of_week): These capture daily and weekly patterns, like rush hours, which our charts showed have a clear impact.\n",
        "\n",
        "Categorical features (encoded): Traffic and Weather are essential as our EDA and hypothesis tests proved they significantly affect delivery times."
      ],
      "metadata": {
        "id": "fGgaEstsBnaf"
      }
    },
    {
      "cell_type": "markdown",
      "source": [
        "### 5. Data Transformation"
      ],
      "metadata": {
        "id": "TNVZ9zx19K6k"
      }
    },
    {
      "cell_type": "markdown",
      "source": [
        "#### Do you think that your data needs to be transformed? If yes, which transformation have you used. Explain Why?"
      ],
      "metadata": {
        "id": "nqoHp30x9hH9"
      }
    },
    {
      "cell_type": "markdown",
      "source": [
        "Yes, the data needs to be scaled. I will use the StandardScaler. This technique transforms each numerical feature to have a mean of 0 and a standard deviation of 1. This is important because features with larger scales (like Distance_km) can disproportionately influence the model's learning process compared to features with smaller scales (like Agent_Rating). StandardScaler prevents this bias."
      ],
      "metadata": {
        "id": "18gHOzXfS-Os"
      }
    },
    {
      "cell_type": "markdown",
      "source": [
        "### 6. Data Scaling"
      ],
      "metadata": {
        "id": "rMDnDkt2B6du"
      }
    },
    {
      "cell_type": "code",
      "source": [
        "# Scaling your data\n",
        "# Scaling your data\n",
        "from sklearn.preprocessing import StandardScaler\n",
        "\n",
        "# We scale only the numerical features\n",
        "# The one-hot encoded features are already on a similar scale (0 or 1)\n",
        "numerical_features = X.select_dtypes(include=np.number).columns\n",
        "\n",
        "scaler = StandardScaler()\n",
        "X[numerical_features] = scaler.fit_transform(X[numerical_features])\n",
        "\n",
        "print(\"Numerical features have been scaled.\")\n",
        "X.head()"
      ],
      "metadata": {
        "id": "dL9LWpySC6x_"
      },
      "execution_count": null,
      "outputs": []
    },
    {
      "cell_type": "markdown",
      "source": [
        "##### Which method have you used to scale you data and why?"
      ],
      "metadata": {
        "id": "yiiVWRdJDDil"
      }
    },
    {
      "cell_type": "markdown",
      "source": [
        "I have used the StandardScaler. This method transforms each numerical feature to have a mean of 0 and a standard deviation of 1.\n",
        "\n",
        "I chose this method because:\n",
        "\n",
        "It centers the data, which is beneficial for many algorithms.\n",
        "\n",
        "It handles features with different units and scales effectively, ensuring that all features contribute more equally to the model's training process. This is crucial for our baseline Linear Regression model."
      ],
      "metadata": {
        "id": "QpjwD-1hTc7O"
      }
    },
    {
      "cell_type": "markdown",
      "source": [
        "### 7. Dimesionality Reduction"
      ],
      "metadata": {
        "id": "1UUpS68QDMuG"
      }
    },
    {
      "cell_type": "markdown",
      "source": [
        "##### Do you think that dimensionality reduction is needed? Explain Why?"
      ],
      "metadata": {
        "id": "kexQrXU-DjzY"
      }
    },
    {
      "cell_type": "markdown",
      "source": [
        "No, dimensionality reduction is not necessary for this project for the following reasons:\n",
        "\n",
        "Manageable Number of Features: After one-hot encoding, we have approximately 35-40 features. This is a perfectly manageable number for modern machine learning algorithms like Random Forest and Gradient Boosting. We are not suffering from the \"curse of dimensionality,\" where the number of features is so large that it makes the model training slow and inefficient.\n",
        "\n",
        "Feature Interpretability: Our current features are highly interpretable (e.g., Distance_km, Agent_Rating, Traffic_Jam). Techniques like Principal Component Analysis (PCA) would combine these into abstract \"principal components,\" and we would lose the ability to understand and explain which real-world factors are driving the predictions. Since a key goal of this project is to gain business insights, preserving interpretability is crucial.\n",
        "\n",
        "Performance: For tree-based models, which we plan to use, dimensionality reduction is often unnecessary and can sometimes even slightly decrease performance. These models are inherently good at selecting the most important features during the training process."
      ],
      "metadata": {
        "id": "GGRlBsSGDtTQ"
      }
    },
    {
      "cell_type": "code",
      "source": [
        "# DImensionality Reduction (If needed)"
      ],
      "metadata": {
        "id": "kQfvxBBHDvCa"
      },
      "execution_count": null,
      "outputs": []
    },
    {
      "cell_type": "markdown",
      "source": [
        "##### Which dimensionality reduction technique have you used and why? (If dimensionality reduction done on dataset.)"
      ],
      "metadata": {
        "id": "T5CmagL3EC8N"
      }
    },
    {
      "cell_type": "markdown",
      "source": [
        "Answer Here."
      ],
      "metadata": {
        "id": "ZKr75IDuEM7t"
      }
    },
    {
      "cell_type": "markdown",
      "source": [
        "### 8. Data Splitting"
      ],
      "metadata": {
        "id": "BhH2vgX9EjGr"
      }
    },
    {
      "cell_type": "markdown",
      "source": [
        "Finally, we split our data into a training set (to train the model) and a testing set (to evaluate its performance on unseen data)."
      ],
      "metadata": {
        "id": "3uKwLI85UWaW"
      }
    },
    {
      "cell_type": "code",
      "source": [
        "# Split your data to train and test. Choose Splitting ratio wisely.\n",
        "from sklearn.model_selection import train_test_split\n",
        "\n",
        "X_train, X_test, y_train, y_test = train_test_split(X, y, test_size=0.2, random_state=42)\n",
        "\n",
        "print(f\"Data successfully split into training and testing sets.\")\n",
        "print(f\"Training set shape: {X_train.shape}\")\n",
        "print(f\"Testing set shape: {X_test.shape}\")"
      ],
      "metadata": {
        "id": "0CTyd2UwEyNM"
      },
      "execution_count": null,
      "outputs": []
    },
    {
      "cell_type": "markdown",
      "source": [
        "##### What data splitting ratio have you used and why?"
      ],
      "metadata": {
        "id": "qjKvONjwE8ra"
      }
    },
    {
      "cell_type": "markdown",
      "source": [
        "I have used an 80-20 split, where 80% of the data is used for training the model and 20% is held back for testing. This is a standard and widely accepted ratio in machine learning. It ensures that the model has a large enough dataset to learn the underlying patterns effectively, while still leaving a substantial, unseen portion of data to accurately evaluate its real-world performance."
      ],
      "metadata": {
        "id": "Y2lJ8cobFDb_"
      }
    },
    {
      "cell_type": "markdown",
      "source": [
        "### 9. Handling Imbalanced Dataset"
      ],
      "metadata": {
        "id": "P1XJ9OREExlT"
      }
    },
    {
      "cell_type": "markdown",
      "source": [
        "No, this concept is not applicable to our project. The term \"imbalanced dataset\" refers specifically to classification problems where the target variable has a severely skewed distribution of its classes (e.g., 95% of observations are 'No Fraud' and 5% are 'Fraud').\n",
        "\n",
        "Our project is a regression task, where the goal is to predict a continuous numerical value (Delivery_Time), not a class label. Therefore, we don't have classes that can be imbalanced. The equivalent concern in regression is the distribution of the target variable, which we analyzed with a histogram in Chart 1 and addressed by capping outliers."
      ],
      "metadata": {
        "id": "QiuqabAFU6xI"
      }
    },
    {
      "cell_type": "markdown",
      "source": [
        "##### Do you think the dataset is imbalanced? Explain Why."
      ],
      "metadata": {
        "id": "VFOzZv6IFROw"
      }
    },
    {
      "cell_type": "markdown",
      "source": [
        "Answer Here."
      ],
      "metadata": {
        "id": "GeKDIv7pFgcC"
      }
    },
    {
      "cell_type": "code",
      "source": [
        "# Handling Imbalanced Dataset (If needed)"
      ],
      "metadata": {
        "id": "nQsRhhZLFiDs"
      },
      "execution_count": null,
      "outputs": []
    },
    {
      "cell_type": "markdown",
      "source": [
        "##### What technique did you use to handle the imbalance dataset and why? (If needed to be balanced)"
      ],
      "metadata": {
        "id": "TIqpNgepFxVj"
      }
    },
    {
      "cell_type": "markdown",
      "source": [
        "Answer Here."
      ],
      "metadata": {
        "id": "qbet1HwdGDTz"
      }
    },
    {
      "cell_type": "markdown",
      "source": [
        "## ***7. ML Model Implementation***"
      ],
      "metadata": {
        "id": "VfCC591jGiD4"
      }
    },
    {
      "cell_type": "markdown",
      "source": [
        "### **ML Model - 1:: Linear Regression**"
      ],
      "metadata": {
        "id": "OB4l2ZhMeS1U"
      }
    },
    {
      "cell_type": "markdown",
      "source": [
        "Linear Regression is a fundamental algorithm that models the relationship between a dependent variable (our Delivery_Time) and one or more independent variables (our features) by fitting a linear equation to the observed data. It serves as an excellent baseline model due to its simplicity and interpretability."
      ],
      "metadata": {
        "id": "nEqeuO7zVW9P"
      }
    },
    {
      "cell_type": "code",
      "source": [
        "\n",
        "# ML Model - 1 Implementation\n",
        "from sklearn.linear_model import LinearRegression\n",
        "from sklearn.metrics import r2_score, mean_absolute_error, mean_squared_error\n",
        "import numpy as np\n",
        "\n",
        "# 1. Initialize the Model\n",
        "lr_model = LinearRegression()\n",
        "\n",
        "# 2. Fit the Algorithm\n",
        "lr_model.fit(X_train, y_train)\n",
        "\n",
        "# 3. Predict on the test data\n",
        "y_pred_lr = lr_model.predict(X_test)"
      ],
      "metadata": {
        "id": "7ebyywQieS1U"
      },
      "execution_count": null,
      "outputs": []
    },
    {
      "cell_type": "markdown",
      "source": [
        "#### 1. Explain the ML Model used and it's performance using Evaluation metric Score Chart."
      ],
      "metadata": {
        "id": "ArJBuiUVfxKd"
      }
    },
    {
      "cell_type": "markdown",
      "source": [
        "To evaluate our model, we will use three key regression metrics:\n",
        "\n",
        " **R-squared (R\n",
        "2\n",
        " ):** Represents the proportion of the variance in the delivery time that is predictable from the features. A higher value is better.\n",
        "\n",
        "**Mean Absolute Error (MAE):** The average absolute difference between the predicted and actual values. It gives us the average error in minutes. A lower value is better.\n",
        "\n",
        "**Root Mean Squared Error (RMSE):** The square root of the average of squared differences between prediction and actual observation. It penalizes larger errors more heavily. A lower value is better."
      ],
      "metadata": {
        "id": "pjTLORemZL_U"
      }
    },
    {
      "cell_type": "code",
      "source": [
        "# Visualizing evaluation Metric Score chart\n",
        "# Visualizing evaluation Metric Score chart\n",
        "# Calculate metrics\n",
        "r2_lr = r2_score(y_test, y_pred_lr)\n",
        "mae_lr = mean_absolute_error(y_test, y_pred_lr)\n",
        "rmse_lr = np.sqrt(mean_squared_error(y_test, y_pred_lr))\n",
        "\n",
        "print(f\"--- Linear Regression Performance ---\")\n",
        "print(f\"R-squared: {r2_lr:.4f}\")\n",
        "print(f\"MAE: {mae_lr:.4f} minutes\")\n",
        "print(f\"RMSE: {rmse_lr:.4f} minutes\")\n",
        "\n",
        "# Create a score chart\n",
        "metrics_df = pd.DataFrame({\n",
        "    'Metric': ['R-squared', 'MAE', 'RMSE'],\n",
        "    'Score': [r2_lr, mae_lr, rmse_lr]\n",
        "})\n",
        "\n",
        "plt.figure(figsize=(8, 5))\n",
        "sns.barplot(x='Metric', y='Score', data=metrics_df)\n",
        "plt.title('Linear Regression Evaluation Metrics')\n",
        "plt.show()\n",
        "\n",
        "# Visualize predictions vs. actual values\n",
        "plt.figure(figsize=(10, 6))\n",
        "sns.regplot(x=y_test, y=y_pred_lr, scatter_kws={'alpha':0.3}, line_kws={'color':'red'})\n",
        "plt.title('Linear Regression: Actual vs. Predicted Values')\n",
        "plt.xlabel('Actual Delivery Time (minutes)')\n",
        "plt.ylabel('Predicted Delivery Time (minutes)')\n",
        "plt.show()"
      ],
      "metadata": {
        "id": "rqD5ZohzfxKe"
      },
      "execution_count": null,
      "outputs": []
    },
    {
      "cell_type": "markdown",
      "source": [
        "***Explain the ML Model used and it's performance using Evaluation metric Score Chart.***\n",
        "\n",
        "I used ***Linear Regression***, a fundamental algorithm that establishes a linear relationship between our input features (like distance, traffic, etc.) and the target variable (Delivery_Time). It serves as a great baseline to measure the performance of more complex models.\n",
        "\n",
        "Based on your results, here is the performance breakdown:\n",
        "\n",
        "**R-squared: 0.6070 **\n",
        "\n",
        "This means our model can explain approximately 60.7% of the variability in delivery times. In simple terms, about 60% of why a delivery is fast or slow is captured by the features our model is using. This is a decent start for a baseline model but indicates there's still about 40% of the variation that the model isn't capturing.\n",
        "\n",
        "**MAE: 25.8449 minutes**\n",
        "\n",
        "This is the Mean Absolute Error. It means that, on average, our model's prediction for the delivery time is off by about 26 minutes. From a business perspective, this tells us the typical error a customer might experience in their ETA.\n",
        "\n",
        "**RMSE: 32.6522 minutes**\n",
        "\n",
        "This is the Root Mean Squared Error. It's similar to MAE but penalizes larger errors more heavily. The RMSE is higher than the MAE, which suggests that our model makes some predictions that are off by significantly more than the 26-minute average error.\n",
        "\n",
        " **Visual Analysis of Performance**\n",
        "\n",
        "The charts  generated provide a clear visual summary of these metrics.\n",
        "\n",
        "**Evaluation Metric Score Chart**\n",
        "\n",
        "The bar chart provides a clean, at-a-glance summary of the model's performance, making it easy to compare key metrics side-by-side.\n",
        "\n",
        "**Actual vs. Predicted Values Plot**\n",
        "\n",
        "This scatter plot is a crucial diagnostic tool. Here’s how to read it:\n",
        "\n",
        "Each point represents a single delivery from your test set.\n",
        "\n",
        "The x-axis is the actual time it took.\n",
        "\n",
        "The y-axis is the predicted time from your model.\n",
        "\n",
        "The red diagonal line represents a perfect prediction.\n",
        "\n",
        "**Insight:** The points form a generally linear cloud around the red line, which is good. However, the significant spread of the points around the line visually represents the errors measured by the MAE and RMSE. The further a point is from the line, the larger the prediction error for that delivery.\n",
        "\n",
        "**Conclusion for Model 1:** The Linear Regression model provides a reasonable baseline but is not accurate enough for a real-world application. The average error of ~26 minutes is quite high. Our next step is to implement a more powerful model to see if we can reduce this error and improve the R-squared value."
      ],
      "metadata": {
        "id": "qBX7FSZoZ3CC"
      }
    },
    {
      "cell_type": "markdown",
      "source": [
        "#### 2. Cross- Validation & Hyperparameter Tuning"
      ],
      "metadata": {
        "id": "4qY1EAkEfxKe"
      }
    },
    {
      "cell_type": "markdown",
      "source": [
        "Linear Regression is a simple model with no significant hyperparameters to tune. Therefore, hyperparameter tuning techniques like GridSearchCV are not applicable. We will focus on hyperparameter tuning for the more complex models that follow."
      ],
      "metadata": {
        "id": "towR_BoTaf-X"
      }
    },
    {
      "cell_type": "markdown",
      "source": [
        "### **ML Model - 2: Random Forest Regressor**"
      ],
      "metadata": {
        "id": "dJ2tPlVmpsJ0"
      }
    },
    {
      "cell_type": "markdown",
      "source": [
        "#### 1. Explain the ML Model used and it's performance using Evaluation metric Score Chart."
      ],
      "metadata": {
        "id": "JWYfwnehpsJ1"
      }
    },
    {
      "cell_type": "markdown",
      "source": [
        "Random Forest is an \"ensemble\" learning method. Instead of relying on a single model, it builds a multitude of decision trees during training. For a regression task, the final prediction is the average of the predictions from all the individual trees. This approach makes it more accurate and robust against overfitting compared to a single decision tree."
      ],
      "metadata": {
        "id": "4Q3Frq1-ulkA"
      }
    },
    {
      "cell_type": "code",
      "source": [
        "# ML Model - 2 Implementation\n",
        "from sklearn.ensemble import RandomForestRegressor\n",
        "\n",
        "# 1. Initialize the Model\n",
        "# n_estimators is the number of trees in the forest.\n",
        "# random_state ensures reproducibility.\n",
        "rf_model = RandomForestRegressor(n_estimators=100, random_state=42, n_jobs=-1)\n",
        "\n",
        "# 2. Fit the Algorithm\n",
        "rf_model.fit(X_train, y_train)\n",
        "\n",
        "# 3. Predict on the test data\n",
        "y_pred_rf = rf_model.predict(X_test)"
      ],
      "metadata": {
        "id": "PtjCZoCCuv2_"
      },
      "execution_count": null,
      "outputs": []
    },
    {
      "cell_type": "markdown",
      "source": [
        "We will use the same three metrics (R-squared, MAE, and RMSE) to evaluate the Random Forest model and compare its performance directly to our Linear Regression baseline."
      ],
      "metadata": {
        "id": "xckpcdyXu3xy"
      }
    },
    {
      "cell_type": "code",
      "source": [
        "# Visualizing evaluation Metric Score chart\n",
        "# Calculate metrics\n",
        "r2_rf = r2_score(y_test, y_pred_rf)\n",
        "mae_rf = mean_absolute_error(y_test, y_pred_rf)\n",
        "rmse_rf = np.sqrt(mean_squared_error(y_test, y_pred_rf))\n",
        "\n",
        "print(f\"--- Random Forest Regressor Performance ---\")\n",
        "print(f\"R-squared: {r2_rf:.4f}\")\n",
        "print(f\"MAE: {mae_rf:.4f} minutes\")\n",
        "print(f\"RMSE: {rmse_rf:.4f} minutes\")\n",
        "\n",
        "# Create a score chart\n",
        "metrics_df_rf = pd.DataFrame({\n",
        "    'Metric': ['R-squared', 'MAE', 'RMSE'],\n",
        "    'Score': [r2_rf, mae_rf, rmse_rf]\n",
        "})\n",
        "\n",
        "plt.figure(figsize=(8, 5))\n",
        "sns.barplot(x='Metric', y='Score', data=metrics_df_rf)\n",
        "plt.title('Random Forest Regressor Evaluation Metrics')\n",
        "plt.show()\n",
        "\n",
        "# Visualize predictions vs. actual values\n",
        "plt.figure(figsize=(10, 6))\n",
        "sns.regplot(x=y_test, y=y_pred_rf, scatter_kws={'alpha':0.3}, line_kws={'color':'green'})\n",
        "plt.title('Random Forest: Actual vs. Predicted Values')\n",
        "plt.xlabel('Actual Delivery Time (minutes)')\n",
        "plt.ylabel('Predicted Delivery Time (minutes)')\n",
        "plt.show()"
      ],
      "metadata": {
        "id": "yEl-hgQWpsJ1"
      },
      "execution_count": null,
      "outputs": []
    },
    {
      "cell_type": "markdown",
      "source": [
        "#### 1. Explain the ML Model used and it's performance using Evaluation metric Score Chart."
      ],
      "metadata": {
        "id": "Tr7gjvDJvPfZ"
      }
    },
    {
      "cell_type": "markdown",
      "source": [
        "Random Forest Regressor, an advanced ensemble model that combines hundreds of decision trees to make a final prediction. This method is powerful because it captures complex, non-linear relationships in the data that a simple linear model cannot.\n",
        "\n",
        "The performance of this model is a huge leap forward:\n",
        "\n",
        "**R-squared: 0.8050**\n",
        "\n",
        "It means Random Forest model can now explain 80.5% of the variability in delivery times. This is a significant jump from the 60.7% of the Linear Regression model, indicating a much better fit to the data.\n",
        "\n",
        "**MAE: 17.6373 minutes**\n",
        "\n",
        "The Mean Absolute Error has dropped from ~26 minutes to just ~17.6 minutes. This means, on average, Random Forest predictions are now more than 8 minutes closer to the actual delivery time. This is a substantial improvement in accuracy from a business perspective.\n",
        "\n",
        "**RMSE: 22.9984 minutes**\n",
        "\n",
        "The Root Mean Squared Error has also decreased significantly from ~32.6 minutes to ~23 minutes. This indicates that the model has far fewer predictions with large errors compared to the baseline model.\n",
        "\n",
        "**Visual Analysis of Performance **\n",
        "\n",
        "\n",
        "**Evaluation Metric Score Chart**\n",
        "This chart quantifies the strong performance, showing a high R-squared value and relatively low error metrics.\n",
        "\n",
        "**Actual vs. Predicted Values Plot**\n",
        "This plot visually confirms the model's high accuracy.\n",
        "\n",
        "**Insight**: Compared to the Linear Regression plot, you can see that the data points are much more tightly clustered around the red \"perfect prediction\" line. There is less vertical distance between the points and the line, which is a visual representation of the lower MAE and RMSE.\n",
        "\n",
        " **Conclusion for Model 2:** The Random Forest Regressor is a vastly superior model for this task. It has significantly reduced the prediction error and provides a much more reliable estimate of delivery times."
      ],
      "metadata": {
        "id": "34nwWQ6XwC_s"
      }
    },
    {
      "cell_type": "markdown",
      "source": [
        "#### 2. Cross- Validation & Hyperparameter Tuning"
      ],
      "metadata": {
        "id": "-jK_YjpMpsJ2"
      }
    },
    {
      "cell_type": "markdown",
      "source": [
        "While our Random Forest model performed very well out-of-the-box, its settings (hyperparameters) were just default values. By systematically searching for a better combination of these settings, we can often squeeze out extra performance. We will use Randomized Search Cross-Validation to efficiently search for the best hyperparameters."
      ],
      "metadata": {
        "id": "q49r8CpgxNfy"
      }
    },
    {
      "cell_type": "code",
      "source": [
        "# ML Model - 2 Implementation with hyperparameter optimization techniques\n",
        "from sklearn.model_selection import RandomizedSearchCV\n",
        "\n",
        "# Define the hyperparameter grid to search\n",
        "param_grid = {\n",
        "    'n_estimators': [100, 200, 300],\n",
        "    'max_depth': [10, 20, 30, None],\n",
        "    'min_samples_split': [2, 5, 10],\n",
        "    'min_samples_leaf': [1, 2, 4],\n",
        "    'max_features': ['sqrt', 'log2']\n",
        "}\n",
        "\n",
        "# Initialize the RandomizedSearchCV\n",
        "# n_iter controls how many different parameter combinations are tried.\n",
        "# cv is the number of cross-validation folds.\n",
        "random_search = RandomizedSearchCV(\n",
        "    estimator=RandomForestRegressor(random_state=42, n_jobs=-1),\n",
        "    param_distributions=param_grid,\n",
        "    n_iter=20,  # You can increase this for a more thorough search\n",
        "    cv=3,\n",
        "    verbose=2,\n",
        "    random_state=42,\n",
        "    n_jobs=-1\n",
        ")\n",
        "\n",
        "# Fit the Algorithm\n",
        "random_search.fit(X_train, y_train)\n",
        "\n",
        "# Print the best parameters found\n",
        "print(\"\\nBest Hyperparameters found:\")\n",
        "print(random_search.best_params_)\n",
        "\n",
        "# Predict on the model using the best estimator\n",
        "best_rf_model = random_search.best_estimator_\n",
        "y_pred_rf_tuned = best_rf_model.predict(X_test)"
      ],
      "metadata": {
        "id": "Dn0EOfS6psJ2"
      },
      "execution_count": null,
      "outputs": []
    },
    {
      "cell_type": "code",
      "source": [
        "# Calculate new metrics for the tuned model\n",
        "r2_rf_tuned = r2_score(y_test, y_pred_rf_tuned)\n",
        "mae_rf_tuned = mean_absolute_error(y_test, y_pred_rf_tuned)\n",
        "rmse_rf_tuned = np.sqrt(mean_squared_error(y_test, y_pred_rf_tuned))\n",
        "\n",
        "print(\"\\n--- Tuned Random Forest Regressor Performance ---\")\n",
        "print(f\"R-squared: {r2_rf_tuned:.4f}\")\n",
        "print(f\"MAE: {mae_rf_tuned:.4f} minutes\")\n",
        "print(f\"RMSE: {rmse_rf_tuned:.4f} minutes\")\n",
        "\n",
        "# Create an updated evaluation metric score chart for comparison\n",
        "comparison_df = pd.DataFrame({\n",
        "    'Model': ['Base Random Forest', 'Tuned Random Forest'],\n",
        "    'R-squared': [r2_rf, r2_rf_tuned],\n",
        "    'MAE': [mae_rf, mae_rf_tuned],\n",
        "    'RMSE': [rmse_rf, rmse_rf_tuned]\n",
        "})\n",
        "\n",
        "print(\"\\n--- Comparison of Models ---\")\n",
        "print(comparison_df)\n",
        "\n",
        "# Visualize the comparison\n",
        "comparison_df.set_index('Model').plot(kind='bar', figsize=(12, 7))\n",
        "plt.title('Performance Comparison: Base vs. Tuned Random Forest')\n",
        "plt.ylabel('Score')\n",
        "plt.xticks(rotation=0)\n",
        "plt.show()"
      ],
      "metadata": {
        "id": "0B2W8_tays9F"
      },
      "execution_count": null,
      "outputs": []
    },
    {
      "cell_type": "markdown",
      "source": [
        "##### Which hyperparameter optimization technique have you used and why?"
      ],
      "metadata": {
        "id": "HAih1iBOpsJ2"
      }
    },
    {
      "cell_type": "markdown",
      "source": [
        "I used **Randomized Search Cross-Validation (RandomizedSearchCV)**. I chose this method over GridSearchCV for a few key reasons:\n",
        "\n",
        "**Efficiency:** GridSearchCV tests every single possible combination of hyperparameters, which can be computationally very expensive and time-consuming.\n",
        "\n",
        "**Effectiveness:** RandomizedSearchCV randomly samples a fixed number of parameter combinations from the grid (n_iter=20 in our case). It often finds a very good or even the best combination much faster than an exhaustive grid search, making it a more practical choice for larger search spaces."
      ],
      "metadata": {
        "id": "9kBgjYcdpsJ2"
      }
    },
    {
      "cell_type": "markdown",
      "source": [
        "##### Have you seen any improvement? Note down the improvement with updates Evaluation metric Score Chart."
      ],
      "metadata": {
        "id": "zVGeBEFhpsJ2"
      }
    },
    {
      "cell_type": "markdown",
      "source": [
        "No, in this case, the hyperparameter tuning did not lead to an improvement. The performance of the \"Tuned Random Forest\" is marginally worse than the \"Base Random Forest\" across all evaluation metrics.\n",
        "\n",
        "**R-squared decreased slightly from 0.8050 to 0.7991.**\n",
        "\n",
        "**MAE increased slightly from 17.64 to 18.11 minutes.**\n",
        "\n",
        "**RMSE increased slightly from 23.00 to 23.35 minutes.**\n",
        "\n",
        "This is a common and important outcome in machine learning. It tells us that for this dataset, the default hyperparameters of scikit-learn's Random Forest Regressor are already very effective. The RandomizedSearchCV did not find a combination of parameters within its search that could outperform the well-chosen defaults on our specific test set.\n",
        "\n",
        "This confirms that our base Random Forest model is a strong candidate for the final model."
      ],
      "metadata": {
        "id": "74yRdG6UpsJ3"
      }
    },
    {
      "cell_type": "markdown",
      "source": [
        "### **ML Model - 3: Gradient Boosting Regressor**"
      ],
      "metadata": {
        "id": "Fze-IPXLpx6K"
      }
    },
    {
      "cell_type": "markdown",
      "source": [
        "Gradient Boosting is another powerful ensemble technique. Unlike Random Forest, which builds trees independently, Gradient Boosting builds trees sequentially. Each new tree is trained to correct the errors of the previous ones. This iterative approach often leads to highly accurate models."
      ],
      "metadata": {
        "id": "kRN2GmS10DNR"
      }
    },
    {
      "cell_type": "code",
      "source": [
        "# ML Model - 3 Implementation\n",
        "from sklearn.ensemble import GradientBoostingRegressor\n",
        "\n",
        "# 1. Initialize the Model\n",
        "gb_model = GradientBoostingRegressor(n_estimators=100, random_state=42)\n",
        "\n",
        "# 2. Fit the Algorithm\n",
        "gb_model.fit(X_train, y_train)\n",
        "\n",
        "# 3. Predict on the test data\n",
        "y_pred_gb = gb_model.predict(X_test)"
      ],
      "metadata": {
        "id": "FFrSXAtrpx6M"
      },
      "execution_count": null,
      "outputs": []
    },
    {
      "cell_type": "code",
      "source": [
        "# Visualizing evaluation Metric Score chart\n",
        "# Calculate metrics\n",
        "r2_gb = r2_score(y_test, y_pred_gb)\n",
        "mae_gb = mean_absolute_error(y_test, y_pred_gb)\n",
        "rmse_gb = np.sqrt(mean_squared_error(y_test, y_pred_gb))\n",
        "\n",
        "print(f\"--- Gradient Boosting Regressor Performance ---\")\n",
        "print(f\"R-squared: {r2_gb:.4f}\")\n",
        "print(f\"MAE: {mae_gb:.4f} minutes\")\n",
        "print(f\"RMSE: {rmse_gb:.4f} minutes\")\n",
        "\n",
        "# Create a score chart\n",
        "metrics_df_gb = pd.DataFrame({\n",
        "    'Metric': ['R-squared', 'MAE', 'RMSE'],\n",
        "    'Score': [r2_gb, mae_gb, rmse_gb]\n",
        "})\n",
        "\n",
        "plt.figure(figsize=(8, 5))\n",
        "sns.barplot(x='Metric', y='Score', data=metrics_df_gb)\n",
        "plt.title('Gradient Boosting Regressor Evaluation Metrics')\n",
        "plt.show()"
      ],
      "metadata": {
        "id": "mwmQXNpYz7Md"
      },
      "execution_count": null,
      "outputs": []
    },
    {
      "cell_type": "markdown",
      "source": [
        "#### 1. Explain the ML Model used and it's performance using Evaluation metric Score Chart."
      ],
      "metadata": {
        "id": "7AN1z2sKpx6M"
      }
    },
    {
      "cell_type": "markdown",
      "source": [
        " Gradient Boosting Regressor, is an advanced ensemble model. It works by building decision trees one after another, where each new tree is specifically trained to correct the errors made by the previous ones. This sequential, error-correcting approach often results in very high accuracy.\n",
        "\n",
        "Here's the performance breakdown based on your results:\n",
        "\n",
        "**R-squared: 0.7629**\n",
        "\n",
        "This is a strong score, indicating that the model explains 76.3% of the variability in delivery times. It's a massive improvement over our Linear Regression baseline (60.7%) but slightly underperforms the Random Forest model (80.5%).\n",
        "\n",
        "**MAE: 19.7341 minutes**\n",
        "\n",
        "The model's average prediction error is about 19.7 minutes. This is a significant improvement on the baseline's 26-minute error, but slightly higher than the Random Forest's 17.6-minute error.\n",
        "\n",
        "**RMSE: 25.3641 minutes**\n",
        "\n",
        "The Root Mean Squared Error is also very respectable, showing a good handle on larger errors, though again, not quite as low as the Random Forest model.\n",
        "\n",
        "Evaluation Metric Score Chart\n",
        "This chart provides a clear visual summary of the model's strong performance, confirming it as a powerful and accurate model for this task.\n",
        "\n",
        "Conclusion for Model 3: The Gradient Boosting model is a high-performing model that is far superior to the simple Linear Regression baseline. However, in this specific case, the Random Forest Regressor (Model 2) performed slightly better across all key metrics."
      ],
      "metadata": {
        "id": "zHosq_rU0ldR"
      }
    },
    {
      "cell_type": "markdown",
      "source": [
        "#### 2. Cross- Validation & Hyperparameter Tuning"
      ],
      "metadata": {
        "id": "9PIHJqyupx6M"
      }
    },
    {
      "cell_type": "code",
      "source": [
        "# ML Model - 3 Implementation with hyperparameter optimization techniques\n",
        "from sklearn.model_selection import RandomizedSearchCV\n",
        "\n",
        "# Define the hyperparameter grid\n",
        "param_grid_gb = {\n",
        "    'n_estimators': [100, 200, 300],\n",
        "    'learning_rate': [0.01, 0.1, 0.2],\n",
        "    'max_depth': [3, 5, 7],\n",
        "    'subsample': [0.8, 1.0]\n",
        "}\n",
        "\n",
        "# Initialize the RandomizedSearchCV\n",
        "random_search_gb = RandomizedSearchCV(\n",
        "    estimator=GradientBoostingRegressor(random_state=42),\n",
        "    param_distributions=param_grid_gb,\n",
        "    n_iter=15,\n",
        "    cv=3,\n",
        "    verbose=2,\n",
        "    random_state=42,\n",
        "    n_jobs=-1\n",
        ")\n",
        "\n",
        "# Fit the Algorithm\n",
        "random_search_gb.fit(X_train, y_train)\n",
        "\n",
        "# Print the best parameters found\n",
        "print(\"\\nBest Hyperparameters found:\")\n",
        "print(random_search_gb.best_params_)\n",
        "\n",
        "# Predict on the model using the best estimator\n",
        "best_gb_model = random_search_gb.best_estimator_\n",
        "y_pred_gb_tuned = best_gb_model.predict(X_test)"
      ],
      "metadata": {
        "id": "eSVXuaSKpx6M"
      },
      "execution_count": null,
      "outputs": []
    },
    {
      "cell_type": "code",
      "source": [
        "# Calculate new metrics for the tuned model\n",
        "r2_gb_tuned = r2_score(y_test, y_pred_gb_tuned)\n",
        "mae_gb_tuned = mean_absolute_error(y_test, y_pred_gb_tuned)\n",
        "rmse_gb_tuned = np.sqrt(mean_squared_error(y_test, y_pred_gb_tuned))\n",
        "\n",
        "print(\"\\n--- Tuned Gradient Boosting Regressor Performance ---\")\n",
        "print(f\"R-squared: {r2_gb_tuned:.4f}\")\n",
        "print(f\"MAE: {mae_gb_tuned:.4f} minutes\")\n",
        "print(f\"RMSE: {rmse_gb_tuned:.4f} minutes\")\n",
        "\n",
        "# Create an updated evaluation metric score chart for comparison\n",
        "comparison_df_gb = pd.DataFrame({\n",
        "    'Model': ['Base Gradient Boosting', 'Tuned Gradient Boosting'],\n",
        "    'R-squared': [r2_gb, r2_gb_tuned],\n",
        "    'MAE': [mae_gb, mae_gb_tuned],\n",
        "    'RMSE': [rmse_gb, rmse_gb_tuned]\n",
        "})\n",
        "\n",
        "print(\"\\n--- Comparison of Models ---\")\n",
        "print(comparison_df_gb)"
      ],
      "metadata": {
        "id": "jQras19x1XR_"
      },
      "execution_count": null,
      "outputs": []
    },
    {
      "cell_type": "markdown",
      "source": [
        "##### Which hyperparameter optimization technique have you used and why?"
      ],
      "metadata": {
        "id": "_-qAgymDpx6N"
      }
    },
    {
      "cell_type": "markdown",
      "source": [
        "I used Randomized Search Cross-Validation (RandomizedSearchCV). As with the Random Forest model, this technique is more computationally efficient than an exhaustive GridSearchCV. It explores a specified number of random combinations of hyperparameters, which is often sufficient to find a high-performing model configuration without the long wait times of a grid search."
      ],
      "metadata": {
        "id": "lQMffxkwpx6N"
      }
    },
    {
      "cell_type": "markdown",
      "source": [
        "##### Have you seen any improvement? Note down the improvement with updates Evaluation metric Score Chart."
      ],
      "metadata": {
        "id": "Z-hykwinpx6N"
      }
    },
    {
      "cell_type": "markdown",
      "source": [
        "Yes, a significant improvement was observed. The RandomizedSearchCV found a better combination of hyperparameters that substantially boosted the model's performance on the test set.\n",
        "\n",
        "R-squared jumped from 0.7629 to 0.8106, indicating the tuned model explains over 81% of the variance in delivery times.\n",
        "\n",
        "MAE (average error) decreased by more than 2 minutes, from 19.73 to 17.66 minutes.\n",
        "\n",
        "RMSE also saw a strong improvement, dropping from 25.36 to 22.67 minutes.\n",
        "\n",
        "This demonstrates the value of hyperparameter tuning, as it has turned our Gradient Boosting model into the best-performing model so far."
      ],
      "metadata": {
        "id": "MzVzZC6opx6N"
      }
    },
    {
      "cell_type": "markdown",
      "source": [
        "### 1. Which Evaluation metrics did you consider for a positive business impact and why?"
      ],
      "metadata": {
        "id": "h_CCil-SKHpo"
      }
    },
    {
      "cell_type": "markdown",
      "source": [
        "For a positive business impact, the two most important evaluation metrics are:\n",
        "\n",
        "**Mean Absolute Error (MAE):** This is the most critical metric from a business and customer perspective. It tells us, in plain terms, the average error of our prediction in minutes. An MAE of 17.6 minutes means our ETA is, on average, off by about 17.6 minutes. Lowering this value directly translates to more accurate ETAs, which increases customer satisfaction and trust.\n",
        "\n",
        " **R-squared (R\n",
        "2\n",
        " ):** This metric gives us a high-level understanding of our model's overall predictive power. An R\n",
        "2\n",
        "  of 81% is a strong indicator of a robust model. It tells stakeholders that our model can account for a large portion of the factors that influence delivery time, making it reliable for business planning."
      ],
      "metadata": {
        "id": "jHVz9hHDKFms"
      }
    },
    {
      "cell_type": "markdown",
      "source": [
        "### 2. Which ML model did you choose from the above created models as your final prediction model and why?"
      ],
      "metadata": {
        "id": "cBFFvTBNJzUa"
      }
    },
    {
      "cell_type": "code",
      "source": [
        "# Create a final comparison table of all models\n",
        "final_comparison_data = {\n",
        "    'Model': [\n",
        "        'Linear Regression',\n",
        "        'Base Random Forest',\n",
        "        'Tuned Random Forest',\n",
        "        'Base Gradient Boosting',\n",
        "        'Tuned Gradient Boosting'\n",
        "    ],\n",
        "    'R-squared': [r2_lr, r2_rf, r2_rf_tuned, r2_gb, r2_gb_tuned],\n",
        "    'MAE (minutes)': [mae_lr, mae_rf, mae_rf_tuned, mae_gb, mae_gb_tuned],\n",
        "    'RMSE (minutes)': [rmse_lr, rmse_rf, rmse_rf_tuned, rmse_gb, rmse_gb_tuned]\n",
        "}\n",
        "\n",
        "final_comparison_df = pd.DataFrame(final_comparison_data).set_index('Model')\n",
        "print(\"--- Final Model Performance Comparison ---\")\n",
        "print(final_comparison_df.sort_values(by='R-squared', ascending=False))\n",
        "\n",
        "# Visualize the final comparison\n",
        "final_comparison_df[['R-squared']].sort_values(by='R-squared', ascending=True).plot(kind='barh', figsize=(10, 6))\n",
        "plt.title('Final Model Comparison: R-squared')\n",
        "plt.xlabel('Score')\n",
        "plt.show()\n",
        "\n",
        "final_comparison_df[['MAE (minutes)']].sort_values(by='MAE (minutes)', ascending=False).plot(kind='barh', figsize=(10, 6))\n",
        "plt.title('Final Model Comparison: Mean Absolute Error')\n",
        "plt.xlabel('Error (minutes)')\n",
        "plt.show()"
      ],
      "metadata": {
        "id": "cc4YgM-b3tGL"
      },
      "execution_count": null,
      "outputs": []
    },
    {
      "cell_type": "markdown",
      "source": [
        "**Based on the final comparison, the Tuned Gradient Boosting Regressor is the chosen final prediction model.**\n",
        "\n",
        "Why: It achieves the highest performance across all key metrics:\n",
        "\n",
        "It has the ***highest R-squared score (0.8106)***, meaning it explains the most variance in the data.\n",
        "\n",
        "It has one of the **lowest MAE (17.66 minutes)**, making it one of the most accurate models in terms of average error.\n",
        "\n",
        "It has the **lowest RMSE (22.67 minutes)**, indicating it's the best at avoiding large prediction errors.\n",
        "\n",
        "While the Base Random Forest was also a very strong contender, the tuned Gradient Boosting model demonstrates a slight but clear edge, making it the most reliable and accurate model for this business problem."
      ],
      "metadata": {
        "id": "6ksF5Q1LKTVm"
      }
    },
    {
      "cell_type": "markdown",
      "source": [
        "### 3. Explain the model which you have used and the feature importance using any model explainability tool?"
      ],
      "metadata": {
        "id": "HvGl1hHyA_VK"
      }
    },
    {
      "cell_type": "markdown",
      "source": [
        "The chosen model, a Tuned Gradient Boosting Regressor, works by building a series of decision trees sequentially. Each tree is trained to correct the errors of the one before it, gradually improving the overall prediction. This method is highly effective at capturing complex patterns in the data.\n",
        "\n",
        "We can inspect the feature importances from our final model to understand what drives its predictions."
      ],
      "metadata": {
        "id": "YnvVTiIxBL-C"
      }
    },
    {
      "cell_type": "code",
      "source": [
        "# Feature importance from the best model (Tuned Gradient Boosting)\n",
        "feature_imp = pd.DataFrame(sorted(zip(best_gb_model.feature_importances_, X.columns)), columns=['Value','Feature'])\n",
        "\n",
        "plt.figure(figsize=(12, 8))\n",
        "sns.barplot(x=\"Value\", y=\"Feature\", data=feature_imp.sort_values(by=\"Value\", ascending=False))\n",
        "plt.title('Feature Importance from Tuned Gradient Boosting Model')\n",
        "plt.xlabel('Importance Score')\n",
        "plt.ylabel('Features')\n",
        "plt.show()"
      ],
      "metadata": {
        "id": "nzwzDMAw4xMU"
      },
      "execution_count": null,
      "outputs": []
    },
    {
      "cell_type": "markdown",
      "source": [
        "Most Important Features: The model identified that knowing whether a delivery is for Category_Grocery is the single most influential factor. This is followed by a cluster of other highly important features, including Distance_km, pickup_time_minutes, Agent_Age, and order_hour.\n",
        "\n",
        "Business Interpretation: This is a fascinating and powerful insight! It means that grocery orders have a delivery time pattern so distinct from other categories that it provides the most predictive power to the model. This could be due to several reasons:\n",
        "\n",
        "Order Complexity: Grocery orders often contain many items, including frozen goods, which might require special handling or longer packing times (pickup_time_minutes).\n",
        "\n",
        "Delivery Vehicle: They might be more likely to require a specific vehicle type (like a van), which could have different travel speeds.\n",
        "\n",
        "Drop-off Time: Unpacking groceries at the customer's location might take longer than a simple package drop-off.\n",
        "\n",
        "By identifying Category_Grocery as the most critical feature, the model tells us that to make accurate predictions and improve operations, the business should pay special attention to the unique logistics of delivering groceries."
      ],
      "metadata": {
        "id": "kfVStVMa5T8e"
      }
    },
    {
      "cell_type": "markdown",
      "source": [
        "## ***8.*** ***Model Tracking with MLflow***"
      ],
      "metadata": {
        "id": "zGvrOjqu9zAU"
      }
    },
    {
      "cell_type": "markdown",
      "source": [
        "MLflow is an open-source platform for managing the end-to-end machine learning lifecycle. It helps keep your experiments organized."
      ],
      "metadata": {
        "id": "bxzgOaPh-jRi"
      }
    },
    {
      "cell_type": "code",
      "source": [
        "# Import the MLflow library\n",
        "!pip install mlflow\n",
        "import mlflow\n",
        "import mlflow.sklearn\n",
        "\n",
        "# Set up an MLflow experiment. If it doesn't exist, it will be created.\n",
        "mlflow.set_experiment(\"Amazon Delivery Time Prediction\")\n",
        "\n",
        "# --- Model 1: Linear Regression ---\n",
        "with mlflow.start_run(run_name=\"Linear Regression\"):\n",
        "    # Initialize and train the model (we already did this, but we repeat for logging)\n",
        "    lr_model = LinearRegression()\n",
        "    lr_model.fit(X_train, y_train)\n",
        "    y_pred_lr = lr_model.predict(X_test)\n",
        "\n",
        "    # Calculate metrics\n",
        "    r2_lr = r2_score(y_test, y_pred_lr)\n",
        "    mae_lr = mean_absolute_error(y_test, y_pred_lr)\n",
        "    rmse_lr = np.sqrt(mean_squared_error(y_test, y_pred_lr))\n",
        "\n",
        "    # Log metrics to MLflow\n",
        "    mlflow.log_metric(\"r2_score\", r2_lr)\n",
        "    mlflow.log_metric(\"mae\", mae_lr)\n",
        "    mlflow.log_metric(\"rmse\", rmse_lr)\n",
        "\n",
        "    # Log the model itself\n",
        "    mlflow.sklearn.log_model(lr_model, \"linear-regression-model\")\n",
        "    print(\"Linear Regression run logged to MLflow.\")\n",
        "\n",
        "\n",
        "# --- Model 2: Base Random Forest ---\n",
        "with mlflow.start_run(run_name=\"Base Random Forest\"):\n",
        "    rf_model = RandomForestRegressor(n_estimators=100, random_state=42, n_jobs=-1)\n",
        "    rf_model.fit(X_train, y_train)\n",
        "    y_pred_rf = rf_model.predict(X_test)\n",
        "\n",
        "    r2_rf = r2_score(y_test, y_pred_rf)\n",
        "    mae_rf = mean_absolute_error(y_test, y_pred_rf)\n",
        "    rmse_rf = np.sqrt(mean_squared_error(y_test, y_pred_rf))\n",
        "\n",
        "    mlflow.log_metric(\"r2_score\", r2_rf)\n",
        "    mlflow.log_metric(\"mae\", mae_rf)\n",
        "    mlflow.log_metric(\"rmse\", rmse_rf)\n",
        "    mlflow.sklearn.log_model(rf_model, \"random-forest-model\")\n",
        "    print(\"Base Random Forest run logged to MLflow.\")\n",
        "\n",
        "\n",
        "# --- Model 3: Tuned Gradient Boosting (Our Best Model) ---\n",
        "with mlflow.start_run(run_name=\"Tuned Gradient Boosting\"):\n",
        "    # The best_gb_model is our tuned model from the previous step\n",
        "    y_pred_gb_tuned = best_gb_model.predict(X_test)\n",
        "\n",
        "    r2_gb_tuned = r2_score(y_test, y_pred_gb_tuned)\n",
        "    mae_gb_tuned = mean_absolute_error(y_test, y_pred_gb_tuned)\n",
        "    rmse_gb_tuned = np.sqrt(mean_squared_error(y_test, y_pred_gb_tuned))\n",
        "\n",
        "    # Log the best hyperparameters\n",
        "    mlflow.log_params(random_search_gb.best_params_)\n",
        "\n",
        "    mlflow.log_metric(\"r2_score\", r2_gb_tuned)\n",
        "    mlflow.log_metric(\"mae\", mae_gb_tuned)\n",
        "    mlflow.log_metric(\"rmse\", rmse_gb_tuned)\n",
        "    mlflow.sklearn.log_model(best_gb_model, \"tuned-gradient-boosting-model\")\n",
        "    print(\"Tuned Gradient Boosting run logged to MLflow.\")"
      ],
      "metadata": {
        "id": "NkaRuXux_AvC"
      },
      "execution_count": null,
      "outputs": []
    },
    {
      "cell_type": "code",
      "source": [
        "#create a secure, public URL to the MLflow server\n",
        "!pip install pyngrok\n",
        "\n",
        "#Launch the MLflow UI\n",
        "from pyngrok import ngrok\n",
        "\n",
        "# --- Add your authtoken here ---\n",
        "# Replace YOUR_AUTHTOKEN_HERE with the token you copied from the ngrok dashboard\n",
        "authtoken = \"33eXnQaqWVPBwNq1VUnYsj2mh5n_Dd9Gk2GjKb6wNTKbrNMu\"\n",
        "ngrok.set_auth_token(authtoken)\n",
        "\n",
        "\n",
        "# Terminate any open tunnels if you are re-running this\n",
        "ngrok.kill()\n",
        "\n",
        "# Start the MLflow UI in the background on port 5000\n",
        "get_ipython().system_raw(\"mlflow ui --port 5000 &\")\n",
        "\n",
        "# Create a public URL to the MLflow UI and print it\n",
        "public_url = ngrok.connect(5000)\n",
        "print(f\"Click this link to open the MLflow UI: {public_url}\")\n"
      ],
      "metadata": {
        "id": "URDwTdFVApad"
      },
      "execution_count": null,
      "outputs": []
    },
    {
      "cell_type": "markdown",
      "source": [
        "![Screenshot 2025-10-05 212233.png](data:image/png;base64,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)"
      ],
      "metadata": {
        "id": "GZ-69V9qFF4U"
      }
    },
    {
      "cell_type": "markdown",
      "source": [
        "![Screenshot 2025-10-05 212251.png](data:image/png;base64,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)"
      ],
      "metadata": {
        "id": "lp6ppEUAFQBw"
      }
    },
    {
      "cell_type": "markdown",
      "source": [
        "These charts, pulled directly from your MLflow experiment data, confirm our previous findings and are the perfect visuals for a final project summary.\n",
        "\n",
        "**R-squared Comparison:** The first chart clearly shows that the Tuned Gradient Boosting model has the highest R-squared score, making it the most powerful model in terms of explanatory power. The Base Random Forest is a very close second, while the Linear Regression model is a distant third.\n",
        "\n",
        "***MAE (Error) Comparison:*** The second chart is crucial for the business context. It shows that the Base Random Forest and Tuned Gradient Boosting models have the lowest Mean Absolute Error, with both being very close. This means their predictions are, on average, the most accurate in terms of minutes.\n",
        "\n",
        "**Overall Conclusion from MLflow:** The results logged and visualized from MLflow provide strong, reproducible evidence that the Tuned Gradient Boosting Regressor is the best model for this project, offering the best balance of high R-squared and low prediction error."
      ],
      "metadata": {
        "id": "aX_zVjAwFoAu"
      }
    },
    {
      "cell_type": "markdown",
      "source": [
        "# **Application development with Streamlit**"
      ],
      "metadata": {
        "id": "wOXFOaDJGcoH"
      }
    },
    {
      "cell_type": "code",
      "source": [
        "#Step 1: Install Streamlit and ngrok\n",
        "!pip install streamlit pyngrok -q"
      ],
      "metadata": {
        "id": "U0fur4M5HSmV"
      },
      "execution_count": null,
      "outputs": []
    },
    {
      "cell_type": "markdown",
      "source": [
        "1. Save the best performing ml model in a joblib file format for deployment process.\n"
      ],
      "metadata": {
        "id": "I9phCcDlLzA7"
      }
    },
    {
      "cell_type": "code",
      "source": [
        "import joblib\n",
        "import numpy as np\n",
        "\n",
        "# 1. Save the best model\n",
        "joblib.dump(best_gb_model, 'amazon_delivery_time_predictor.joblib')\n",
        "\n",
        "# 2. Save the scaler object\n",
        "joblib.dump(scaler, 'scaler.joblib')\n",
        "\n",
        "# 3. Save the list of all model columns\n",
        "joblib.dump(X.columns.tolist(), 'model_columns.joblib')\n",
        "\n",
        "# 4. (NEW STEP) Save the list of ONLY the numerical columns for the scaler\n",
        "numerical_features_list = X.select_dtypes(include=np.number).columns.tolist()\n",
        "joblib.dump(numerical_features_list, 'numerical_features.joblib')\n",
        "\n",
        "print(\"All necessary files (model, scaler, columns, AND numerical_features) have been saved successfully.\")\n",
        "\n",
        "# Verify the files are there\n",
        "!ls"
      ],
      "metadata": {
        "id": "WuUTvOf8KOfg"
      },
      "execution_count": null,
      "outputs": []
    },
    {
      "cell_type": "markdown",
      "source": [
        "**Create the App file**\n",
        "\n",
        "\n"
      ],
      "metadata": {
        "id": "NIc3TROVMCKc"
      }
    },
    {
      "cell_type": "code",
      "source": [
        "# Create the App File\n",
        "\n",
        "%%writefile app.py\n",
        "\n",
        "import streamlit as st\n",
        "import pandas as pd\n",
        "import numpy as np\n",
        "import joblib\n",
        "\n",
        "# --- Load Your Saved Model, Scaler, and Columns ---\n",
        "try:\n",
        "    model = joblib.load('amazon_delivery_time_predictor.joblib')\n",
        "    scaler = joblib.load('scaler.joblib')\n",
        "    model_columns = joblib.load('model_columns.joblib')\n",
        "    numerical_features = joblib.load('numerical_features.joblib') # <-- (1) LOAD THE NEW FILE\n",
        "except FileNotFoundError:\n",
        "    st.error(\"Model, scaler, or column files not found. Please ensure all 4 .joblib files are present.\")\n",
        "    st.stop()\n",
        "\n",
        "# --- App Title and Description ---\n",
        "st.title(\"Amazon Delivery Time Predictor\")\n",
        "st.write(\"Enter the details of the order to get an estimated delivery time.\")\n",
        "\n",
        "# --- Create the Input Form ---\n",
        "st.header(\"Order Details\")\n",
        "\n",
        "col1, col2 = st.columns(2)\n",
        "\n",
        "with col1:\n",
        "    agent_age = st.slider(\"Agent Age\", 20, 50, 35)\n",
        "    agent_rating = st.slider(\"Agent Rating\", 1.0, 5.0, 4.8, 0.1)\n",
        "    distance_km = st.number_input(\"Distance (km)\", min_value=0.1, max_value=100.0, value=15.5, step=0.1)\n",
        "    pickup_time_minutes = st.number_input(\"Pickup Time (minutes)\", min_value=1, max_value=60, value=10)\n",
        "\n",
        "with col2:\n",
        "    order_hour = st.slider(\"Order Hour (24h)\", 0, 23, 14)\n",
        "    traffic = st.selectbox(\"Traffic Condition\", ['Low', 'Medium', 'High', 'Jam'])\n",
        "    weather = st.selectbox(\"Weather Condition\", ['Sunny', 'Cloudy', 'Windy', 'Fog', 'Stormy', 'Sandstorms'])\n",
        "    vehicle = st.selectbox(\"Vehicle Type\", ['motorcycle', 'scooter', 'van'])\n",
        "\n",
        "# --- Prediction Logic ---\n",
        "if st.button(\"Predict Delivery Time\"):\n",
        "    try:\n",
        "        # 1. Create a DataFrame for prediction\n",
        "        prediction_df = pd.DataFrame(columns=model_columns)\n",
        "        prediction_df.loc[0] = 0\n",
        "\n",
        "        # 2. Update with user inputs\n",
        "        prediction_df.at[0, 'Agent_Age'] = agent_age\n",
        "        prediction_df.at[0, 'Agent_Rating'] = agent_rating\n",
        "        prediction_df.at[0, 'Distance_km'] = distance_km\n",
        "        prediction_df.at[0, 'pickup_time_minutes'] = pickup_time_minutes\n",
        "        prediction_df.at[0, 'order_hour'] = order_hour\n",
        "\n",
        "        # Handle one-hot encoded features by checking if the column exists\n",
        "        traffic_col = f'Traffic_{traffic}'\n",
        "        if traffic_col in model_columns:\n",
        "            prediction_df.at[0, traffic_col] = 1\n",
        "\n",
        "        weather_col = f'Weather_{weather}'\n",
        "        if weather_col in model_columns:\n",
        "            prediction_df.at[0, weather_col] = 1\n",
        "\n",
        "        vehicle_col = f'Vehicle_{vehicle}'\n",
        "        if vehicle_col in model_columns:\n",
        "            prediction_df.at[0, vehicle_col] = 1\n",
        "\n",
        "        # 3. Apply scaling using the loaded numerical features list\n",
        "        prediction_df[numerical_features] = scaler.transform(prediction_df[numerical_features]) # <-- (2) USE THE LOADED LIST\n",
        "\n",
        "        # 4. Make prediction\n",
        "        predicted_time = model.predict(prediction_df)\n",
        "\n",
        "        # 5. Display result\n",
        "        st.success(f\"**Estimated Delivery Time: {predicted_time[0]:.0f} minutes**\")\n",
        "\n",
        "    except Exception as e:\n",
        "        st.error(f\"An error occurred during prediction: {e}\")"
      ],
      "metadata": {
        "id": "C2Z5D5TRKmNk"
      },
      "execution_count": null,
      "outputs": []
    },
    {
      "cell_type": "markdown",
      "source": [
        "**Model Deployment**"
      ],
      "metadata": {
        "id": "yV9tScJlMTku"
      }
    },
    {
      "cell_type": "code",
      "source": [
        "#Step 3: Launch the App\n",
        "from pyngrok import ngrok\n",
        "\n",
        "# Terminate open tunnels if any\n",
        "ngrok.kill()\n",
        "\n",
        "# Set up the authtoken (get it from your ngrok dashboard)\n",
        "# Replace YOUR_AUTHTOKEN_HERE with your actual token\n",
        "authtoken = \"33eXnQaqWVPBwNq1VUnYsj2mh5n_Dd9Gk2GjKb6wNTKbrNMu\"\n",
        "ngrok.set_auth_token(authtoken)\n",
        "\n",
        "# Run streamlit in background\n",
        "!nohup streamlit run app.py &\n",
        "\n",
        "# Create a public URL to the app\n",
        "public_url = ngrok.connect(8501)\n",
        "print(f\"Click this link to view your Streamlit app: {public_url}\")"
      ],
      "metadata": {
        "id": "IrALt0sDH3Cj"
      },
      "execution_count": null,
      "outputs": []
    },
    {
      "cell_type": "markdown",
      "source": [
        "![Screenshot 2025-10-05 220418.png](data:image/png;base64,iVBORw0KGgoAAAANSUhEUgAABmAAAAQcCAYAAACCglTSAAAAAXNSR0IArs4c6QAAAARnQU1BAACxjwv8YQUAAAAJcEhZcwAADsMAAA7DAcdvqGQAAP+lSURBVHhe7N13fFTF+sfxbxKSQCAICUU6oTeRDiqEIqAEUECleAX1WlBBVBTlgqIiID9REASxXgVsKBewABYEBVSaiNRQA0ISWhBJIX1/f6SQnexuNslJ5fN+vc718szZ3XPmlN3Mc2bGwxYfZxMAAAAAAAAAAAAs42kGAAAAAAAAAAAAkD8kYAAAAAAAAAAAACzm4c4QZKmpqUpJTlZKaqpSU1KUmpoqW5ZXeXhInp6e8vTykpenp7zKlJGnJ7kdpElJSlZycnLauZNiky01VZJky3oSAQAAAAAAAABQijhNwNhsNiUlJio5OVkpKWkN5rnh5eWpMmXKyNvHRx4eHmYxSrmU5BQlJSQoOTGZRAsAAAAAAAAA4IrjMAGTmJCgxMREu14ueeXhIfn4+MjH19csQimUkpyixPh4JScmm0UAAAAAAAAAAFwx7BIwyUlJSkhIUGqqBZkXg6enh3x9fVXG29ssQikRH3dJSfGJZhgAAAAAAAAAgCtOZgImISFBiQkF33ju4+sjX3rDlCqpKamKj41TSnKKWQQAAAAAAAAAwBXJwxYfZ7t06ZKSkwpvyKgy3mVUrlw5M4wSKCUpWZdi4pjnBQAAAAAAAACALDxiz5+zFUXPBa8yXvLz8zPDKEFym3wp411GnmXKyNPTUx6envKQTTZb2pKSnKqU5GSlphTSuWizpU1QJJskD7MUAAAAAAAAAIB88bh45rR7recFgJ4wJVdqSqriLsbkmHzx9PKUT1lflfHxlodHzomOlJQUJcUnKSkhwSyyBOkWAAAAAAAAAEBhKNIEjCT5+vrIhzlhSpy4izEu53zxkORbvpy8fX3MIrekpqQo4VKCkhOTzKJ8sKVnYEjBAAAAAAAAAAAKlqcZKGwJCYlKSS68+WeQf/Fxl1wmX7y8y8jvqgp5Tr5IkqeXl8pV8JNveat6SKX3fSH5AgAAAAAAAAAoBEWegJGkhAIabgrWS0lOUVJ8ohnOVMa7jPz8y8vTy8ssyhMfXx+VrZC/uYJsmf8DAAAAAAAAAEDhKBYJmJSUVCUlOm/UR/GRGB9vhjJ5eZdROf/yZjjfvH28VdYv7z1hPMSwYwAAAAAAAACAwlUsEjCSlJRk5VwfKAgpySlKTnQ8XJyHpLJ+Zc2wZbzL+sinbB7mCrLR9QUAAAAAAAAAUPg8Lp45nacW6vj4eO3evUutWl2jcuXy3jshq3LlyqqMt7cZtkxsbKy2b9umTp07W7bNBSElJUU/rVmlPX9sV+SJv3T2VKQCq1ZXo+YtdV3PXrqmfUdJ0vhRw3XuzGkt/na9+RYFIj42TkkJjhNlZcuXczrnS/TFaB09ekTNmjeXr28ekihZxP4To9QU5/PPAAAAAAAAAABQHOSpB0x8fLy2bduqv//+WxER4WZxniUlO+5dYZVjx47p3Llz+vmnn3Tp0iWzuFg4d/qUnhvzgBbNn6Pff9moiL+Oq0IFf128cF6b1n6rWZOf1vSnHtO5M6fNlxY4Z71fPL08nSZf3n/3XbVrc61uGzxYXTp11Lof15mr5IpPWcef41ye8oulyqYpbdR22GJFmAXFWMSiwSVum/Ps5GKNaD9YS06aBbmzaUobtW3fRm3bT9Ims7DIhGvJsDZqO6X4bBEAAAAAAABQWHKdgImPj9fWrVt06dIl1aldRw0bNjJXybOUAk7AtGzZUg0aNFBsbKx+Wr++2CVhLpyP0tQnxurksTBdVTlAo8Y8pv9+/b3mfrJMb/3vGz372jxd076jDuzZpRcefUhxsTHmWxSYlKRk2ZwM5+VsaLBNmzbq5Rkz1OW66/TA6AdVqVJljX3kYYWH5z1p5+3rI0/P3Jy2HukN3G00aaNZljclMaFhCYvrEdbZNKWNHj0wXqt+36k/fp+hruYKAAAAAAAAAApdblqyM5Mv8fHxqlO7jpq3aGGuki82W9rwWwWpbbt2atCggeLi4opdEmb+9Bd14XyUbhp8u2Yv+lS9Bw6yG5KtSctrNGH6K+pz62Bd/OeC4mJj7V5fkJJdJMfK+DgeNm7V16skSfPfXKhnJv5HM15+WYmJiVqf3gumUVCQw6VXjx7GO9kr4+v480qrougNUhSfibzapNWrpGYhN6qmWQQAAAAAAACgyLidgCno5EuGwpjfozgmYX7/ZaMO7t2tzsE99K/RY+TtYz/U1rnTp7Tio0Va8dEilS3nJw8PD7vygubsuJTxLuN0WypeVVGS9Pv27Xb/9a/oL0nq1Lmzw6VNmzZZ3iW7Mt5lzJBrtUfp0993akY3syBvuk7dqT+WjrryGrstrkcAAAAAAAAAKM3cSsAUVvJFklJSU81QgShuSZh1q7+WJA0cfpdZJEk6e/qUVnz0oVZ89KG+/uxjp8OBFZTUFMef51nGeTJk2PDhKuPtrQfvv089u3fX63PmqGbNmurTp48k6ZPPPnO4zH79dfOt7Hi5+EwAAAAAAAAAAIqDHBMwacmXrYqPj5ePt7d8fH105Mhht5a8sCKxsG/fPrcW37Jl5ePjnZ6E+alIkzBhBw+onF951W3Q0CySJNVr0Ej/eWWOw6Uw2JwkxlzNx9KgQQN9uvQzXdP6Gp05fVrXX3+DPlm6VH7ly5ur5pqnl5cZcs7J3CURiwanT1qetoxYZD83zaYp6ZOHb5xkN7l57ueASZ+IPMtntZ2yycX7bNKk9m00Yt4bGtG+jfrPC5MOz1b/9m3U1pysPXPbMhbXk7nn6zOd1GNut+GytM/M+tps722uk20ydwd163D/Lss8run7k/E68/jL4TmyKduk8pnDtWW+X9b9d7B92fbBgYw6zWFf0rZvrNZICp3XP8t+pNXbpI3p+2t8bvb9yr7vZv3ktC1y+L5h5irpzGOfdm3J1Tnq7PwDAAAAAAAAiinnrefp9uzZpfj4tMREYlKSjhw54vaSF1YkYPbv2+f2kpiYJEmKi4vVtq1bzbcqNJcuxamcn58ZzuRXoYKat27jcClKHi4SMJLUtm07rfjyK+0NDdXijz9S7dq1zVXyxNmwZ+7aNKWN+s9rrjd+36k/ft+pP74cL83rn70h+sBrGvFDSNo6eZrcfJMmte+v2cqYIH2n/vh9vvpJ6tonRDq8Qj8ayYqIRa9pjUI0Ztyj+vT3nVo1LkhqlPH6FRqZXoWbprRR28f3a/yXGe+7U6vGSbNvdd5Ind/PNEUsGqy2j69Wv9ezbkNzczUHNmlS+7EKG7cq83V/vB5iv8rh2erffrVCshyjZqvG2h+jjQu0OiTLe/w+X/0Oz1b/nJIcq8aq7ZPSa1k+O3Ref7t6y3aO/L5KIavHarbD3PIKPZn5fun1dXKxRrTvr9lN59tv36qxjhMMGTZOUtvHV6vZuFU5DnVX8+4VmedTs/S6/PTuWpnlYfMHa3Wf9M+emnb2ZtsvR+f+xklqe+tsBWUe11Uar9nq72K7s72vs/o6uVgjjGP/Rv/VejQ9CeP0HP1xhUIVohCGwAMAAAAAAEAJ4br1XFKrVtfI19dXkuTt7a2GDRu6vRSV5i1auL34ps+14ufnpw4dO5hvVWjKl6+guNgYM+xUQvwlzZjwuOZOfc4sKlQeyn/CrNCdXKwFq6R+r2dJqNQepdfGBSl03oLMJ/ElSYeba0x6w3VebJoyVmsajdcqu4b0rpoxtavUbYzGNwrT7HeyfmK4flwdJvUPcZ3sOblYC1YFafyX9smRmnev0Bv9pTXznTSU5+czTScX68l5Yer3uv28MDXvnuE0YZPp5FGFKUghN15OFqjbDGN+mSCN/9L+GI3pL4Wu/vHyvnWbYZdwkLpq7Lgg6cBRx/ufKURvZD0m3cZofCNpzQ/p9ZJZv1mTbrU0cmlasiObw1LIa/bJkk3vzFZo//mZiY80XTXjy/Fqdni25jtKkmVJvtjvV96ENn3Svk7dOvfDtWT+aqn//CyvraWRr7nY7lzU16Z3Ziu00Xi9lmX/uk6dr35arQWLwqVuIeqnMK3+MWsyNO0cbTZuTO7OUQAAAAAAAKAI5ZiAKVu2nDp37qKyZcsqKSlJ8fEJatiwkVtLUWnRooVbS0J8vBISE1WuXDl179FDfn75Hxorr+o0aKj4S5d07NBBs8ihfTt3KnT3n7p44YJZVKis6LF08sQJ3X3XSLVq3ly3DR6kP3f+aa6SXT4+N+LHFQptNF5jjSfpazZoLmm/wrI+ed+omRpk+Wd2DoaYyhxOaZNWr5KahdzopBdDLd0YEiStWn056XPyR60+HKTxD7puZk7bh8G60UGiw1kPgjR5/0xTzj0SzGGmsgwtVbuBghSm2bdeHnoqGwf716BhkHQ4VEftw5eH2cocPi37OnayJZtqKaipMhM3afvWXEHZ6jdIzR3e2sx10459vz4O6rT2jQrJmuzJELZYIxwmX1ydY641axhk92+3zn1n50PtBgqSFHY0+3Blzs9Hs77S62Ws2bMnbb3QI2GZSTS7ZGj6Ntkl7AAAAAAAAIBiLscEjCSVLVtWnTp1VtmyZRUeflL79+0zV7GMqzlFrPTHjh06evSoypUrpx49e8rPxfBfhaFtl+slSR+9NV82m+P5VjLYbKn6fuX/JEmdunU3iwuEs6HG8puAib4YraG3367Nm39T02ZN9efOP/WvEcN18sQJc1U7qU7mpHHH0SNZ5zfJsjy+2lxVatrASfIkQy2NXJox5FLGkt4L4ORRhUkKauC80bjmjYPVTKu1Or1XgfOGbHtHjzibWyNnef1M09EjYTkkqLpqhl297MwypFZXzfh9lcY3Wq1H0+vf2bBprmTMOfKoLg/ztWqcfdIhL3LeN4O5bvqxd1+YZj+evWdIGhfnWA7Mc8+tcz8sVKEK0+xbzaRP2lwzjrh9PqbXy5rHzffubzdUmXmOpvWayf05CgAAAAAAABQlx63qDmRNwpw4eaLAkjCe+Zzbwx3FLfkiST37DVBA1Wo6uHe3Pn33LbPYzqfvvqW9O3/X1bXqqEe//mZxgfD0cnxcUpJdJ0Iee/RR3Tl8eLZl5L/+JUn69rs1OnPmjCY/95z+t2Kl5i94U/Hx8fr888/Nt8qUmmrLV+KnQcOs85uYi/P5TnItvceAS+nDaqX1hkgfZslpj5nLGhg9G3Ilj59pytc2SHaJhVXjgrTmcSeTwTuTZQg0+2G+igF3jr2dII3/Mn3+GhfzrOSXW+d+UDM1U5Dd3EJZF0dDo7l9LqTXS9Y5g+yWjONo10vIWa8ZAAAAAAAAoHhzOwGjQkrCFHQPmOKYfJEkbx8fTZz5qq6qHKBvl3+h2c9P0qH9ezN7eiQnJSl09596Z9ZMfbv8C/lfdZXGT50h37LlzLcqEJ5eXmZIkpSSnGyG7Oz84w9t3bLF4SJJF86nDaHW6ppWkqR2HdpLkv4+fz7Lu9hLSUoyQ7lSs0FzF0N0WSltWKVsQ00ZuvYJSRsSbOMCzT4cojEOGrhNrvZh0w+rHQ7flVVePtPkahtyK2PumrQhqPIjfT6bfHI6jNvJH7XanFTeIRfHPv09sg9P1lUzfi/YJIxbxyx9eDj7OVhcc/q+2erLRb3YqaWRYzPO0dVa43KoOwAAAAAAAKB4ynW2w0zCHD58yFwlX5w19Fth7969xTL5kuHqWnX04ryFql0/SDu3/KaXnhirBweHaMrYB/Xg4P6aMeFxbfrxO7Vs015T57+tq2u5aGG3WJkyZcyQJCk1JUUpKSlmONPPmzbpcFhYtuXA4bRW2Q6dOsjDw0OT//MfzZs7V489+qgkqWs3562tyUmukz5ZeTjqUZUxEb05/8jJxZqUmx4YOUqfuHzVWLWdkvWTNmlS1n93C0mbgHz+fgdzkzhp3O42Q2/0D9PsWwdrSZZ4xKLBenRVkMYbE8Jnk5fPNDndhkl2/3YoW12nz5fjbk8KXe5NkbUxP2LRWLuhrDLnT8ltQsPhORKuJU/OVqjdis64OPa3zlao3QT3WXXVjC/TJrsvkCSMw/0yj0fGHCz9jWHhwrVkSsY2pc/vk7FvDt/XUX1lJFbGZuvttGmKsU3p5+ijj69Ws3Fjsp2jAAAAAAAAQHGX6wSMMpMwnVTpqkqqWTP3T8474+XlWaA9YOrVq6fKAZWLZfIlQ0DVanppwbu6e+zjan9DNwVWq66IE3+pZr16ur5Xb42Z9LyemfmqAqtWN19aoLy8yzhOZkhKis97j5S2bdtp/ptv6uSJk5r3+uv6fft2PTtlim66+WZzVSk94ZOc6P7nOR6qLG3oqzf6X55/pG37Nmp7a6hC8tATxKXao/Tp7/PVb9VYu7k0ZNf7Ib3B+3CYg14RWRu326ht+8vJjq5Td2rVONnN1dF/XnO94dYwann7TJPDbVjdzGXvmwxh8/rb1UlYtsnnc5KerMhSt09qviVzwKSdI/Zz1LRtP1Z6bZXG200q74KTYx82bpXrIdNqj9KnGUkYF3WfN+6d+zXvXqE/Xg8x5mrpr/19nCX2clFf3Wbojy/HS3bHv40WNDSTLF0V0l+SghRyY27OCwAAAAAAAKB48Lh45rSjFuoi4evrIx9fXzOMYiI+Nk5JCY6TH+WvqpCv3kvx8fE6EBqqhg0bqoK/v1mcKT42XkkJCWbYKZskj5OLNeLWFQr50p3ERNGIWDRY/VcP1qrMSeoLXlF8ZskXriXD+mt1SG6TRQAAAAAAAACuNAXX3SQPynh7myEUI94ukmMJl9xPijhStmxZXdumjcvkS0picq6SL5LkIZsUFqpQNVdQMU2+SJs0f16YmoXcWIiJkKL4zFIgfU6ToAYkXwAAAAAAAAC4VmwSMN4+3gU6/Bjyz6uMl8r4OJ4LJjkxSYkJiWbYMrbUVMVfijfDbojQkvmrHc5zUlxELHpNaxSiMYXYo6IoPrNk2aRJ2eZgyWn+FgAAAAAAAAC4rNgMQVa+QnkSMCVASnKK4i7GmOFMZSv4ydvH+p5Ml6JjlZyUbIZz1LZ9G6n/fNdzbhSRiEWD1X9emKQQvfH7jEJJEBXFZ5ZMaUONzT5sH22W63lqAAAAAAAAAFypikUCxsfXR74uhrdC8RIfd0lJ8c57u5T1Kyfvsj5mOE9sqamKj72Up+QLAAAAAAAAAABFpci7nHh5eZJ8KWHK+pWTVxkvM5wpPu6SEuLyMlyYvZTEZMVFx1mYfCnyXCMAAAAAAAAA4ApR5AkY37JlzRBKgLLl/eTh4WGGMyXGJyj2nxgl5WFemNSUFMXHxisuJlapKSlmcT54pC8AAAAAAAAAABSsIh2CrFy5sirjbf18ISgcKUnJuhQTJ5vN9Snk6empMr7eKuNdRl5lypjFkqTUVJtSkpKUnJSs5MQks9hiNnnII227XSSRAAAAAAAAAADIK4+k6H9sly7lf7io3CL5Ujq4m4TJytPL63LvGZtNqampuXq9tdI+12YjEQMAAAAAAAAAsI6HLT7OlpyUpPj4eBVGG7iHh1S2LMmX0iQ1JVXxsXFKSbZyuDAAAAAAAAAAAEouD1t8nE2SUlNTFR8fX6CN6F5lvFS2bFl5ehb51DMoAPFxl5QUn/s5XwAAAAAAAAAAKG0yEzAZEhMSlJiYaGlvGA8PycfHRz6+vmYRSpmU5BQlxscrOTHZLAIAAAAAAAAA4IqRLQEjSTabTUmJiflOxGQkXrx9fC7P+YErQkpyipISEpScmFyE87sAAAAAAAAAAFA0HCZgskpOSlJySopSkpOVmupyVUmSp6eHvMqUURkvL+Z5gSQpJSlZycnJSk1JUWqKTbbUVCk90QcAAAAAAAAAQGmUYwIGAAAAAAAAAAAAueNpBgAAAAAAAAAAAJA/JGAAAAAAAAAAAAAsRgIGAAAAAAAAAADAYiRgAAAAAAAAAAAALEYCBgAAAAAAAAAAwGIkYAAAAAAAAAAAACzmEXt0v80MAgAAAAAAAAAAIO/oAQMAAAAAAAAAAGAxD5vNRg8YAAAAAAAAAAAAC9EDBgAAAAAAAAAAwGIkYAAAAAAAAAAAACxGAgYAAAAAAAAAAMBiJGAAAAAAAAAAAAAsRgIGAAAAAAAAAADAYiRgAAAAAAAAAAAALEYCBgAAAAAAAAAAwGIkYAAAAAAAAAAAACxGAgYAAAAAAAAAAMBiJGAAAAAAAAAAAAAsRgIGAAAAAAAAAADAYiRgAAAAAAAAAAAALEYCBgAAAAAAAAAAwGIkYAAAAAAAAAAAACxGAgYAAAAAAAAAAMBiJGAAAAAAAAAAAAAsRgIGAAAAAAAAAADAYiRgAAAAAAAAAAAALEYCBgAAAAAAAAAAwGIkYAAAAAAAAAAAACxGAgYAAAAAAAAAAMBiJGAAAAAAAAAAAAAsRgIGAAAAAAAAAADAYiRgAAAAAAAAAAAALEYCBgAAAAAAAAAAwGIkYAAAAAAAAAAAACxGAgYAAAAAAAAAAMBiJGAAAAAAAAAAAAAsRgIGAAAAAAAAAADAYiRgAAAAAAAAAAAALEYCBgAAAAAAAAAAwGIkYAAAAAAAAAAAACxGAgYAAAAAAAAAAMBiJGAAAAAAAAAAAAAsRgIGAAAAAAAAAADAYiRgAAAAAAAAAAAALEYCBgAAAAAAAAAAwGIkYAAAAAAAAAAAACxGAgYAAAAAAAAAAMBiJGAAAAAAAAAAAAAsRgIGAAAAAAAAAADAYiRgAAAAAAAAAAAALEYCBgAAAAAAAAAAwGIkYAAAAAAAAAAAACxGAgYAAAAAAAAAAMBiJGAAAAAAAAAAAAAsRgIGAAAAAAAAAADAYiRgAAAAAAAAAAAALEYCBgAAAAAAAAAAwGIkYAAAAAAAAAAAACxGAgYAAAAAAAAAAMBiJGAAAAAAAAAAAAAsRgIGAAAAAAAAAADAYiRgAAAAAAAAAAAALEYCBgAAAAAAAAAAwGIkYAAAAAAAAAAAACxGAgYAAAAAAAAAAMBiJGAAAAAAAAAAAAAsRgIGAAAAAAAAAADAYiRgAAAAAAAAAAAALEYCBgAAAAAAAAAAwGIkYAAAAAAAAAAAACxGAgYAAAAAAAAAAMBiJGAAAAAAAAAAAAAsRgIGAAAAAAAAAADAYiRgAAAAAAAAAAAALEYCBgAAAAAAAAAAwGIkYAAAAAAAAAAAACxGAgYAAAAAAAAAAMBiJGAAAAAAAAAAAAAsRgIGAAAAAAAAAADAYiRgAAAAAAAAAAAALEYCBgAAAAAAAAAAwGIkYAAAAAAAAAAAACxGAgYAAAAAAAAAAMBiJGAAAAAAAAAAAAAsRgIGAAAAAAAAAADAYiRgAAAAAAAAAAAALEYCBgAAAAAAAAAAwGIkYAAAAAAAAAAAACxGAgYAAAAAAAAAAMBiJGAAAAAAAAAAAAAsRgIGAAAAAAAAAADAYiRgAAAAAAAAAAAALEYCBgAAAAAAAAAAwGIkYAAAAAAAAAAAACxGAgYAAAAAAAAAAMBiJGAAAAAAAAAAAAAsRgIGAAAAAAAAAADAYiRgAAAAAAAAAAAALEYCBgAAAAAAAAAAwGIkYAAAAAAAAAAAACxGAgYAAAAAAAAAAMBiJGAAAAAAAAAAAAAsRgIGAAAAAAAAAADAYiRgAAAAAAAAAAAALEYCBgAAAAAAAAAAwGIkYAAAAAAAAAAAACxGAgYAAAAAAAAAAMBiJGAAAAAAAAAAAAAsRgIGAAAAAAAAAADAYiRgAAAAAAAAAAAALEYCBgAAAAAAAAAAwGIkYAAAAAAAAAAAACxGAgYAAAAAAAAAAMBiJGAAAAAAAAAAAAAsRgIGAAAAAAAAAADAYiRgAAAAAAAAAAAALEYCBgAAAAAAAAAAwGIkYAAAAAAAAAAAACxGAgYAAAAAAAAAAMBiJGAAAAAAAAAAAAAsRgIGAAAAAAAAAADAYiRgAAAAAAAAAAAALEYCBgAAAAAAAAAAwGIkYAAAAAAAAAAAACxGAgYAAAAAAAAAAMBiJGAAAAAAAAAAAAAsRgIGAAAAAAAAAADAYiRgAAAAAAAAAAAALEYCBgAAAAAAAAAAwGIkYAAAAAAAAAAAACxGAgYAAAAAAAAAAMBiJGAAAAAAAAAAAAAsRgIGAAAAAAAAAADAYiRgAAAAAAAAAAAALEYCBgAAAAAAAAAAwGIkYAAAAAAAAAAAACxGAgYAAAAAAAAAAMBiJGAAAAAAAAAAAAAsRgIGAAAAAAAAAADAYiRgAAAAAAAAAAAALEYCBgAAAAAAAAAAwGIkYAAAAAAAAAAAACxGAgYAAAAAAAAAAMBiJGAAAAAAAAAAAAAsRgIGAAAAAAAAAADAYiRgAAAAAAAAAAAALEYCBgAAAAAAAAAAwGIkYAAAAAAAAAAAACxGAgYAAAAAAAAAAMBiJGAAAAAAAAAAAAAsRgIGAAAAAAAAAADAYiRgAAAAAAAAAAAALEYCBgAAAAAAAAAAwGIkYAAAAAAAAAAAACxGAgYAAAAAAAAAAMBiJGAAAAAAAAAAAAAsRgIGAAAAAAAAAADAYiRgAAAAAAAAAAAALEYCBgAAAAAAAAAAwGIkYAAAAAAAAAAAACxGAgYAAAAAAAAAAMBiJGAAAAAAAAAAAAAsRgIGAAAAAAAAAADAYh42m81mBgEAAAAgN1JTU/XLr1v1zTffat/+g6pTu6YG9L9JPXp0lZ9fOXN1oMCdOxelZf/7Shs3/abEhER17txBQwYPUFBQPXl4eJirA8gFri8AANxDAgYAAAC4wkVEnNInny5TfEKCWSRJuqqiv+65+075+1cwiyRJMTGxemn6q/rhh/VmkZo0aag5r81QjRrVzSKgwGzctFnPTZmuixej7eJeXl56bNxo/evOO2gkxhUrv/d8ri8AANxHAgYAAAC4wu3ff1APj3kyW2Nahtq1a+q/772hKlUCzSJJ0qLFn2ruvLfNcKYe3W/QyzOmyNfX1ywCLHf69Bk9MnaCwsKOm0WSJF9fX82ZPV1dOncwi4ArQn7u+VxfAADkDnPAAAAAAMizS5fitWXL72bYzp69oYqIOGWGgQJx+EiYjh8/YYYzJSQkaOPG38wwADdwfQEAkDv0gAEA4AqTkpKi/3tlrn7bvN0ssuPnV05TX/yPmjZpZBYBpdL583/rmYkv6NTps2aRS02aNFTjRg107bWt1LxZE1WqdJW5SrGXn6ehz52L0r/vf1QnT0aYRZkqVvTXwgWvqXnzJmYRSqHZc97U+p82meFci4mJ0T//XDTDdhydWzn1yJKkgQNu1osvTDTDKGBbtv6uadNfM8NuKevroxYtmqlBg/rq2rWL6tWtrTJlypirwQ35ueeXpOsrOjpGHy76RP842M+6dWpr+LDB8vHxMYsAALAUPWAAALjCnDp9Rr/9tk3h4REul0OHjmjz5m3my4FSKzU1VafPnM12LeS0rF+/Ue+8u0hjxk5Qr963asAtw7Vo8Wc5NhyXFuXLl1ftWjXNsB0fHx+VLcvwY1eKf/65mO06ycuS12uoUaMG8vR0/aduhQrlzRAKQUJ8Qrbj7O5y5Ogxff3Nt5o77y3dMfQedeveX4898R/t2bNfPFdaeErS9XXx4kWtXrNWy5d/nW355dctSk5OMV8CAIDlXH9rAgCAUufw4aOKPHXaDDu0fftOJTiZoBWAYxERpzR33lvq3XewXpk1T7GxseYqpUq5cmXVq1ewywa5jh3aqm7d2mYYKBDNmzVRo0ZBZjhT+fLldVPfXmYYJUzGUFej7nlYY8ZO0OnTZ8xVUABK0vV18WKMLl26ZIYBAChUzv9KAgAApY7NZtP6nzYpNTXVLHLowMHDzNsA5FFKSoo+W7pcQ26/W5u3bC/VT2iH9OujAQNucpiEadWqucaNGy0vLy+zCCgQAQGV9eQTY1S1ahWzSL6+vnp0zP265poWZhFKsM1btmvUPY9o1669ZhEsVpKur7NnzzkdZg0AgMKS/S8kAABQap3/+4L27Q01w06dOxelHX/8aYYB5MLZs+f0xPjJ+uKLlaU2CePnV07PP/e0PvzvAo0Yfpt69uymoXcM0uuzZ+i/772h6tWqmi9BKVYchh/q2LGdli9bpAlPPaqQkD4KCemjhx/6t1YuX6KhQwfLw8PDfAlKuLNnz2n8U89qz979ZhEsVlKur7PnzpkhAAAKHQkYAACuIIcPH9Xxv06aYZe2bt2hlBTGyAbyIyEhQXPmvqV16zeaRaWGh4eHWrVqrglPParXZr2kic88ruDg65kk+wpUrVr2J+OLQvny5TVi+G2aNnWypk2drAfuH6Xq1auZq6EUOX/+by1867+Ki2PYqYJWEq6vmJjSPQQoAKBkIAEDAMAVZMOGX5WUlGSG1bBBfbVs0cwMS5J27d6nU27OGQOUZt7e3urVK1hDhgzUta1bqVatmirv52eu5lRCQoJenjlHoQcOmUUAAElVq1bRLbf005AhA+2WLp07KDCgsrm6Q1u2/K6Nm34zw7gCHT163AwBAFDoPGyldRwEAABg5+LFaI0d97T27Mk+NEdISB8F1a+rBW++bxZJkqa9NFkh/fqYYaBUOXcuSv++/1GdPBlhFkmSKlb018IFr6l58yZ28ajzf+ubb77Tp58t05kzOQ930qP7DXp5xhT5+vqaRUVm//6DenjMk07Hyq9du6b++94bqlIl0CwC8iQu7pKeeHKytm3bYRZlen32DAUHX2+GUYJt2PCrHh8/yQxn6tixnea8Nl1+fuXMIknS6dNn9O77S7Ry5SqX89n16d1DM6Y/x9xTToSHR+j+Bx/X6dNnzCKplNzzExMTNeGZ57Vxo+NkXE7nGgAAViEBAwDAFWLnzt0a8+gEXboUbxbpyfFj1KhRA417bKLDHjL9bu6tqS/+x+2GjLi4S4qLizPD8vD01FUV/bMNSXTiRLhWrFyljRt/1alTZ3QpPl5VqgSoxtVX647bb1WPHl1d/oF87lyUVq3+Qd//sE4REaf0zz8XFRhQWbVr19Ktt/ZTn949VL58/uYkiIu7pN179umXX7bo9x079fff/+js2XNKSUlRYEBlVap0lTp37qCbb7pRLVo0dTgZuTOJiYlOG77zwtPTU5UqXeX2NsTFXdIvv27R2rU/ad/+g7rw9wXFxsUpMKCyqlWvquuv66QBA25S3Tq1cz2ue2pqqi5c+MdhQ5mvr6/8/SvYxVJTU7Vv3wF99fUabd22Q6dPn1VSUpKqVAlQg6D6GtD/phzPh7zKawImQ0JCgha8+b4++XSZw/3N4O3trZenP6devYLNIrecPn1GP6z9ST/+uEEnT4Yr6vzf8vX1VZXAADVp2kjdunZRzx7ddNVVFc2XOpXfBIyzaz6DeaxdnRdyca9wJqdrqGJFf/n4+JjhbDLOv2+/+1FbtmzXqVNnFBsXp6uuqqgqgQFq06a1evXqpo4d2rq9bXJRP8728/TpM1r2v6/147qfdeJEuMqUKaPq1avqpr69dO89/1JcXJxldeds2zK4W3e5VZAJmPyeX9HRMUpISDDDDu+tNptNoaGHtGLlN5n3rOTkZFWtWkUNG9TXHbffquuv7+T0s+TiO7Bxo4a69dYQdevaxZKE7T//XNT6nzbq++/X62jYMZ07d14eHh6qWrWK6tero+uv76Q+vXsU6DBS+U3AKL3OFy9Zqjfmv+P0GNerW0fvvTcvW6+Z5ORk/XMxWjYHr/Pz88v2uXFxl/TTT5v0xbIvdfjw0cxj07JFMz315KOqUaO63fqmgrqnOJN1ezO+H666qqJq1rxa/W7urcGD+qt8+fI5ft+5uufn9/pyJTU1VcePn9B336/Tli2/K/LUKbvztHq1qrrxxmCX52nGMY6LjdPzL7ysnX/uMVeRJLW5tpVefOE/KleurFmUq/tecfoNlZycrF9/3aovln2pPXv3Z/4erl+/rsY/Mcbp7xcAQMEiAQMAwBXi7Xc+1NvvfGiGVa5cWS14Y5Zq1Lxa998/TuERkeYqqlOnlt59e67b4/ovWvyp5s572wzL09NTc19/WTdc31mS9M/Fi3p55utau/Ynh39cZqhcuZJemPKMunbtYvfHa0JCghYt/kzvvrfY5Tw1FSv6a9LEJ9SnT89c/fGb8Yfs+x98pL17Q11uY1bVqlXR4489rL59erqVBMmpQSq3XDWcZHX69Bm9/c4irfl2rcPGRlP9+nX18Oh7deON3d3aL+WQ1OjSuYNee3VaZuPH7zv+1P/93+s6fCTMXNVO5cqVNPXF/2SeR1Zxta1yIwEjNxsGJemG6zvr1VlTc9WoevToMU2b/qp27d7n8r0lycvLS3fcfqvGPHKfW8nH/CZgnF3zGQYOuFkvvjAx898pKSmaNPkl/bD2J7v1Mnh6euq1V19S9+AbzCKHFrz5nt7/70dmWEqfp2DBG6+odeuWZlGm1NRUff/Der0+d6FbvZgqV66kCU896vY17qx+vL29NW/uTHXu1F5Kb8hb8OZ7+vyLlQ7vaX1699BLUyfpxamvaM23a83iTO72WrTZbHrxpVf01VdrzCJJUvXq1fTeO6+rVq2aZlG+FWQCJr/X8vMvzNTX33xrhlWp0lVa+OZratqkkSQpIuKUnnt+hv74Y5e5qp369evqpamTsg31GRsbq1dmvaFVq793eU3XqlVTLzz/jNq3u9Yscsvp02c0Z+5b+vHHnx2eV1l5enqqZ4+ueurJsU4buPMjp+87dxIwSu95+PDD451+Xzg7xq7udSOG36YJTz0qpV8bP/ywXv83a57+/vuCuWqO10ZB31NMCQkJ+mzpCr333mLFukiolvfz05gx96tPn556ZMxTOnToiLmKlMM9P7/XlyMJCQla+eVqffDhx27Vl6enp7oHX69HHx2t+vXqSG5sV264c+8p6t9Q3bpdp1n/92Jmouj3HX9q+ozXdOzYX+aqmb/127S5xiwCABQC9+76AACgRIuLu6QdThqIAipXVo2aV6typavUoGF9s1iSFB4eqf2hB8xwrqWmpmb+Ybh3X6juGvmQvv9+ncuGJ0n6++8LenriC3YTmEdEnNIjYyforbc/yLFB6eLFaD3/4v9p1ervzSKHEhIStPTzFbqp3+16fPwk7XajwTurM2fO6dnnpuv/Xpmr5ORks7jIpaam6suvVuv2O+7Ryi9XudVwIEnHjv2lZ/7zoh4Y/bgiIk6ZxbkWGXlacZcuKSEhQXPnvaWHXDSmZfX33xf01IQp+nHdBrOoyHl4eGj4sMEK7nadWWRnf+hBnXDQoOJIRv0MG3Gfdv65x61zMSUlRZ8tXa7hdz5QLOec8fLyUvfuzpMrqamp2rrVecN8VnFxl7Rr9z4znKlRwyA1aOD43qb0e8kDox/XpMkvudXwp/RzcNLkl/SfyS/la5LnpKQkxaa/PiYmVk9NeE6ffvY/p/e0Jk0aycfHR/1D+srb29sszvTzz784fY+s/vnnovbvP2iGM7W+poWuvtr1E/5XkosXo3XuXJRsNpt+3vCL7rzrgRyTL0q/dz72+H+0Z+/lIUD37gvVyLsf1tfffJvjNR0eHqEnn3pWO3fuNotcSk1N1WdLl+v2O+7R99+vc+ucSE1N1Y/rNmjYiPu0cdNms7jYCKhcSU2apiXCHLl0KV4Xo7MnWVz55+JF2Wy2zET6pGenOUy+SFLtWjVUqXIlMywVwT3l9JmzemD045o77y2XyRdJio2L0yuz5mn69Ffl7Z37HipWs9ls2rZth24feq/+75W5btdXamqq1v+0SSNHjtbnX6xUYT5XXFx+Q8XFxikp/Tfmj+s2aOyjTztMvijLb30AQNEgAQMAwBXg+PETOuCkEbZBw/qqXOkq+fj4qEnjhmaxlP7H5ubN2y35Azci4pTWrdughx4ar/Bw9xqgZUxgHnrgkEY/PN6thq8MCQkJemP+uzpy9JhZZOfw4aMa8a8H9H+vzHXa8OKO1NRUfbHsS8169Q23Gr0KS3Jysua98bZemvZqjg01zvzxxy7de99Y7duXv6RcbFycTvx1Uk9OeE6LFn+Wq3pKSEjQ229/oNNnzppFRc7X11cj7xrmsufJ+fN/688/c25MjYmJ1YSnn891/WQID4/Q2Eeftmv4LS6ubd3S5RP2u/fsc/iUuun06TMKC3M+0XKXLh1UoYLjY7Fv3wHde9/YXN1Lsvrhh/V6+pnnc91gmtWJk+FKSEjQlOdnaPOW7WZxJm9vb7Vq1VyS1KpVczV10fi8a/c+nTp12gxnc+zYXzp5MtwMS+lPmPfqFez20JNXgtTUVEVGntbHn3yhpyZMcev8zHD+/N+aOvUVnT5zVhs3bdaYsROcNpY6cvFitGa+8rrOn//bLHIoOTlZ//fKXL362vw83esvXozW0888XywT3UpPdnt5Oj83k5KSlBDvXsN4hrNno3TpUrz+t/zrHHsxNmnSSOX9/Mxwod9TIiNPa8zYCQ7n93Plp59/yfd3eH4lJyfr/f9+pEfGTsjV78GsYuPidO5clBkuMMXpN9TpM2d1Ke6SNm/Zrmefm+4yEZTxWx8AUDRIwAAAcAXYvXuv04aiJo0bZg5f0KbNNU6HRdjxxy79889FM5xr/1v+tZ75z4t5+sP1/Pm/NePl2Xrs8f/k6Y/1s2fPadmyL10mkgICKsvHx/mT5bn11dffatv2P8xwkUhOTtb8Be/qo4+/cNmw5I6zZ89p3OMT89Wwf/7833pk7AT9+utWs8gth4+E6eefNpnhYqFx44Zq1DDIDNvJqfElJiZWkya/pE2/5O8p9PPn/9a06a+63XBbWK6+urpaX9PCDGf666+TCg/PPiSiaX/oQacNcOXLl9d1XTqaYSm9/p94crLOnnXviWtnNm/Zrrfe+cDlfcWVM2fO6YtlX2qDk4miMwQEVFbtWjWk9CF+XA3Bd/r0Gf25a68ZzubPXXsczgsmSTWurp6Z8MFls+e8qdfnvpWnhOjhI2F6/oWXNWnSVKffya4cPHhEa50M25dVcnKyZr36hv63/Ot83esTEhL0yqx5OT64UFpcuPCP/vxzj956+4Mc661lS/vh5FQE95SYmFi9NG2WjpbA45ORfHGnF7MrXTp30KiRw3M1vGxeFbffUPHxCTp06Khmz17gMvki47c+AKDwOW5hAQAApUZiYqJ++c1xA7enp6fdeND169VR1aqO53k5duwvHTh42AznWmJiYr7+2N6zZ3++Gjc2bdqsiEjnQz8EBFTWqLuGO01E5VZCQoI+/viLHP84tlJw8PUKDAwww/p5w69a+vnKfDccZDh//m/NevWNPCfmUlNTFR/vuPHXXWu+/dHtJ4ULU4UK5dWhQxszbOdkeKTi4i6ZYSl9WJYvln2Z7+RLhoMHj+iLZV+a4SKV0zBkFy9Ga9/+UDNsx2azaauLOUScDT8WExOr1+cuzNe9JKsvv1yj3S6GQXPlx3U/6733l+R4XZpDHt14Y3cFGBOMZ5XTMGSJiYlOh6aUpNatW+pqFz2UrlTx8fE5HitXtm7dkacHEDK4c89bt26DVn65Ol/bmeHs2XP6738/cnkuFYW4uEs6dfqMGc5UsaK/098zzkREnNJLbiSr/f0rqF76vCMZCvuekvEd4arXXHH2/ffr9e57i/N1jtarW0fPTn7KaQ9HqxW331D//HNRM1/Jed48SWrezP35eAAA1rOmZQEAABRb4eGRTsf4r1q1SubkpZJUuXJl1a1b226dDElJSdpeTHpy5EfkqdM5Dvtyww2dHT7d6uXlpfr162rggJs1ZMhADbq1vxo2qJ9jsmbnn3t04ED+k1fuuOaaFnrgvlHZngY9cSJcr7nxlORVV1VUz57dNGTIQLVq1TzH4Yd2796njz/5IscndQtK2LHjOnHC8RBKRS2nBo/IyFOKc9IQu3Pnbv33g4/NsJ3atWvq6QnjtHjRQr3z9usaO+YB1a7teEJoSfrmm+8UHpFzj5LClNMwZFu37nDZ8JvTHCYdOrTJ1jiXNr/DZ9r++067eFaenp667rqOmjljij5f+oFem/WShgwZ6HDIIaVPpr708xUut9WZM2fOudUbwhzyKKh+XXXu1N5unaxyGobs7NlzOnjQ8QTcnp6e6tu3Z47XPwrf8b9OuLyOT5wI1+vz3lZSUpJZlKly5Up65OH79M7br2vxooWa+MzjatLE8RCkkrRh42/au9d1MrSwHT581GUvwnLlyqlixQpm2KXY2FiX10yGq6+urlo103qjqYjuKUfDjuuzpcvNcDZeXl5q0qShBg64Wc2aNpavr6+5SqE7cvSY5r7xtluJjKy/Sbp07pBZX76+vho79gHVLKR5TYrjb6ikpCS3fv9UqRKooKB6ZhgAUIhctxYAAIASz9XwPE2aNLR7QtTPr5zLIYG2bP3drYZCd1WvXk0zZ0zR1s1rtWP7T1r/41cKCeljruZU5cqVNG3qZG3+9Xvt2P6TNm1Yo/vvG+kyIZKamqrQUMfz4WS46qqKunvk8MxJruvXr6sXnp+on9d/o+XLFuvFFybq2UlPaspzE/T50g/0xtz/c/kkemxsrP7Y6fxJ8+Dg67Vj+085LuOfeMTlvpUvX16Pj3tIV11V0S5us9m09IsVLhuWPD099eADd+vb1V/otVkv6dlJT2rxhwv1yUfv5DiU1pdfrdFRF3NwuMPT01M39grWlys+1u/b1mvH9p+09vsV6n1jd3NVOxcvRivSRY+mohQQUFnlypU1w5ni4xMUHR1jhpWQkKAlHy1VbKzjp9w9PT01+sF7tHzZYg0fNkStWjZXh/Zt9O97/6Uli99y2igfHhGpP//cY4aLVE7DkIUeOKSoKOdPo7uaw6RcubIOh+k6GnZcX361xgxnCgiorAXzZ2nBG7PUt28vNWoYpJ49u+nZSU9q/vxXnF7rO/7Y5fIac5eXl5du7BWsD/47X99/+z99/+3/tHjRQt1+2y3Z1usf0jfzPmXKaRiyw0fCnD6tX6tWDTVv1tQMW6pcubKqWjXQDJcoTZo01NsLZ2v71nXasf0nff3Vp+rQ3nXPt6zq16+rBW/MytV34IUL/yj8pOMhON251/cP6auvv/xU9983Uh3at1Grls019I5BWvTBmxo8qL+5upT+HbZxk+sh8gpTTEys3nr7A6f3SEmqW7e2Kld2fK3mRqOGQXp5xhStWf2Fvv/2f1qxfIkmPv2Y/P0vJ3cK+55is9m0bNmXTq/fDB3at9E3X32qzz55Xy++MFGffPyuNv68StOmTlbFiv7m6oUiJSVFn3zyRY7bXqtWTb254FX9+MPKzN8kby54VWt/WKHHxj2kR8c+oF49u9m9pkqVQH218pPM30yvz55hV27q2LGdNm1Yk+231o7tPyk4+PrM9dy5ror6N1SGatWqaOLTj2nV10v1/bf/06qvl2ra1MmFlqgCADjm/C94AABQ4qWkpOjnn38xw5kcjQndoUNbpw16YWF/5dh7xF29b+yuzz59T3379lKZMmWk9MTHhCcf1TUuGmQzdOncQZ9/9l+FhPTJ3Ac/v3K67993OZ3zIcNff500Q9nccENn3XH7rZr92nQt+/xD3TLwZvn5lTNXk4eHh667rqMevH+UWWRn374DTp9kdUfogUP6cNGnLp8Y/fe9/7IbUi5DROQp/fyT8/NAkgYN6q/77xuZ7enYxo0b6rVXp+nqq6vbxbM6e/acW/MSOFPez08vPP+MXvm/F1WnTq3M3jsBAZX1zDOP59h4ccJJA3xR8/X1dXotKX0IqHgHk0QfOHBY27Y7f5K6d+8euu/fd2VeN1ldVbGiHn7o3ypf3vGQLDkNS1XYchqG7NSpMwo75rxhytUcJg2dDD+2du1PThv/PD09Nf7xR5wmsa5t3Up33H6rGZbcSHi4o1atmvrwgwWa9cpUXdu6lapUCVSVKoFq1bK5wyeYmzZrrHpOei0qh+O9desOp/eTtm1bF3hyJKdJ1IszT09P3fWvoVr0wZvq2LFdZmK8Vs0aeu7ZCS7vl0p//S239NNHi9/Wddd1tPsOfOLxR/J8z8vpXn/NNS301JNjHX6X+fr66t//vsuuZ0dWVj+AkRc2m02HDh3RQ4+Mz3HorRt7dnO4n+7y9fXVhKce1Wefvq+b+vZS9WpVVaVKoOrVraO2bVvb9Wwo7HvK+b8v6HcXvW0kqUGD+nrxhf9k62FYpkwZhYT00axXprp8QKCghB37Sz9v+NUM22nQoL7eeWuOunTukO2hE19fX909arjuHHF7tp6+BSWn60pF/BtKWe5JX674WEOHDlaNGtVVpUqgatSork6d2mXbLgBA4SIBAwBAKXbq9BmnQ3R4e3urQ4e2ZlhB9evp6qsdDwkUGxur3zZvM8O5dv31nfTC8xN1VUX7nhpKb4Dq1LGdGbbToX0bvfJ/Lzqc58TX11ddunQww3bOnj3ntNE2g6+vr556cqx6dL8hWwOAI9e2uUaVKl1lhjNFnjqt2FjHw03lJCYmVvPmve1yXPounTvojttvddggsWfPfkW6eHIzIKCyhg8b4rBBX5Lq1KmlW2/pZ4bt/PLrljw1zpUrV1YvvTRZA/rf5HDbAwMq55iQcyehVpL8tnmb0ye7K1b0190jhzs9VpLUqFEDtWjhuPfCseMnHPa6KUquhiFLSkrSnj2OJynOaQ6Tzp3aZ3vKOyYmVps3O2+4bd++jXr06GqG7QR3uz7b+2bIzzBNAQGV9fKM59SyRfbhD50JDKisG130EnM2DNnFi9Havcfx/BLe3t7q27unw+sRaYbeMUjjHn3QYaNmzZpX65pWzc2wnQEDbtKzk550mCDIzz3P1b3e29tbd48cnq2HZFY1a1yt9k7mrjp16oyios6bYcsdO/aXXnl1nqbNeM1ueWTMU+rV+1YNG3Gf0981GWrVrKEbunYxw27z9PTUQ6Pv1fBhQ3L8/i+Ke8rhw0d13Mk5oPTtf+D+UapRw3mjf4Xy5V0+IFBQfvlls8vfMhm/vVxte2FzdV2piH9DZRg0qL/TexIAoOi5/jUBAABKtMOHjzr9o/Hqq6spqH72J6oDAyurWdPGZjjTjj92OZ043F2BAQEOG54yOEsAZahR4+ps8zpkVad2LTNkJyU1NU/jbZuio2O0Z+9+ff/9Oq1cuUpJScnmKpkuXPhHiYmJZjhHNptN/1v+tcuJxgMCKuuRR+5zWie7du11+qS7JLVs2Ux167iuM1cNRJJ08mSE03PNFW9vb1WvVtUM23E2L1GG5GTHT/iXRImJidq333nj4jWtWqhBg+zXbVZ+fuWcTp5+9uw5nT5z1gwXqauvrq52bVub4Uy7du91eO24msPE2fBjZ8+eczl/hjtPzVetGuj0WggLO55jcteRjAbfVi1dN9w7cuON3Z0OYeTsCfrw8Einjfj16tZW02bOvwMgVa9e1Wljq5eXl6pUcd17KKh+XaevVz7uea7u9fXq1ta1DnpIZuXh4aGg+nXNsJQ+YXhEIQz3ePbsOX311RotX/613bJ5y3a3Jiv39PTU3XePcNqTxx3B3a7T8GGD3UpCFsU9Zc+e/S7n+GkQVM/hAzZFLaekudIfsGmbw3la2FxdVyri31BKHwrxkYf+7fKeAgAoWiRgAAAopWw2m9b/tMnpH43NmjZWYGD2RjsvLy+1bt3SDGc6cOCQjh8/YYYtVbXK5XlpiovU1FSFhR3XosWf6Z5/j9F1N9yk7j0HaNTdD2vipKla+vkKp70W8mPv3lB98OHHTo+jp6en7rl7hNOG20uX4hWWw9jira9pmW0oOlONGtWd9lJQeoLp9KkzZhi5FB0Tq7+OO24Yl6SdO3fr9qH3auCtd7pc1q3bYL5USh+WMDnZeaKwKHh5eSk4+HqnT5ofPHjE4fA+ruYwqV27luo7aEiOiDzl8unrd99bnK0uzWXUPY8oMtJxQ1lSUpJSbY6vVVcaBNVTT2M+A3cF1a+r9u2uNcOZHA1Dtm9/qNOnrdu3b6OAypXMMHKhWrXC/w7L6V5/4mSE7rnnkWzns7l8uOhT86VS+ndggoMhE4ubQYP6a9CtIWbYbd7e3rr9tlvd7klQFPcUZ8nTDE2aNiqW13BO32+S1KPHDW7XfWHI6bpSMfgNNWTQAKdJeABA8eD4rxwAAFDinf/7gvY5GLoiQ6dO7ezGMM+qZYtmTscGv3gxWrt3Z3+iurT655+LmvfGO+p782267Y67NXfeW9q1a68SEgq+Ieqffy5q1mtvOG0olaTOndtryOCBZjhTQkKColw0Dim9ATcnPj4+LodYk4t5Ca5UF6Ojsz25nFW5cuVUseLliZwl6eI/FxUb53youti4OIWHR+S4OHuP6OgYRZ0r+GGEcqtVq+aq4WSM/LNnz+nwkTAzrD179jtNTHZo38bh+Xrq1Gmnr5GkqPN/Z6tLczl16nS2hEaG02fO6lIeegg2b95UgXlsQPPy8lKvXsFOE1jmMGQpKSnautVxjzpvb29163qdW0/+o3jJ6V6fkJCg8IjIbOezubjqZVKc7/Genp4aNXKYJj79WL56AlSvXlVNmjQ0w04V9j0lLu6STp123VAfVL9esbyGc/p+8/evoGbNmpjhIpXTdaUi/g1VsaK/rrnG+UNTAIDiwfGvdAAAUOIdCD3kcozwt976INtTmBnLpGenKTHR+fAWv/y21eGQQKVJQkKCFi3+TAMGDteHiz5x+YRrQbDZbPr4ky+0e7fjeRokqWrVKhr/xBiXw5skJyfr0iXXDcLuNFa5GtYqQ3HrWVHUoqLOuxwmpqyvr8qWsz928fEJpf7acuTq6tWc9rxLTU3NljCIi7ukXU6uDW9vbwUHX2+GpfT5GkqjDh3aqkGQ46Hpzp49pz1ZkvFRUX8r9MAhu3Uy1K9f1+n8QSje3LnXl1aVK1fSjGnP6rFxD7n1fWal4nhPKVPG8cM1RS2n7zcvL69CP345cee6cmeb+Q0FAFc2EjAAAJRSv/y6xWXjr6unMl09jSlJ+/cfVHi48zHPS7p/Ll7UkxOe09x5b7l8WrMgbdn6u5Z89LkZzuTp6anHHh2thg3qm0UoJhxNnpxVtepVVa6s455mBaVcubIux6EvKjkNQ7Z7zz67nmCnT59xOixM/fp11bRJIzNcKCpVuirHoWgKQmBAZd14Y3czLKUnsH7bvC1z3quwY8d1yslQN856DgFKT/oXJ/Xr19ULz0/U119+qr59exXLXh/5VVT3lKJQoUL5PPcEBACgOHP8Fw4AACjRLlz4R9t/32mGLXPuXJT2hx40w6VCXNwlTZr8kn79datZ5FBgQGX17NlNw4YOtmwM7tNnzmr27AUuhznr3buH+vbtaYYLTEpKiuLjnQ+nBXsXL0Zr9x7HPTQy1K5Vw2XvpYLg7e1drMbXz8rVMGR//XXSLukbFnZc585F2a2ToSiTCOXKlXPraeiCcOON3Z3eg/bvP5g5tFRo6EGHyXlXPYcASapQvrwZspyvr69q1ayhWrVqZluubd1KI4bfpv+b+YJ++H6Fli9brFsG3lzo99HCVJT3lMJ28WK0zp51fF8v6fgNBQBXNhIwAACUQseO/aWTeRhLOjccTexcGqxe84O2bPndDNvJeOp23dov9cP3K/TarJd037/vsqQRKDk5We++t9jhnBcZ6tWto3FjH3SrUcadccdjYnMeQiUhIVEXXMwNoPSnV5Fmz579OnDgsBm20759GzOkihUrqJwxLFlW5f38sjVK5mZp3KiBqlevar5tseBqGLKLF6O1b//lHkW/7/jTrjxDTkmEnJ7gDwyonK3OcrM0bdLIkvtAXtSpXVPNncyfcPJkuI4d+0spKSnat++AWSxJatq0kdPXo/jL6V7vKrHhztKsaWPVrHm1+baWa926pZZ+9l99/eUn2ZYP/jtfE556VH169yg2PSUK+57i4eEhLyc9BTMUx2HR5Mb326VL8boY7XzOu6KQ03UlfkMBANzg+psbAACUSL/8usXl5N9W2LfvQI4TwZY0MTGxWrXqe6cT6np6emr0g/fo88/+q1sG3pzjH+V58fOGX7Vq1fdmOJOvr6/Gjn3A7YawsmV9VblyJTNsx9lQTllFx8QowsWwc56enrraSe+FK01MTKw+XPSJw14GGapUCXTY2F2+fHmXQ4S1aNlMSz99P1vDpLvLu+/MddpLoqjlPAzZftlsNpe9i+rVra1GjRqY4UyBgQHy9vY2w5nuumtotjrLzTL+iUfMtyw0vr6+GjDgJof1d+lSvI4cDdOFfy7q4MEjZrEkqXOn9i7PPRRvOd3rq1WrovffeyPbOevu8snH77q8tq5UhX1PKVeubI5Jn7/+OlksH5DJ6fstKSlJocWsd3VO15X4DQUAcEP2X+cAAKBEi4mJ1fbtBTf8WIbIU6e1Z89+M1yihUdE6vhfJ8xwpt69e+i+f9/lVs+TvIiMPK2Fb/3X5dBj/fv3VXcXT/ibfHx81KRxQzNsZ9fufYqLcz3J7LFjf+nM2XNmOFNAQGXVrOFeUqg0S01N1RfLvtSOP3aZRXY6dmirunVrm2H5+1dQ/Xp1zHCmffsO6PDho2a41HA1DFnGMFpRUeedzmHSvn0bBbhoLKtdq4bLBNRPP/1SbJ8ed0eHDm3VIKieGZYkbd26Q0ePHtOZs2fNIpUrV1Y3XN/ZDKMEyeleHx4eqT92ur4vIfeK4p7SoIHjazxD6IFDior62wwXuZy+3yRp3fqNmcMlFgc5XVfiNxQAwA0kYAAAKGVOnAhX2DHnT+N17tRer/zfi24tQ4cONl+eyZzYuTQ4feqMLlz4xwxnCu52XYElX5KTk/X2ux/q6NFjZlGmBg3q6757c58A6tChrcsndPftO6ADBw6Z4UwpKSn6/vt1Lnt0NG3SyO1eOaVVQkKCXp/7lha8+Z7TXlRK76kwcODN8vLyMovk5eWlTp3ameFMsbGx+uSz/yk5OdksKhVcDUN2+vQZRUae1v7Qgw7nf/H29la3rte5nIi7atUqatLEeWPa7j37tGHDr2a4xAgMqKzu3W8ww1J6o+zWrTsc9o5s0rgRvRtKAVf3+tTUVH3y6bJi1bhdGhTFPaVRowYOe7plCA+P1Pbtf5hhO6m21EL//ebl5aUWLZqaYTt794bq62++NcMF4tKlS259l7q6rsRvKACAG5x/awMAgBJp67bfdfGi8zG0Bw68Wb1v7O7WcuvAfi6Hi/jjj12ldsJUR846eXrRZrNp3boN+aqL779fr2+++c4MZ/L19dWjYx9QjRqOewe40rJFM7Vo7rzRIzY2Vu++t9jpU7o//fyLVq9Za4btdOvapdhO7l7Q4uIu6auvv9Udw+7VRx9/7jL5Ikndu9+gDg7mf8lw7bXXuHyieu3an7Tko5w/J8OlS/E5NrRVrRro8lq3pdqU4ubn5YeXl5f69u3psHExYx6YvXsvzwWTVb26tdW0WWMzbMfHx0c3XNfJDGdKTU3V7Nff1J+79phFDqWmpha7iZW7db1O5R1Mlh4eHqlFiz81w5KkLl06MP9AKdCoUQPVc9CzLsPu3fs07423XfayzCo+Pt7t+8yVqijuKfXr13XaU1Dp7/HfDz9WZORps0iS9M/Fi5o//11FR8eYRQXuhhu6uPx+S01N1XvvL9HGTZvNIjvHjp9w2WNZkgKrBMjfv4IZzhQW9peOuJhvLwO/oQAA+ZX9LxsAAFBiJSQkuBx+zNm8E87UqlXD4TBJGU6dOlOqhkPyKuPlsOE3w8qVq7ON9f3PPxf1wov/p1defcPtRi3TkaPHNPeNt102dLVo0VSJiUla++PPbi1nzlxOFlWoUF79+/d1uW+bt2zXmEcn6NChI5mN9YmJiVq+4hu98MJMl/sWFFTP6VP3pcmlS/F6/4OPNG3Ga5o24zX9Z9JU3TLoTnXvOUAvvDhTJ09GmC/JpmrVKnrg/lEuezEF1a/rcpi51NRULXjzPU14eoqOHXfcAJWamqqdf+7RmEcnaMhtI3XUjTHqXTlz9pz++GNXjokcKzRv1lS1atUww5KkX3/bplAnTxrnNPxYhu7db1CQk2G6JOn8+b81duzTeufdRYp1MrlyRtJt0JC7NGnySy6vj8LWtGkjtbm2lRlWamqqw6e9y5cvr+u6dDTDKIECAyqrf/++ZtjOipWr9OBDT2hP+pxKJpvNpqNHj2nK8y+rT98h2rpth7kKDIV9T3HVUzDD0aPH9OBDT+i337ZlXvfJycla/9Mm3fvvsdqy9XfzJYUiqH5dde7U3gzbuXgxWuOfnKyXZ87R6SxzDaampurw4aOa8PQU3TH0Hk2f/prTpIfSf/NW9Hf+YEFsbKz+b9ZcnTgRbhdPTbXvHcRvKABAfjn/BgEAACVORMQpHTh42Axnqle3tqpVr2qGnfL3r6AGDeqb4UxJSUn65dctZrjEqlnjapdPZh7/64SGDv+3htw+Sv+ZNFVDbh+l3n0H6+tvvnWZPHElISFBCxa867R3TYY//tilZya+oKefed6txZzI9uabblS7tq3tYqbdu/dp2Ij71KlLb/Xqfau6XN9X06a/qti4OHPVTJ6enrrv3rtUvXo1s6jUSUpK0rp1G7R8+ddavvxrfff9Op08GeH2ZMe+vr56esI4NXRxTSm9F8idd97hcqLl1NRUrf9pk4bcNlL9Qu7QfyZNzUwMPTLmKXXvMUD/vm+sfvttm06fOasVK79x2Niawc/PTzVcjD+flJSkSZNfUvuOPZ32orBK1aqBauvkXF2/fqP+cDC/jqenp7p06eBy+LEM1atX04jht7lsTIuNi9Nbb3+gHr1u0fA779PUl2Zp2ozXNPWlWRp+5312SbffNm/XHzt3m29RZHx9fTVgwE0u9y+rRg2DXN7nUbIMHHCzyyGxlH6vH3XPw+rV+1Y9OeG5zHvHkxOeU6/et+r2offom1XfKTYuTp9/vsJl4zEK/57i5eWlgQNvzrHHRHh4hMY8OkGduvRWuw491KlLbz351LM6duwvc9VC4+XlpZEjh7n8raX0Ybu+WPal+vUfqo6db1Sv3reqQ6deGjr83/px3QalpKRoxx+7tPLLVeZLM1WudJUaNHR9bzt48IiG3D5KIQOGaeCtdypkwDANvm1ktvla+A0FAMgP578QAABAibPjjz8dzo2QoUmTRirv52eGnfLw8FCnjs7no5Ck7b/vdDlvSklSvXo1l0+xKr1R4Nixv/Td9+t07Nhfbje+O7Pm27XasPE3M2y5ChXKa9y40Tk2eih9H909poMG9Vffvj3NMAy+vr564rGH1KtnN7PIoYYN6uuB+0e5bNDLcPrMWX33/brMxNDmLduzNfh88813Cg113HNEkvz8yqlRwyAz7NDRo/nrTZMTDw8P9ezR1a19z1CrVg01b+Z8iBjTwAE3KbjbdWY4m5SUFB08eEQrv1yl5cu/1sovV+ngwSN2131CQoI++PCTHCdhLkwdOrRVgxzuZRl69LiB4cdKkYCAynr8sYdzbJxXeg/O9es3Zt471juYAP2XX7fql19Kz4MWBaWw7ykd2rcpsb0mmjVtrHvuHuH2Pd7Zb5LU1FR9uOhTp70ifXx8FNKvT46fk5KSolOnTis8PEKnTp3WuXNRiow4ZbcOv6EAAPnh+psIAACUGCkpKdq61flQIZ6eni4n93amYcMgVap0lRnOdPJkeJE+TWklP79yunVgvxz/WLfSoUNH89x7JrdatWyu/0x8wq2GOXd06dxBj497yOVwWpAqVvTXzJen6I47BrnVQyPDoFtDdNe/7rDkfLx4MVofffy5y4ThDdd3djnRcIZTp8+4bBi0gqthyBxp27a1qlYNNMNO+fr66plnHlerVs3Nojz5/fed2rip4BOp7gqoXEntXcwzlKFiRX916uh6OCCUPJ07tdcTjz1kyb0+KSlJSz763OVQTyj8e0qZMmU0buyDqle3jllUIgwfNkSDBvU3w7l2/vzfeuedD5320urYoa0aNXLv4YIMly7Fa+++7HON8RsKAJBX+f9rDgAAFAunTp3Wrt37zHCmqlWruP2Ee1Y1rq6u2rVrmuFMly7Fl6phyHr06KrOnXPfIFnez0/jn3hENWs6H8bJkcJu1OrVs5umvvifXPWEcuT66zvp5Zen8OS8C56enrqxV7CWfvq+ugffkKvki9Ib2MaOeUAPjb5XXl5eZnGubf99p9M5YySpTZtr1KbNNWY4m8jIU4pzMaSKFVwNQ2by9PRUzx5dc12/1atV1ZzXpqtL5w5mUa6lpqbq229/zHHy7MLi4eGhfjf3Vvnyrq/Ppk0bq169ktmAC+c8PDx0xx2DNHnS+Hzf6yVp3/4DDhukYa+w7yk1a16tF154xq1eGSZfX1/dMvBmlStX1iwqFGXKlNHEpx/TqJHD8v2QweEjYQoPjzTDUnqPsIcf+neukya7du11+MACv6EAAHmRv286AABQbOzZG+pyHpG6dWurcuXc/5FesaK/rmnVwgzb2b59Z6EnEgqKn185TXnu6Vw9xdqiRVMt+vBN3TbkFtWtU9ssLlY8PDzUp3cPffTR27rmGtfH1ZHyfn56bNxDem3WS7qqYkWzGOkNWwMH3KxlXyzSrFem5mts9zJlyui+f9+lN+fPUv36dc1it3h6euq66zpq4YJXXc4/4+dXTo89Otrl3DNK701z9qzzoQ6tkJthyHI7/FhWgYEBmjN7uh4b91CeG9TK+/np7lHDNe2lSSpbtmgaMx1p2rSR2lzbygzbubFnN/n5lTPDKAU8PDw0oP9NWvThm3m612do0aKpFi54NcfhSJGmsO8p17Zupbmvv6xatZw/KGOqVaum5r/xih59dLSqVXV/XkCrlSlTRo+Ne0hzXpuuypUrmcU58vT01MABN+vTj991OY9VcLfrc90j7NjxE4qOjjHD/IYCAORJzn/RAACAYs9ms+m3zdtcDmXV+poWeW5oa9/uWjNkJ+zYcZ04EW6GS6zq1arqrTdn6847b3f5B3u1alX0/JSn9f6789SgQX2VK1dWNWpUN1crlurVraMP3p+vua/P1DXXtMixodvfv4JG3jVMK5Yv0d2jhruslyuJl5eXrr66urp07qAHH7hbHy1+Wxt/XqUXX5io+hb1LPDw8FDHju306cfvauqL/3E7ERMQUFkj7xqmVV9/pgVvzHLZQJWhRYumeuftOS4bltISMM6TvVZxdxiy3A4/ZvL19dXdo4ZrxfIlGnnXMPn7VzBXycbT01MNG9TXC89P1Hff/i+tsTWH3iaFzdfXV82aNTbDmQICKqudG8OUoWRr0KB+ru71Sm8kvuWWflr2+YdasugttWt3ba57mF3JCvue0rJFM332ybsaMfw2l9/NGYmdzz55V+3bXSv/CuVVt17RPjTi4eGhbt2u0+pvlur5KU+71YvY19dXfXr30LIvFunFFybmWE8eHh4aOnSwPl7yttpc2yrHa8DLy0uVrqrocqhNfkMBAHLDw2az2cwgAAAA0sTFXdL27X9oy9bflZCYKEmqEhig7sE3qGnTRjn+0V1SxMTE6s9de7R9+05Fx1x+6rNJ44Zq376N6tWtzTjlxciFC/9of+hB/fnnHp2LOp8Z969QQa2vaaFWrZqrSpXAPDea2mw2RUae1m+bt2p/aNoEx2W8vNSsWWNd27qV6tWrU2rOfVNqaqoiIk5p375Q/blrb+Z1L0l1atdSy5bN1KJ50zwntAtLXNwlPfHkZG3b5nhusBuu76xXZ02lIfAKExd3KW1Isb2hOnHy8oMTvj4+urZ1S7Vo0Uw1a15daq/volCY95TExETt2r1P27f/kfnd4F+hgrp06aC2ba6Rj4+P+ZJiJ+r839r15x7t2r3P7vdIndq11L79tWrSuGG+9uPChX+0d1+o3e+djO+3Ro0a5On9+Q0FAHCFBAwAAAAAlDK7du3VmEefVmxs9uEhPT09NX3as7qpby+zCAAAAICFeKwFAAAAAEqRmJhYvfX2Bw6TL5LUqFGQOnZoa4YBAAAAWIwEDAAAAACUEqdPn9HzL7yszVu2m0WZhgwaoICAymYYAAAAgMUYggwAAAAASqg35r+j73/4SZKUkpKis2fPKSUlxVwtU5MmDfXm/FdJwAAAAACFgB4wAAAAAFACxcVd0p69oQoPj1B4eIROnTrtMvni7e2tf9/zL5IvAAAAQCEhAQMAAAAAJdDff/+tv/46aYadGjjwZvXqFWyGAQAAABQQEjAAAAAAUAIdO35CZ8+eM8MOdencQY+Pe0hlypQxiwAAAAAUEBIwAAAAAFAC7dy5W6mpqWY4m943dtfLL09RhQrlzSIAAAAABYgEDAAAAACUMImJiTp46IgZtlOtWhXNmP6cZr78vK6qWNEsBgAAAFDAPGw2m80MAgAAAACKt6jzf2vL5u3atXuvklNSJEllvLzUsmUztW3TWjVrXi1PT565AwAAAIoKCRgAAAAAAAAAAACL8TgUAAAAAAAAAACAxUjAAAAAAAAAAAAAWIwEDAAAAAAAAAAAgMVIwAAAAAAAAAAAAFiMBAwAAAAAAAAAAIDFSMAAAAAAAAAAAABYjAQMAAAAAAAAAACAxUjAAAAAAAAAAAAAWIwEDAAAAAAAAAAAgMVIwAAAAAAAAAAAAFiMBAwAAAAAAAAAAIDFSMAAAAAAAAAAAABYjAQMAAAAAAAAAACAxUjAAAAAAAAAAAAAWIwEDAAAAAAAAAAAgMVIwAAAAAAAAAAAAFiMBAwAAAAAAAAAAIDFSMAAAAAAAAAAAABYjAQMAAAAAAAAAACAxUjAAAAAAAAAAAAAWIwEDAAAAAAAAAAAgMVIwAAAAAAAAAAAAFiMBAwAAAAAAAAAAIDFSMAAAAAAAAAAAABYjAQMAAAAAAAAAACAxUjAAAAAAAAAAAAAWIwEDAAAAAAAAAAAgMVIwAAAAAAAAAAAAFiMBAwAAAAAAAAAAIDFSMAAAAAAAAAAAABYjAQMAAAoORJjFBV1XtGJZkEhSElUdNR5RceZBUWkqOriwiFtWrtB69Zu0LYTufzwotpmCyVeOK+oCyV4BwBDfs7pxOjzioqKUV5enZ/PBQAAAEoKEjAAAJQyaQ1iTpaS3ti1+XX1uWmIZm42CwpBxAqNvmmIRi+LNEsKXNR303TbLWO0YGeW41cUdXFiqe686QGNm/yKXp45TXPWR5lruFYU22ypSC19ZIj6PLJC4WYRSreUQ3r/3hG6bcKqUnbs83dOb501RH1uel1bzYIcOfjc0lbHZ9Zq8rARumfB3jwlqAAAAFA6kIABAKCUSWsQc7LksZFNitTn40ZoXCElH8KXTdTAcXnd1uJoh+bcMkJztphx94Tv2qywiL36ZV8uEx4W2/XZEoWmNNaYpd/oh7Xf65NRNcxVpFJ5/ApfSajDkrCNuefkWr1wUFt3Rypswz6FGUWFo3DvwUWiyOs4j7Ys1MBbFmqbGY/Yq01HIrVryx6dNcsAAABwxSABAwBAqRSs6d8t1w/m8uZg1TJXdVPCuUidK6zht+KiFH6uND0znKhzEZE6l2DG3dN6/HL9/N03+nCY44RHYbkYHSM1DFav+maJodQdvyJQEuqwJGxjrjm5VgP76431y/XD2sfU1SgqLIV6Dy4KxaCO8yQhSuERUTJPGbV5TD+sXa6f3xqW5+9dAAAAlHwkYAAAKJV85B8YoEBzqeRjruim4wo9aMYKTtjhQ2aoZDtxPH9PdHv5yD+wgny8zIIi4OWjnM6iUnf8ikBJqMOSsI255uJa9fEPUKB/Tmd/QSnce3BRKdo6zpvwY8fNUCafSgHy9zOjAAAAuJKQgAEA4EqVZdiUqPULNfr2AWrXoYe63z5FS3bHZK4W9esSTZ2wUD9KCv1gjAbeMkIDb5mozyMuv1XiiQ2aM+Zude/cQ+16DtE9Mzco3O7B+CzD51zYrDn3DlCXDj00bvXlz5EkRW3W+9OnaM5aSUeW6J5bRmjgLeawOxXkX9H1NmdKidGuZdN0T+++atehr7oPm6IlOx2sZ0o5r3Wzx+u2nj3UrvMA3TZmodZFOHnSP4fPCF0xS5OnL1WopB+npu1P1uFqog+u0pwxd6tPzx6XX2/uy5aFGuhoWCQHoncu1VPD0uq3Xc8humfKCu26YK5lz+74XT8g+2scHhcHQ+44XC8fxy8x0u449Ll3rtadcHIcssr6ug591f3eafo823HP+Zy038bxmrM+0ulcDjlfA5eHtko8skJP3T5A7ToM0YJ9Wddxsw7d2j9Hsp6rPdQ9JON8zOU17c42Gtw/z3O+JzmVw7UopdfdzDFZtmO85qxNO66ur9W088V+yLWs59BeLZmQVl9deo/RzPXn01Y5s0Ez08+tLr3HaM6v2fcjp7qx5h6cJjfntCl69wpNzrIvk5ft1TlzpXTubo89o45PrNDoW0Zo9FIH51XUWj1llrlxv8gcNi8lRptmj1H363uo3fhv9cOsuzXwllla56CHUejiMRp4+1xtyrb9h7Ry+jRN/eyQpA2anHEtzd6RXp52zV/+9+XYnC1pdZRxbmQ9x6N3L02/P6TFPz+S7YPd2lcAAAAUDyRgAAC4UiVEKTxig5aMv1v9Zx1SrVse1/RxvVXlxAbNGfe+tqVkWbdSoKpK8q/TSh07t1PHzi1V0zetKHrDLPW/fYqWnmunMdOn6tUxfaT1UzTw/qV2c0MknIvUn7tWauqwiVrt20Uhg0dqaIcKWdbI4K8q1SX51dC1ndupY+d2ujbjw9LLw/7rxjanHNeS0UN0z6wdqnj703p15tO6v9Fxzbl/lKb+6qKhKuW4ltw7RE99skfq9rCmT39cgwJ36MVx7yvU0bpufIZvpUD5S6raNG1/OnauK39J0d9NUZ8752qdWmnUhKl6deJgBV3YoDn3T9HKM1k+JyFK4Y6GRTLte1933r9Qf1YfrOdnTtWrk0fq2jOfa/ZXzp/Qjt4wTf0HT9HSc411//NT9er4/vLdPlf33PSAlhzLuqZ5XNL2ITtzvTwev+jNmjpohJ5aFqWOY6bq1en3KUQ/66nbx2jJiSzrmaI3a/LAtNc1u/dZvTrzYQ3y3aGZ9w/QnYvt68HVORm2+AH1mbBUf3p10RNTp2riLQHaNnW8FjjoheDeNZA2tFXohoW6586FCgvqrkGDR+rGpnZvlc5FHeZi/+wlatP0Ubpn1g7VemiBvv5ukabfHKCzEVHyaZSXa9rFNhpyd567eU8yuXUtxmjN5BF6akWMuo2ZqldnPquJ/QO0acH72hqdtoaza1Xp54s55FrCuUht+mquxg17QivLhWjihGG61mevPp8wRnO+WqI7B72usGvu04yJw9TMa6+WPGG/z27XjQX34Nyc06boDdM05N65WnO6iYZNnKoZD7XSuY+f0NTV5prub48jdnVcp4u6VojUti83ZHtd1IbVWhdRQV2vTx+W0d37RVyUwnfv1eczR2ncWl917d9f9w3qpD492+lixCqtzvbdcEg/Ltur8Bad1dVhxxxf+VepIClQzdKvg45BGWdM2jUffiHre6bF1n08USOGpZ0bz4/rrSoRGzTn/lf0+VfTNGT0avlmOfdnPrJQu6y4NwIAAKBo2AAAQKmy8bnutrbth9senPaK7UW75Rvb/qwr/vySrW377rbej35jO5p8OXzui0dsbdt3t734S9aVf7NNat/dNmJRRNagzRb7m21Sj+62tk/9YLuYNb73PduA9t1tk37OCETYFo/obmvbvrttxKJjWdd0aONz3W1tR3xmO2kW5GKbTy6639a2/XDb/L2XYzZbtG31U07eO13a67JvZ8Ifb9oGGHXg9mf89ZlthF19pEuOsh39K8E+tiv9cz7OUtfp+233egextO15zrY6Nst6rmQcvxGL7erTdvE326S+2evJ6XExOF3P7eOXYNv4XH9b207P2VZnPbGSD9rmD+pua/vcb1mCWaW/rv39tvfCssajbRufG2xr2/5+2+K/MmIuzsn049V25Gf29ZKwxzZ7oLFvbl8DaddQ2/aDbZN+js66pkOO6zA3+2c4943twfbdbQMWHswSTLD9+Ex3W9tHv7Gdywi5vT/OttGBXJ7nOZ8f2bl3LaYdgwHzs9aBwdm1mnG+2O1veqzT/bb5u7Ic0wNpddX2ukdsi7Mep22v24Lbd7c9uDzqcszdusnvPTg357Qp4zP6vmTbaHc9RttWPNrd1rb9S7aN5ro5bY+r+swSSzv25nkdZVsxurut7X3L089b9+8XGff3bPVgS193dJZrweZou7NLe88sdZAp/Zq3u1+lx/o+Z1t9+nI04Yfn0rar3yt2dZy2//1tL/+Ruabb+woAAIDigR4wAACUSlEK3bJD2+yWv5T+kLedTrf3V1CWuUUCW7RTLUkXo80ngbNL3Lhaa6IraOi/etv3hmjRW4MaSrt2G3NE1Bymif+qZx/Lg5y3+ZBWLjskdbhLw1tcXk+qoH4hvaWDe7XLwVAzma+rOVJTRtlvp09ggNHjI6+fkYVXgILq2D9WnVi/sZpKCg111ZvBsbL+/pL2aNOW7MMcOZJ2/KRedw+zq0/5d9Ej/2osHVypleYQWRbI8fjFbdDK1THyv32Y+mWtdK/GCrmlnrRzb/beSLr8OvUcppH1sxZUUNcHhqmZDunzr3I+J0O/WqlQ1dB9E4168QlQFaPTVq6vgevv08RgRz2/3JCX/csQF6NoSa1bNM4S9FHTFo2lX//Q/vRIrvfHHbk8z3M8P7Jx91r0l7+/FL5ls8KcvVVeNOytQddkOaZNWqq1JPUeaX+cal6tWpKio7N0Zctl3ZjcPV65OadNmfeJ8U+rq931WEFVKmX5dy62x12Bwb3VWoe0Zn2WocaiftOa7VLrm7srUHm5X9TQyAlGPaixhv+rpbR9tX7M0vModMNahfsP1qAbsq5rgc4h6lft8j99mrZUM0nNht9lV8eBNetLilH0xfRArvcVAAAARY0EDAAApVKwpn/1qb62Wx5WR3M1R/wryF9SxOkosySb8IjjacP6TMo6l8QIDbzlCS0+JoWb71EhQIEFMZG8uc0pkYqIkLRrYeb8FJnL9A2SInXO4e5Fpb2uTVpjmEt5/gxDYqS2LXtfT907JG3+iJ7TtM5cx02BtzymKddLayYMUJfB4zXnq0OKctHQfPZ0pKTGurZF9rF1atWvJylSEafNkgJgHr8zkQqTFL36OeO8GqEHFx+XIiIdzz0RFaUISc2uaalse1SnnoIkhUcY80k4OCfPnY6U1FLX2jXmO5brayB9iKs8ycv+ZQisoZpeZgN4og7sOyQ1aayg9Eiu98dd+TnPzfPD5Pa12FJjZg1W0IH3dVu3AbpzylJtOubiArFazbRjlE0+6sbd45Wbc9rk6j5hcnd73Fatv4b1lEK/vTwMWdSGH7VN7TSoZ0BaINf3i+yJI0kKDBmmXl57tfLbjGvokH78LlL+N3VTx4L43nJHnbr230W53lcAAAAUNRIwAAAgz6LPRUmqoFqtM+ZLyFiu04239NegtoHmSwrHhei0RqjqTYztaqeOPfto0OBgBfmZL8olKz7j2FLd02OERi/YLN+ej+vtFcv1868z1c9cz11e9TRo3nL9/MkEDasZqaVTH1CfHndrznb3esQ4kpBYiA3UGS6c1zm7+S4uL91699egwW1VxXyNuxIT3Z503B3F7hpwtn9+wRozprHCFz+jycsOKTwqUtsWT9HLawPU76H+qpW+WoHsj9XnuSkX16J/h8f0v42fat6YLtLGhRp3e1/1Gb9KYa7mlylI+aybAjle+WD99vjoxpuCpYNrte6EJJ3Xxu92SD1DFJLxVlbdL/y6KKSnFLpidVovkhM79MuJCurXu525ZtGxal8BAABQaEjAAACAPAusVUOSv24YNUFTJjtYBmcd7qgQBQaqlpekRiGaaG7T5AmaMnmkujppB/T1knQmSjk+p52Pz0gTqSWTFmpX9ZH6ZO27mj4qWM1qBsg/54fMc+TfpL+eWPCpNq+dqn7+x7VkwvvaZa6UOWRZpMId7GxU1HlJUkUrNii3qqUN1VSx80gH9TpBUyb3d9xDyS+tp0T46bRttxMVldZIX6lC9t4jJl9JOu9WD6ZCvQbyuX9V6tdTYKUaOrfqCd0W8oAmrfLRqPcWa3qWIdGs35+CO88z5fZa9KmhrqOe1Sfrv9f/xjRW1IZZmvmVgzotcPmvG7ePVy7O6WzKyOl9wuT29uSCz/W91csrfRiyuB3atF3q1Tv48nme1/tFNj7qdftg+Z9Yqx/3SeHr1yrUv49COpjrFSHL9hUAAACFhQQMAABwW+gJ+zkJavUOUWtF6vOPNzicXyZfjvylMDPmti7qN7iCtH6plhwzy1xpp649lW0eACntyWP7fcz9Z4SdzDo81HGFHpR0TUs1yzq8TWKisswQkTvmU/yVgnX/8HpSdLQyphDIKvCGbmqtGK35wjx+kVr9xQ7Jf7D6dbYrcF9+jl/NPhrURgpftlTrcnNiBV6nG9tI0atXZHtd+KqV2qYKGnpTF/sCBzp1Dpa0QyvXG43yKed1zuhMVKjXQL72b7PmTFirThMX6O0PvtHmLd/oh6VTNbKN/QQgud4fcxuzKYDzPJtcXIt214iPgkaNVD9zXpZs12pByX3d5PUenJtz2lSrQxfVUozWfLvDKInRuQv2EXe3J1f8gjXoJil0w2aFbdygdV7BCumWJUuV1/uFIx1CNLROpL5dv1nbfj0k/5DeafP55Oi4wiLMWAHIzb4mxigqKsZxjzgAAAAUGhIwAACUSpHatnaD1mVbDuXcs8OhemrWRNLa1Vp55LyioiIVFS2p2mBNvL+eor+bonumr1JoRIwS42IUdWSzFsxcqlAzIeCmoEaNpZSftXLFcUVFnVd4VA4thA50HPO0evkc0oLRE7Xg1+OKjktUdFSkQr+aqzlrnb2fj3oNH6xA7dXMR2ZpXfq+hn41S7eNXpo5B0EGtz+jZj0FeUmh36zUtojzioo4r+iUJrq2jaSNn+v97ZGKijqvsF/f17hB07QuF/MNRJ85r8QUSSnHteTeIbpn9gaFXUhrcks8tkoLPjsutWmp5uYLlXb8nh/XWNHfTdHo2ZsVFnVeURGH9PnkMZpzMED9XrwvT3Mf5P/4BWjo+JEKilurp+6dpZX7ItPr9rg2vTVXS/aZ62cI0NBnH1azuLV6asxCbco4fsum6Z4FhxQY8qzGuPE0u0/PYRoaKO2a9YSmrk3fh32rNHXYE1pizolTqNdA/vdv63crFBpxXlFRGUtM2vmTIRf743gbTdac5zlx51qM3jBNfYZN0+fbIxWdKCnxvLa9tURrVEGtW9RIeyOH16r9Z1knN3WTv3twrs5pU5PBuq+DFL1smsYt3qHwqPNp7z9ulKZuMdZ1c3syxZxXRHTOKYKutwyW/87VmvzxBqlnb3W1G94xr/cLRxpr+L9aKnzZNM3ZXkND+7c0V8gmbb6sQ1qzLK1uws84ug6s4u6+ntfKpwaoz00D9FSR9O4CAABABhIwAACUSnu1ZOIUPZVtWar95qpuqaFhT49UUMIGTR02RH1uGqEXN6Y1MjV7aIE+HBesxFWzdOctA9QleID6DJuib6MSlZjTE7pO1Lr9cd3XMFHrpt+tPjcN0cDpm3P/NLV/sF5dOVVDq+/R++PuVvfgvup+0wjdOWePEhTt/KngNo/ps1mDFRSxSk+l7+udb0Vp2JKp2edlcPczvLrokcldFHhkqUbfMkR9brlfiw8EaOizE9S13A4teGiE+tw0RLdNO6SOM97VxLb2H+NQh94aFChtmjlG7x5In//lof7y3ThNt/Xuq3YdeqjL7bO0qdIwzXt1sJyNhhY0ao4+HNdFZ5dO1G03DVGfWx7QzPX+GjrrPbuhqXLDkuPX4j59+N7D6pXyg6aOGpFet3frqe+ilJjoooGz/jC9/d7D6npuqcZlHL+ZG1Rx8FR99nwX+ZvrO+LVUhOXTNXQ+pFaOTF9H+59X+eGv6tXbzJXLuRrIM/710VPTGynqLVzdectQ9TnpoxlgLp07qvbZu/IPEbu7o/TbbSTz/PcXW5ci/5dRmpMi+NaMGaEul/fQ+2uH6LRi6PUdeICjc9IXDm8Vo3Pskxu6iaf9+BcntP2AjRo1gI9ESxtmjdeA28aoj7Dpmhd/af14UPZhxRza3tUQ70GNJYilmr01A3O78cZ2nZTP/9DCt0n9QvJMvxYhrzeLxwIDBmmXnExiq7TWze2MEsdCL5PU4IDFLo4rW4G3rM0bQ6ZgmLhvgIAAKDgedhsNpsZBAAAcCglUdEXYqRyAfI3J5hPL0uU5OOfu3kMnEm8cF7RqqDASvl7s8To82lPvHvl4r0y9sfN17j1GYkxiopOtK+fXH6OncQYRUVL/oH2835kbotPBQW6eyAyj59PtvfLK8uO34X0Xgi52Z8sr8vP+Zj2Hj7yr1RBPtl6JRgK+RrI1f6dWaVxg96X/8zFer5tYtr5IUmK1sZZT2jq2kQNfe8bTWyT5TVu7o+rbcyUn/M8l3K8FrOe686Oq6NrtaDkpm4suAfn6pw2ZNStq/fP5Mb2JF44rwQfB/uSD3m9X2RK2azJ10/Urnvf1dcOEkzOpNWNdfdPd7jc15RERUdL/jmdUwAAAChQJGAAAACAUi50wQjduSFE/1s6UkFm4YZpajd+rQbN+0lTrjcLgStL9HdT1H1ylCauXqCh1cxSAAAAIHcYggwAAAAo5fwrV5CObNC6I8ZgT4nH9f57a6XAwRrU2b4IuHIkKjrqvMJ+XajRUzYocPBIDSL5AgAAAAvQAwYAAAAo7VKOa8noBzRnp+TfsJW6tq6hhMO/adu+80qoP0yvvv2wulYyXwRcIfa9r4GjlihcUmDwBL0zq7+Ccjk8GwAAAOAICRgAAADgCpF45pC27opMn/TcRzVbt1OzaswRASReOK9oLwdzqQAAAAD5QAIGAAAAAAAAAADAYswBAwAAAAAAAAAAYDESMAAAAAAAAAAAABYjAQMAAAAAAAAAAGAxEjAAAAAAAAAAAAAWIwEDAAAAAAAAAABgMRIwAAAAAAAAAAAAFiMBAwAAAAAAAAAAYDESMAAAAAAAAAAAABYjAQMAAAAAAAAAAGAxEjAAAAAAAAAAAAAWIwEDAAAAAAAAAABgMRIwAAAAAAAAAAAAFiMBAwAAAAAAAAAAYDESMAAAAAAAAAAAABYjAQMAAAAAAAAAAGAxEjAAAAAAAAAAAAAWIwEDAAAAAAAAAABgMRIwAAAAAAAAAAAAFiMBAwAAAAAAAAAAYDESMAAAAAAAAAAAABYjAQMAAAAAAAAAAGAxEjAAAAAAAAAAAAAWIwEDAAAAAAAAAABgMRIwAAAAAAAAAAAAFiMBAwAAAAAAAAAAYDESMAAAAAAAAAAAABYjAQMAAAAAAAAAAGAxEjAAAAAAAAAAAAAWIwEDAAAAAAAAAABgMRIwAAAAAAAAAAAAFiMBAwAAAAAAAAAAYDESMAAAAAAAAAAAABYjAQMAAAAAAAAAAGAxEjAAAAAAAAAAAAAWIwEDAAAAAAAAAABgMRIwAAAAAAAAAAAAFiMBAwAAAAAAAAAAYDESMAAAAAAAAAAAABYjAQMAAAAAAAAAAGAxEjAAAAAAAAAAAAAWIwEDAAAAAAAAAABgMRIwAAAAAAAAAAAAFiMBAwAAAAAAAAAAYDESMAAAAAAAAAAAABYjAQMAAAAAAAAAAGAxEjAAAAAAAAAAAAAWIwEDAAAAAAAAAABgMRIwAAAAAAAAAAAAFiMBAwAAAAAAAAAAYDESMAAAAAAAAAAAABYjAQMAAAAAAAAAAGAxEjAAAAAAAAAAAAAWIwEDAAAAAAAAAABgMRIwAAAAAAAAAAAAFvOw2Ww2MwgAAFCiRKzQuIc+V5hdMFhTvnpYHe1igBsSI7Vu/iwt+ClSiQpQ61GPaOLglvL3Mlfk3AMAAAAAOEcPGAAAUPKlJOpcRKTC7ZYoJZjrATmK1JL7R+ipT3YoLCJS4RF7tWbmGA2ZvddcMQ3nHgAAAADACXrAAABwpUlJVNgfq7R6xUat231M506fV3RKWpF/tRqqEtRSvXqGKOSmVgry9zFfXTydWKo7By9UqF2wt+Ztf1Zd7WKlQ+KxHdp0OMYMO1BBQW3rq4p/gErKoSxyDs8lSf6D9eH6x9TajDtcv/SeewAAAAAA95GAAQDgSpESo10fv6LJb21QeKJZ6IiPavUcpikT7lPHamZZMXOFNYKHL35AA+cdMsMu+ddvpxtvGaqRt3dRkJ9ZWoR2zlX3+1coOjPQWE+seFcj69itVXgcnkuSvPpr3pYJ2c8nh+uX3nMPAAAAAOA+hiADAOBKcGatJg8coHvmuZt8kaREha9fotEDh2jcsuNy+2UolqKP7dDKeRN1W3Bf3TYzN+dBAbsYnSX5UgzUaacbHCR//G/qpk5mEAAAAAAAF0jAAABQyiUeWaI7B07TmjNmiZtSzmvTzLt1z4K9xauhHHmUqLBlUzRw4ER9fqToszDhJ4+boSLWWGPenqqhLSqk/dOrgoJ6PqYPn+0iRnEDAAAAAOQGCRgAAEqzE0t1z53vKzR9jpds/APUumd/DRrcX4MGB6t1tfRGZwdCPxij0YuLW2M5MnlVUGDNGqqVsbg4lpKkqM2aeecYLdjtzlwyBSjZDBQD1YI1cfE32rH9J+3Y8o3+N2uwgsi+AAAAAAByiQQMAAClVqSWTF7oOPkS2EVPvLVcm9cv14ezJmjK5AmaMnmqPlz9jTZ/N1tPXB9gvkKSFDpvmt4/ZkZRLDQcqQ+/+lRfZyyrv9GO7d/r56WzNfHOdgr0Ml8gKeWQ3r//Fa0pwq5NYYdzN5cNAAAAAAAlBQkYAABKqejvFmrOPjMqqf5gvb1spkZ2CHA4pJJPYDuNnLdYH97b2CySdEgLZq5SlBlGMeUj/4btNHT8bP3w3QLd18bBEU/ZoMlT1xbZ8HKJjhKEAAAAAACUAh42m81mBgEAQEl3SAsGP6D3Txhhr2BNXztV/fyNuEMxWjNhgCavN+MBGvreck1sY8bdFHdc21av1ZoD5yVJ/nU6a9DgYAW52KbEM4e0dcMGrUt/jcrVVcfgLrqxbT35eKUNtXbn4IUKtXtVb83b/qy62sVcSIxR2K4d2rZ9i0IzMkzpn9O1dT35O8hd5Eke9t8UvvgBDZxn9Bxp8rC+/mSYatlH7aUc15J773aQmMvDMbWkviK15M4RmnMwa6yxnljxrkbWyRpzR6KiI47rz3179OeWw1mShAFq1jNYN7ZprEA/uxdYI5/nXmL0cf25ZYe2Zt3mjHpsUU/+BbHNAAAAAIBCQQIGAIDSaPtcdX9oRbZeDa0nLteHtzseXsyhMyt0T8hc7TLjITO1Y2oXM+qgMbqxnvjqXY2sKSklRrvefUYPvrdX9lO/19B9iz/VmBZ2QUlS4okNmv3UNOeTxfs31sjpc/REnVV5bwRPjNS6+bP08tIdinLWG8MrQB2HPa4ZjwU7Hsorg8X770yeEzCSFL1WT/WepnXmvvaeqs0zgx32irKT3/raMlfdx61QtLPXOuPknEuMOqTVixbq/WU7FO7kNEnjo6Dbn9W88cGqlcNObprSQ+NW28eajftUn4yqYR+Uo2Mut869xBMbNHvyK/p8n6s5eHxUq+cwPTNupLrWyWGjAQAAAADFDkOQAQBQCu1a/0O25Iu8gjUqJBfJF0mq1l+jeptBSRu3ZE/KOJMiKeW81kwepXuyJR8kebXTtQ6SD2ErJqr/4CnOky+SFH1IS8YN0G3z/lCCWeaGxCMrNG7gCD31iYtkgtK2f9snU9Rn2Fxty1axOcjj/hcY/96631EiYf0GbXVVB1bVV0J07pMvjlzYqyUTRij4pgc09ZOcki+SlKiwZVM08E4H21TIojfMUv/bp+SQfJGkRIWvX6Jxgwfonrf2WlNvAAAAAIBCQwIGAIBS57i2bXfQsHtTiHrlejgjH/UKcZCBid6sjdmGsXLkkELDpNC3xmjy2vThw0zBbdXJCEVvmKYHp292e66ZsPWbFWYGc5B4ZInuuXOuNrn7IZJ0bIVGj1mqMLcbwvO2/wWtWc/e2XvKpGzWpt1m8LLCqS93Hdf7o8dozvrI7AmtnBxbodFFOOeNTizV6AmrXCewsknUrl/36JwZBgAAAAAUayRgAAAobVKO6+gRMyj1uqGdGXJPhy7qZcYUqbAT7jV9J+xcqAkfRJrhTEEtGtsPe3VsqUZPWOs4+eJVQUGde2vQ4N7q2LBCzsNlORO9VpPufF+h2RrBfVSrc2/dN3GqXp36sEb2bCx/cwitfQs1+WPn+2PK9f4XhhZddEO2OWditGufk+0sxPpyTz2NHNNb2XZBPvKv2VK9BvfXoMHBal2tgrlCmvWva8F2M1gYErVuwcLs9ehTT0MnTtW8xZ/q68Uzs9elf2+9umCYgsy6BQAAAAAUayRgAAAobSIiHfQGqaGgvM4h4VdPQTXNoBRx2mGKJJt1i5cqPOMf1brovnmLtHnLT9qx/Sft2PK9Pv1XvSxrn9fKmQ4aqCUFDZ6qrzd+o/8teFZTJj+rt5d+o82/Ltfb47oo0FzZpRitmepgDpRqvTVlxTf6esGzGnN7sHqFDNMTs97Vz99NVT/jA0IXLNS6OPuYM7nb/8JSQ82amjEpNOy4GbK+voKfTdv37T9px4qH1cx+1bR5c1akl2ddjPlffIIf0RMd0v9/nWDdN2+Rfv71e/381QK9OnmCpkyeqg9Xf6OfPxipZtkSFzH6/KvNZrAQ7NCm9UbIK1jTv1ukibcHq2uLGqrVosvluly/SK8ObqdBLz6uXtmzTQAAAACAYo4EDAAApU10jIPhlSqoYp4bcCuoooOOBKGHHTXWu9DiPv1v5UyNub6efDIaxL185JM1L3Rwhd530DMhMGSmPpzsYPJ0nwB1HDVTyxf0zz6kljPb39fMbI3g7TTlw2c1yFGSqlKwps8Zaf/+KRu0+lf3egBlcmf/C02AqlQzY5LDiXSKqr5yFKBB457VxLeWa8OKqRpzfT35O9gc/2vu09tTg81w7uYxssqJ49mTi717q5+za9OvnnpNnq0pwQ4uQAAAAABAsUcCBgCA0uZc5OUeF5nqqZaDXizuCVQVt7MbTgT21rwFIxXkoIE8q11frsi+7V7BGj+hi4Phpi7zr1nXZflliVq3bEW2BFWtex/WIEcJiQwtgnWzUX/rtuywD7ji5v4XP0VUX+5q0VtDOwTkOISbf7fg7MPoRe/RnxFmsAjsO6RQMwYAAAAAKBVIwAAAcIXI7HWRaz7yL2fGcqfX+MfVNccMyXFt2x5jBuU/eJDzHgK55mAIKDXW0P6NzaChsa5tY4T2Hs+eLHLCvf0vBo6Z+1Q09WW1xMQA1apvRmN08YIZK2B1Wqm1eR6cWKJHJ69SuNUdhAAAAAAARY4EDAAApU0ZXzMi6bjC8vy0f6TCDpux3OitkN5uDKEUd0j7j5hBqWvndmYo7xwNASUfnTuwQevWul62mfV35C8Hc+044ub+Fwf169kPHVYk9ZUPKYmKPrJDaxYv1OQxd2tg775q16GHuvQeryXHzJUjFXHOjBW0lhp0ew0zqKjvZmlgtwG6c8pSbToSI3IxAAAAAFA6kIABAKC0qVPXwcTmkrI1pLsrUYkOXlurujHTugtu9b6JipLZZi/VU4MgM5YPYY6Ge9qrJROn6KkcliU7jZelOJowxTG39r9QJSr6khlzoIjqK7eiD67SggkPqPv1fdV92HhNnrdUa7YcV/iF4pfKaPbQTD3RwoxKSolR6OqFGjdsgLr0fECTF2+mVwwAAAAAlHAkYAAAKG0CA5V9updDCs1rL5aU4zrqoGeKf+XC6NXhUwyTF6XBcR09YMakoKDsvTOKtQubNWdYX3W/c5beX39I0Q4ShcWOVz2NfG+RJgYHmCWXRR/SmnkTNbDbEI1bvLdk7BcAAAAAIBsSMAAAlDZ+9RSUPQOjXfsOmSH3HDikXWZMFdS6RQlrrLdaQ2O4rpIk6qB2Ze9upGb165kh61hdX8eW6s6bJmrJESfdRLwqKLBhO/UbPExPTH1M/RxcE0XGp56Gzl6un997WL3q+Jill6Wc16Z5Y9Rn9FKFkYQBAAAAgBKHBAwAAKWOgwnQJYWv3eBgOKmchW5Y62Dy9Ha6tokZK6H8GqvX4P4alNvl1nbWJhQKUdSGH7XNDKqdOrY2Yw4Uh/qK26ypoxc6nJ8mKORhzVv6jTb/+o1+WDpb0yc/rJEhXdSsMDps5ZJ/m2F6dcX32rxspp4IaSx/J729Encu1IMvbla0WQAAAAAAKNZIwAAAUAp1uiHYDEknVmjldjOYg5QdWrk00oxKHTqrk9//s3fvcVGW+f/H3yM2lkJb0lbI19SMRE0N0+RbhodFXU99pVxPLR02XTM2W10tN1r6xsrmRmm6kbbJVrJb4beELQ+ZqIVmGP480GIoGZIh1jroOuPpFrx/f8wAw81B1EERX8/HYx44n+uamXsG4qL7fV/XZS2eJ18vnVaTDiHV98c5FqSfTZupuNizvE3oqjrmLjRi+XpvyVZrUbq1j3pbt/VppJ+XY2WK0h2WYmC4ZqUu1wfxY9W3o/8ltXSdvX24ouPf0GcblumduCh1qOGDcqycryW7rVUAAAAAQGNGAAMAQBNkvydSA6udgHZp6eIVsp63rovjw79raQ2X3Q8cPUjWc/XnrWWQrguwFs9j6bSatG2n0GqfS6bWbqplGasmqGDJi0reZ61K3e8bVH2GSqP8vEq0ISPXWtTAmfEa07GG5OJSYm+t0Huf1Aer52hotf/AipWTW2ItAgAAAAAaMQIYAACaopYRenB0DZt8b0nUE0sKrdWa7U3VE3NqmCkREKWxAxriRHeIevSy1qSi91cqu9pSUxZlhk5aazUK18Ah1pq07m+Xxx4bzvWz9esFNQRaAVGKiarh56WhP68aZz2dSbHydllrIerRqSF+Ji+SgHA9N736LDans34/5QAAAACAxoEABgCAJqr7Y4/XMAtGylswTVPfL1RdcxiMPWmaWuMeG1LvqdHqXcPznj+7fjak+klnOdM0r67QyJmrpLhkFVjrteh7b5SqTbTZndy099g4Vqh1cx7SoJkZNc6AGjjr0Vq/pw36ebX019XVXjdfO3bW9dNZE5eO1HEwjtXJWrLHWr1IdmYofc/Zvj8AAAAAwKWIAAYAgKYqIFLPxdcQaKhEG+c8pIix87V0S6GcxzzlMkPOPVu11NO2saYz9V2mKK7GmRK+YR8wSmOqne2X8pIm6eFFuXJWCYQMObakauroGCXv9K6fQa9oTathpo1j5SzdNzVV2Y6aT44bjq1aGveQ+s3MOP/goSGUueRwlFTcinZmad37yYqNeUj9BjykGbWEboHD5ui5IXXsUN+gn9et6h5mrUnr5r6odYet1XKtFdzWWivW0gWpKrAeyuFcpUy/T4NiM+SoIUxsOMXa/6O1JsmZpdhpsxU/dpwenpupgvL/9qyMQqW8nWkp+qt79yBLDQAAAADQmNlM0zStRQAA0FS4tDHuQU1d6YO9IwIjteD9Z9W3hoCkwr5UTYhaqLwqxUgt2PKs+lap1c6RNl2DEmpY+kyS/PwVeEOArpR0wlksR+1n9ut+XWeGZkTO1rpaTsoHXN9Vve9ur6sl6fBeZW/LV9Hh8rP7rTVm8TLNur3qYyTfvP/6KFoySSNrWkrsLAVGPqv3EiIVWG0WikVDfV6SHO/HaNCc6nu6yM9fge1v1Z03nVRObqH+3etZZcWHS5LyFo3XhMXF1kdUe0zRjy5rjyqGzv1UCTVklBvj+mvqyqq10Knv6p0HawhAyjIV2ydOq6x1u7+CrxuuuA+nqLcklRUq5ZGHNK9KWGhXQLdwjRoQoR5t3EuondyfqZQ3M5Rn/dluG6133n+0hj15AAAAAACNFTNgAABo0vzVN36JXh/bztpwdq4frpdSzxC++EhgVLwWDKtllk2ZS479xSrabwlf/NqpQ7VZEXUIiNSf3qn9ZLbzx1ytS1uh9LQVSl+f6xUmSFKJli5aUeNSXpeO1uo7NUnL5tQjfFHDfl6Bw6I1qtqG857v9Z6tWrU+V0U/umRs2KwcT1PoA4/WuLye9TGV7OrQsYbwxBf8wtV3gLUoyXCpaP9W5e333N+/VWu/sfSRIedXmUpZMFszZsVpxqw4xS6oIXxRa42aGV3r5w8AAAAAaJwIYAAAaPL81Xvm21qTGKUO57BPeeCQmfoofaYGXmNtaSj+6vvcPMXdVUsIY3V9uGa984YSIs/uBLu9Y7Te+ehZDb3e2nImdnVoHyDVMhukcbMreEC0FqS9pwUPdq2+t0sdGuzzahmuabGRqimDqcL5L+3Y5/l3QKSeS6zHYyTJ3k7RC5bpgz8PUwdrm0/YNfSBqFqOJV8Fez3/bBult1YmaVpEPX+uy/m11tCExYq76xz+4wUAAAAAXFQEMAAAXCYCBzypDz59VwumRir0TGfe/fzVoc9YvZT2idYkDFfwhT7369dOoxa8p4/m1BEa+fkrdHS8PkqfozEd7fppm7MLYCRJ10cq4aPleidurHq3re2FPOz+6j5sihakLdcHsyLqN3PkYvPzV2Cbduo9ZKymzXlDazI/0UeJj6rvmd5rbRro8wqIeFbL3pyigXU9Z4B0xGu/mfLH9K0tECr/+fj0bU27y1+6PqiBAhhJtz9Z61JueXu9lkq7pqui5y7TZ+/MVHSfINXxbj1h2RS9tXqZEoacZWgDAAAAAGgU2AMGAIDLlHG4UDu2FOrg/lxl73NJV92k3t2DdF2HnurR3l/2Gk4mXxyGnHv+pexd+dqx7Ts5A29R31491bt7OwXUfQb7rBnOQu3YbP1M2qlDl9t0cxv/M5wwv/w0xOdV/nNZsQpXyyB16tZOwbV+sz0/H9u2aeOuEgW0DVOPLiEN8vNxRoZLBTlbVXDYfdfeJkQ9bgmq/TgMl4q++Zd27S10/2zLXx3CuqpD+zM8DgAAAABwSSCAAQAAAAAAAAAA8DGWIAMAAAAAAAAAAPAxAhgAAAAAAAAAAAAfI4ABAAAAAAAAAADwMQIYAAAAAAAAAAAAHyOAAQAAAAAAAAAA8DECGAAAAAAAAAAAAB8jgAEAAAAAAAAAAPAxAhgAAAAAAAAAAAAfI4ABAAAAAAAAAADwMQIYAAAAAAAAAAAAHyOAAQAAAAAAAAAA8DECGAAAAAAAAAAAAB8jgAEAAAAAAAAAAPAxAhgAAAAAAAAAAAAfI4ABAAAAAAAAAADwMQIYAAAAAAAAAAAAHyOAAQAAAAAAAAAA8DECGAAAAAAAAAAAAB8jgAEAAAAAAAAAAPAxAhgAAAAAAAAAAAAfI4ABAAAAAAAAAADwMQIYAAAAAAAAAAAAHyOAAQAAAAAAAAAA8DECGAAAAAAAAAAAAB8jgAEAAAAAAAAAAPAxAhgAAAAAAAAAAAAfI4ABAAAAAAAAAADwMQIYAAAAAAAAAAAAHyOAAQAAAAAAAAAA8DECGAAAAAAAAAAAAB8jgAEAAAAAAAAAAPAxAhgAAAAAAAAAAAAfI4ABAAAAAAAAAADwMQIYAAAAAAAAAAAAHyOAAQAAAAAAAAAA8DECGAAAAAAAAAAAAB8jgAEAAAAAAAAAAPAxAhgAAAAAAAAAAAAfI4ABAAAAAOBMjhUqOyNTeT9aGy4fjg8TNWeTy1o+L46dmVq3s8Ra9lKsdfGJSr+MP3cAAHDpIoABAKCJcuzM1LqMrSo4Zm25wAyXHA6XDGu9RoYKNmdqXUa+HNYmAADqzVDRljQlJSQqPiFR8YvSlL2vfiNRrRxZmjcrTil51obzZ+zdqnUrt6rI2lA+nq9vBOPisSzNnbdXN9/iX1krM+TYmaV1GVnK+/FMn68hp6NEDmfVfl+/F6cZ7+2uUqsqSJ3a79a8v221NgAAADR6BDAAADRJ+XpvVpxmxE5X0oYznRBpYFmvaNCQV/SltV6TY5lKionTjNg4vbfT2ggAQD2UFSpl4giNfGyhPt5/UtJJFa1eqMlRI/TwO4XW3o3CvzMXakbcShVYG8oDije26oS14QJzrEzRqj5jNep6931jT5qmjhysQTEvat6C2Xp42GANmr5CBWXWR7o517+oEUPu06DEsw9SgkdHq3daspYyCwYAAFxiCGAAAGiKdmbq4x+Ga1pMiNalrbn4V83Wk7EhU+u6TNG0IcVauiLX2gwAwBkY2jhnmuZ91U4xqcv1UdKziot9Vq+nLdcHMe2UM3ea4jdd5AsTLknFWrksV0OHRcjuuZ/+Qor0q7eVtX6ZPvpwuTJTH9VPMxM1b0UNy4k5MzUnfqvsgdaGemoZoVFDcrUys4bnBgAAaMQIYAAAaILy1meoaMg9iu4VruAta7WhhgTG2JeppIQ4PfxInHt5Fs8teVPlyQ3n7hVKip2uh2Nma977uXJ6X9XqyFJywgrlSXJuT9O8mTF6eOZCLd1euTa8Y2emVm0qlJSrFM/zp9e6yoihtRmZCo2M0Ni7I+RcmaEca5fy1/Ick/dxVz6voaJNqZ7jSVRSRnE9lz8DAFzyflyhxWkl6j7zz3q0ozsqcLOrwyPxmnZridL/tqLiwgTHphTFp+VLRrHWLYrT5JgU5ZQPGs5CpS+arcmPTFfsohUqOOz1dN4O51f2m5umnCr98pWekKKNDvf4FR8zXfEZxd4dzln5GH3/I3GatyRLRZbBLi8tUfGLs6pehLF7heI9Y7dbPY/PsVUbd0eob6/yQpDGvL5MC0a38wQykr3jWEUPkDZusQ70Lq2b86I23vVbxfSxNHkzirWu4vPOrPZ+7rw7QjkZX1wyF5UAAACIAAYAgKYoX2tXF2vg3T2lLuG6O2CrVlmuGDU2JWp41CvaFRihBx+IUOAPXyg9c69OevUpWDJJ/aKTlRN4jx4cEKi8v8VoUGymnOUdjhVqbdoGpSc+pBEvbJPzmva67rs0zZk4TSn73F3+vWuz1u6s4UROTY5lau36IN3dK0j2Xn3U27lGK7dX7VL0ziT1m5wuZ9goPRjVVdq2QitzvE/FuLQxbpxGzlipg92iNLbbSa2LG6/xi/K9+gAAmirH5xuUo54aNaC1tUlSkAb+PETavk1fevZHO/FNptK3ZCll4iTN+8qu4G4hCrZLcmYpdvRDiv+wRNfdEqQW+9bq15MXegUXHntTNWHIJCVtD9TPHrhH1+1O0cPD4rSuYrB0KDstU9krZuu+aSt1pE2QQtsEVX2Oc1CwZJL6TUhWdss+mjg8SHnvzdLIkbO1seJ1pYPbVih9XWHVpcsObFN62jYdrCjU8/hytym7Y4hCW3rV/Lz+LUly6aRTUouqVef6V/T8pnA9NytC11VtqvRNuqaOilHqvhYKbiN9+WacJszOqnIBhb1TiDps26mvvWoAAACNHQEMAABNzfaVWro/Qj+7xy6pq4YN81f2au8rRku0cskKGaOf1YLHIjUwMlIxcx7XQEexrrt3ph69q7W0O1lTFzg0NHGJXp8epYGjp+j11Jm6M+NFJVUJRbKU0/IpLU+NV1zsTL305lMaqHyt2uAOXUKjZmpaZJCkroqOnam42Jkadav34ys5Vq/UujaR+lkXSYH/raG9XFq1xnsZslylvJGv7jPnKW50hAZGRikuPlo/3St1f8z9vEbGi5q6OlDT3nlbCQ9GauiDz+qD18fKWLxQ6VwyCwBN3pHDDkmtdV0tS10Ft28nqVgHvceE1claFZnkXq7ssXAFytC6hFlapUgtSJ2rhNiZikuYqzWvj1Ww18OkfCVNW6h/D5mjZYumaExklKYtWqK4Xpl6fpH3+JWvlH9Iz334hl6KnakxXbyaqqicLep9S/nK0m13sqYuyNfAhCV6K3asho6eotc/ekOPtszQ1ITMc5j1eebjK9pbKN3STh2sDd5+/EzpW6SBfXpW1pyZmhOfpb5xv9XAAO/OFg67hr61TK8nuD/rvzwYJOfqDVX3j7s+SB3Kdqtgv3cRAACgcSOAAQCgiclZs0bOXn10p+cq1e6DBimgyjJkJ+U8IgV7X+Hasp06tClRQYF7+bCcf6apqGOUJkb4V/YJ6Knet7qUU2VGS4iG3ttVFedUWnZVj1sl56HKZcjqp0QbVm9VwD3hCpUktdY9Q3paliFzyumUgq/3uqq5fTt1qjgZU6KV72dKkdGKbl/ZRd3C1F1blbPLqwYAaJKcVZKVemoTrbgH21XeP5aplRlS6AOPqq93aHBN68rxTp4LHva107hfhXvV/dW7V4icX/1LRV5dB05/qupznYe8NRkqCojSg0O8xmi/EI17oKuUkaG1ntk9Z6Nex+fnvaSblUvr5icrp8sUTYss7+fSqvg4fXnPs5o1wOtYa9JnmIZeX3k3tFtXqcwpp/d7aenvnlzjvRwqAABAI0cAAwBAk5KrlStdCji2WUnlV89+WKir5b0MWZB6hLVW3scZKig/ibEzUx/vD1KnUPcJkiNOl7QnWff36q+eFbfxmrdbUmnFi9Wq6IezPAHm+EKrtkhX711ZccVv0ian7FWWIbtVvXtJG1dXLoPm3JCpdX63qUdHVQRLWh3ndcz91bPXLK2SdLIexw0AuLQF3uC+uMCo5SS9cdwzP8R7+Sx//6rBisOh/ZI6tK9hKS5vR5xyqlBJo73HnP4auSC/2ljZ4qq6wotylbNFvW/R3ar2OvhDsRR0o6yTfAKvD6o+u6ee6nd8tStYMk0zMoI0LaFylpBz9YuK3RyuSb+6VYajRA5HiZyGJMMlh8NV6/eo0rm9FwAAgMaEAAYAgKZke4ZWOYMU2snrVJJfkDq0l7JXfFaxDFn3x57SKEey7o+cpBkzJ6nfI6kKnD5HMd7Lg3WM1lurl2mN5fb66DOckDoHjsy1yg4IUac2XsVr2ik00KVVH2/1FFprVOwUdVgdp0FR0zUjZrwGxf1LoxKf0kDvNekjn612zGtWL9OscK8+AIAmKbj7bQpQlr7cZm1x27FtqxRwm3p4jze1OWNAIEnt9Oji6mPOmteiLMuV+ViZUX2psXodr+85Vsfp10nSo4vnKbptZX3H55nSsSzNGX2fBg1x32IzJGXM1qAh05R6tkuJlVV7xwAAAI0eAQwAAE1Izpo1ct4+Rn+yXD370mMR0vYMrf3R3a/oo2RtiJijzz58VmPHPqvl6z/RWxMql1/pHNZT2rNVeWWtFRhY9RbgHXb4hGf5sSFT9FKV435Ws6Lca8Bnl0mSoY1LUqXp72rN61M0Nmau1mxYpriKZdKC1CPMX9qcq2+vqeG4z+/iXgDApaDbMI1p69LS1IyK2ZIV9qZqXppLwWOHqbu1zVvb29Q9QNq4ufwCgFp0DVNvFSr7G1UbcwKvabhBxz1GZynbM6aXy96c5Q6XvEIQK+fhs10i1O2nNwRJewurLKsmSc7M2RoX+y/dmThPMd2qLjPWN/5Tbd1S9bZgmKRhc7R1yxtVwpp62V+sArVTcH3CMwAAgEaCAAYAgCbDvfxYaER4tWVJ7HdFaKBytdKzDFlBXr6MYy4ZLdqpd6921UKVwCFjNCowV3NmJCvb4bni9FiJsjflVj+hdQbuDY9zlf2V4b5i13oBq2f5sb53eW3a6xEaEalg5xqt3SZJDhXklsg45lKLwBD17hJULVTpPi5aocfS9EzsChV41o03nIXauLmwakcAQNPkF6JJM4crcP1s3Tc9Vdn7XTIMl4q2pGrq5IXKaxutxEkh1kdZdNWo0UFypi1U0pYSGZIMx1YlxS5Unne3wEGKjmqtnMSnK/qpzJBjS5ZyznawPAuB9z6qMZ4xOuewJBkq+jBOz7zvUu+p0RXhUuewntLuDC3d7pLKDBV8OFsTFu2uutxaPdk7hajDrvzKpUs94ct90zPVedY8Te9qyOFZZqx+y4udg2/ylXdriDp5Lx8HAADQyBHAAADQVGzJ0CpniIYOqGGJsJYR+tkAKedj9zJkfR96VNetnq1Bd3mvWz9Y/R5ZqGynpJbhikudo2ilafKQwe72iPv0zJKtKrAGKGdyd7Sm3e5QyiOD1bPPYM34uOrVt471K5XtF6mhd1cpu3WJ0M/buLQqY6ukII36VYS+XTRJ4X28jrvPCN0/c4X7pFDbsXrrnSfVY9d83R/hbg8fMEnzVle/ahcA0DTZ75qpZW9OUY+CZE2+d4TC7xqhkY8lq6D7FL315qMKrccJ/NDH5ijuboeSH7tP4b36K3zkfDkfeVJDq/Syq++sJVowVloa4+7Xs89gDYpbquy9ZztYngW/rpqVOkfRJ1P1cKR7/B6Z8C91nvW2/hLVuqJb4JBHFd0+XykTR6hnn8Ea/2GQEv5cuUfLWWkfroE35GrHrvJCluZMz5BDhjbOeahiiTH37RyWF6uHnC1ZCr6757kdPwAAwEViM03TtBYBAEBTVqyUB2OU9+ASPXeX5CzfkPjwF3phYqJ2jX5DH8V4XR18zCXHcUP2q85v+THDWaKTfufxHMeyFB+VrODXkhR9vcu9ka+kEwWpmvlYqtokfKKXhlROiTGc7s1+7QEsPwYAl6vzHguOueQ4LgVc4y97XcFNmSHnYZcMP/8GXX7Myv3+7HUcnyGnwyXD7q/Ac/oAKuUtGq/Jzmf12cyu1qaGV7ZVcyITFfD6u1X3qwMAAGjkmAEDAMDlZl+mVu28TT+L8Je9pX/levUdb1WHAEnWEziePuccnHjYA87zObZkKD0gQgM72mUPqFxnP7hLiNqo+nGX9znP800AgEvYeY8FLf0VGFhbuOHFz66ABt77pSbu91fX8XmO65w/gEqh9/1SoWmpWudZ4vNCMtanK73TLzWO8AUAAFxiCGAAALjcBLZTaGCmkhIzVeBwyZAh5/58pSfMVvLJSD39wJnWxr9IOoQodF+a5i3ZqqLD7v1knHuylDTrNa3rMkUxA87/5BIAAKjF9cMVE/UvLU4vtrY0sGKlLilU9NTh1fa4AwAAaOxYggwAgMvRj1uV8mqylm7KV5HTrsAb2qnHsLGa9qsIBTfiHMO5Z4UWz12qlTsL5Tjpr+C2t6r3Lx7VtKiuCqj16l8AAAAAAIALjwAGAAAAAAAAAADAx1iCDAAAAAAAAAAAwMcIYAAAAAAAAAAAAHyMAAYAAAAAAAAAAMDHCGAAAAAAAAAAAAB8jAAGAAAAAAAAAADAxwhgAAAAAAAAAAAAfIwABgAAAAAAAAAAwMdspmma1iIAAAAA4BwcPSQZdunaVpW1E0el44Z3L0l26epWkp+lDABVGNKhU7X/vjjxg5TztXR1Zynkhpr7AACAi4YABgAAAAB84egm6Vd/ko72l5bPqKy/N0X6+z7vnpLaSosWSv9lKQOAJB3MkzI+kdZ8Kv1wQ82/L754SZrzqXT1tdLxQ9JV/aVFMySv/BcAAFxcLEEGAAAAAOftqPSX+ZJfDWc+SyV1eUxavtzrVsPJVAAod+Qb6YCkm9taW9xObJJe+VQav1BKSZFSF0rXfiq9/Km1JwAAuIgIYAAAAADgfG2cL23rIT3U29oiFe+TftraWgWA2t08QvrtVOmhu6wtbhs/kU70l37hCWj82kqPDJa+/FQ6Ye0MAAAuFgIYAAAAADgfRzdJf9khPfGkdLW10aNVDTNjAOBc7f5aatex6p4v7W+WtEXK8aoBAICLigAGAAAAAM6ZZ+mxsCelvjWFLD9I+yR9sUD6nxHSiBHS6CnSxh+sHQGg/o4eldreULV2rWemXVnVMgAAuHgIYAAAAADgXGUkSjm9pSdqWSZIN0j3jpAm/q+0bLm0LEUaaEhzpnKVOoCGsZ+AFwCAxoIABgAAAADOxdFPpL/kSOPHSsYh6dAh6YhLksv97/J9GCIfk/q1dS8VZL9WevwZ6bqj0sYdlicEAB9oY5kZAwAALhoCGAAAAAA4Fzk5UpkhvT5Fio523/6yxb0HQ3S0lL7P+ggPu9TKs4QQAJyL666V9lp+xxT/IKmV+/cLAABoFAhgAAAAAOBc/PcMafnyqrfY/pL6u/89rq07oLHux1BWIh2UdB1XqQM4R6E9pMJs9++Scrk7JL/eUlevGgAAuKgIYAAAAACgobz5qBSzQPrecN8/sU9K+JN0oqM0qKO1NwC4HfFe1tDrfvnShndGSTfkSW9ucoe8hzZJf9siDRnkXu4QAAA0CjbTNE1rEQAAAABwDr54SUqQtHyG+77xg/Ta/0rr91XOhLm2h/T7Z6QurBMEoCb7pJgpUqG1LumXC92z6ySpcLn07CLpkKct7DHpf0cQwAAA0IgQwAAAAABAQyszpCNHJb9W0tV2aysAnCNDOnRUsreSWvG7BQCAxoYABgAAAAAAAAAAwMfYAwYAAAAAAAAAAMDHCGAAAAAAAAAAAAB8jAAGAAAAAAAAAADAxwhgAAAAAAAAAAAAfIwABgAAAAAAAAAAwMcIYAAAAAAAAAAAAHzMZpqmaS0CAAAAAM5Baam0fLm0aZNUUCCdOCFde60UGioNGCD9939bHwEAZ7Znj7RmjbRtm3TggLsWHCz17CkNHer+NwAAaHQIYAAAAADAF7KzpYULpR9/tLZU6tNHmjpV+slPrC0AULO335b+7/+s1aoeekj6xS+sVQAAcJERwAAAAADA+friCykhwVqtWceO0gsvSC1bWlsAoKqkJGnVKmu1ZqNHSw8/bK0CAICLiD1gAAAAAOB8/Oc/0l/+Yq3Wbs8e6bXXrFUAqGrVqvqHL5L0/vvS559bqwAA4CIigAEAAACA87FsmXTkiLVat08/lb7+2loFgEpnWnasJufyGAAA0GBYggwAgKaksNB9VXVurrUFANDIuAYP1ZFxv7SWLwv2K/x0TcBVat7cz9p0fhgHAf37uQSdatfeWgbQiDTYOAig0WEGDAAATUlSEiedAOASYd/7rVR+Odxl9tUwynTYedxT9CHGQUBX7C1w/6OW//74yle+XvyvDTYOAmh0CGAAAGhKdu60VgAAjVQzl0uyee5chl+NU2WeOz7EOAio2bGj7n/U8N8dX/nK18bztUHGQQCNDgEMAABNiNmli7UEAGikTrfyl2makimZpvuq2Mvpvv0K3y+7wjgISKdbtqr23xv3uc/9xne/IcZBAI0PAQwAAE2ILSZG6trVWgYANEJGh5tls9kkm2Szua+GvVzut7C71773NcZBQDrVvkOd//1xn/vcv/j3W9ibN8g4CKDxsZmmaVqLAAAAAIB6evNN6YMPrNUzS0yUOne2VgHA7Ve/kn780Vqt2y23SK+8Yq0CAICLhBkwAAAAAHA+7rtPuvpqa7Vu/fsTvgCo2y9+Ya2c2bk8BgAANBgCGAAAAAA4Hz/5ifTEE9Zq7Tp2lB5/3FoFgKqGDnXf6mv0aOnuu61VAABwEbEEGQAAAAD4Qna2tHBh3UsG9ekjTZ3qDm0AoD7eflv6v/+zVqt66CFmvwAA0AgRwAAAAACAr5SWSsuXS5s2SQUF0okT0rXXSqGh0oAB0n//t/URAHBme/ZIa9ZI27ZJBw64a8HBUs+e7lkywcHWRwAAgEaAAAYAAAAAAAAAAMDH2AMGAAAAAAAAAADAxwhgAAAAAAAAAAAAfIwABgAAAAAAAAAAwMcIYAAAAAAAAAAAAHyMAAYAAAAAAAAAAMDHCGAAAAAAAAAAAAB8jAAGAAAAAAAAAADAxwhgAAAAAAAAAAAAfIwABgAAAAAAAAAAwMcIYAAAAAAAAAAAAHyMAAYAAAAAAAAAAMDHCGAAAAAAAAAAAAB8jAAGAAAAAAAAAADAxwhgAAAAAAAAAAAAfIwABgAAAAAAAAAAwMcIYAAAAAAAAAAAAHyMAAYAAAAAAAAAAMDHCGAAAAAAAAAAAAB8jAAGAAAAAAAAAADAxwhgAAAAAAAAAAAAfIwABgAAAAAAAAAAwMcIYAAAAAAAAAAAAHyMAAYAAAAAAAAAAMDHCGAAAAAAAAAAAAB8jAAGAAAAAAAAAADAxwhgAAAAAAAAAAAAfIwABgAAAAAAAAAAwMcIYAAAAAAAAAAAAHyMAAYAAAAAAAAAAMDHCGAAAAAAAAAAAAB8jAAGAAAAAAAAAADAxwhgAAAAAAAAAAAAfIwABgAAAAAAAAAAwMcIYAAAAAAAAAAAAHyMAAYAAAAAAAAAAMDHCGAAAAAAAAAAAAB8jAAGAAAAAAAAAADAxwhgAAAAAAAAAAAAfIwABgAAAAAAAAAAwMcIYAAAAAAAAAAAAHyMAAYAAAAAAAAAAMDHCGAAAAAAAAAAAAB8jAAGAAAAAAAAAADAxwhgAAAAAAAAAAAAfMxmmqZpLQIAADQ5hktO+SvAbm0AAKD+jH1btfGrEp20+yu0T7g6BLhU8GGqUr4qka4K06PTIxXcRMYcx85M7XC2U98+7VT+VgynIXs93pjhdEkB/hWPAwAAuBwRwAAA0EQ5dmZqx35/dbirpzq0tLZeQIZLDqcUEFjHSZhjhcreVChnlaJdbbr3VOj1tT6qZjW+Xr6SoiYp+dhYvbV6irpXeQAAoGkoUV7Gv7TfWq5gKKBTpHq3tdbrz9iUqOFTV8joEqHecqlHwlwN3DBJI+c71DvyvxUcGKZHp7dTuo/GHOfuFVryfzvlkKSrbtLAX0Spb9uzHBfPw8a4/pr6zRR99M5YBUsyMuIUPitTfeOWacG9rSVJhrNETvkr0DuU2Z2skRNSdGJCktZM71pZBwAAuMywBBkAAE1Svt6bFacZsdOVtMGwNl5YWa9o0JBX9KW17s2RpXmz4jQvbbM2bt6sjatTNW/ubE0YNliDErIswcwZ1Ph67XRPZFd1H9JHHarUAQBNx16tWrBQ8zy3FxLiNCP2Rb1QUUvWxtrTmXowtDZthRx3zdTyJfF6aclcRbct1rqP86XI3+r1hJmKmx6pYF+MOWUlWhV7n/pNSNTSXe5R8Mj2FE2NGqepK4utvS8Ye6c+GtgtQgO7u8MXSfoy8T4NStxapZ/+K1w/79ZVwyLaVa0DAABcZghgAABoinZm6uMfhmtaTIjWpa1xXzl7Ceg+dqbiYmcqLjFJH61crs/mRkppszQn09rzbNnVPSZJb03vqQBrEwCgieipaR++q488t7ceCZE6Rustr9q0PtbHnA2HDhZJuiaw6lhSKsnPe1bK+Y85OXMnKjYjUI++uVyfLYlXXOxMvbRkuT5b9FtF3xNk7X7htB2ul96M16j21gaLll0V82aSpvXyt7YAAABcVvz+93//93+tRQAAcGnLW5qot24co9cGt9DypM0KvH+IQi3LkBn7MrXo1WS99uZ65eRu0WcbNumzDZv0TfPO6tn2Ksmz9MniuYv02rJsFRwP1G2drleL8ss3HFlKnrdDLSNuVYvtaXrt5Vf1+prvZFzfWV1vdJ+IcuzM1GcZmVq3s0gH/12gbRs26dCNdys00OtAJOlIrj5I3aJrhzysn3ldLNuinV27/pqhgk5DdH8Pz2msY4Xa+O67ev2vryrl0wNy/qSjevyX+3hrfz1DRVs+15bDAerwU0/fTSl6aUtL9bu1hXKWJSsx8S198q2hGzt31g1XVh6DylzKWZasBUlvaemmndqW5f6cPttwWDdE3KrrvLoCABoP546P9O43N2vC/bfpaq96xe//jobWvZGoOW9+r3aDeugGP0OOnR/rzb/+Xa8lfaRsR6lu7nSrrm0hz/Jmn2vdhs365t8l+mFPjmcs+FxZOYU6eMRdq23MkSQZxdr4j79Xjl/+/6XObQPk53VskqQf0/T0M5/q2ieS9OfBVQfMFm3aKbhFlVLFWP3nv3+u/Ueu0k2d/0tXez1pvcc7SY7NqXp9/kK9vuY7OX/SUa3yU/VJSe/Kz9CRr3WbCqUbg3TtFe7P5JO1mcotKv9MPGOjUazs9dvk9G+n61p5vcDhfKW/tVDzElP12T6XWv7XrbrpJ94He+a/LQAAAC4lzIABAKDJydfa1cUaeHdPqUu47g7YqlWZJVV6GJsSNTzqFe0KjNCDD0Qo8IcvlJ65Vye9+hQsmaR+0cnKCbxHDw4IVN7fYjQoNrNyObBjhVqbtkHpiQ9pxAvb5Lymva77Lk1zJk5Tyj53l3/v2qy1O89jqZRjLp2UFBDgOdu0M1mDIibpz5sdatHmNt18MkvzYu7TjNUuqc7Xs6vgwzjNeG93ReXEN5lKX79Sc8aO0/ObXbr6lkAVvD9fDz+eqqKKXsVKeWSEHn7PpR5RYzU2TNrx4RrtuFSmFAEAqjnxTabSt2QpZeIkzfvKruBuIQq2u7Rq+mANiklXgQJ0c/fWKkpL1P0PJiuvTJIcytu8TQX1WhOz+pgjZ5biR43X1EVZOtnmNt18TbHSY2crvYYl0Ryfb1COemrM8DPPdClYMkn9JiQru2UfTRwepLz3ZmnkyNna6HWc9Rvv3M81KCZZG9VeN1/j0o65D2rGaq8OknRsqxbPWqiNDnk+k0zl1DjsFip9VpxS8rxqe1M1YcgkJW1uob4PRSp4d6qmRo1TbKZ7DJfq97cFAADAJcUEAABNy7ZXzIg7/mCuPOq+u+PF4WbY5OXmwYoODjNtcj8z4oX/V/mYo2vM390RZc7N8dzftdgccUeU+cxnzso+R5abT9wx3Hxhm+f+d++Z4+/oZ45/9V/mkfI+R9eYv7ujnzn+H/srHvb92xPNsDv+aG6oqNTA81zPfFZZOvnD/zOXPBFlht05zUz7obzqNA8ePFnZyXSaaU/0q/L+anu9DX/oZ4b94YuK+9+/PdEMu3Oi+WpO5Xs8+fEfzLA7JppLijyFba+YEXc8bqZWvL5pfv3qODPsCe/PEwDQGH3/9kQzbPx75vc11e/oZ45/e2/VhkMO80ip1/2c18wR3uOeud9cMr7qWFJzzTrmnDTXPt3PDBv8R3NDxYBpmqb3a3n59m8P1jiOVbNrsTnijn7m7z72GqtLd5uvjupnhj39mVk+WtZrvPM8V9XPxDPGen+G371njr9jornku/JCze/fNL8wn6kyrnuOa8aayr8ZysfUO/9grvX8zVLfvy0AAAAuFcyAAQCgiclZs0bOXn10p2fJse6DBilgy1ptqJi1cVLOI1JwG68ra1u2U4c2JSoocF+FmvPPNBV1jNLECK+12wN6qvetLuVUmWESoqH3dq1c475lV/W4VXIe8rqa9Sysmt5fPXu5b+HDpitp322a9c4cjbq+vIe/AgM9S5Acc8mxZ7eMgCDpiEsnvJ6n3jpGalS3yvdo79JVoXLpyGFP4YhTTgWpTcXrSzffEiLt+q7KVcMAgEtMm2jFPWjZIP6a1grwkyRDTkex8pxSoFxyHqna7awdy9TKDCn0gUfV13tTmGprj7kV7S+0lmqUtyZDRQFRenCI11jtF6JxD3SVMjK09phX5zOMd3lrMlTkF6nHH/D+TPx13TVed8/Hzkx9vM9fYx6IrLIvTugvxqh7WaZWbjC8qr792wIAAOBiIoABAKBJydXKlS4FHNuspIRExSckKv7DQl0t72XIgtQjrLXyPs5QQZmntDNTH+8PUqdQ98mZI06XtCdZ93vCEPdtvObt9mw2fAZFP5zbGl0D45dpzepl+ighUgEKUnRCvMZ0rLrmu2P9Qk2OGqyeA8Zp3DN/18Z99VoP5iwUa/9Bzz9Dw9TbL0ur1pef9HFpbUamFNZVoV6PAABcYvz9qwQBkiRnrpbGTVK/PoM1aOx0zUnL17mNZhYOh/ZL6tD+zEuKSVKHtiGSJKN8jK7FwR+KpaAbZd1WLfD6IEnFOnjGg68c7w7+UCx1DFGHWkKh83awWEUKUrD1YK8PUrCk/fX4u+Fc/7YAAAC4mAhgAABoSrZnaJUzSKGdvE4r+QWpQ3spe8VnFSeSuj/2lEY5knV/5CTNmDlJ/R5JVeD0OYq5tfJh6hitt1a7AxHv2+uj63cC6Vy08G+twMDWCh7yuKb1KlbynKrr0zvSpmvQrCwFx7yhrE3LtSZ1rp6ObLjj0fXDFfdkO62aeZ9GxsRpctR9is0drgWxEWIrYAC4BLhclXuX1aUsV3NGx+iNw5F6aeUnysp4V28ljlF3a7/zcYZApVxw99sUoCx9uc3aUoMyQ95zR9w1a6GeanounzKqh0plDfuKAAAAFxsBDAAATUjOmjVy3j5Gf4qdqTiv20uPRUjbM7T2R3e/oo+StSFijj778FmNHfuslq//RG9NqFx2pHNYT2nPVuWVuQMR71uAZ2mzhtVao6ZGK3jnQs1bXT77pEQbVm+VIh9VXGQ72RvqKl1vx7KU/LY0LW2Z3ooZpWlJy5S1cmbVJWQAAI3X/mKVT2qs01cZWuVop3HTx6p3+VKXvtL2NnUPkDZu3mptqVm3SA0NdGnpgtTKmaoVDBmezMI9Vmcp2zO2l8venCUF3KYebavW61Lbc/lM1zD1VqE2bCmfjeuxbZs2yl/duzfgxRQAAAAXEQEMAABNhnv5sdCI8GrLkdjvitBA5WqlZxmygrx8GcdcMlq0U+9e7aqFKoFDxmhUYK7mzEhWtsNzpudYibI35dbvSmIvwe3bScpV9leG++ra+l7s2iVaTw/z17q5C7XxmCS11nXXS9qZq5xj7qtmCzLma+qi/CoPO+fXq4mjUHkOQ8ZxuwK79FRoG39mvgBAUxR4o4JVqK+3lciQZDi2KmX6i1pl7XdOuip6Uoic78/WjA8L3bNAjBJlL1mo9H3WvpL8umr6c8MVuHOhfj0tWRv3uGSUGXLu36qUqeMUPjVNDkmB9z6qMZ6xOuewJBkq+jBOz7zvUu+p0Wc1eycwcpgG+uXqjbkrVFA+xn4Yp+dXWntaBanDLZK+2qYcQ9KxWmbRBA5XzNjWykl8Wknb3RdWGPtWaEZsmpy9pmjS7dYHAAAANA0EMAAANBVbMrTKGaKhA2q4irRlhH42QMr52L0MWd+HHtV1q2dr0F3ee7wMVr9HFirbKalluOJS5yhaaZo8ZLC7PeI+PbNkqwpqPLNSh7ujNe12h1IeGayefQZrxsf13UTXrr4zf6uBh1foz2+6Q5a+v5qpvidT9XBEf/XsM1i/XnmjnpsVWfVh5/x6NWg7XBMjC5U0wfMZlN8GPKQZafXbJBkAcAloO1zTJrTTxoT7FN6rv8JHzlfRyGerLs15HoInzNNbU2/VjoSHFN6nv3redZ+eWGHo6hbWnm72u2Zq2ZtT1GNfqqaOHaHwPoPV797pWtJ8rN5KjHJfaOHXVbNS5yj6ZKoejnSP4yMT/qXOs97WX6JaW5+ybgGRei5prK7OTNT95WPsp10V86B7P5q69P3VFHX/IVUP39VfPSPitPKwtYdb9+lLtGCsoZSJI9SzV3+FRyVqR9cn9cGC4dUuHAEAAGgqbKZpmtYiAABoyoqV8mCM8h5coufukpzHPYnK4S/0wsRE7Rr9hj6K8Trhcswlx3FD9qvOb/kxw1mik37n9xxuhpwOl3SG4/HF6xmbEjX81Rv117fG6jqny3NV70l9+484TV4SpITMeA09j+cHADQyx1xyHJcCAhtoxmOZIedhlwy7vwID6vcKhrNETkN1jsPuPnYFXON/nkt0usfYszk+N0NOh6EW9Xl9wyWH8/z/rgAAALgUMAMGAIDLzb5Mrdp5m34W4S97S//K/V063qoOAZKsJ048fc73JIk94Pyfw82ugHocjy9e78uPV+jqgRHqYHe/pvuzClKPTkGSn1TLhcsAgEtVS38FNlT4Ikl+nvHkLMINe8CZ92Bz96lH+HFGZ398bnZ3aFWf17f75u8KAACASwEBDAAAl5vAdgoNzFRSYqYKHC4ZMuTcn6/0hNlKPhmppx8483Ijl4sOoSEq+L+FStlSLOcx95XRBZuSNWNupkJjHtVATh4BAAAAAIBasAQZAACXox+3KuXVZC3dlK8ip12BN7RTj2FjNe1XEQo+24temzSXCj5M0Zx/rFHe3hKdDAhScKeeGjtpisbc7m/tDAAAAAAAUIEABgAAAAAAAAAAwMdYggwAAAAAAAAAAMDHCGAAAAAAAAAAAAB8jAAGAAAAAAAAAADAxwhgAAAAAAAAAAAAfIwABgAAAAAAAAAAwMcIYAAAAAAAAAAAAHyMAAYAAAAAAAAAAMDHbKZpmtYiAAAAgMudIRV/K+0+IN3QWQq5QfKz9vFy9JBkWIseV10rXel1/+geacs+qW1v6eZWXg0AAAAA0HQQwAAAAACo6odN0nMvScWSrm0lHTkkXdlDeiFBamft7JE4QvrMWvR4JFm6/wb3vz94Unpzn3Sd53nbPSq9FFV3uAMAAAAAlyACGAAAAABVfZsifdxRmniXZJdk7JGmPSm1ekx6cYS1d+0+eFJa10taEO0OWL5PlR5bJsX+TfrvVtLRTdKkP0lD5ksPdbQ+GvAZ41SpjFOlOm1K5mn+FxgA0PBszWxqZpPsVzSX/Yrm1mYAlwn2gAEAAABQ1c3R0uOe8EWS7B2l/24rff+9pWMdDi6XlhjSU57wRZLWLJfa3ecOXySp1V3SmFBp/afejwR8xjhVqiNHT+j4yVMqLTMlrj8EAFwopqnSMlPHT57SkaMnZJwqtfYAcBkggAEAAABwBoek7fuk0FBrQy0M6bVFUuRjXkuWHZK+PiR1tMx0ufkW6WCOe7kzwIeOnzilEydL3TNeTMnmPhcGAMAFYXrGHnlmX544WarjJ05ZuwFo4ghgAAAAANQs71MpPUV67FHJNUL6XX9rj5p9myp9GSqN7+FVdElHJbXx7AVTrvW17sCmrGoZOB/HT5ySUVoqVtwGADQWpmnKKCWEAS43BDAAAAAAavZZspS+XPpeUntLcFKXzz6RuvSXrrM21GaftN9aA86NcapUp0rLJLIXAEBjY0qnSstYjgy4jBDAAAAAAKjZ5BTprVTp/USp5D3p96n1mKmyR/rskNTde/bLmbSV2lhrwLk5YTDzBQDQeJmmqRMGAQxwuSCAAQAAAFC3KztKMSOkb5dJudZGi0NfSwcl3drW0nCD9FNJ+/ZVLe/fJ6mV1KpqGTgXxinCFwBA42eaJrNggMsEAQwAAACAqo4etVYkw7BWapafV8uMFrsU2lbasqXqLJrcHVK73tK1XjXgHLkDGGsVAIDGxTTdYxaApo8ABgAAAICXPOmxsdLcT6UTntLBHdJf0qSrB0hdPbUvX5JGjJW+tAQzR1zu2S417f8yMko68Yn07h73/W9TpPRD0s8HW3sC5+S0KTWzWasAADQuzWzuMQtA00cAAwAAAMBLqPTSM9KeBdLoEdKIEdLDsZIxWJr3mOTn6XbokKSj0g+W2TIHf5DkL11ZtSxJajVY+t8R0rIn3c87NU0aliCNZPoLfMM8bTIDBgDQ6Jmme8wC0PTZTBbIBQAAAFCTE0el44ZkbyW1slsaDenQKenac9i8pcyQjhyVrrq25qAGOEf/cR63lgAAaLR+EnCVtQSgiSGAAQAAAAA0CQQwAIBLCQEM0PSxBBkAAAAAAAAAAICPEcAAAAAAAAAAAAD4GAEMAAAAAAAAAACAjxHAAAAAAAAAAAAA+BgBDAAAAAAAAAAAgI8RwAAAAAAA4GG4Dqmk5KgMawMAAABwlmymaZrWIgAAAADUy9Gj0ooV0ubN0t69kmFIgYHSbbdJAwZId9xhfQTQYP7jPG4tnbWsPw3V79cM0Avrn1K4tREAAB/6ScBV1hKAJoYZMAAAAADOTWamNHGitGSJtGuXdPKkZJrSwYPSp59Kzz0nJSZKp05ZHwkAAAAATR4BDAAAAICzt2aN9OKLktNpbanqs8+kuDhrFQAAAACaPAIYAAAAAGfn+++lBQus1dp99ZW0cKG1Clzayo4q958v6jej/kcDBgzVyId+r4WfHqiyd0z+kt9owvjZyijxKmqPlsY8ognjX1NWmXf9ayX/6hE9/Pp27yIAoIGUlpbq+ef/pOfjX9DRo8eszRWOHj2m55//k+L/OEenT5+2NgNAnQhgAAAAAJydZcvcS42djRUrpKIiaxW4NJV9p6Uxo/Wbv2yXfdBExT/3lKI7lSj9+Uc0/k/Zcnm6hdxyk4oPfK7NeV6PLdqujJ0HVHxgnTbv9K7v1OaCA7oppItXEQDQUAoKCvXppxv06fpM/e53s3TsePUQ5ujRY5o+/Wl9+ukGrV/3mb7/nr9lAJwdm2me7f85AQCARquwUEpKknZ6n9EBgMbhyP1j5Br2P5JNkim+XsZf7Vf46ZqAq9S8uZ/1x+S8/Md53Fo6a1l/GqrfrxmgF9Y/pXBro0fxe7/RhNcPKDL+bcXe06qiXvjeb/Tw6wcUmfCOYu+yS8fXK27Yi9oWNVcfTe0sSSpZ/nvdv+xaRfqtV37/1/XWAzdV1l92asq7r2rMjRVPCQBoIKZpavLkJ5Sfv0eS1LVrZ7300p905ZVXSpKOHz+uGTOe0c6d7hQ9JOQW/fWvf6nyHOfrJwFXWUsAmhhmwAAA0JQQvgBoxOwF37pPwstzMp6vl+1X41SZDjtPeIqXmj1a+c890o33aoxX+CJJ7X7xkCL9jirj48/dS5FddbvCwyTXVztV7OmzO2e71OFuDevWSoX/b6fKVyfbnbNduvFOhRG+AMAFYbPZ9PLLc9S+vTsIz839Wk/PipNhGDp58oR+97vfV4Qv7dvfpJdffsHyDABwZgQwAAA0JYQvABox29GjMk1TMj0rmJnuq0+5f3neN4xS64/IJaJEBw5I6tZZIdYmv7YK6SDp+wOewOVahd3ZUfpmi7aVSNLX2vyFFBbWRV1vu13atkVbj1fW/f+7d/XnBAA0mIAAfy1Y8LI63NxekpSz4ys9++zz+v0zz+vrr3dJkjrc3F4LFrysgAB/y6MB4MwIYAAAaEq6sG48gMbLbNVKNptNskk2m3s2BPcv3/t2e3Prj0jTcfyUewaMpKCwOxWk7dqWK+m77drm6qjwsGtl79JZIfpc274qr0vhvdzLlAEALpyAAH/NfyWxYiZMdvZWbdu6XfLMfJn/SiLhC4BzRgADAEBTEhNDCAOg0TI63CyZnjt8vay/2q/w008C3GvsX3r85e8v6aCjYvmwSodUfEDST1qp4lRdp97q4y9lbftaJTk5KvTvoq7Bkm68XX1ulLbl7HHXdbf6hFV9NgDAhVE+E6Y8hJEnfGHmC4DzZTNNs/xPYQAAAAA4swULpE8+sVbP7PXXpeBgaxXwmf84j1tLZy3rT0P1+zUD9ML6pxRubfTY9spoTf/njXr07Vf1y8pzdTI2vaj7Y9er3W/f0av/c21FPetPQ/X77ybqyZDFmn8yXuuf6e2uvzxUv8/31Iue1Adzf67WlU8HALjAnE6X5s5dIEmaPn1qg4cvPwm4yloC0MQwAwYAAADA2bnvPs+aUmdh+HDCF1xCDmjbp59rg/W265AkKWzi04psvUfJ02YrfdcBlZQcUuGXizX9+fVydZqomSMqwxdJ6hl+t7RruZZukcK631JZD6ush9x5O+ELAFxkAQH+eu65Z/Tcc880ePgC4PLADBgAAAAAZ2/NGmn+fGu1Zt26SS+8YK0CPue7GTDWqsegytkr+vfnmv/0i0ovKN/tRWp910TF//5+dbWesyv5WNPvn69t6qgpf39VY8qzyKIP9OtfLla+btQvF72pRztZHgcAaNKYAQM0fQQwAAAAAM5NZqa0cKHkdFpbKvXrJ/32t9IVV1hbAJ/zRQBztgzXIbkMyX7VtfLnPBoA4CwQwABNHwEMAAAAgHN39Ki0YoW0ebO0d69kGFJgoHTbbdKAAdIdd1gfATSYixHAAABwrghggKaPAAYAAAAA0CQQwAAALiUEMEDT18xaAAAAAAAAAAAAwPkhgAEAAAAAAAAAAPAxAhgAAAAAAAAAAAAfI4ABAAAAAAAAAADwMQIYAAAAAAAAAAAAHyOAAQAAAAAAAAAA8DECGAAAAAAAAAAAAB8jgAEAAAAANAm2ZjbZbNYqAACNi83mHrMANH0EMAAAAACAJqGZTTptWqsAADQup033mAWg6SOAAQAAAAA0CfYrmjMDBgDQ6Nls7jELQNNHAAMAAAAAaBLcAQwJDACgcbPZbAQwwGWCAAYAAAAA0GRcaSeEAQA0XjabTVfaCV+AywUBDAAAAACgybBf0VxXNPeTyGAAAI2NTbqiuR+zX4DLiM00TbYoBAAAAAA0KcdPnNKp0jLxv7wAgMbAZrPpiuZ+uurKK6xNAJowAhgAAAAAQJNknCrVCaNUpmnKNKVmNon/AwYAXAg2m3TadH8tX3aMmS/A5YcABgAAAADQpBmnSmWcKtVpUzJP87/AAICGZ2tmUzObe2lMghfg8kUAAwAAAAAAAAAA4GPNrAUAAAAAAAAAAACcHwIYAAAAAAAAAAAAHyOAAQAAAAAAAAAA8DECGAAAAAAAAAAAAB8jgAEAAAAAAAAAAPAxAhgAAAAAAAAAAAAfI4ABAAAAAAAAAADwMQIYAAAAAAAAAAAAHyOAAQAAAAAAAAAA8DECGAAAAAAAAAAAAB8jgAEAAAAAAAAAAPAxAhgAAAAAAAAAAAAfI4ABAAAAAAAAAADwMQIYAAAAAAAAAAAAHyOAAQAAAAAAAAAA8DECGAAAAAAAAAAAAB8jgAEAAAAAAAAAAPAxAhgAAAAAAAAAAAAfI4ABAAAAAAAAAADwMQIYAAAAAAAAAAAAHyOAAQAAAAAAAAAA8DECGAAAAAAAAAAAAB8jgAEAAAAAAAAAAPAxAhgAAAAAAAAAAAAfI4ABAAAAAAAAAADwMQIYAAAAAAAAAAAAHyOAAQAAAAAAAAAA8DECGAAALmOG07CWmpYfVyg+MUtOSVKJ8jIylfejtdP5M75K0YzFudYyAADSsUJlZ2xVwTFrQxN3rFDZ1nHXcKlef3qUGXJebp8XAABokghgAABoUtwhwzrv25bCGk92GBlxCh8wWFM/LLE21chwlshR0xM1WoY2vrpQ33a4VQGSpN1KmRWnlDxrv/Nn7xiiFv94TUsbINwBANSTUazsjExl77WMVT/mal0NAYhjZ6bWbS6UL0c243BJ9eDAkaV5sxZqo8NSb2hGsTYuWaj4hETFJyQq6cN8OcusnRqQI0vzqoy7+UoaO0L9Ri5UTnmpzJDT4ZJR5bgMrYsdrH4DZin9Qn9mAAAAPkYAAwBAk+IOGWYkvKJ5CxZq3oKFen7qQ+p3z32amlZYpae9Ux8N7Bahgd1bV6nX5svE+zQocau13Hj9uEKLV/fUg8Pq9/7OS8twRY8tUdLfLqHPBwCaGrtLXy6I0+R/VP1dnPd/szVj1nQlbfCOWoq1cnacZmQUy+5VPT/FSn38Pk1+v9jacME5v0rWw/3Ha+qiTBUdk3SsWB/PmaR+Y5OV48vE6ay00z2RXdV9SB91KC/tT9PkIdOUut+7n12d7opQ94h71OMa7zoAAMClhwAGAIAmKPSRJH304bv66MN39dmG5XrrwUBtTJim2ExXZae2w/XSm/Ea1d77kU1H0ccrlTNkmAa2tLY0jNDhoxS8eoOyL+TVxQAALyHq3E1SbqGKKmrFyv68WMFtgpSdk1/ZtSxfebul3l1uraw1FT+u0IyJKSqKeFZrNryr1xNmKi5hrj7a8LZeiolUd98lTmfJru4xSXprek/PzNTaBd8br7cSh6uDn7UFAADg0kIAAwBAU+fnr+4x85QwoESrElIql/1w5FdbksXYl6mkhDg9PHa6YhetUN5heZY1y9DGbyR9tdSzlMkKla8oYuzNUsrc2Zo8NkYz5qYq27IMl2NTiuLT8qUyl3LeX6gZj8Roxtw05Ryu2k+SnLtX1PD6Hp6lVGY8EqMZCclat6+uS3hLlL0pXwPv7mltqMq5VSkJiUpa71mGzZGl5IQVypOhooxkxcbEaHJsstZ53pNze5rmzYzRwzMXaulXXmGWJLXtqbsD1mjtV1XLAIALp1PXEGl3vnaVh+HHcrVjd4h+PixEzi1bVVDecVe+chSk7p28Z0kaKtqU6vk9n6ikjGLL8mSGHDurjlMF7k3GPPudZGhHsVSU4Vn2a3GWrCtoVRlHtlvGEUk6nK/0RbM1+ZHpiq02VuYrPSFFGx3u54mPma74jOqzbbL/tlDZLSP1XFykAr0DDL92GjignVfBe2x9SJNjk5W+23pMla9p7MtUUux0PRwzu4bPRpKzsPLYF61QQbVx3lDRlkyt2+kec429W7UuI1dFKtaqJPcyacmb3G01Lw9X+f25P2Z2jUuq5aV5nsMo1rqKY8lUUbWDBQAAuDAIYAAAuCz4a+iwSMmRqQ07PaVjW7XYe036fal6eHSc1ilMD04aptD96Zo8K01Fcihvc6Zyqp/jUV7SfQqfMF8bHS0U3L29jE0LNXlknFaVn5CSdOKbTKWvX6k5Y8fp+c0uXX1LoAren6+HH0/1ukJZKngnRoMmJCp9n103dw+StifriUVb3SdfnFmKHTleM1Y41OMXUepxMlPPjJ6kpPL3Us1uZW9pp86d6rjMt6xQKTHTNW/XTRoW4TkBd6xQa9M2KCVhnCa8UagWbYJ0ckuKZkTP19IlMRrx/AYdvKa9ri5I1ZyJcUqvEjaFqHM3l3J21vBBAQAuiOAutylA+SrY5yls36Z1Abfpnp+HqMOebdrhGfOMfYUqUld17lT+SJc2xo3TyBkrdbBblMZ2O6l1ceM1flH5rBmXVk0frEEx6SpQgG7u3lpFaYm6/8Fk5ZVJOl6snM3btMtr/KvKpY2JD2nEC9vkvKa9rvsuTXMmTlNK+XFK0t5UTRgySUnbA/WzB+7RdbtT9PCwOK2reE6HstMylb1itu6btlJH2gQptE2Q1xNIUq7WrnYpYFiU+p5pBqhnbJ36YaE6DI9WX79MzZkwQhOWeC9Z6lB2WoZW/W2Whk9O1/6WQQou26rkWZP0fKZXquHMUuzohxT/YYmuuyVILfat1a8nL6y4WMPNroIP4zTjvd3uh+zP1cYt+arpIzuxJUUz5mfp3xUVz/dn2koVdIzUxD7SujmT1O+RVBV4hTAHt63QyhUpmjoqRqn7Wii4jfTlm3GaMDuremAEAABwIZgAAKAJ+cJ85o5+5vi391sbTPO798zxd/Qzn/nM+/5Ec8l37rvfvz3RDBuzxPzW+zEV9ptLxvczw/7wRdXyEYd58KT3/eXmE3f0M3+9zFFR+v7tiWbYnRPNV3OcFbWTH//BDLtjormkyFPYtdgccUc/c/zbeyv6mKZpmqWmaZonzbVP9zPDot8zvy2tbNoxf5wZNnm5edCre4Xv3jPH3/FHc61X//LPxv3+neaGP0SZYYP/aG444tXF8xmN/9tes+Jt5bxmjrijnxn5h8/MI+XP98My8yHL+zRN0/z61XFm2GzLZwQAuHCOrjF/d0c/83cfu3+Lf/3qODNsxhrzpPmF+fyd/cxn1rm77XhxuBkW/Z75vedhJ9f8wQy7c6K5pKDyqdy//6eZaeUDzSFH5ThQ0T7cfGFbeaGWMbh8bHn1X2bFkOM5zvH/KO+723x1VD8z8g9fVPYxnWbaE/3MiBf/5bnvfv5qY5e30s9qPoZqPGPrqMXm117v6cjHfzDD7hhnvrqrvOJ+zcin15gHK/rtNl8d2c9rvPM8l/W4PONnxd8dpmlu+IPlb4nP/uj+e8Dzt0i579+eaIaNt3x/7hhnvprr1enIGvN3d/YzRyzcXVHa8Id+ZtjgP5grf6js9vWr48ywO180N1SWAAAALhhmwAAAAEnST9sESXvSlPRhoYz67mMS0FqBnkkmxuESFewyFNBGcjpPVu3XMVKjuvlX3LV36apQuXTEszxJ3poMFflF6vEHLEuj+ElyrFFqhjT0kbFV1oLvfntXadtOfe3d38Jey9rxztUvaurqQE17/Vn1rbYQfYiGRrar3JS5Y4g6SbozMkIB5c93fZCCVf19BgT4S5a3DgC4gFqGqHNHadc3he79XzYXK7RbV9nVU70jpI1bciUVa8dXLgV0u03BkqQSrXw/U4qMVrT3vmjdwtRdW5Wzy3P/mtaeccCQ01GsPKcUKJecR7weU6sQDb23a+XeJy27qsetkvOQZ8mv7Su1dF87jftVuNf+KP7q3StEzq/+VWXG6MDpT9Uwdnn8UFy5zFpdjmVqZYbU+8EohXqNlQGRozQmoFgfr/HaL0fSncO8lzMLUY/bJR12uWeVeJ4r9IFHqx7XNa3PuNdL/RhauzpT6vVLjeviVQ6I1NgofxWtzKw606bPMA29vvJuaLeuUplTTq8lVwEAAC4UAhgAAC4XjgMqktSiubXBzR75rD6YdZt2zXlI4feM1+S59VgzvaxE6+ZO18i7+is8aqJmvLm5cj38MyrW/oPufx38oVjqGFLzZrvHXHJKWjWzv3r28rpNz5DKziHt2JOqyXGZ7n/X9HpWLf3VwloDADRS7dSpu1T01W45juVqx84g3d0ryL0BfLfyMKNQBbuk3t1DPI856Q5RVsdVHWd6zdIqSSdLPd2cuVoaN0n9+gzWoLHTNSctv9oeL2er6AfPMxxxyqlCJY2uOtaNXJAvlb++R4ur6lhes007dZB0suwMA7jDof2Srgv03gNHkl+QgoO8jqsuRQ73EmGe5+rQ3rocmq84dLBI0vWBCrS0tGkTJO0vlufPiToU62A93hIAAICvEcAAAHCZyMvKklMR6n27taWcXR1Gx+ujDZ/og5ci1SIjTiNHzldOrbNhSpQec59mbArStHc+0db1y/RB0pMaeq7nX8qMOtdnHxi/TGtWW2+/1Z3WjmewKmmhFJOklyKLNS9hxXmfPPNmnOmEFwCgwXXu0lPa9Y2Kducq26+renj2eQnufpsCduYqZ3eh8spq2Ccs8tkaxpllmhUuqSxXc0bH6I3DkXpp5SfKynhXbyWOUfeqz3Ce2unRxdVff81rUZ6ZOvVxq3r3kgo+31q/8a3aGG/Ufxas1bk+rr5qGGMZdwEAQGNHAAMAwOXg8AotfrNYAcOG6Wdn2pTXz64Odz2qBa89qg6ONVr5lbWDh+MLrdoiDY2ZqYHt67gatx46h/WU9mQpu8qm9h5tb1P3ACk7Z68CA1tbbv6VS4V5CwxUGxWqYL+1QQocNkevP9hVA5+cot7bEvXCas/yLz5QVFCoDh3ONYECAPhCYKeuCnYWau26f8kZFqbO5bMdu4Wpr7Zqx/LvlOd3mzpVLDcWpB5h/tLmXH17jXWcaa0Au6SvMrTK0U7jpo9V7/K1N32pa5h6q1DZ36ja6wdeczav11r3DOkpbU/R3MwaxjfDE1h4xtaNm7dWbf9xqzbskXqH3Vq1XpfanstnPN+fTduUXSXkKVH254VSrzB19i4DAAA0IgQwAAA0QSedJXI4SuRwFCr7/fm6f1ii1gUOV8LM8JoDC7m0ce5spWwpqZiF4vymUAd1q0LbSlKQOtwi6attyjEkHTNkXBOo6/yknK9y3VfLHivUujmzlLS76jPXR+CQMRoVmKs5M5KV7XAfgbE3U/MWZ8lQV0VPCpHz/dmaUbE/jSHnnixl77U+k0fLEHXumK+8b6wN0p2RnvX1rx+uuCdDtC7uRa2q97JpdSnUrl1SaEfLPjYAgAurU4i6a7fSP8pXhz63VS5b5XebevdyKf39NVJYlyon7buPi1bosTQ9E7tCBZ69QgxnoTZuLnTfCbxRwSrU19vc46Th2KqU6S9qlddzSO0UequU99VWOcsk49hZzM4IHKToqNbKSXxaSeVjcZkhx5Ys5ZzlGBUYNVPTupRo1cwYxX+YryKnIR1zqSAjUfffM05zthiSumrS1J6esbXY/XqHc5U0Y75yAqMUc69labI6ddWo0UFypi2sOHbDsVVJsQur7s1Skw4hClW+dmxzuWff1LJPS/eHpqi35/tTZEgqcykn6WnN2d5aYx4bXm1pMgAAgMaCAAYAgCao4M0YDRpynwYNeUhPLNqtDg/G66P0mbVv2it/dQ4L0KqZ9yncs+58v9it6hH7pEZ5zmr0/dUUdf8hVQ/f1V89I+K00hmuibPCdeIfMQrv0189B0xTepunNGuY9bnroWW44lLiNeZkqiYPGayevforfOwrKrAH6KSk4AlJlfvT9Omvnr0Gq1/0Qq36ptj6TB7tdHdEkHK+qrqJsFXw2GcV0zFTc+Zk6izPb1Xn+Je+3BOhvr2sDQCAC8ovRKFdXHI6/dU7zDsUb63QbkEyDEPB3W6tetK+7Vi99c6T6rFrvu6PcI+D4QMmad7qQhVJUtvhmjahnTYmuMfJ8JHzVTTyWcVUmSgSpFGPDVdgZqL69emv8Khk5Xg318muvrOWaMFYaWmMZyzuM1iD4pYqe+9ZBDmSpCBFv7lML0XZtTZhkkYOGKyeESN0f9y/1HvOYs3q5b4UIzBqjj6Ydat2JIx3v15kjFJOjtWC1CfVvT57pHkJfWyO4u52KPmxys/H+ciTGmrtaNV2uB6Paq118SPUs9dgDV+Ua+3hdv1w/eWdJ9U5J1Ej7+qvnn1G6OF/GIpesESzal1aFQAA4OKzmaZpWosAAODyZRwukbPMroBr/GWvdgLGkNNhqIV3m+GSw6la+p89w1kip1HX67tkyK6A2pYfK7c7WSMnu5Sw/kkfr9FfM8f7MRq0Zayy5kTUfVwAgEbNPQ5J9gDP8mPejrnkOK66x6AyQ87DhlrU1acuZYach10y/PzPcvmxGpQ/V13jZnkfu78Cq73hs1T++dQ4htfhmEuOMnu9Xr/i75Ta3g8AAEAjQgADAACaqBKlPzZOG0cv10uRDX2KJl9JUU/L+dwyrsQFAAAAAAASS5ABAICmq7VGPTZcO5akuZePaUDGpnQtveVxxRC+AAAAAAAAD2bAAAAAAAAAAAAA+BgzYAAAAAAAAAAAAHyMAAYAAAAAAAAAAMDHCGAAAAAAAAAAAAB8jAAGAAAAAAAAAADAxwhgAAAAAAAAAAAAfIwABgAAAAAAAAAAwMcIYAAAAAAAAAAAAHyMAAYAAAAAAAAAAMDHCGAAAAAAAAAAAAB8jAAGAAAAAAAAAADAx2ymaZrWIgAAaFqMU6U6VVqm06dNnT7N0A8AaHjNmtnUrJlNVzT3k/2K5tbmC8o4VSrjVKlOm5LJOAgAuABszWxqZpPsVzS/6OMggIuHAAYAgCbMOFWqE0apmtkkm5rJlDuAYfgHADQ0m80mv2Y2mZJM01QL+4U/AVU+DpqmKdOUmtkkhkAAwIVgs0mnTfdXm82mKy/COAjg4iOAAQCgiTp+4pRKy8rUzGZTadlpazMAABeMXzP3RQDN/fx01ZVXWJsbxPETp3SqtIyLDgAAjYLN5p4VeqHGQQCNAwEMAABN0PETp1R2+rRMkyXHAACNh59fM/k1a9bgJ5+Onzglo7RUYggEADQmNsnevHmDj4MAGo9m1gIAALi0GadKVVpG+AIAaHzKyk6rtKxMxqlSa5PPlO97RvgCAGh0TOlUacOOgwAaFwIYAACamPI9XwhfAACNkU02nTQa7sRT+Z4vAAA0RqZp6kQDjoMAGhcCGAAAmhDjlDt8Yc8XAEBjVXb6tGw2W4Nc/WucInwBADR+pmk2yDgIoPEhgAEAoAk5VVomG8M7AKCRs3nGLF9zBzDWKgAAjYtpuscsAE0fZ2gAAGhCTp82ZbLoPQCgkSs73TD7lJ02pWY2axUAgMalmc09ZgFo+ghgAABoQk430AktAAB8yTQbZrwyT5vMgAEANHqm6R6zADR9BDAAADQxrH0PAAAAAABw8RHAAAAAAAAAAAAA+BgBDAAAAAAAAAAAgI8RwAAAAAAAAAAAAPgYAQwAAAAAAAAAAICPEcAAAAAAAAAAAAD4GAEMAAAAAAAAAACAjxHAAAAAAABgdfyoCrd9rg2fblfhfwxrKwAAAHBGNtM0TWsRAABcmv7jPG4tnZsyQyU5q7Vw8TLldnlS78Tcbu2h4rTf63dLD1jL0k336eU/j1SQte4la8EjWvCFtSqpr/W1jir3vXlK/MfnKnRJ/jfdreinp2lMl1ZefQAAl6qfBFxlLZ0Xn4yDZYe04S+zNPuf38k7drEH360pf3xKozrYvaoAAJw7X4+DABofZsAAAICq/t9rGjnkf3T/9NeUsfOAiv9zytpDklT49XYVu1rpll63K8z71vVGtbB2ruKAvvvqgIr9bqz6uF63K6xdQJWe+W9O129e36mg+55S/HNPadSNO7Vw6tNa+l2VbgAA+ExuUozi/ulUz8kv6J30f2r1R+/orT+PV0/jc6X8PVsu6wMAAACAWjADBgCAJsQnV/4aR1XiMiRt1yv3v6gNg+K1/pne1l7K+tNQ/b5got554/46Z7tUd0BLJz2ihR1qft4K//5IvxnzmoyJr+uvD9zkrpXtUfJDv9HfQ57V6ufuFtcgA0DD2749R9OmPS1Jmjfvz7r99u7WLufM11f+nv84+LXmj5yu9LCntDp+QNVxpsyQIbvsft5FAADOna/HQQCNDzNgAABAVfZWat36WrVu7V/HTJZDKjkoKai1Aq1NZ3RIxQekoOtbWxuqKNm8SbnqrGGDPeGLJPl1VET/G6VP1yvzfM+xAQBQjUuu2qa4+FnClwMf6ffjH9Hv/2ldjnO7Flrr/2+xJoxfrG2SSjYs1vSHRmvAgKEa+dBsLd151PvB9exrKGvBZE0YP18bahgP89+brgkPvWYtAwC8lJaW6vnn/6Tn41/Q0aPHrM0Vjh49puef/5Pi/zhHp0+ftjYDQJ0IYAAAwDk4KZdT0pX+5zALxX1yy9+/7n1cdudsl/xvUchPq9ZDunSWtF2531StAwBw/nooor+kDW/oufe+lqvM2u6lzJDjwAE5qgUgp1RirZ8sUfGBz7U0drLG/2WPgobGKHbyAAUWfa6FT7+tbd6vU6++doXf00POAx9rzWbvnWokaY8y//m1ijvVMcsUAKCCgkJ9+ukGfbo+U7/73SwdO149hDl69JimT39an366QevXfabvvy+ydgGAOhHAAACAc2DIKJPsOxdrwpChGjBgqAZEjtbDcR8ot7Yrh8uVuU8UuVY9p5GRnscOGa3fvPK5SipOQHlm2Nx4g6rNkwm8UUE66g6AAOAStX17Tr1uF4v3Mez55tuK+p5vvm0Ux9dw7Lrndy9o1E2HlPX6dI0cNlkJ72WrsFrIci4OaHdplP767guaOW6AIsc9pblPdJZcHynj/51D37AhGhUsbfhwnUq8H7rrc609IEX2J4ABgLrccsvNCgnpKEnatStfT818VidOnKhoP378uJ56Kla7d7uv/AoJuUU33dS2oh0A6oMABgAAnAO7WgfdpHa9ovT82+/ogw/e1NyJXeTcsFi/mfGBCuu6YthorRs73aR2/Sfq1aXv6IMPXlf84EDl/nO2Jv25fHNjzwybmvi3kr+1BgCXmGnTnq7X7WLxPoZXk16vqL+a9HqjOL4G5X+7nvzb+/rrU/cr7CffKeP1OD087H/0cJULBc5Nz//5udp5LWPWOvR2BUlyuqyzWOrTt6OiftFZ2vaJMv9d2S9/03oV+4/UsD6VNQBAdTabTS+/PEft27uXPM7N/VpPz4qTYRg6efKEfve732vnzjxJUvv2N+nll1+wPAMAnBkBDAAAOAc3aljC6/rrb3+ukBuvVevWNypsXLxendxR2vWu0nda+3u5qrMeXfS6Xnikt9q1vlatW9+ke373F70wqJVK1ixTZvllvLVtclxmqPppKgAAfMivlUKGTtTcpf/UB4ue1KgOUuE/Z+v+mA9UbO17PjwXFRz4scoclprV0Lf14Pt1j9/XWrm2fL+ZPcpce0D+P7tLYbWNowCACgEB/lqw4GV1uLm9JClnx1d69tnn9ftnntfXX++SJHW4ub0WLHhZAQFcBgbg7BHAAAAAnwm6626101Hl5lo3JD4Tu8LvuVPSdm3Lk6QbddNNkg78UHVZFUn6fp8KJdmbWxsA4NIxb96f63W7WLyP4Tcxkyvqv4mZ3CiO78Kxq3Wnn+vJv72jFwZdK+16V0u/sva5iK7qrUH3SPnLP1G+JBVt1+aiVorsd7u1JwCgFgEB/pr/SmLFTJjs7K3atnW75Jn5Mv+VRMIXAOeMAAYAAPjO8VPu2SnnEI4Yp9zzWsqDlXa3dpRc+1RoSWCKv/tO0u3qekvVOgBcSm6/vXu9bheL9zF0vOXminrHW25uFMd34bVSeP/bpUa3B5ld99w7Uv5F65W5SyresF75/gMVGWbtBwCoS/lMmPIQRp7whZkvAM4XAQwAADh7332tXPdmLVXkb1ivYt2oPrffWFEzXIdU4rW2fcnOr2tYQ/+oMj/9XPK7W+Hd3JWg2+9UkLZr5YZDXv0OaMPaPVK3uxTe2qsMAIAvuLKV/Ga2XNXGKank3wcktZJ/gKdwlXtJsOIDVWd9ujat19YqlQYWNkSjgg9o7YZsbftyj/wHDVBXax8AwBmVhzD9+9+j/v3vIXwB4BMEMAAAwMsh5X/6uTZ8+rk2fLrDvc79gR2e+58r/9+S9J2W/mm6fnP/ZM1ftUfFJYdUUvKdst6M06x/HFDrQY9rbPnslJKP9dyoCbp/1GytLJFkZCv56em6f3yckr/8TiUlh1RyYI9WvjxdCRukkIkP6p6rPI+95X5NGdhKuX/5g5K3HZJhHNK2xbO18JtrNeyXQ0T+AgDwteIvPtLKJXEaOf73WvjP7Sr0jFMb3ozTpL98LXUarzGeCwXU+naF3yK5li/Wwi+/qxgLH3p5jy7s+bqOivpFZxX/889auO1GjRrS2doBAFBPAQH+eu65Z/Tcc88QvgDwCZtpmqa1CAAALk3/cR63ls5SthIGxCnDWvaITFil2LskGQe04bXZenH5Hq+rhO1q9z9Pae4Td6t1+ca/JR/r92PmK0u9NXNpvIa1lvSfr7X05ReVvOGAe7kySfK7VuET/6DYcZ1V5X9zjO+U/vwszd/kmQXjd63CfztHL4yoXBoAAHDp+klAeeruG+c/DkpG0eda+Md5St911KvqHuNeePxuBdm9yt99oN9MWqxcz4Bm73C/np83WN/NmKyMn72pv47zzAjd9KIGxK6vHEfLFX2gX/9ysTT5HPuWO/654kbO1oYbx+uvf39QIVVbAQCNlK/HQQCNDwEMAABNiC9OPJ2VMkOu/xyVIcnuf638vU9KlTt+VC61kr/1/y2Mo56lyezy/0kr2ctDmxoYrkNyGXW8BgDgkuTrE08+HQcrxqkzjD/lY6FfK7X+SW2dGlhZthKGxCn3gVf1ziMdra0AgEbK1+MggMaHAAYAgCbEpyeeAABoYL4+8XS5joOudbM18o8lenLpXI36qbUVANBY+XocBND4sAcMAAAAAACXHEOukkMq/HKxpv/pc7UeMV7DCF8AAAAaFWbAAADQhFyuV/4CAC5Nvr7y97IaB3ct0YTH3lWxpNZ3Pam58T9XuzqW8wQAND6+HgcBND4EMAAANCGX1YknAMAlz9cnni63cdD4zyG5/Fqpda0b1AAAGjNfj4MAGh+WIAMAAAAA4BJk/8m1hC8AAACNGAEMAAAAAAAAAACAjxHAAAAAAAAAAAAA+BgBDAAAAAAAAAAAgI8RwAAA0MTYbDZrCQAAAAAAABcYAQwAAE1Is2Y2NWtGAAMAaNxstoYZr2zNbOI6BABAY2ezuccsAE0fAQwAAE1Is2Y22cQf8gCAxs2vgS4YaGaTTpvWKgAAjctp0z1mAWj6CGAAAGhCrmjuJ1OnrWUAABoV0zNm+Zr9iubMgAEANHo2m3vMAtD0EcAAANCE2K9ortOm1NyPIR4A0Dj5NWsm0zQb5MSTO4AhgQEANG42m61BxkEAjQ9nZwAAaGKutDfXadNskKVdAAA4X6ZMtbA33EmnK+2EMACAxstms+nKBhwHATQuBDAAADQx9iuaq7mfX4NtcAwAwLny82um5n5+DXrVr/2K5u7lzRgCAQCNjc29BGdDjoMAGhcCGAAAmqCrrrxCfs2aSbKxHBkA4KLza9ZMzZrZ5Nesma668gprs89ddeUVsjdnJgwAoPGw2WyyN29+QcZBAI2HzTRN01oEAABNg3GqVCeMUjWzSTY1kylTp0+bYvgHADQ0m80mv2Y2mZJM073s2IW+4rd8HDRNU6YpNbNJDIEAgAvBZpNOm+6v5cuOXehxEMDFRwADAMBlwDhVqlOlZTp92h3AAADQ0Jo1cy+F2RiWWjFOlco4VarTpmQyDgIALgBbM5ua2dxLY17scRDAxUMAAwAAAAAAAAAA4GMsCg8AAAAAAAAAAOBjBDAAAAAAAAAAAAA+RgADAAAAAAAAAADgYwQwAAAAAAAAAAAAPkYAAwAAAAAAAAAA4GMEMAAAAAAAAAAAAD5GAAMAAAAAAAAAAOBjBDAAAAAAAAAAAAA+RgADAAAAAAAAAADgYwQwAAAAAAAAAAAAPkYAAwAAAAAAAAAA4GMEMAAAAAAAAAAAAD5GAAMAAAAAAAAAAOBjBDAAAAAAAAAAAAA+RgADAAAAAAAAAADgYwQwAAAAAAAAAAAAPkYAAwAAAAAAAAAA4GMEMAAAAAAAAAAAAD5GAAMAAAAAAAAAAOBjBDAAAAAAAAAAAAA+RgADAAAAAAAAAADgYwQwAAAAAAAAAAAAPkYAAwAAAAAAAAAA4GMEMAAAAAAAAAAAAD5GAAMAAAAAAAAAAOBjBDAAAAAAAAAAAAA+RgADAAAAAAAAAADgYwQwAABcpgynS4a1WAfHzkyt21liLTcqhvNs3lED+HGF4hOz5LTWz1aZIecxa7ExK9a6+ESl/2itA8Clydi7Ves2F55xnGyKYykAAAB8x2aapmktAgCAS1WJ8jL+pf1Vana16d5TodfbK0u7kzVyQopOTEjSmuldvTvXamNcf03VHG2ND7c2NSjHzkztqPqGqjh5TYiG9gqSkRGn8FmZ6hu3TAvubW3tdgEY2hh3nxZ3X6K3Rp/P6xtaN2uwZqwPV9zKORoVaG0/f4azRE75KzDA62fiPBUtmaQJ+6fos1k9rU0AcEEY+7Zq4y6pw1091aGlpbGsRDnr/6WTncLVu+2Zf/cVLZmkkR9H6qN3xirY2ljugo+lNY3x3gwFdIpU77bWOgAAAC4WZsAAANCk7FbKrDg9vyRDGzdv1sbVqZo3d7YmDBusQbEZcpR5uv1XuH7erauGRbSzPL7x+fbjhZq3wHOb+6JmzIrT83Mra69lFkuS7J36aGC3CA3sfj7hx3n4cYUWr+6pB4ed7+vb1emuCHWPuEc9rrG2+caXifdpUOJWa/m8BI+OVu+0ZC1lFgyAi8R+fJvmzZquxVusLZK+StETsxbqy+NnDl/q7YKPpXu1qnw8XLBQLyTEaUbsi3qhopasjbWnMwAAALgImAEDAECTkqXYXrNUMPVdvfNgUEXV2JOih8cm67rzmB1yflft+si+VE2IytDQtDcU3ciu8C1aMkkjv3n04n4+9dRQ38uNcf21uPuy85wBBADnKl9J907S0nuS9NnMqjNS8pLGa0JGpN5Je1ShVVpqVq8ZMOfAl79/G+oYAQAA4DvMgAEA4DJg7xipobdKG7fsdheMYmVnZCrPOlvhcL7SFyVqxiMPaXJsstJ3uywdvLmUvSRR8UmZckjS7hWKT0jRRod3n3ylJyQq3fOykpSXlqjkTSXS4VwtnRunhx+JU/yiTBWdzSL6NXHka13GVhVU7J2Sr3TP8Ti3p2nezBg9PHOhln7lfk/GvkwlxU7XwzGzlbS+hvX4jWJtXLJQMx6J0YyEZK3bV9cBlih7U74G3u29/Na5v75jZ6Zl74HK56ryuIziKnsP5KUlKn5xlvv7UW73CsUnrFCe5Fm+JkMbv5H01VLFJyR6tUmSoaJNqZ5jTaz2/DKKta6On487745QTsYXVV8fAC6YEP1sSJCcG7K8fq9JUr7Wri5WcGSEV/hyht935cpcynnfMxbMTVPOYa82n4ylqv+x1IOxPU3xCanKse4j5shScsJCrduvWsanWl73rMZCAAAAWBHAAABwWTBklElq4blrL1T6rDileJ+h2puqh4dNUvyHxWpxy20KVq6Sfpus7FrOtRQsmabJSbvVYXiEAiXpwDalp2V6BSCS5FB22gplH6isHNy2QkvmTtOgqBf15fEA3XyLtGNJnEZOTFVB+RJp5+LYVi2etdArAHIoOy1DqxbFaMQzG3Twmva6uiBVcybGKfn9RN3/SIoKWgYp+NhWJc+cqDnbvZ7LmaXYkeM1Y4VDPX4RpR4nM/XM6ElK2unVp4rdyt7STp07eS9tc+6vf2JLimbMz9K/rc/1t1kaPjld+1sGKbhsq5JnTdLzmZXfoIPbVih9XaFOVFTKvy/bdFCS5FDe5kzluFdts3BpY9w4jZyxUge7RWlst5NaFzde4xfle9qLlTJxvGZkSHc+8KhGdSrW0sfjtNRruRt7pxB12LZTX1eWAOCCCh0QqeD9GVrrFfxrd6Y+3h+knw8I8RTO9PuuvNtm/XnsOD2/2aWrbwlUwfvz9fDjqSoqb/fBWFrvY6kn+62BOvLhQi3ZUPUFHZlLlZRhKOAGecaUVM17/D6NeGGbnNe01836l1JmjdfDSworH3TWYyEAAACsCGAAALgMONen6L09/hp6T20bpOcradpC5dwyRR98NFcJsTMVlzBXaz56Ur1rWC7fmTlbv17g0NDEeYpub209M6c9XC9/+LZeip2puNh4fbA4WsE7Fyppfa1nqM5Rob48OVbLPe9pwZsz1bdsq5I+vFELVr6hl2JnKmHxsxoTUKJVa3I9jzG0LmGWVt0wRe++86yih0UqOv5t/fUBQ8kLVtQ8u2NfoQoUog7VlkU7l9evTaG+dETqPc9zJSz6sx5t49KqDWezl0uIRsVO0dAgSd3GKC52puJihytUkpHxoqauDtS0d95WwoORGvrgs/rg9bEyFi9UukPSvkyt2tlOMS/N1JjICA198Fm9kzFXY9p4Pf31QepQtlsF7EEA4GLpEq67A4r1eVZl0lyUlaWiNpH6WRf3/TP+viv3g1OdnntPHyS6x6p3n4uQdmd4ZpHU5OzGUp3NsdRXywiNjfLXuv/zHq8MfblpqwKGRaq3X3nNpRZ3/1HLU+PdY0Hi23rrkSDlJSVr3TH3Y856LAQAAEA1BDAAADRBeW/GaOS94923yMHqNzNTwRP/rFkRtZwB2pmpj/dJQyeOVYeKkzOSvP9dzpmh52dm6KdT5ykhwt/aWj+3hKl7gNf9LhH6eRtp3eazCRPq587ICAWUv4+AW9WpjRQaGakO5R+FX5CCgySn0+m+71ij1Axp6CNVP4vut3eVzjC7w17D53XWr1+HO4dFKrDiNULU43ZJh13Vl4w5ayVa+X6mFBldNVDrFqbu2qqcXZICg9TGr1DvLVphmeXkpaW/e5LV+cxkAoDz0lXDhvkrb9NWT0hQos8z8xU8pHz5sXr8vivXMVKjulWOc/YuXRUql454L0Pm7WzGUunsjuUs9I4cpIDtGVpbvjTasUytXe+voYOq7ovT4fau8h6KQwdEKrgsUxu3n99YCAAAgEoEMAAANEHBd0Vr2tQp7lt8ktZkfqK3Hqt6oqWKg8UqUohCO1gbLMrylRIzW+vKJDWvJcw5J/662l/SSWvd1zyvU5djLjklrZrZXz17ed2mZ0hl53uA9Xj9s1Xk8Fqq7FydlPOIpNVxVd9zr1laJelkqfuq6j+986R67Jqv+yMGa2TMQvYCANAodR8wSAFbNuvLY5IcX2jtdn/dfXf58mP1+H1Xp2Ltd6/pWF19x9IK53ssteg1TGPa5iplmXsZM2NDpta1idKo260dLQL8FVD+ug06FgIAAFw+CGAAAGiCAjqFa2BkhPt2V4gCW1p71MSzT0xdVidrnqborTmRKpqfqHTrxsPnrB6vXcGlI2eeLHLeBsYv05rV1ttvdae1Y1MS+WwN73mZZoW7m+0do/RS2ifKej9eP2+xRjOixlXdO6eMQAZAIxDWR339MrVxi2Rs2azsgEEaZg0fzvD77tydzXjmcT7H4nIHJVWFaNwDXVW0OlN5MrQ2I9NrBlAdyoxq10FclmMhAACADxHAAAAAqWuYeqtQG7aUWFuqCozUgqSx6h75uKaFbVV8YkYNJ368OB11t5f7cas27JF6h91qbalBHVcf+0Lb29Q9QMrO2avAwNaWm79qnPcTGKg2KmyUe584D7uspRoEqUeYv7Q5V99eY33PrRVgedP29uGKmTtPMR0te9fsL1aB2inYe18YALjQ/MI1dIi0KiNDa9dnKmBYpLpXNJ7d77uzUt+xtIIPjmV/sWoaEgOHjdXA/Rla+9VWbcwM0s8Hlc8Aqp1jS5YK1FO9u57jWAgAAIBqCGAAAIAUOEjRUa2Vk/i0kraUuPcUOVaodXNTtNF7v48+keobIEmtNSp2ikIzZ+v51Z4T/F3D1Fv5WpWWK2eZZOxdodgHk/V1TeueZaRo3qZC91XCh3OVNGO+cgKHK3pIa2vPi6CroieFyPn+bM340HOMMuTck6Xsvda+Hi1D1LljvvK+sTZcWJ3Dekq7M7R0u0sqM1Tw4WxNWLTbsvRckDrcIumrbcoxJB0zZEjqPi5aocfS9Exs5R4vhrNQGzcXSpKcmQsVu2SrHOWTXA4X6tsfpdBbgiqf+pt85d0aok617ncAABfGnRER0obXNLeGvU/O9PvunNV3LD1euXdXgx1LywiNjXLq4xeStbFNpH5Ww/UNa5cs1Ma97iNxbk/WE4m5Cowao2GBOrexEAAAANUQwAAAAEl29Z21WC9FGUp57D6F9+qvnhEP6YXv7bq6tqVU2o5VwmMhWjfnFa1zuk88xUxop7wlMerXp7/CJ6xUm/g/6kGv8/MVet0qLYpReJ/+6hkZoxRnpBJSZqpvvZZKa3jBE5L0wazbtGvOQ+5j7DVY/aIXatU3xdauHu10d0SQcr5yr7d/sQQOeVTR7fOVMnGEevYZrPEfBinhz2MVbOnX91dT1P2HVD18V3/1jIjTysPu7+dbFXu8uNf6Dx8wSfNWF6pIUkBoVwVkxGnQXZ59ACLj9GXYTM26tzI0y9mSpeC7e1Z7PQC40Ox3RWigs0SOloP0s26WxjP8vjt3Zx5LO4f1lNbP1vg3PQFLgx2L1PveKGl3vq6uZfmxO2+RXntksHr26q9+E1PlHPKs3psVXjG75ezHQgAAAFjZTNM0rUUAAHAZM1xyOA3Zr2qtgHMIRAxniZyGXQG1LFGyMa6/pmqOtsaHu/uW+Svwmpp6NgaGnA6XDNX+firsTtbIyS4lrH/Sa6mbi8FzzHZ/Bda5fo0hp8NQi2v8ZbfMWHF/DyV7QA1L4BxzyXG8hp+Psq2aE5mogNffVUwNV1oDQGNU5++781HHWGo4S3SyRfXX8/mx7EvVhKgMDU17Q9FtvRuyFNtrljT3UyVEuMcM1XCclc5iLAQAAEAVzIABAABV2f3da8/XeiKmbvaA+q8Pbw9o3YjDF0myK6C+693fGqVHO63QkoyLvRG955jPePbOcyKthuXC3N/DWk4Atqz558NYn670Tr/UOMIXAJeQOn/fnY86xtLaAhbfHouhjUtSlddrlIZVCV+s3GNGTcdZ6SzGQgAAAFRBAAMAAOATrTXqseHasSTtvJeNufQUK3VJoaKnDlegtQkAcAGVaOOiRMVPnaSpHwZq2ix+LwMAAFxMLEEGAAAuqLy0RC3VKMVFhVibAADA+TBytTRxpfKuukkDfxGlvm1rmrOSr/SEdOkXMzWKWYsAAAANigAGAAAAAAAAAADAx1iCDAAAAAAAAAAAwMcIYAAAAAAAAAAAAHyMAAYAAAAAAAAAAMDHCGAAAAAAAAAAAAB8jAAGAAAAAAAAAADAxwhgAAAAAAAAAAAAfIwABgAAAAAAAAAAwMcIYAAAAAAAAAAAAHyMAAYAAAAAAAAAAMDHbKZpmtYiAABoWoxTpTpVWqbTp02dNiUx/AMAGlizZjY1a2bTFc39ZL+iubX5gjJOlco4VarTpmSeZgwEADQ8WzObmtkk+xXNL/o4CODiIYABAKAJM06V6qRxSjbZZLM10+nTp3WaoR8AcAHYbDb5NbPJnfubamG/8CegjFOlOmGUyjRNmabUzMY1CACAC8Nmk06b7q82m01XXoRxEMDFRwADAEATdfzEKZWePi2bTJWVMdwDAC4ev2bNZMpUcz8/XXXlFdbmBnH8xCmdKi0T/8sLAGgMbDb3rNALNQ4CaBwIYAAAaIKOnzilsrLTMk2TGS8AgEbDz6+Z/Jo1a/CTT8dPnJJRWioxBAIAGhObZG/evMHHQQCNRzNrAQAAXNqMU6UqPX1apghfAACNS1nZaZWWlck4VWpt8pnyfc8IXwAAjY4pnSpt2HEQQONCAAMAQBNz0jglm2nqNJsMAwAaIZtsOmk03Imn8j1fAABojEzT1IkGHAcBNC4EMAAANCHGqVLZ1ExlhC8AgEaq7PRp2Wy2Brn61zhF+AIAaPxM02yQcRBA40MAAwBAE3KqtOz/t3fvYVaWhd74vzPAgDCIHCzMtJTchXZQt6dXRMVGzQMeMDUtD7ypFWYG5Cnd+JOtZbo9ZVKpbbXamSfSTM0kMYheD2WYW9FN0PaAjDGcB4QBZn5/rDUwLFEGWMg4fD7XtS6d+76f01rPMw/zfNd936moqCgtBoA2paJ4zyq3QgBTWgoAbUtTU+GeBbR/AhgAaEcaG5t88xeANm9F48YZKrOxKan0PQQA2rjKisI9C2j/BDAA0I40NjZlRWNjaTEAtClNG2musqbGJj1gAGjzmpoK9yyg/RPAAAAAAAAAlJkABgAAAAAAoMwEMAAAAAAAAGUmgAEAAAAAACgzAQwAAAAAAECZCWAAAAAAAADKTAADAAAAbKCG1M+Zmzn1DaUVAACbLQEMAAAAsIGeyw3HnZzjvv9caQUAwGZLAAMAvN2Khsz564O54uyhOfmmyaW1K82ZOCZfP+boDBp0WA49ZkRumDi3tAkA8E7+cmtOPunW/LW0HACAdkEAAwCs7i9jMvjQo3PciDEZ92JtZs5fVtoiSVL/xOU5adSDqR94RkZfekm+NnBR7h91dq7406LSpgDAmiydk5m1c7K0tBwAgHZBAAMArO5Tp+WOu3+R++47PwNL65qtmJyfXDMpVQddkh+MHJyBBw7IMSOvzcUD52bcmPsytbQ9AO9bkyf/LYMGHZZBgw7L5Ml/K61mA8x89dXSIgAA2hEBDACwuqpu6dWrZ3r1qk7n0rpmL/4p4+q7pebIAaleWdgt+x84IJkxPhNeXq01ALxP1Ob+C4bmogdqk/lTcveor2RwTckwm7Mm5YazP59Di8Nv/vDpNfT8XLEoLzxw1cphOgefdlF++ERtVk1PPy0PX3NVrh47LcmkXHHS0Jx8Usmwn2tdR9HKYcwa8soDl+f0wYdl0Ak/XfVliIbaTLzpopzevJ4TRuSGJ2rTkIY8+f2v5OSTbsjEt1ZfZZJM/eWInHzamDzZYoP1zz+YK84+OYNrDsugQz+f00fdlxfmt1xqzQrLNb9nX8moX05J/YrSVgDvreXLl+eyy76Ty0Z/N4sWLS6tXmnRosW57LLvZPS/X5nGxsbSaoB3JYABANbZzBdeTH12yk4fWb286uP9s1Nq88JUc8EA8P7UMKc2Tz4yJhf93wvzcJdDcu45x2WXqim5f9SI/PCRO3PWl27KKzuflku+eVx26jAld3/78jw8q8UKVryau8/+fL5+4+RUHXxGRl96fk75+Jzcf9nQnPSdZ1K/smHnVPfqlqRXdtpj1+y2x67Z7SPd13EdzcOYTcuEm0bk9DGvZfsDP5fDvzggOyVJ/TO5+ktDM+reF5O9Ts3Fl56fU/bunAljfpqn5ldln4GfycLa3+axp0pjnWmZ8MCUzPz4ntmnqlDyyr0jctw3xmTcrI/k8HMuyehhR2X71+/MDb+Z9vZQqIXm5Z7d6qicd+klOe8L/fLqrSNy2vXPvOtyABvbP/7xSp54YmKeGD8hI0demMVvvT2EWbRocUaMuCBPPDEx4x//Q15/fUZpE4B3JYABANbZnH/WJumZXr1KKnr1St8k9fVGswd4N5Mn/61Vr02l5T5M+/v0leXT/j69TezfRvf3OfnYv/8it3/7uNQcfUau/c5J2Sa1ufv6Z1Jzyy9y7dmDM/DoM/KDSwanesXkjHtq1RcPZt5zVX74crfUXHpLod2Bg3LCt3+cm7/SL3Me+15u+FNDkn45fOS5+dqBfZP0zwkjz815I8/NeUf2W4d1tDQ59z++fb57348zeuS5Oe/ofkka8uT3v5eHZ/VMzRXFYzlwUE4Y+d3cd+f5GdgjyW6H5phtk4m/fjxzWq7u5Un5fW1Sc+CehZ9n3JcrbpqSho+fkdvv/G6+dvSADDz61Iy+5d7c/MV+KWY0b1dcrvcXf5D7rjg1NQcOSM0Xzs8Pvj0gc35zR+73HBPYhD72sR2z006F37svvzw15593SZYsWbKy/q233sr551+c//mfvydJdtrpY9l+++1W1gO0hgAGAFhnC+vXMNxKkmzxLsOWAbDS8OEXtOq1qbTchx/c9OOV5T+46cdtYv82uh0G5fCdu636+WP9s0uSHHBSTti+RbttPphtVvviwbQ8/MC0pO9ROWFgi+WTfOT401LTYVHG/XbSWnp+rN869jnj7OyzalzQ5K1JefixRcnAM3PevquvJx2a/6dfjj2+f/LX32VCi148U/80PjOrB+fwvYs/P/KbTE3ffGn4cfnIymVbrmfNCsvtmi8NKTzgbFZ9wKDUZFr+++XSowB471RUVOSaa67MRz9a+MX+wgtTcsGFo9LQ0JClS5dk5MiL8uKLLyVJPvrR7XPNNd8tWQPA2glgAIB1904pywoPUgDYjPTdPquPxjkntbVJPtW/MARYSx22y047JHm9NjNL61azfuuo7lESssyZk9okO+3c/517qCTpdchxGdhhSh7+fW2xZFom/L421Z/dN7sVA5bZ/6xN0j+7fLzlkmtXO7M2yYv54dnFOW6aX1+6LhOS1P5ztX43AO+57t2r8/3vX5MddvxokuRvzz2fSy65LBd9+7JMmVKY2HKHHT+a73//mnTv3jLlBmgdAQwAsM4+sm2/JHMzp/S5SW1tXkmSjiXlAKzmuuu+16rXptJyH75+9ldWln/97K+0if17X3tr2dt6r6yzcqyj2RZ75uCBydTf/C5Tk2TG5Dw1o1tqDti1tOU6mpuFc7P6HDcrXwNTc+Tnsv+O7/SNDoD3Tvfu1bnh+qtX9oR55pln89dnJyfFni83XH+18AVYbwIYAGCdbbPjTkmmZmrp2O2vTMvUdMsuH+9bUgFAS7vu+ulWvTaVlvvQ72M7rizv97Ed28T+tV3Vqa5OUjd79TlVkiRzM7M2SY9ueffHeOVYR5ItCm1m1jb3bHknVRl41OBUzxifCS8nMyeOz9Tqg1Kz26oW3au7JalNbYthytauZ3ptm8J8N8OKc9yUvL60V8/ShQA2ieaeMM0hTIrhi54vwIYSwAAA6+5Te2Rgh0UZ9/vCN8MKGvLkE08n1Qdl/51bFAPAZqN/9v9st+Svv8nDr65e0/CnBzOuPtnlsIOyzWo1r+bV1TKS9VnHGvTaO/t/Kqn/zW8yrr60ssRuh+aYbWvz+4nP5K9PT0v1wYMKc94U7TLwoFRnSu5+YFqL0rXb56DBqc6k3D225EAA2qDmEObAAwfmwAMHCl+AshDAAAAtzM3UJ8UQIdIAADGLSURBVCZl4hOTMvGJ5wrjy9c+V/x5UqY2f/N1iwH58tB+qX/gqox65NU0NDTklUeuytWPLcpOpw1ZOWY8AGxudjvjgtT0mpafDL88979cmzlz5uaVp2/NiMvGp/7jZ+S8I1f1+thm++2TTMu4ByZn5py5mTlr0Tqv4531zDFnDk6vFZNyxdk35OHiema+/Ntc/X9H5O7VMpF+Ofb4/pn5wPfyw7/2zTGH9m9Zmex2Ur62WzLzv/4tF932TF6ZMzdz5ryaJ28bldO/80xWy3fm12bOW83LnZbzD6zK1FsvLCw3vyEN9YV9uOGmSasvB9AGdO9enUsv/XYuvfTbwhegLCqampqaSgsBgPen+Qubn3isr2dyxaBRGVdaXFRzxSO5eN/iDysW5ckfjcil975aHIe+Kh/5/GX5wdm7rn1YFABI0qP7FqVFG2TD74O1ufvMoflhzsgvbjmuRS+T4v3x4NEZ/+09W7QvlL/yldty8xdaDL85a1JuuOCq3P+PVTO19Nr3jIy+6LjsstpNsjYPXzwiV/9pbuHHrU/KzXefmp2yDuv401UZdPH41e/RLdS/eF+u+P9uzZMrhw+ryjYDz8h3Lxmcj1S1aPjWpIwafHkm9j0pN/+8uA8trZibiTdemMsfaL7vJ6nulxP+7Xv52l7dCj1hrzk9F/1mbrb54g/yizP6tVju33LVb6alfkVxuQ7dstORw3PZsAHZpuU+AGxmyn0fBNoeAQwAtCMb/uBpPby1KHPeakjVFj1T7e8HANZBuR88bZL74LtoqJ+b+oas9R5ZaFeV6l7dUppHtHYda9Mwf27qV7zLelY8kysOHZUXvviD/GJoMTxZk4ZFmVPfkGRN+9uQ+jmLkuqeqX7bgbRYrke3VOktC1D2+yDQ9ghgAKAdaWsPngDg3ZT7wZP74Pqrf/zyDP73OTn37mtzzNaltQBsDOW+DwJtjzlgAAAAYLPUkPrm+WW+Mym9jjwphwtfAADKRg8YAGhHfPMXgPeTcn/z131wHb3805z81TszM0mvfc/NtaM/l48YGgzgPVPu+yDQ9ghgAKAd8eAJgPeTcj94ch9cdw3z56a+Q7f0etukLQBsbOW+DwJtjyHIAAAAYDNV1aOn8AUAYCMRwAAAAAAAAJSZAAYAAAAAAKDMBDAAAAAAAABlJoABAAAAAAAoMwEMALQjlZUV6VDp9g5A21ZRUZHKyorS4g1WUVmRivKvFgDKqqKicM8C2j9PaACgHamsrEiFJ08AtHEdKjdOAFNZkTQ2lZYCQNvS2FS4ZwHtnwAGANqRTh07pKnJkycA2ram4j2r3Ko6ddQDBoA2r6KicM8C2j8BDAC0I1WdOqYpjeng61QAtFEdKivT1NS0UR48FQIY90AA2raKioqNch8E2h4BDAC0M52rOqVpI42tDwAbqilN6Vy18R46dakSwgDQdlVUVKTLRrwPAm2LAAYA2pmqTh3TsbIyFalIpQdQALQhHTpUpmOHDhv1W79VnToWhjdzCwSgrakoDMG5Me+DQNtS0WSgeABol95asizLGxtTkaasWOF2D8Cm06GyMk1pSscOHbJFl06l1RvFW0uWZdnyFeZGA6BNqKioSKeO7919EGgbBDAA0I41LFuepQ3LUpGKVFRUprGxMY1u/QC8ByoqKtKhsiJNSZqaCsOOvdff+G1YtjxLGpanqakpTU1JZUXiNgjAe6GiImlsKvy3edix9/o+CGx6AhgA2Aw0LFueZctXpLGxKY2Nbv0AbHyVlYX5yNrCUCsNy5anYdnyNDYlTe6DALwHKiorUllRGBpzU98HgU1HAAMAAAAAAFBmlaUFAAAAAAAAbBgBDAAAAAAAQJkJYAAAAAAAAMpMAAMAAAAAAFBmAhgAAAAAAIAyE8AAAAAAAACUmQAGAAAAAACgzAQwAAAAAAAAZSaAAQAAAAAAKDMBDAAAAAAAQJkJYAAAAAAAAMpMAAMAAAAAAFBmAhgAAAAAAIAyE8AAAAAAAACUmQAGAAAAAACgzAQwAAAAAAAAZSaAAQAAAAAAKDMBDAAAAAAAQJkJYAAAAAAAAMqsoqmpqam0EABoX+bNW5D6+vosWbIky5YtL62GzUanTh3TpUuXVFdXZ6uttiytBgAAgLIRwABAOzZv3oLU1dWlsrJDunXrmq5dt8gWW3RJx44dS5tCu7d8+fK89daSLF78VhYtWpzGxhXp06ePIAYAAICNQgADAO1Ube0/M2/e/HzgA33Sq1fP0mrY7M2ePSezZs3OVlv1SN++HyitBgAAgA0igAGAdqi29p9ZtGhxPvzhbdK5c+fSaqBo6dKlmTFjZrp27SqEAQAAoKwqSwsAgPe3efMWZP78Bdluu22FL7AWnTt3zoc/vG3mzZufefMWlFYDAADAehPAAEA7U1dXl6237pOqqk6lVcAaVFV1ygc+0Cd1dXWlVQAAALDeBDAA0I7Mm7cgnTp1Sq9eW5VWAe+iV6+e6dSpk14wAAAAlI0ABgDakfr6+vTsKXyB9bHVVj1SX19fWgwAAADrRQADAO3IkiVLUlVVVVoMtEJVVVWWLFlSWgwAAADrRQADAO3IsmXLzf0C66mqqlOWLVteWgwAAADrRQADAO1MZaXbO6yPDh06lBYBAADAevOEBgAAAAAAoMwEMAAAAAAAAGUmgAEAAAAAACgzAQwAAAAAAECZCWAAAAAAAADKTAADALRJDQvnZPbs+jSUVrxPNcybk9nz2svRAAAAAGsjgAEAVlMIPlq8NlFo8PTVQ3Lwodfn6eaCFVPzk6En5bjzHsqM1ZuWVcO8lsdfn4YVpS3Wx8zcNWxIDh72q1X7/h4dT/k0ZGHL8+KdXguL58s/x+XiE0/K6Te90G5CNAAAAFgXAhgAYDWF4KPFq+aQ7L7HgTng86Pys8n1pc3fO/P+J08/PzP/mPBi/lFatzZP/TCDj/phniktf5tiULLy+I/MPnsfmH1qzs7F976QhWUJY4o25Hg2iWdzZcvz4p1eVz9baP7GC/njtJn521P/nVmlqwIAAIDNgAAGAFiD/XPFo2Pz2KNj89ijd+THo7+W/To8mevOODUXT9hEIUzvI3Lj+LF5bNy52a+0bm2Wzs6MN2ZnaWn5O+l3Sm4vHv99P7okZ+9bn99feXYOOPGGPLOwtPF62pDj2SR2z4Urz4mxeezRS3JQktRc0qJsbB47b/dC813PzWPjxuYPPzox25asCQAAADYHAhgAYA2q0r13r/Tu3Su9e38kex5+Yq74xZU5ofucPHLrphsyq6p7r/TuXlVavFYz/veV0qJ316G6eOy9ssMeNTll9B157Nqa9P7fX+Uro8elXBnM+h7PptHynOiV3r2r0zlJqla9V717r348VVv1SveuLdcBAAAAmw8BDADQOh12z177Jnlx6sohs2bce2EGf+NXmbGiPn+89uwcsO+B2X3EqoCi4bUJue7s03LA3gdm90FDcvqVEzJjDROCLHz+V7l46JHZZ49Vw33VlTbKzNz9jZMK2yupWbmdfQ/M7nsfmYOH3pDHX2tIMjX3X3F5Rv9yapIJufiokzL4qJMy+NriMFnroPv+5+fSw6uT8Xfl/tdWr2vtca6u5Hhe+1W+ctRJ+cpdM0sbJrPH5VuldQ0z8/i1I3LcoNJjXmXNn89v89jVp2XwUVfn8cWrNU+SvPTTszP48zfkj2vd/7V5NteVvtcrh4JryIxxN+T0mkOy+95H5rjz7srfFiZJff7201Erj+m4836Vf6xpP1px7AAAALCpCWAAgFaakwWzk3xom/RpLlo8OzOefyF3X3lqvjGuc/Y74oh8+Zjd0z3JwglX54jPj8pddbvn7CtG5z/OPjgZPyqDz7hrtQBl4YTLM2ToDXnkzX/JiReOzne++snU/dfwjH64RaOipXUzM6Nu9Qftzdv52V+T/b56Sf7j0lMysPMf8t0fPVkMgjqne5/qJL3zib13z5577549d+i+2jpapyr71eyTZGr++Oc5K0tbe5xrstrxbLdP9quemWcemPC25WZPeDiPv1Gd/fbdplCw8MmMPuakfOve2dnz7NH5jyu+nMPzh3zr82fnZy3DoTV+Pnvl4EG7Z8EbD+XhP5WGFlPz+3tfyIyd985+G9wxpyF1b8zMjHkttrF0dma8MSE/G3Fmjrv2lXzmq+dn+KG9M2P8D3P66F/l/lGn5qyHqnLMeZdkeE3v/GP8DTnrhhdarrT1xw4AAACbmAAGAGiVhX/+WX7y56T7vrvlE6tVjMvPXj4x9z14ba64+LycvX+vZPGTufLShzJ7/0vy2F3n5oSa/XPQ57+W2687Jdu++MOMmVBcdvGTufLScZnduybfv+vaDP98od2P7x2bUfu23Mg7aN7OVjX5/qN35IpTa3LQ4Sdm1I/G5rHR+6d7dsoxF5+X4TXbJNklp1x8XkZdfF5GHbtT6ZpaZ4ed8okkb7wxu/Bza4+zVbbJ4UN2Sf5nXB5fLUiYk4mPPpvsengO3y5JGvLHqy/P/bP3zxWP3pELP79/Dqo5NsNv/V6+/KGpue6WJ1suvObPZ4/Dc8J2yeP3PpbikRS8OCG/fSM5rGaflqVlNjNTqk7JQw9em+Gfr8kpo2/Jd2qSjL8hN3U+P4/ddUlOObwmp1xxXS7cNZn98Lj8beWy63jsAAAAsAkJYACANXghP7vi6owuvr419Mgc/NVfZcZHj81/nF2cZH2lbXLKeSdmhw6rShomPpxHFlbnhC/WZLW+JjvX5Jh+yd+en9qiXXLQiPOzX8uGHarTZ6sWP7+Dd1w+SVrsT7nNeLMQW7T2OFur9/41+XSm5pHxLYYam/3/8sifk09/7oD0TpLFE3L/w/Xp/vkTc9hq79lOOfyojySTX8hLLYrX9PkkO+ULX9wl+fPD+f0/V5W+NGFcZnQ/NscMaNm2/PY6vCa9V+5PVT6+805Jdsqpp+7T4n3slQ/tkGThwixoLlrnYwcAAIBNRwADAKzB7Lz01LN5pviq63NEzr7ylvzhrnOzZ2nQkbeHJTPeeCVJfR75dnHOlZWv4fnp/64KMGa9OTPJTvnMzus33tWGLr++dtihMBRYa4+z1T5wRE4clLz021XDkM2e8Ps8k91zzKBehYJ/zsw/kix8+N9KtnlSzvrpK8kbM0vmz3n755MkvQ8/MQd1eCH3/7Y57Jma3z86M90PHZg9N2J4tS522K6kp9I6HzsAAABsOgIYAGAN9s8Vv74zDxZft1/9tZxSs1O6t/LB/MK62Umqs+2ni3OurHz9n3z2qCNyzG69Sxd5X2h4sdDDYocPFQKY8h9nVT576P4thiErDj826PAc3ryqeXNSl6T7dp8s2ebuGVhzRI45drdVc/S8m6775PBByUu/erjQa+S1ZzPpteocVlPaw6kNKdexAwAAwHtAAAMAlF3vbbdJ0j0DTi3OuVL6ap6DpWOSzMyMdewo0qxL9+6F5d8srdkY5uThX01Isnv226PQ46bVx7kOqvatyUEdisOQLX42f/xzclDN/lnZx+cDfbNtki33PuXt27v4vIy6+IjV5+h5R1U56PPHpvtr4/L7F5MZ48flpe4H5/A9Stu1IWU7dgAAANj4BDAAQNltW3N4Pp2Zufu/JmRhaWUL2+6xT7ZNfR757bMlNfWpm1dStAa9BwzMp1Ofu+8a967bKXgl/3ijtKy1GvKP2y7I6D8nvU/8co4p9kZp7XGuk67755hDk5cmPJl/TJyQxzvsn8MHthhi7UMH55hdkxn33pXHN3SjexyeE7abmd+OfzLP/Glquh9ek0+XtmlLynnsAAAAsJEJYACA8vvAsbnwjI9k4aOjcvoVD+WlN+rTsLg+s6c9mZuuvCsvrSi2+5dj8+U9koX3Xp5v/PTZzJg9p9DmG6dm9FMl61yTDxybESf2SsZfXtzOnMyePTMv/frqHHfGXflHcTvbfvQjSabmkXsL25jxz/rSNa2ufmomjZuQx8dNyOP3/iTfOvHIHHfT1PTe97zcPGKXVe1ae5zN6ufkjYUNJYVvt99Rx6b75Idz8X9NSAbVZL+uLWt75YQRp2SHxePyraFX5/4XZ2bh4oYsnP1K/vijG/KzF1u2XZud8oUv7pIZ916e6/68TU44osWxtUnlPHYAAADYuAQwAMBG8Ymv3pTbv7F/Gh66OicfdWT22f/IHHziqPx2dkMaVvZe6JVjrr4pw/dP/vj9ERl86JAcfOKoPP7R83P7V1s3fNenz/tpbv/GPlnw66tz8lFDcvChJ+XkK5/NDp/bJ9s2z1mz/5czav9eeemnhW0MPv2uwrwn7+SNcbnywlH51oWj8q2rf5Xnuu6TL195Zx76/hHZoWQenNYd5zY56MidkjfuyldGT8haI5jdBuaw7lPz0ovJYYe3GH6s2c5fzu23fi0HrXgso089KQfsf0gOOPS0fOvR2WloWEu4VKL34SfmoMX1WbhdTT67c2ltG1TGYwcAAICNqaKpqamptBAAeH+aMuV/0r//v5QWb1orGrJwXn0aklR175Xub0sTChoWzsnChndv865Wbqcq3beqTlVJUJKV26hK997Vbw81NlQrjrNh3pwsreqV7qv1aNkwDfPmZOGKJFXV6b2mja7Niidz8b4X5m9Db8mDrQy92ooNPvY1aJPXEAAAAO9LAhgAaEc8PGZdLXx0VA64eHYufPimnPCB0trNj2sIAACAcjEEGQDAZqchC2fPyT/+9MN8ZdSE9D72lBwjfAEAAICyEsAAAGxuXvxZTj50SI77xl2ZNeC83HzhPuUfkg0AAAA2c4YgA4B2xPBJtFbDvDlZ2KF8c6e0F64hAAAAykUPGACAzVDVVr2ELwAAALARCWAAAAAAAADKTAADAAAAAABQZgIYAAAAAACAMhPAAEA7s3z58tIioBVcOwAAAJSTAAYA2pFOnTpm6dKG0mKgFZYsWZpOnTqWFgMAAMB6EcAAQDvSpUuXLFmypLQYaIUlS5akS5cupcUAAACwXgQwANCOVFdXZ968+WlqaiqtAt5FU1NT5s2bn+rq6tIqAAAAWC8CGABoR7baass0NTVl1qzZpVXAu2i+ZrbaasvSKgAAAFgvAhgAaGf69OmTOXPmZunSpaVVwBosXbo0c+bMTZ8+fUqrAAAAYL0JYACgndlqqy2z1VY98vrrM4UwsBZLly7N66+/ka226qH3CwAAAGVV0WSQeABol2pr/5l58+Zn6617p3fvXqXVsNmbPXtOZs2ana226pG+fT9QWg0AAAAbRAADAO3YvHkLUldXl8rKDqmu7pYuXTqnW7eu6dChQ2lTaPeWLVuWt95akiVLlqa+flEaG1ekT58+er4AAACwUQhgAGAzMG/egtTX12fJkiVZtmx5aTVsNjp16pguXbqkurpa8AIAAMBGJYABAAAAAAAos8rSAgAAAAAAADaMAAYAAAAAAKDMBDAAAAAAAABlJoABAAAAAAAoMwEMAAAAAABAmQlgAAAAAAAAykwAAwAAAAAAUGYCGAAAAAAAgDITwAAAAAAAAJSZAAYAAAAAAKDMBDAAAAAAAABlJoABAAAAAAAoMwEMAAAAAABAmQlgAAAAAAAAykwAAwAAAAAAUGYCGAAAAAAAgDITwAAAAAAAAJSZAAYAAAAAAKDMBDAAAAAAAABlVtHU1NRUWggAtC9vNS7N0sZlWd60IiuaGkurAQAAKKMOFZXpWNEhnSs7ZYvKzqXVwGZCAAMA7dhbjUuzaMUSoQsAAMAm0qGiMt06dBHEwGZIAAMA7dTCFYuzeMXS0mIAAAA2ga4dOqd7h66lxUA7Zg4YAGiHhC8AAABty+IVS7NwxeLSYqAdE8AAQDvzVuNS4QsAAEAbtHjF0rzV6O812FwIYACgnVm0YklpEQAAAG2Ev9lg8yGAAYB25K3GpVnR1FhaDAAAQBuxoqlRLxjYTAhgAKAdWdq4rLQIAACANsbfbrB5EMAAQDuyvGlFaREAAABtjL/dYPMggAGAdsTwYwAAAG2fv91g8yCAAQAAAAAAKDMBDAAAAAAAQJkJYAAAAAAAAMpMAAMAAAAAAFBmAhgAAAAAAIAyE8AAAAAAAACUmQAGAAAAAACgzAQwAAAAAAAAZSaAAQAAAAAAKDMBDAAAAAAAQJkJYAAAAAAAAMpMAAMAAAAAAFBmAhgAAAAAAIAyE8AAAAAAAACUmQAGAAAAAACgzAQwAAAAAAAAZSaAAQDaiGVZMLc+DaXF7UDDormpmzs3dYuWlVa9J95x+0vqs2DJ6kXtUcP8+jQ0lpayUW0m5xYAAMC7EcAAAG3A3Dx0x3EZcPPxGXTPM+0uhHnq1ydn0M0nZ9CvJ5dWvSfWuP3/uSODbjw+A278em5/o2Xr9uW5B0/Ov/7o+PzrzWMzo7SSjWMzObcAAADWpqKpqamptBAAeH96s2FuadEGqs3tPxqaa+aXljcblDEXnJ+BpcXv5K9X5VO/G59sPzrPn7Rni4rXcvOYs3LjwiRbfzPj/++h6dOi9r3xTC783qg8tK7H1AoT7zwsw17NGo67heb3ZjWdsmX3XTJkr3Nzzh59U1VS21pr2n7Ds1flXx8bn6Q6Xxh8Ty7euXSptmnG776ez/11Wmnx2xxxyCO5crdlGfdfR2X460k6Ds7PRw7LZ0obtjVLXsu4B6/LFbVz0//T382YA/quqnvzwQy7e2ymtGxf4m3LZFnqXnwwVzzxYCav2DdXnnNm9m5RuzG89+dW8++pfhl5yg9y+odK6wEA2qYPVvUsLQLaGT1gAIDW6dgzfbr2LXn1XKdQoG7BOwVE2+WsL/4gYz47OncftynClyRz56SutGyT6JQtm9/bymVZsHBybv/90Ay6/dFML+MwWlW7D89vB1+S6wbfmPM2+gPyMurca7VzcMvmf81WVq9WvnWnJOmUmuNvy62fvSS3fvHMth2+vPlght1wfD51w1kZPn1K6hbXZsbSkjYrlmXG4trUvcurobLzyuZPPTA0A64+KoMevCXjFtambvHc96R32Xt/bs3NjEWlZQAAAJueAAYAaJUdP3Vtxp9zW8lr3b5Nv3TpwtKiVXr0y8A99kz/HqUV75G3FmVWadkmsV+uPOe2jD/nF/nLyF/ngYEDsmWSBW9en1MeeLe+D+uqU7bdeUBqdl7/njWbwrYHjF7tHLzyw8WKD5+/WvnITxbLq/pm7z0GZO++nVqspY2qrC4Gb6UVRX0H52dn/SLjS16/3XdAob7Hmfn2gNW/RVnVpW/6VL3Xx/5en1v1Wbi8tAwAAGDTMwQZALQjG3MIsh13uy0PHNJyaKO3q3t2TIb94beZ0lCc7L3rrjn9/5ybc7Z7Jt+8e2ymNNSmbnnxQXOX6iTb5SsnjM4XPlj4tv6Fr64+hNKMP4zKl/72WvYfcHNGVj+YCx+5JROXJKnsm5q9Rue6A7YrbHP8g5myPEnldjn9sGsz8pPVq3aqoTYTn/hpbnzhj6v2q2O/DBn077ls955JavPL2y/Kj+fXp25JfbEHSu9UlQ7nNH9Kbv/1Vbnmjdo1rGOVhtpJueL+6zN2fmFdfT50Zk6qHJMbX2/tEGRvHwJt+qNfz9GTpyWVA3Ll2ZfkiK6r6ha8NDaXPnZ7xi0uHFtVj8H53nHDUrP1qjZrGoJs1XBWxWGp3ngwZ9w3NtPSN1857rv5QsthnJrrKvbM6LOGZWBVkizLjD/fkuF/KL736ZQ+Hzo91w8Zks90Ky7XvI0PD8v4Q6pz412jcvOs+qTvyPyo1/255H8XJR84I4+eOGC1B/UTfzU0o15P+u383dz62Xc/59Z4bC00n0PZ/tyMP3rXQmHzfn3gjDx6ZK/84t5/zzW1c4vHcHZ+8sVDs+PsSbn0vlWf446fGJ2fHb1rtmy58obajHvg8lzwv9PS0Fg8Lz9zfi47pP+qdoun5eZfXp47l/TLOcdckiFrHR5r3a65LH4ml/54VMYuH5Arh12SI5rf+5be5dx6u8m55sYb8pvOg/OTMwZl+n0XZPj015IkVT2GZMwpZ2bvTMntY1ddC336fjM/OeXQ7NgcHJWeW2tc77+tet+67JnLjhudIc1hWvM1ubB0SLW3lxd+b9SnbnF9UgyctqzM6p93a67dxrkZd9+/59L/nZIFjSmcC1sPzsWHn56a90N4BwC8LxmCDNq/d/p+HQDAunlxTI5+7MFMaUi27DkgA3v2TNWSybn9yUczbXlx6KTmb6k31heHTJqTJSsKRQ3FIZRWG3Zp6ZzULa7NhKeH57BfFcOXJGmszbgnR2X4nSMy6LHmACBJ42u5/ZGrMnZlDrUs4+4ZmmF/HZ8pDctWPZxdPi1jHzs7V7xYaLVkSW0xfCkss6B0X14fmy/dPKLwALdjz/TpWl1cx8kZ9mTzcsV2P7u88NC+sjp9unRO3RvF8GUD7DjwuMJD88ZJmfjyqvLpj43IgAduybjFhWPrU9UpDfMfzPDbL89DaxuSaeVwVsVhqT60X2q2qE3d4sm587+LD6qL6l4en6cW16aux2eyd1WS1GfiPaflc79/MFOWF4dM67gsdW/cki/ddkemNA+V1ryNN8fn0p+NKIQvSXbs+/EM2GXPZHFt6l4dn8cWt9hY4+RMmF6busXJZ/qtJXxojeI5VFcMqJIW+/XPOwufa23zCbMsdW9cn2H/dVW+dHvxcyyWT3/pooyY2CLgXPRMLv3h0AyfPi0NKfZcSW3G/XVETnioxRw1L9+XG2fVpm7hpNxR8r6Ww5TxYzK2Idl7r7PXHL6ss2WZtbg2dXMfz4U3n7wyfEmShvljc8ZdV2X4rcVroaiu9vqc8mCL3lml51bSYr0PZtiYkwvvW/N5suSZXHrPLXluZdviNVn6+2AN5YXfG6uuwYZi/crPu5XX7nMPnJ3h06dkQarTv++A9O/SOXWzxuY//vLqyjYAAADrSgADALTK9OdHZNCNQ1u8RuWXb66qf+7l8VmQpM8nvpdJZ12SMWf9In8597Y8cOJp6b/tkDxwwSMZs32x8faj8/wFj+T5C1o3YXbd/Dnpv9cP8pfzHsnzX78kR3RMktqMe70+Qz57W/5ywSN5/ounZcckaXwm415uftjeKTWDvpnTd/tuxg9/JH8597ZMGnlzzumRJHPzyxeeSdI3p3/1kTx/yKDiMoMy5oJH8vwFjxR7H8zN2N/dkucaky23H51JI3+R8efcs3J7E/98X6ansL6xv7ulED70GJKfD7sn48+9J89/9dqcvqHDqnXdPv2LvV6mzCo++J79aL4zeUqSnjnikHvyl3Nvy/jhv84Du/ZLGiflxglrn6h+dT1T069/kmT668+1mA9nbib8o/BwvebjexV6qrz401w4fW5S2S8jv/jrTDrntowfeU+u+3B1suiXufnPLcKOJJk/PmPf2jMXH//rwvt66HbJjvtlSLdCqPTQ31q0f+lPGbs8SbcDc8RHW65kI1g8LTN6Dsvd5z6S5y8o7n+SGW+MT91HL8lvhz+S589rPl+Sp6ZPXhkoPPe76zJ2SWHYrwdG3lMYMm5Y4dyc8eKdeag5VPrgx9K/Mkl6Zte+vYuFZTL70VzzYm3ScXDOHFjub09Oy5TlgzPmjOJntmu/QvGs8Xm6x5n5+VdXf88WvPp0WjdAXm1m5NBcd1phvZMOHlQ4pxr+lAmFC2mdDDzpkTx/ypmFaz/9MvKUwrVb6A3V2mt3Sn4zfW7hd8HR9+Tu0y7J3efek7+cdnN+fljxuAEAANaDAAYAaJ3lc0sm/F7VeyVJuncpPIitm/nHPDW7+EC9qm92bDEU1nrr8flcNqhfYW6MbgNS09wx4sNn5rI9ivNMfPjAHFt8UD5jwexVy37o0Iw8ZNf0KQ6btWB+dfbebrtC3ezXMmNVyzV7Y3zumJUk/XPOIXuuGlrqwwNyRPdCT4gJbyaZ+3QenpUk1fnCfmeuGoarR//staEBTLqle8koSDP+8mCeakzS+6R8a7dVQ67tuMt+2THJjFeeW/uxleiz66GF4aJmPZEJzZ09Fk/OuFlJKgek5pOFnZj43INZkKRqxzNy+spho6pT078wBNi4VyY3F66sO+LAf8sXdmx5EP1y0i6FwGfii4+vDHyee3l8GpLs+C+HFh+qb0z9cuYhg9O/S1bb/2RQLj5+QLatKgxrd8SOxYfwb80tzBPU+Ezu/Pvc4mc9ZNXQW83nZuOkPP33YtmHhuTuc+7J+K/fkcs+Xd6hrKY//cs81Zhsu/Oh2Xsj/Kv+iAHDMrB3YZ+bz6vCezYkn+mRwnu2c/E9W/xmi9Du3R0x4Jsrh/XacvdBOTgpBDPzSxpuqNZeu6nKlp2TpDYTpkxOXTFlq+q7XfpshPcVAADYfPiTAgBolR0/eW3J5N9X5uQWI0TtuP+wDOmSZP7YnHHrUfnXH1yUa/5c22IIovLpvE7/glmWGZPH5sKbj8+nvndUBtx8cr7036uGVVqrN/++8lvyV9x6WD71vebXWblxYbHNiiSvTclTSZKPpf+2LZYvi7mZURxSrHNF4b/TZxd7uMwek0Er9+mwfOq/7iju73rouVcO3zpJJq/sRdTwt0mZmCR9B+XgrklSm2nFB+UNf7+oxftxWD712PhCxdsmRP9gPvHBt4cPffY+LjWVLQOfaZnwen2Sfjn2k2UYfmxdFd/btap9rTjMWn1++VDLc+KwDC8ON7e0RTiZLtXp0+3tx79hpuWhv9cm6ZsjPv4e9NKobDlLz/tEa6/d9MtpAw5Nn8pk+ksXZdANx+dz/3lLxtWW9OQCAABYR+v0+AIA2Ix16pk+PVu+qgs9Upp12zOXfe22jNltUPp3TBoWTc7tvx+aQXc+kwUtmq3N9PnrEI6s1bLCXCWP3pKH5if9+w7JyIGX5LIdiz1g1klxrpO3vXqlS4ckK5qjpm7p3Llk0Q01++8r57np/8GSYKKyeg371Dd9urT2gf+rmbZyKLmeOXLnAUmSiS//MQ1JnvrHpCTJEZ8cUOhp1FLHnm/fbte+6dO1ldvuOiBf2LE6yeQ8/Le5yRvPZdziJL0PzZGtGJpuncxvRW+n9VDVpfTYC6+tW/kWrLfm9yr9039jD9W23lqeW5vSWq7dJFvu9s08esrojNy+X6pSnxmzxmb4Haflwr+2mOMJAABgHQlgAIDyqeqbgYecn7tH/jrjDxmcbZMsePWq3Fic7L5V3tZ7YgPMfTx3FOd2OOu4e3L3aWfm9H0HZO8eb4sS3lmPD6ZPkuRjOefk2zL+nNLX6Hzhg0m23r44RNO0TC/zXOtTnhxbmKC8clBqPlko67NlMYjpeWrueds+3Zbxpxfe/1Zp0Vuj6tMDMjBJ/vlMnmqckglvFLZ7xGeaW/TO1lsU2370/Ldv95zbMv7oXVetcC327l+YA+SpaU9nytRnMj3JZ/rtV3zP26itehbf2+oM+ewajv+c2zKy+DltLA2vvljo3dGjeY6ZNqplT6D3Wmuv3aKqvnvm9JN+kL+c+4uM+Vhh/qeHHv9p4doDAABYD235zzUA4P3k9Sl5buUcDp3SZ7fBGdI9SeqzcGmxuGPxv0vnrFOvmPX21qLCnB0tewk01mfKrDV8Lb9DcyhTn1nF4b6SrJosPlNy4+8mZUFji7rGZWlo/vnDn8leHZOkNrf/v0mrjm/RlDy9vnNbLHktEx8YkRP+u5Do9N/11Aws/uut/y4HFkKA2XfmP54t+ZZ+wwYMndR1vxzxocI8JxPGPZ1xy5N8eNDK7SadcnD/Qi+Zhum35uZXV99Ww7pue+dDc3q3JLMezRVTJyfpnyM/Xe4J5cus+T1KfX75x19m+mrj7C1LQ8ufF0/Lzf85NIPGXJ6xb7Qo30DTmoeg26JnyjHNUtuyKuSbPnPKymtpwbM/zS1rupY6JIVOZ4syu+Wl0NprN8n0l6asqq/qmYF7F+cgWl7/3vyuAgAA2iUBDADQKtP/OnT1+T6+d1g+9b2v5/Y3kjRMzqX3jMiXbj4+J9xxfS695/pcevu/F+ZZqByQgR8vrGPvjxQe3OfN63P0rVfl0jvG5KHmyd43hq0+WJwgfXyG33RRLrzn8pxw3fEZ/voahhX62J6F+UjyTC69tdD2ij/NLc4PMShbJlnw6uUZcN3XM+ye63PpHSMy4Jqjcvy45u4u/XP6pwtzcTS8fnkG3HhRLrxjRAaMGZHb1/TQ+B39MRfeODSDrjksn7rhrAx7aUqSpM+Oo3PrwS2GH/vocbl4+56Fb+k/dnz+9UeX59J7rs+wm4/Pp64bXvhcirbsUl34n9dvyaV/Xlv3nE45+OMDCuHCc79MXZIjPtE8OX1B1R6nZWSPJI3TcuOdx2XQf16VS++5Kmf84Pj8643XZeLi1ZqvRb+ctEv/JFPy3OwkWx+amt6lbdqaTjli0JmFnifz78jRNwzNGXden0vvvCifu+ao/J/7nlk199HL9+XGWbWpWzgpdxSDtDV56oGhGXTj0Ay6ccTK+UmmPz+iWHZLcX6hVeoWFNdVVf32oeGS5M0HM+zG4jqf+GOxsHhu3Tg0w/7wzvuy6XXK3tv3L/xv7VUZdMPQDLrh+Ax47I+paj6XW/rgZzKwWwrh5wNnZdg9V2XY76a0+tpt+O8xOeWBEavq77k+w+4vzqX0oQHZu2RzAAAArSWAAQA2XNWuGXnYmanpsjRTah/N2OmPZuybryVd9szIo7+ZI7oWm+11dq78cKF3Q93s8Rlb+2Am/u/qqyqrrgNyWU1hcu0snpyHpk/KtG5DMubYM1N8vLta24sPGFRou6TQ9pev/D1JsuVu5+eRY89MTddOyfJpmTj90YytnZIFlf2ya59VE75se/CV+fmndy3MjbN4ch6qnZKqD5yZnw8c1GJDa7MsCxbXpm55YX6XHbc+NBcffU/GH79ntlytXXUGnnRzfr7bgPSpTBrmT8rY6Y9m4tz6VPXYOR9uMQfJZ/Y+NZ+pTNL4WsZOXfscO1WfHFQIoxqTdBycY1cOP1ZUuV1OP+sXuW7HfqmqXJa6WeMzdvr4PLVoafp84GPZsqmk/Vr02fu4YviV7N1vr7Y9/FizDw/J3adfkiE9qpPG2jz16qMZ++rkzGjsm/17V2dJc7sPNg8R1jO79n3nZKlhcW3qFtembvHcVT0zls9dVbZa69pMK4Z6fbbstVrNSiuWZUbzOlf2SiqeW4trM6O5V1ob1eeA4RnZs3ASNyypTV1DdY444I78fOcWY4at1C9fOfy0lef4xOnjM3H6lMxo5bVbtfOpGbPbgPRpLNZPfzQTFyV9+p6Znw9Zw9xHAAAArVTR1NS0jn8iAwBt1ZsNG7M7Ses0LJqbBQ3FyeF7vMNM5EvqU/fWslRt0TNbdimt3Aga6lO3aFlSVZ0+3d5hn5o1LsuC+fVpeIf9b9Xxrcv2ymJZFsytT0Pyzu9pcZ+qqqqzZTn3qfn9SlLVrWe2XJ+n1YvHZ9iNV2ViBuTKcy5ZGdi9bxTP56RTtuy5hh4pS+pTt6Lze3QutC8N8+dmQWOnbNmjuhBsvqvm62DNn8Par91WXEcAAGX0wao2PvQusMEEMADQjrSFAAbWTX0m3nlWhr06N1Uf+27+ctyupQ0AAKBdEsBA+7fW75EBAED5vZbb/3NoBl1zfIa9OjepHJDRnxO+AAAA0H4IYAAAeO81vJrnZhfmuqnqMTjXnX5JjuhW2ggAAADevwxBBgDtiCHIAAAA3h8MQQbtnx4wAAAAAAAAZSaAAQAAAAAAKDMBDAAAAAAAQJkJYAAAAAAAAMpMAAMAAAAAAFBmAhgAAAAAAIAyE8AAAAAAAACUmQAGAAAAAACgzAQwAAAAAAAAZSaAAQAAAAAAKDMBDAAAAAAAQJkJYAAAAAAAAMpMAAMAAAAAAFBmAhgAAAAAAIAyE8AAAAAAAACUmQAGANqRDhVu7QAAAG2dv91g8+BKB4B2pGNFh9IiAAAA2hh/u8HmQQADAO1I58pOpUUAAAC0Mf52g82DAAYA2pEtKjvryg4AANCGdaiozBaVnUuLgXbIExoAaGe6dehSWgQAAEAb4W822HwIYACgndmisnO6dvBtKgAAgLama4fOer/AZkQAAwDtUPcOXYUwAAAAbUjXDp3TvUPX0mKgHatoampqKi0EANqHtxqXZtGKJVnR1FhaBQAAwHugQ0VlunXooucLbIYEMACwGXircWmWNi7L8qYVwhgAAICNrENFZTpWdEjnyk6CF9iMCWAAAAAAAADKzBwwAAAAAAAAZSaAAQAAAAAAKDMBDAAAAAAAQJkJYAAAAAAAAMpMAAMAAAAAAFBmAhgAAAAAAIAyE8AAAAAAAACUmQAGAAAAAACgzAQwAAAAAAAAZSaAAQAAAAAAKDMBDAAAAAAAQJkJYAAAAAAAAMpMAAMAAAAAAFBmAhgAAAAAAIAyE8AAAAAAAACUmQAGAAAAAACgzAQwAAAAAAAAZSaAAQAAAAAAKDMBDAAAAAAAQJkJYAAAAAAAAMpMAAMAAAAAAFBmAhgAAAAAAIAyE8AAAAAAAACUmQAGAAAAAACgzAQwAAAAAAAAZSaAAQAAAAAAKDMBDAAAAAAAQJkJYAAAAAAAAMpMAAMAAAAAAFBmAhgAAAAAAIAyE8AAAAAAAACUmQAGAAAAAACgzAQwAAAAAAAAZSaAAQAAAAAAKDMBDAAAAAAAQJkJYAAAAAAAAMpMAAMAAAAAAFBmAhgAAAAAAIAyE8AAAAAAAACUmQAGAAAAAACgzAQwAAAAAAAAZSaAAQAAAAAAKDMBDAAAAAAAQJkJYAAAAAAAAMpMAAMAAAAAAFBmAhgAAAAAAIAyE8AAAAAAAACUmQAGAAAAAACgzAQwAAAAAAAAZSaAAQAAAAAAKDMBDAAAAAAAQJkJYAAAAAAAAMpMAAMAAAAAAFBmAhgAAAAAAIAyE8AAAAAAAACUmQAGAAAAAACgzAQwAAAAAAAAZSaAAQAAAAAAKDMBDAAAAAAAQJkJYAAAAAAAAMrs/wevEegKVXyaEwAAAABJRU5ErkJggg==)"
      ],
      "metadata": {
        "id": "EuTd38oUOadu"
      }
    },
    {
      "cell_type": "markdown",
      "source": [
        "### ***Congrats! Your model is successfully created and ready for deployment on a live server for a real user interaction !!!***"
      ],
      "metadata": {
        "id": "u_PvWi8d9zAd"
      }
    },
    {
      "cell_type": "markdown",
      "source": [
        "## **Summary and Conclusion**"
      ],
      "metadata": {
        "id": "gCX9965dhzqZ"
      }
    },
    {
      "cell_type": "markdown",
      "source": [
        "**objective.**\n",
        "\n",
        "\"This project aimed to develop a machine learning model to accurately predict e-commerce delivery times by analyzing various features like agent performance, traffic, weather, and order distance.\n",
        "\n",
        "**key steps and Findings:**\n",
        "\n",
        "\"Through comprehensive Exploratory Data Analysis (EDA), we uncovered key relationships, such as the significant impact of traffic jams and adverse weather on delivery times. The data was rigorously cleaned, and new features like haversine distance and pickup duration were engineered to enhance model performance.\"\n",
        "\n",
        "**Best Model:**\n",
        "\n",
        "\"After comparing three models—**Linear Regression, Random Forest, and Gradient Boosting**—the **Tuned Gradient Boosting Regressor** was selected as the final model. It demonstrated the highest performance, proving its superior ability to capture the complex patterns in the data.\"\n",
        "\n",
        "**Best ModelPerformance:**\n",
        "\n",
        "\"The final model achieved an R-squared score of 81.1%, meaning it can explain over 81% of the variability in delivery times. It has a Mean Absolute Error (MAE) of approximately 17.7 minutes, indicating a high level of accuracy in its predictions.\"\n",
        "\n",
        "**Key Business Insights:**\n",
        "\n",
        "\"The model revealed that the most critical predictors of delivery time are whether the order is for Groceries, the travel distance, and the initial pickup time. These insights suggest that business optimizations should focus on the unique logistics of grocery delivery and minimizing order preparation times.\"\n",
        "\n",
        " **Final Conclusion:**\n",
        "\n",
        "\"Ultimately, this project produced not only an accurate predictive model but also a functional Streamlit application. This tool serves as a valuable asset for setting accurate customer expectations, optimizing logistical planning, and improving overall service reliability, leading to increased customer satisfaction and a stronger competitive edge.\"\n"
      ],
      "metadata": {
        "id": "Fjb1IsQkh3yE"
      }
    },
    {
      "cell_type": "markdown",
      "source": [
        "### ***Hurrah! You have successfully completed your Machine Learning Capstone Project !!!***"
      ],
      "metadata": {
        "id": "gIfDvo9L0UH2"
      }
    }
  ]
}